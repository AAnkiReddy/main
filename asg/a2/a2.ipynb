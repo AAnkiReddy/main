{
 "metadata": {
  "name": "",
  "signature": "sha256:d58dfc76c8d9c4a8a877a1899d212dea9c72bf5cf36b773b514b90d81a12f5bb"
 },
 "nbformat": 3,
 "nbformat_minor": 0,
 "worksheets": [
  {
   "cells": [
    {
     "cell_type": "markdown",
     "metadata": {},
     "source": [
      "# CS579: Assignment 2"
     ]
    },
    {
     "cell_type": "markdown",
     "metadata": {},
     "source": [
      "**Follow the instructions below to continue our analysis of the Twitter Senator data. I have provided a larger snapshot of the network (all connections between 88 Senators).**\n",
      "\n",
      "**In addition to the code to complete, there are also several short answer questions for you to complete. Please enter your answers in the `.ipynb` file directly below the question.**"
     ]
    },
    {
     "cell_type": "markdown",
     "metadata": {},
     "source": [
      "There are at least two ways of collecting Twitter friend information:\n",
      "  - **Option 1:** [friends/list](https://dev.twitter.com/docs/api/1.1/get/friends/list)\n",
      "  - **Option 2:** [friendships/show](https://dev.twitter.com/docs/api/1.1/get/friendships/show)\n",
      "\n",
      "Option 1 is limited to return at most 200 friends per request, while Option 2 queries the friendship between a single pair of users. \n",
      "\n",
      "The other difference: The Twitter rate limit for Option 1 is 15 queries per 15 minutes; for Option 2, it is 180 queries per 15 minutes.\n",
      "\n",
      "Assume like in [A1](https://github.com/iit-cs579/main/tree/master/asg/a1) we want to determine if there is an edge between a pair of senators (an edge exists between A and B if A follows B or B follows A). Rather than limiting ourselves to the first 200 friends of each user, we want to compute the true graph (using all existing links). We will use the `robust_request` method, which sleeps for 15 minutes whenever a rate limit is reached.\n",
      "\n",
      "### 1) If we have $N$ senators, and we assume that each senator follows $K$ users on average, compute the total number of hours it will take to determine the friendship graph using each method. (I'm only concerned about Twitter API time, not algorithmic complexity!)\n",
      "\n",
      "  ** Your answer here. Show your work. **\n",
      "\n",
      "### 2) For what values should we prefer Option 1 vs. Option 2? \n",
      "\n",
      "  ** Your answer here. Show your work. **"
     ]
    },
    {
     "cell_type": "code",
     "collapsed": false,
     "input": [
      "import networkx as nx\n",
      "def read_senator_edges(filename):\n",
      "    \"\"\" Create a graph from an edge file, where each line looks like:\n",
      "      senator1 senator2\n",
      "    This indicates that there is an edge between senator1 and senator2\n",
      "    Args:\n",
      "      filename ... Text file containing edge information\n",
      "    Returns:\n",
      "      An undirected graph\n",
      "    \"\"\"\n",
      "    return None\n",
      "    \n",
      "graph = read_senator_edges('senator_edges.txt')\n",
      "print 'read %d nodes and %d edges' % (len(graph.nodes()), len(graph.edges()))"
     ],
     "language": "python",
     "metadata": {},
     "outputs": [
      {
       "output_type": "stream",
       "stream": "stdout",
       "text": [
        "read 88 nodes and 2071 edges\n"
       ]
      }
     ],
     "prompt_number": 166
    },
    {
     "cell_type": "code",
     "collapsed": false,
     "input": [
      "import matplotlib.pyplot as plt\n",
      "import numpy as np\n",
      "\n",
      "def degree(graph):\n",
      "    \"\"\" Return a list containing the degree for each node in the graph. \"\"\"\n",
      "    return None\n",
      "\n",
      "def clustering_coef(graph):\n",
      "    \"\"\" Return a list containing the clustering coefficient for each node in the graph. \"\"\"\n",
      "    return None\n",
      "\n",
      "def distance(graph):\n",
      "    \"\"\" Return a list containing the average shortest path to all other nodes for each node in the graph. \"\"\"\n",
      "    None\n",
      "   \n",
      "def plot_property_histogram(graph, property_fn, xlabel, ylabel='Count', bins=10):\n",
      "    \"\"\" Plot a histogram of a graph property. This should generalize the three different\n",
      "    plotting functions given in Lecture 04.\n",
      "    Args:\n",
      "      graph .......... A networkx graph.\n",
      "      property_fn .... A function that takes a graph as input and returns a list of values to be plotted.\n",
      "      xlabel ......... The xlabel of the plot.\n",
      "      ylabel ......... The ylabel of the plot\n",
      "      bins   ......... The number of bins in the histogram.\n",
      "    \"\"\"\n",
      "    pass"
     ],
     "language": "python",
     "metadata": {},
     "outputs": [],
     "prompt_number": 167
    },
    {
     "cell_type": "code",
     "collapsed": false,
     "input": [
      "# Plot the degree distribution.\n",
      "# Note this will be a histogram of counts, rather than P(k) like we've done in the past.\n",
      "plot_property_histogram(graph, degree, 'Degree')"
     ],
     "language": "python",
     "metadata": {},
     "outputs": [
      {
       "metadata": {},
       "output_type": "display_data",
       "png": "[encoded data removed]",
       "text": [
        "<matplotlib.figure.Figure at 0x1138260d0>"
       ]
      }
     ],
     "prompt_number": 168
    },
    {
     "cell_type": "markdown",
     "metadata": {},
     "source": [
      "### 3) In class, we found that the degree distribution exhibited a \"long tail.\" The plot above does not appear to exhibit the same degree of skew. What are the differences between this network and the one from class that might explain this?\n",
      "\n",
      "** Your answer here. **"
     ]
    },
    {
     "cell_type": "code",
     "collapsed": false,
     "input": [
      "# Plot the Clustering Coefficient distribution.\n",
      "plot_property_histogram(graph, clustering_coef, 'Clustering Coefficient')"
     ],
     "language": "python",
     "metadata": {},
     "outputs": [
      {
       "metadata": {},
       "output_type": "display_data",
       "png": "[encoded data removed]",
       "text": [
        "<matplotlib.figure.Figure at 0x113ce4e50>"
       ]
      }
     ],
     "prompt_number": 169
    },
    {
     "cell_type": "code",
     "collapsed": false,
     "input": [
      "# Plot the distance distribution.\n",
      "plot_property_histogram(graph, distance, 'Mean Shortest Path')"
     ],
     "language": "python",
     "metadata": {},
     "outputs": [
      {
       "metadata": {},
       "output_type": "display_data",
       "png": "[encoded data removed]",
       "text": [
        "<matplotlib.figure.Figure at 0x113446410>"
       ]
      }
     ],
     "prompt_number": 170
    },
    {
     "cell_type": "code",
     "collapsed": false,
     "input": [
      "# Which node has the highest degree?\n",
      "def get_node_with_highest_degree(graph):\n",
      "    return None\n",
      "            \n",
      "max_degree_node = get_node_with_highest_degree(graph)            \n",
      "print 'Max degree node is %s with degree %d' % (max_degree_node, graph.degree(max_degree_node))"
     ],
     "language": "python",
     "metadata": {},
     "outputs": [
      {
       "output_type": "stream",
       "stream": "stdout",
       "text": [
        "Max degree node is SenDeanHeller with degree 83\n"
       ]
      }
     ],
     "prompt_number": 298
    },
    {
     "cell_type": "code",
     "collapsed": false,
     "input": [
      "# Which node has the lowest degree?\n",
      "def get_node_with_lowest_degree(graph):\n",
      "    return None\n",
      "            \n",
      "min_degree_node = get_node_with_lowest_degree(graph)            \n",
      "print 'Min degree node is %s with degree %d' % (min_degree_node, graph.degree(min_degree_node))"
     ],
     "language": "python",
     "metadata": {},
     "outputs": [
      {
       "output_type": "stream",
       "stream": "stdout",
       "text": [
        "Min degree node is ChuckSchumer with degree 4\n"
       ]
      }
     ],
     "prompt_number": 299
    },
    {
     "cell_type": "code",
     "collapsed": false,
     "input": [
      "# Next we'll compute two functions over paths.\n",
      "\n",
      "def shortest_path(graph, source, target):\n",
      "    \"\"\" Return the shortest path between source and target. You can use networkx functions here.\n",
      "    Args:\n",
      "      graph .... The graph.\n",
      "      source ... The source node.\n",
      "      target ... The target node.\n",
      "    Returns:\n",
      "      A list of nodes representing the shortest path (starting with source and ending with target).\n",
      "    \"\"\"\n",
      "    return None\n",
      "\n",
      "def path_of_length(graph, source, target, length):\n",
      "    \"\"\" Return a path between source and target of the specified length. You can use networkx functions here.\n",
      "    Args:\n",
      "      graph .... The graph.\n",
      "      source ... The source node.\n",
      "      target ... The target node.\n",
      "      length ... The length of the path.\n",
      "    Returns:\n",
      "      A list of nodes representing the path (starting with source and ending with target).\n",
      "    \"\"\"\n",
      "    return None\n",
      "    \n",
      "print 'shortest path from SenatorHarkin and SenRandPaul is', \\\n",
      "    shortest_path(graph, 'SenatorHarkin', 'SenRandPaul')\n",
      "print 'path of length 4 from SenatorHarkin and SenRandPaul is', \\\n",
      "    path_of_length(graph, 'SenatorHarkin', 'SenRandPaul', 4)\n"
     ],
     "language": "python",
     "metadata": {},
     "outputs": [
      {
       "output_type": "stream",
       "stream": "stdout",
       "text": [
        "shortest path from SenatorHarkin and SenRandPaul is ['SenatorHarkin', u'SenAlexander', 'SenRandPaul']\n",
        "path of length 4 from SenatorHarkin and SenRandPaul is "
       ]
      },
      {
       "output_type": "stream",
       "stream": "stdout",
       "text": [
        "['SenatorHarkin', u'MarkUdall', u'InhofePress', u'SenAlexander', 'SenRandPaul']\n"
       ]
      }
     ],
     "prompt_number": 312
    },
    {
     "cell_type": "markdown",
     "metadata": {},
     "source": [
      "<br><br>\n",
      "**Next, we'll generate synthetic graphs and compare their properties to the senator network.**\n",
      "<br><br>"
     ]
    },
    {
     "cell_type": "code",
     "collapsed": false,
     "input": [
      "def regular_graph(n, k):\n",
      "    \"\"\" Create a regular graph of $n$ nodes, where each node is connected to $k$ neighbors.\n",
      "    The neighbors should follow numerical order. \n",
      "    E.g., for $k=2$, node 10 should be connected to nodes 9 and 11.\n",
      "    Args:\n",
      "      n ... The number of nodes.\n",
      "      k ... The number of neighbors per node.\n",
      "    Returns:\n",
      "      An undirected graph.\n",
      "    \"\"\"\n",
      "    return None\n",
      "\n",
      "nx.draw(regular_graph(10, 2), with_labels=True)"
     ],
     "language": "python",
     "metadata": {},
     "outputs": [
      {
       "metadata": {},
       "output_type": "display_data",
       "png": "[encoded data removed]",
       "text": [
        "<matplotlib.figure.Figure at 0x113cb7050>"
       ]
      }
     ],
     "prompt_number": 313
    },
    {
     "cell_type": "code",
     "collapsed": false,
     "input": [
      "import random \n",
      "def rewire(G, p, seed=123):\n",
      "    \"\"\" With probability $p$, modify edge A-B to be edge A-C, where C is randomly chosen from the list of nodes (*excluding A*).\n",
      "    Modifies G directly, then returns it.\n",
      "    \n",
      "    You should fix two problems with my implementation in class:\n",
      "    1) Avoid adding a self loop (e.g., an edge from A-A).\n",
      "    2) Avoid adding duplicate edges.\n",
      "    Args:\n",
      "      G ...... A networkx graph\n",
      "      p ...... The probability of reqiring.\n",
      "      seed ... Seed for the random number generator.\n",
      "    Returns:\n",
      "      Modified version of G.\n",
      "    \"\"\"\n",
      "    return None\n",
      "\n",
      "nx.draw(rewire(regular_graph(10, 2), .4), with_labels=True)"
     ],
     "language": "python",
     "metadata": {},
     "outputs": [
      {
       "metadata": {},
       "output_type": "display_data",
       "png": "[encoded data removed]",
       "text": [
        "<matplotlib.figure.Figure at 0x113413690>"
       ]
      }
     ],
     "prompt_number": 316
    },
    {
     "cell_type": "code",
     "collapsed": false,
     "input": [
      "def plot_p_effect(N, k, pvals):\n",
      "    \"\"\" Plot the clustering coefficient and average pairwise distance for a\n",
      "    rewired graph with $N$ nodes with degree $k$ neighbors, trying different\n",
      "    values for $p$.\n",
      "    This method should call both regular_graph and rewire to generate graphs.\n",
      "    Note that the x-axis is on a log scale (plt.xscale('log'))\n",
      "    Args:\n",
      "      N ....... The number of nodes.\n",
      "      k ....... The number of neighbors per node.\n",
      "      pvals ... A list of values for $p$, the probability that an edge is rewired.\n",
      "    \"\"\"\n",
      "    pass\n",
      "\n",
      "plot_p_effect(graph.order(), 40, [1e-4, 1e-3, 1e-2, 1e-1, .2, .5, .7, .9, 1.])"
     ],
     "language": "python",
     "metadata": {},
     "outputs": [
      {
       "output_type": "stream",
       "stream": "stdout",
       "text": [
        "p=0.0001 clustering_coef=      0.73 distance=       1.6\n",
        "p= 0.001 clustering_coef=      0.73 distance=       1.6"
       ]
      },
      {
       "output_type": "stream",
       "stream": "stdout",
       "text": [
        "\n",
        "p=  0.01 clustering_coef=      0.72 distance=      1.56"
       ]
      },
      {
       "output_type": "stream",
       "stream": "stdout",
       "text": [
        "\n",
        "p=   0.1 clustering_coef=      0.61 distance=      1.52"
       ]
      },
      {
       "output_type": "stream",
       "stream": "stdout",
       "text": [
        "\n",
        "p=   0.2 clustering_coef=      0.53 distance=      1.52"
       ]
      },
      {
       "output_type": "stream",
       "stream": "stdout",
       "text": [
        "\n",
        "p=   0.5 clustering_coef=      0.47 distance=      1.52"
       ]
      },
      {
       "output_type": "stream",
       "stream": "stdout",
       "text": [
        "\n",
        "p=   0.7 clustering_coef=      0.48 distance=      1.52"
       ]
      },
      {
       "output_type": "stream",
       "stream": "stdout",
       "text": [
        "\n",
        "p=   0.9 clustering_coef=      0.48 distance=      1.52"
       ]
      },
      {
       "output_type": "stream",
       "stream": "stdout",
       "text": [
        "\n",
        "p=     1 clustering_coef=      0.49 distance=      1.52"
       ]
      },
      {
       "output_type": "stream",
       "stream": "stdout",
       "text": [
        "\n"
       ]
      },
      {
       "metadata": {},
       "output_type": "display_data",
       "png": "[encoded data removed]",
       "text": [
        "<matplotlib.figure.Figure at 0x113bc63d0>"
       ]
      },
      {
       "metadata": {},
       "output_type": "display_data",
       "png": "[encoded data removed]",
       "text": [
        "<matplotlib.figure.Figure at 0x1139227d0>"
       ]
      }
     ],
     "prompt_number": 315
    },
    {
     "cell_type": "markdown",
     "metadata": {},
     "source": [
      "### 4) Which value of $p$ generates a graph that most closely matches the clustering coefficient of the senator network? Which value most closely matches the distance? Based on the graph, do you think there a better value for $p$ we should consider?\n",
      "\n",
      "**Insert your answer here.**"
     ]
    },
    {
     "cell_type": "markdown",
     "metadata": {},
     "source": [
      "### 5) Describe a way to modify the rewire method to increase the clustering coefficient. Implement your proposed method below, and verify that the clustering coefficient increases. What effect does this have on average distance?\n",
      "\n",
      "**Insert your answer here.**"
     ]
    },
    {
     "cell_type": "code",
     "collapsed": false,
     "input": [
      "def rewire_improved(G, p, seed=123):\n",
      "    \"\"\" Modify the rewire method to increase the clustering coefficient. \"\"\"\n",
      "    return G\n",
      "    \n",
      "### I leave it up to you to implement and verify. I have not provided any expected output for this part.\n",
      "    "
     ],
     "language": "python",
     "metadata": {},
     "outputs": [],
     "prompt_number": 321
    }
   ],
   "metadata": {}
  }
 ]
}