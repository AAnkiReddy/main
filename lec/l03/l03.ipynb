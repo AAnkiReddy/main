{
 "metadata": {
  "name": "",
  "signature": "sha256:6c87a3f10815782e6201c5c3e70c99ea585beeddd620609b57ac7df6b58b1a48"
 },
 "nbformat": 3,
 "nbformat_minor": 0,
 "worksheets": [
  {
   "cells": [
    {
     "cell_type": "markdown",
     "metadata": {
      "slideshow": {
       "slide_type": "slide"
      }
     },
     "source": [
      "# CS579: Lecture 03  \n",
      "**Representing Graphs**\n",
      "\n",
      "*[Dr. Aron Culotta](http://cs.iit.edu/~culotta)*  \n",
      "*[Illinois Institute of Technology](http://iit.edu)*\n",
      "\n",
      "(Slides inspired in part by [Jure Leskovec](http://web.stanford.edu/class/cs224w/slides/02-gnp.pdf) and [Easley & Kleinberg](https://github.com/iit-cs579/main/blob/master/read/ek-02.pdf))"
     ]
    },
    {
     "cell_type": "markdown",
     "metadata": {
      "slideshow": {
       "slide_type": "slide"
      }
     },
     "source": [
      "#Terminology\n",
      "\n",
      "- **Graph:** A way to represent objects and their relations\n",
      "  - **Node:** represents an object\n",
      "  - **Edge:** represents a relation between two nodes. \n",
      "  - **Neighbor:** Two nodes are *neighbors* if they are connected by an edge.\n",
      "- **Directed Graph:** Represents asymmetric (one-way) relationships\n",
      "- **Undirected Graph:** Represents symmetric relationships\n",
      "\n",
      "![graph.pdf](graph.pdf)\n",
      "\n",
      "[Source](https://github.com/iit-cs579/main/blob/master/read/ek-02.pdf)\n",
      "\n",
      "Examples of **directed** and **undirected** graphs?"
     ]
    },
    {
     "cell_type": "markdown",
     "metadata": {
      "slideshow": {
       "slide_type": "slide"
      }
     },
     "source": [
      "**Path:** A sequence of nodes in which each consecutive pair are neighbors\n",
      "- E.g., $A,B,C$ in Figure 2.1(a)\n",
      "\n",
      "**Cycle:** A path of at least 3 edges, with first and last nodes the same.\n",
      "- E.g., $B,C,D$ in Figure 2.1(a)"
     ]
    },
    {
     "cell_type": "markdown",
     "metadata": {
      "slideshow": {
       "slide_type": "slide"
      }
     },
     "source": [
      "**Connected:** A graph is *connected* if there exists a path between each pair of nodes.\n",
      "  - Example of a graph that is *not* connected?"
     ]
    },
    {
     "cell_type": "markdown",
     "metadata": {
      "slideshow": {
       "slide_type": "slide"
      }
     },
     "source": [
      "**Connected Component:** A maximal subset of nodes such that each pair of nodes is connected \n",
      "\n",
      "![components](components.png)\n",
      "[Source](https://github.com/iit-cs579/main/blob/master/read/ek-02.pdf)"
     ]
    },
    {
     "cell_type": "markdown",
     "metadata": {
      "slideshow": {
       "slide_type": "slide"
      }
     },
     "source": [
      "- Is the global friendship network connected?"
     ]
    },
    {
     "cell_type": "markdown",
     "metadata": {
      "slideshow": {
       "slide_type": "slide"
      }
     },
     "source": [
      "# Giant Connected Components\n",
      "\n",
      "![giant](giant.png)"
     ]
    },
    {
     "cell_type": "markdown",
     "metadata": {
      "slideshow": {
       "slide_type": "slide"
      }
     },
     "source": [
      "**Node Degree:** Number of neighbors of a node.\n",
      "  - For directed graphs, distinguish between **in-degree** and **out-degree**\n",
      "  \n",
      "![graph.pdf](graph.pdf)\n",
      "\n",
      "[Source](https://github.com/iit-cs579/main/blob/master/read/ek-02.pdf)\n"
     ]
    },
    {
     "cell_type": "markdown",
     "metadata": {
      "slideshow": {
       "slide_type": "slide"
      }
     },
     "source": [
      "# Number of edges\n",
      "\n",
      "If there are $N$ nodes, what is the maximum number of edges?"
     ]
    },
    {
     "cell_type": "markdown",
     "metadata": {
      "slideshow": {
       "slide_type": "slide"
      }
     },
     "source": [
      "# Number of edges\n",
      "\n",
      "If there are $N$ nodes, what is the maximum number of edges?\n",
      "\n",
      "$\\frac{N(N-1)}{2}$"
     ]
    },
    {
     "cell_type": "code",
     "collapsed": false,
     "input": [
      "import matplotlib.pyplot as plt\n",
      "\n",
      "sizes = range(10000)\n",
      "plt.plot(sizes, [s*(s-1)/2.0 for s in sizes])"
     ],
     "language": "python",
     "metadata": {
      "slideshow": {
       "slide_type": "slide"
      }
     },
     "outputs": [
      {
       "metadata": {},
       "output_type": "pyout",
       "prompt_number": 1,
       "text": [
        "[<matplotlib.lines.Line2D at 0x1048bc150>]"
       ]
      },
      {
       "metadata": {},
       "output_type": "display_data",
       "png": "[encoded data removed]",
       "text": [
        "<matplotlib.figure.Figure at 0x1043ec8d0>"
       ]
      }
     ],
     "prompt_number": 1
    },
    {
     "cell_type": "markdown",
     "metadata": {
      "slideshow": {
       "slide_type": "slide"
      }
     },
     "source": [
      "Luckily, most real-world graphs are extremely sparse.\n",
      "\n",
      "- E.g., you are probably not friends with over 1,000 people."
     ]
    },
    {
     "cell_type": "markdown",
     "metadata": {
      "slideshow": {
       "slide_type": "slide"
      }
     },
     "source": [
      "# Measuring Graphs\n",
      "\n",
      "- How can we summarize a graph?\n",
      "  - Besides number of edges and number of nodes."
     ]
    },
    {
     "cell_type": "markdown",
     "metadata": {
      "slideshow": {
       "slide_type": "slide"
      }
     },
     "source": [
      "# Degree distribution\n",
      "\n",
      "- Probability that a randomly chosen node has degree $k$\n",
      "- $N_k$: number of nodes with degree $k$\n",
      "- $P(k) = \\frac{N_k}{N}$\n"
     ]
    },
    {
     "cell_type": "code",
     "collapsed": false,
     "input": [
      "# See Karate Club network: http://vlado.fmf.uni-lj.si/pub/networks/data/Ucinet/UciData.htm#zachary\n",
      "# First, we print the degree for each of the 34 nodes.\n",
      "import networkx as nx\n",
      "G=nx.karate_club_graph()\n",
      "print \"Node\\tDegree\"\n",
      "for v in G:\n",
      "    print('%s\\t%s' % (v, G.degree(v)))"
     ],
     "language": "python",
     "metadata": {
      "slideshow": {
       "slide_type": "slide"
      }
     },
     "outputs": [
      {
       "output_type": "stream",
       "stream": "stdout",
       "text": [
        "Node\tDegree\n",
        "0\t16\n",
        "1\t9\n",
        "2\t10\n",
        "3\t6\n",
        "4\t3\n",
        "5\t4\n",
        "6\t4\n",
        "7\t4\n",
        "8\t5\n",
        "9\t2\n",
        "10\t3\n",
        "11\t1\n",
        "12\t2\n",
        "13\t5\n",
        "14\t2\n",
        "15\t2\n",
        "16\t2\n",
        "17\t2\n",
        "18\t2\n",
        "19\t3\n",
        "20\t2\n",
        "21\t2\n",
        "22\t2\n",
        "23\t5\n",
        "24\t3\n",
        "25\t3\n",
        "26\t2\n",
        "27\t4\n",
        "28\t3\n",
        "29\t4\n",
        "30\t4\n",
        "31\t6\n",
        "32\t12\n",
        "33\t17\n"
       ]
      }
     ],
     "prompt_number": 3
    },
    {
     "cell_type": "code",
     "collapsed": false,
     "input": [
      "# Now, let's plot the bar graph for the distribution of P(k)\n",
      "from collections import Counter\n",
      "degree_counts = Counter()\n",
      "for v in G:\n",
      "    degree_counts.update([G.degree(v)])\n",
      "p_k = [(degree, 1. * count / len(G.nodes())) for degree, count in degree_counts.iteritems()]\n",
      "p_k = sorted(p_k)  # To sort in descending order of P(k): key=lambda x: x[1], reverse=True)\n",
      "print p_k\n",
      "ks = [x[0] for x in p_k]  # Get the first element of each tuple (the degree)\n",
      "# Plot the bar chart.\n",
      "x_pos = range(len(ks))\n",
      "plt.xticks(x_pos, ks)\n",
      "plt.bar(x_pos, [x[1] for x in p_k], align='center', alpha=0.4)\n",
      "# Label the x ticks.\n",
      "# Label axes and title.\n",
      "plt.xlabel('$k$')\n",
      "plt.ylabel('$P(k)$')\n",
      "mean = 1. * sum([G.degree(v) for v in G]) / len(G.nodes())\n",
      "plt.title(\"Degree Distribution for Karate Network (mean=%.2f)\" % mean)"
     ],
     "language": "python",
     "metadata": {
      "slideshow": {
       "slide_type": "slide"
      }
     },
     "outputs": [
      {
       "output_type": "stream",
       "stream": "stdout",
       "text": [
        "[(1, 0.029411764705882353), (2, 0.3235294117647059), (3, 0.17647058823529413), (4, 0.17647058823529413), (5, 0.08823529411764706), (6, 0.058823529411764705), (9, 0.029411764705882353), (10, 0.029411764705882353), (12, 0.029411764705882353), (16, 0.029411764705882353), (17, 0.029411764705882353)]\n"
       ]
      },
      {
       "metadata": {},
       "output_type": "pyout",
       "prompt_number": 5,
       "text": [
        "<matplotlib.text.Text at 0x1056c9610>"
       ]
      },
      {
       "metadata": {},
       "output_type": "display_data",
       "png": "[encoded data removed]",
       "text": [
        "<matplotlib.figure.Figure at 0x105663850>"
       ]
      }
     ],
     "prompt_number": 5
    },
    {
     "cell_type": "markdown",
     "metadata": {},
     "source": [
      "A [Long Tail](http://en.wikipedia.org/wiki/Long_tail)\n",
      "- We'll see a lot of these.\n",
      "- The mean value of a long-tailed distribution is often misleading."
     ]
    },
    {
     "cell_type": "markdown",
     "metadata": {
      "slideshow": {
       "slide_type": "slide"
      }
     },
     "source": [
      "**Diameter:** The maximum shortest-path between any pair of nodes.\n",
      "\n",
      "**Average path length:** The average shortest-path between any pair of nodes (in one component)."
     ]
    },
    {
     "cell_type": "markdown",
     "metadata": {
      "slideshow": {
       "slide_type": "slide"
      }
     },
     "source": [
      "**Clustering coefficient:** The fraction of a node's neighbors that are neighbors.\n",
      "\n",
      "$$C_i = \\frac{2e_i}{k_i(k_i - 1)}$$\n",
      "\n",
      "- $e_i$: number of edges between neighbors of node $i$\n",
      "- $k_i$: degree of node $i$\n",
      "\n",
      "**Average Clustering Coefficient:**\n",
      "\n",
      "$$C = \\frac{1}{N}\\sum_i C_i  $$\n",
      "\n",
      "![cluster](cluster.png)\n",
      "\n",
      "$$C_i = \\frac{2e_i}{k_i(k_i - 1)}$$\n",
      "\n",
      "[Source](http://web.stanford.edu/class/cs224w/slides/02-gnp.pdf)\n"
     ]
    },
    {
     "cell_type": "markdown",
     "metadata": {
      "slideshow": {
       "slide_type": "slide"
      }
     },
     "source": [
      "$k_B=2, e_B=1, C_B=2/2 = 1$\n",
      "\n",
      "$k_D=4, e_D=2, C_D=4/12 = 1/3$"
     ]
    }
   ],
   "metadata": {}
  }
 ]
}