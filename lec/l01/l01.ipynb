{
 "cells": [
  {
   "cell_type": "markdown",
   "metadata": {
    "slideshow": {
     "slide_type": "slide"
    }
   },
   "source": [
    "<br><br><br><br><br><br><br><br><br><br><br><br>\n",
    "\n",
    "\n",
    "\n",
    "<center>\n",
    "<b><font size=\"+3\">CS579: Online Social Network Analysis </font></b>\n",
    "<br>\n",
    "**Lecture 01**    \n",
    "*[Dr. Aron Culotta](http://cs.iit.edu/~culotta)*  \n",
    "*[Illinois Institute of Technology](http://iit.edu)*\n",
    "\n",
    "</center>\n",
    "\n",
    "<br><br><br><br><br><br><br><br><br><br><br><br>\n",
    "<br><br><br><br><br><br><br><br><br><br><br><br>"
   ]
  },
  {
   "cell_type": "markdown",
   "metadata": {
    "slideshow": {
     "slide_type": "slide"
    }
   },
   "source": [
    "**Online social network?** is ..."
   ]
  },
  {
   "cell_type": "markdown",
   "metadata": {
    "slideshow": {
     "slide_type": "slide"
    }
   },
   "source": [
    "<span style=\"float: left; margin: 50px;\">\n",
    "<img width=50% src=\"images/fb_logo.png\"/>\n",
    "</span>\n",
    "\n",
    "- 1.2B users\n",
    "- 70B pieces of content shared / day\n",
    "- 150K messages sent / minute\n",
    "\n",
    "Sources: [\\[1\\]](http://www.statisticbrain.com/facebook-statistics/) [\\[2\\]](http://expandedramblings.com/index.php/march-2013-by-the-numbers-a-few-amazing-twitter-stats/)\n",
    "\n",
    "<br><br><br><br><br><br><br><br><br><br><br><br>"
   ]
  },
  {
   "cell_type": "markdown",
   "metadata": {
    "slideshow": {
     "slide_type": "slide"
    }
   },
   "source": [
    "\n",
    "<span style=\"float: left; margin: 80px;\">\n",
    "<img src=\"images/twitter_logo2.png\"/>\n",
    "</span>\n",
    "\n",
    "<br>\n",
    "\n",
    "- 560M users\n",
    "- 400M tweets / day\n",
    "- 170B total tweets\n",
    "\n",
    "Sources: [\\[1\\]](http://www.statisticbrain.com/twitter-statistics/) [\\[2\\]](http://expandedramblings.com/index.php/march-2013-by-the-numbers-a-few-amazing-twitter-stats/)\n",
    "\n",
    "<br><br><br><br><br><br><br><br><br><br><br><br>"
   ]
  },
  {
   "cell_type": "markdown",
   "metadata": {
    "slideshow": {
     "slide_type": "slide"
    }
   },
   "source": [
    "<span style=\"float: left; margin: 80px;\">\n",
    "<img src=\"images/instagram.png\"/>\n",
    "</span>\n",
    "<br>\n",
    "\n",
    "- 4B shared photos\n",
    "- 5M photos / day\n",
    "- 81 comments / second\n",
    "\n",
    "Sources: [\\[1\\]](http://www.huffingtonpost.com/brian-honigman/100-fascinating-social-me_b_2185281.html)\n",
    "<br><br><br><br><br><br><br><br><br><br><br><br>"
   ]
  },
  {
   "cell_type": "markdown",
   "metadata": {
    "slideshow": {
     "slide_type": "slide"
    }
   },
   "source": [
    "###A large portion of the world's conversations are conducted in public."
   ]
  },
  {
   "cell_type": "markdown",
   "metadata": {
    "slideshow": {
     "slide_type": "slide"
    }
   },
   "source": [
    "###Is there anything useful in this chatter?"
   ]
  },
  {
   "cell_type": "markdown",
   "metadata": {
    "slideshow": {
     "slide_type": "slide"
    }
   },
   "source": [
    "![brand](images/brand.png)\n",
    "\n",
    "[Radian6](http://www.salesforcemarketingcloud.com/blog/2012/08/social-media-insights-peekanalytics-at-work/)\n",
    "\n",
    "<br><br><br><br><br><br><br><br><br><br><br><br>"
   ]
  },
  {
   "cell_type": "markdown",
   "metadata": {
    "slideshow": {
     "slide_type": "slide"
    }
   },
   "source": [
    "![flu](images/flu.png)\n",
    "\n",
    "- [Paul & Dredze \\[2011\\]](http://www.cs.jhu.edu/~mdredze/publications/twitter_health_icwsm_11.pdf)\n",
    "- [Culotta \\[2010\\]](http://cs.iit.edu/~culotta/pubs/culotta10towards.pdf)\n",
    "\n",
    "<br><br><br><br><br><br><br><br><br><br><br><br>"
   ]
  },
  {
   "cell_type": "markdown",
   "metadata": {
    "slideshow": {
     "slide_type": "slide"
    }
   },
   "source": [
    "\n",
    "![gallup](images/gallup.png)\n",
    "\n",
    "[O'Connor et al. \\[2010\\]](http://www.cs.cmu.edu/~nasmith/papers/oconnor+balasubramanyan+routledge+smith.icwsm10.pdf)\n",
    "\n",
    "<br><br><br><br><br><br><br><br><br><br><br><br>"
   ]
  },
  {
   "cell_type": "markdown",
   "metadata": {
    "slideshow": {
     "slide_type": "slide"
    }
   },
   "source": [
    "![djia](images/djia.png)\n",
    "\n",
    "[Bollen et al. \\[2010\\]](http://arxiv.org/pdf/1010.3003v1.pdf)\n",
    "<br><br><br><br><br><br><br><br><br><br><br><br>"
   ]
  },
  {
   "cell_type": "markdown",
   "metadata": {
    "slideshow": {
     "slide_type": "slide"
    }
   },
   "source": [
    "\n",
    "![crisis](images/crisis.png)\n",
    "\n",
    "[Rogstadius et al. \\[2013\\]](http://ufn.virtues.fi/~jakob/twitter/about.php)\n",
    "\n",
    "<br><br><br><br><br><br><br><br><br><br><br><br>"
   ]
  },
  {
   "cell_type": "markdown",
   "metadata": {
    "slideshow": {
     "slide_type": "slide"
    }
   },
   "source": [
    "\n",
    "![earthquake](images/earthquake.png)\n",
    "\n",
    "[Kumar et al. \\[2011\\]](http://www.public.asu.edu/~mabbasi2/papers/kumar2011tweettracker.pdf)\n",
    "\n",
    "<br><br><br><br><br><br><br><br><br><br><br><br>"
   ]
  },
  {
   "cell_type": "markdown",
   "metadata": {
    "slideshow": {
     "slide_type": "slide"
    }
   },
   "source": [
    "**How does this** ![tweets](images/tweets.png) **become useful?**\n",
    "\n",
    "<br><br><br><br><br><br><br><br><br><br><br><br>"
   ]
  },
  {
   "cell_type": "markdown",
   "metadata": {
    "slideshow": {
     "slide_type": "slide"
    }
   },
   "source": [
    "##Machine Learning\n",
    "- Algorithms to detect patterns in data\n",
    "- Combines statistics and computer science\n",
    "- *CS584 Machine Learning*\n",
    "\n",
    "<br><br><br><br><br><br><br><br><br><br><br><br>"
   ]
  },
  {
   "cell_type": "markdown",
   "metadata": {
    "slideshow": {
     "slide_type": "slide"
    }
   },
   "source": [
    "##Machine Learning\n",
    "###Key tasks\n",
    "- **Classification:** Assign a label to an object\n",
    "- **Regression:** Assign a real number to an object\n",
    "- **Clustering:** Group similar objects\n",
    "\n",
    "<br><br><br><br><br><br><br><br><br><br><br><br>"
   ]
  },
  {
   "cell_type": "markdown",
   "metadata": {
    "slideshow": {
     "slide_type": "slide"
    }
   },
   "source": [
    "##Social Network Analysis\n",
    "- Study of the relationship between objects\n",
    "- Core tasks:\n",
    "  - Community detection\n",
    "  - Link prediction\n",
    "  - Spread of influence\n",
    "  \n",
    "  <br><br><br><br><br><br><br><br><br><br><br><br>"
   ]
  },
  {
   "cell_type": "markdown",
   "metadata": {
    "slideshow": {
     "slide_type": "slide"
    }
   },
   "source": [
    "## This Course\n",
    "- Hands-on overview of social network and text analysis\n",
    "- Survey of cutting edge research in this area\n",
    "- Technologies we'll use:\n",
    "  - Python / iPython notebooks\n",
    "  - Github\n",
    "  - Math\n",
    "  - Many APIs (Twitter, Facebook, LinkedIn, ...)\n",
    "- We'll use real data whenever possible\n",
    "  - Data are messy\n",
    "  \n",
    "Course Website: <https://github.com/iit-cs579/main>\n",
    "\n",
    "<br><br><br><br><br><br><br><br><br><br><br><br>"
   ]
  },
  {
   "cell_type": "markdown",
   "metadata": {
    "slideshow": {
     "slide_type": "slide"
    }
   },
   "source": [
    "## Why iPython Notebook?\n",
    "\n",
    "- Interactive; more fun.\n",
    "- See the code behind the math.\n",
    "<br><br><br><br><br><br><br><br><br><br><br><br>"
   ]
  },
  {
   "cell_type": "markdown",
   "metadata": {},
   "source": [
    "$$ f(x) = \\sum_i x_i $$\n",
    "\n",
    "<br><br><br><br><br><br><br><br>"
   ]
  },
  {
   "cell_type": "code",
   "execution_count": null,
   "metadata": {
    "collapsed": false,
    "slideshow": {
     "slide_type": "slide"
    }
   },
   "outputs": [],
   "source": [
    "def my_sum(x):\n",
    "    total = 0\n",
    "    for xi in x:\n",
    "        total += xi\n",
    "    return total\n",
    "\n",
    "print my_sum([1, 2, 3, 4, 5, 6])"
   ]
  },
  {
   "cell_type": "markdown",
   "metadata": {},
   "source": [
    "<br><br><br><br><br><br><br><br><br><br><br><br>"
   ]
  },
  {
   "cell_type": "code",
   "execution_count": null,
   "metadata": {
    "collapsed": false,
    "slideshow": {
     "slide_type": "slide"
    }
   },
   "outputs": [],
   "source": [
    "%matplotlib inline\n",
    "import matplotlib.pyplot as plt\n",
    "import numpy as np\n",
    "plt.rcParams.update({'font.size': 16})\n",
    "\n",
    "plt.plot(np.arange(5)*10, [50, 60, 70, 80, 100], 'bo-')\n",
    "plt.xlabel('hours studying')\n",
    "plt.ylabel('grade')\n",
    "plt.show()"
   ]
  },
  {
   "cell_type": "markdown",
   "metadata": {},
   "source": [
    "<br><br><br><br><br><br><br><br><br><br><br><br>"
   ]
  },
  {
   "cell_type": "code",
   "execution_count": null,
   "metadata": {
    "collapsed": false,
    "scrolled": false,
    "slideshow": {
     "slide_type": "slide"
    }
   },
   "outputs": [],
   "source": [
    "# Survey says...\n",
    "import pandas as pd\n",
    "from collections import Counter\n",
    "\n",
    "data = pd.read_csv('survey_results.tsv', sep='\\t')\n",
    "headers = data.columns.values.tolist()\n",
    "\n",
    "# Version control question\n",
    "plt.figure()\n",
    "plt.title(headers[0])\n",
    "data.ix[:,0].plot(kind='hist')\n",
    "plt.ylabel('count')\n",
    "plt.xticks(np.arange(1, 6))\n",
    "plt.show()\n",
    "\n",
    "# Python question\n",
    "plt.title(headers[1])\n",
    "data.ix[:,1].plot(kind='hist')\n",
    "plt.ylabel('count')\n",
    "plt.xticks(np.arange(1, 6))\n",
    "plt.show()\n",
    "\n",
    "# ML Class question\n",
    "mlclass = Counter(data.ix[:,2])\n",
    "plt.figure()\n",
    "plt.title(headers[2])\n",
    "plt.bar([0, 1], mlclass.values())\n",
    "plt.xticks([.5, 1.5], mlclass.keys())\n",
    "plt.show()"
   ]
  },
  {
   "cell_type": "code",
   "execution_count": 95,
   "metadata": {
    "collapsed": false
   },
   "outputs": [
    {
     "name": "stdout",
     "output_type": "stream",
     "text": [
      "              social\t29\n",
      "                data\t27\n",
      "              course\t25\n",
      "             network\t15\n",
      "               learn\t15\n",
      "            analysis\t15\n",
      "      social network\t13\n",
      "          interested\t11\n",
      "            learning\t10\n",
      "                like\t10\n",
      "            networks\t9\n",
      "    machine learning\t9\n",
      "             machine\t9\n",
      "          understand\t8\n",
      "              online\t8\n",
      "                help\t8\n",
      "              mining\t8\n",
      "             twitter\t8\n",
      "                want\t8\n",
      "                used\t7\n",
      "     social networks\t7\n",
      "         data mining\t6\n",
      "           analytics\t6\n",
      "                 new\t6\n",
      "               media\t6\n",
      "              python\t6\n",
      "          algorithms\t6\n",
      "        social media\t5\n",
      "                work\t5\n",
      "             courses\t5\n",
      "                text\t5\n",
      "      data analytics\t5\n",
      "         interesting\t5\n",
      "               field\t5\n",
      "              career\t5\n",
      "                 use\t5\n",
      "    network analysis\t5\n",
      "            research\t5\n",
      "       online social\t5\n",
      "online social network\t4\n",
      "            semester\t4\n",
      "           learn new\t4\n",
      "       taking course\t4\n",
      "              skills\t4\n",
      "             looking\t4\n",
      "   social networking\t4\n",
      "             improve\t4\n",
      "        applications\t4\n",
      "               human\t4\n",
      "           analyzing\t4\n"
     ]
    }
   ],
   "source": [
    "from sklearn.feature_extraction.text import CountVectorizer\n",
    "# Why take this course question\n",
    "vec = CountVectorizer(binary=True, stop_words='english', ngram_range=(1,3))\n",
    "text = vec.fit_transform(data.ix[:,3])\n",
    "counts = text.sum(axis=0).getA1()\n",
    "words = np.array(vec.get_feature_names())\n",
    "for idx in np.argsort(counts)[::-1][:50]:\n",
    "    print('%20s\\t%d' % (words[idx], counts[idx]))\n"
   ]
  }
 ],
 "metadata": {
  "kernelspec": {
   "display_name": "Python 2",
   "language": "python",
   "name": "python2"
  },
  "language_info": {
   "name": "python",
   "version": "2.7.5"
  }
 },
 "nbformat": 4,
 "nbformat_minor": 0
}
