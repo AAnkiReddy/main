{
 "metadata": {
  "name": "",
  "signature": "sha256:8383648365f31231b0313985b59b5c69d7e4170a29b52fac59dfe4d18e5f9325"
 },
 "nbformat": 3,
 "nbformat_minor": 0,
 "worksheets": [
  {
   "cells": [
    {
     "cell_type": "markdown",
     "metadata": {
      "slideshow": {
       "slide_type": "slide"
      }
     },
     "source": [
      "# CS579: Online Social Network Analysis  \n",
      "**Lecture 01**    \n",
      "*[Dr. Aron Culotta](http://cs.iit.edu/~culotta)*  \n",
      "*[Illinois Institute of Technology](http://iit.edu)*"
     ]
    },
    {
     "cell_type": "markdown",
     "metadata": {
      "slideshow": {
       "slide_type": "slide"
      }
     },
     "source": [
      "**Online social network?** is ..."
     ]
    },
    {
     "cell_type": "markdown",
     "metadata": {
      "slideshow": {
       "slide_type": "slide"
      }
     },
     "source": [
      "<span style=\"float: left; margin: 50px;\">\n",
      "<img width=50% src=\"images/fb_logo.png\"/>\n",
      "</span>\n",
      "\n",
      "- 1.2B users\n",
      "- 70B pieces of content shared / day\n",
      "- 150K messages sent / minute\n",
      "\n",
      "Sources: [\\[1\\]](http://www.statisticbrain.com/facebook-statistics/) [\\[2\\]](http://expandedramblings.com/index.php/march-2013-by-the-numbers-a-few-amazing-twitter-stats/)"
     ]
    },
    {
     "cell_type": "markdown",
     "metadata": {
      "slideshow": {
       "slide_type": "slide"
      }
     },
     "source": [
      "\n",
      "<span style=\"float: left; margin: 80px;\">\n",
      "<img src=\"images/twitter_logo2.png\"/>\n",
      "</span>\n",
      "\n",
      "<br>\n",
      "\n",
      "- 560M users\n",
      "- 400M tweets / day\n",
      "- 170B total tweets\n",
      "\n",
      "Sources: [\\[1\\]](http://www.statisticbrain.com/twitter-statistics/) [\\[2\\]](http://expandedramblings.com/index.php/march-2013-by-the-numbers-a-few-amazing-twitter-stats/)\n"
     ]
    },
    {
     "cell_type": "markdown",
     "metadata": {
      "slideshow": {
       "slide_type": "slide"
      }
     },
     "source": [
      "<span style=\"float: left; margin: 80px;\">\n",
      "<img src=\"images/instagram.png\"/>\n",
      "</span>\n",
      "<br>\n",
      "\n",
      "- 4B shared photos\n",
      "- 5M photos / day\n",
      "- 81 comments / second\n",
      "\n",
      "Sources: [\\[1\\]](http://www.huffingtonpost.com/brian-honigman/100-fascinating-social-me_b_2185281.html)"
     ]
    },
    {
     "cell_type": "markdown",
     "metadata": {
      "slideshow": {
       "slide_type": "slide"
      }
     },
     "source": [
      "###A large portion of the world's conversations are conducted in public."
     ]
    },
    {
     "cell_type": "markdown",
     "metadata": {
      "slideshow": {
       "slide_type": "slide"
      }
     },
     "source": [
      "###Is there anything useful in this chatter?"
     ]
    },
    {
     "cell_type": "markdown",
     "metadata": {
      "slideshow": {
       "slide_type": "slide"
      }
     },
     "source": [
      "![brand](images/brand.png)\n",
      "\n",
      "[Radian6](http://www.salesforcemarketingcloud.com/blog/2012/08/social-media-insights-peekanalytics-at-work/)"
     ]
    },
    {
     "cell_type": "markdown",
     "metadata": {
      "slideshow": {
       "slide_type": "slide"
      }
     },
     "source": [
      "![flu](images/flu.png)\n",
      "\n",
      "- [Paul & Dredze \\[2011\\]](http://www.cs.jhu.edu/~mdredze/publications/twitter_health_icwsm_11.pdf)\n",
      "- [Culotta \\[2010\\]](http://cs.iit.edu/~culotta/pubs/culotta10towards.pdf)"
     ]
    },
    {
     "cell_type": "markdown",
     "metadata": {
      "slideshow": {
       "slide_type": "slide"
      }
     },
     "source": [
      "\n",
      "![gallup](images/gallup.png)\n",
      "\n",
      "[O'Connor et al. \\[2010\\]](http://www.cs.cmu.edu/~nasmith/papers/oconnor+balasubramanyan+routledge+smith.icwsm10.pdf)"
     ]
    },
    {
     "cell_type": "markdown",
     "metadata": {
      "slideshow": {
       "slide_type": "slide"
      }
     },
     "source": [
      "![djia](images/djia.png)\n",
      "\n",
      "[Bollen et al. \\[2010\\]](http://arxiv.org/pdf/1010.3003v1.pdf)\n"
     ]
    },
    {
     "cell_type": "markdown",
     "metadata": {
      "slideshow": {
       "slide_type": "slide"
      }
     },
     "source": [
      "\n",
      "![crisis](images/crisis.png)\n",
      "\n",
      "[Rogstadius et al. \\[2013\\]](http://ufn.virtues.fi/~jakob/twitter/about.php)"
     ]
    },
    {
     "cell_type": "markdown",
     "metadata": {
      "slideshow": {
       "slide_type": "slide"
      }
     },
     "source": [
      "\n",
      "![earthquake](images/earthquake.png)\n",
      "\n",
      "[Kumar et al. \\[2011\\]](http://www.public.asu.edu/~mabbasi2/papers/kumar2011tweettracker.pdf)"
     ]
    },
    {
     "cell_type": "markdown",
     "metadata": {
      "slideshow": {
       "slide_type": "slide"
      }
     },
     "source": [
      "**How does this** ![tweets](images/tweets.png) **become useful?**"
     ]
    },
    {
     "cell_type": "markdown",
     "metadata": {
      "slideshow": {
       "slide_type": "slide"
      }
     },
     "source": [
      "##Machine Learning\n",
      "- Algorithms to detect patterns in data\n",
      "- Combines statistics and computer science\n",
      "- *CS584 Machine Learning*"
     ]
    },
    {
     "cell_type": "markdown",
     "metadata": {
      "slideshow": {
       "slide_type": "slide"
      }
     },
     "source": [
      "##Machine Learning\n",
      "###Key tasks\n",
      "- **Classification:** Assign a label to an object\n",
      "- **Regression:** Assign a real number to an object\n",
      "- **Clustering:** Group similar objects"
     ]
    },
    {
     "cell_type": "markdown",
     "metadata": {
      "slideshow": {
       "slide_type": "slide"
      }
     },
     "source": [
      "##Social Network Analysis\n",
      "- Study of the relationship between objects\n",
      "- Core tasks:\n",
      "  - Community detection\n",
      "  - Link prediction\n",
      "  - Spread of influence"
     ]
    },
    {
     "cell_type": "markdown",
     "metadata": {
      "slideshow": {
       "slide_type": "slide"
      }
     },
     "source": [
      "## This Course\n",
      "- Hands-on overview of social network and text analysis\n",
      "- Survey of cutting edge research in this area\n",
      "- Technologies we'll use:\n",
      "  - Python / iPython notebooks\n",
      "  - Github\n",
      "  - Math\n",
      "  - Many APIs (Twitter, Facebook, LinkedIn, ...)\n",
      "- We'll use real data whenever possible\n",
      "  - Data are messy\n",
      "  \n",
      "Course Website: <https://github.com/iit-cs579/main>\n"
     ]
    },
    {
     "cell_type": "markdown",
     "metadata": {
      "slideshow": {
       "slide_type": "slide"
      }
     },
     "source": [
      "## Why iPython Notebook?\n",
      "\n",
      "- Interactive; more fun.\n",
      "- See the code behind the math."
     ]
    },
    {
     "cell_type": "code",
     "collapsed": false,
     "input": [
      "def my_sum(x):\n",
      "    total = 0\n",
      "    for xi in x:\n",
      "        total += xi\n",
      "    return total\n",
      "\n",
      "print my_sum([1,2,3,4, 5, 6])"
     ],
     "language": "python",
     "metadata": {
      "slideshow": {
       "slide_type": "slide"
      }
     },
     "outputs": [
      {
       "output_type": "stream",
       "stream": "stdout",
       "text": [
        "21\n"
       ]
      }
     ],
     "prompt_number": 33
    },
    {
     "cell_type": "code",
     "collapsed": false,
     "input": [
      "import matplotlib.pyplot as plt\n",
      "\n",
      "plt.plot([0,1,2,1, 5, 2, 3])"
     ],
     "language": "python",
     "metadata": {
      "slideshow": {
       "slide_type": "slide"
      }
     },
     "outputs": [
      {
       "metadata": {},
       "output_type": "pyout",
       "prompt_number": 1,
       "text": [
        "[<matplotlib.lines.Line2D at 0x106152950>]"
       ]
      },
      {
       "metadata": {},
       "output_type": "display_data",
       "png": "[encoded data removed]",
       "text": [
        "<matplotlib.figure.Figure at 0x105d05690>"
       ]
      }
     ],
     "prompt_number": 1
    },
    {
     "cell_type": "code",
     "collapsed": false,
     "input": [
      "# Survey says...\n",
      "from collections import defaultdict, Counter\n",
      "\n",
      "# Read the responses into a dict mapping question -> Counter.\n",
      "results = defaultdict(lambda: Counter())\n",
      "lines = open('survey_results.tsv').readlines()\n",
      "headers = lines[0].split('\\t')\n",
      "for line in lines[1:]:\n",
      "    for i, col in enumerate(line.split('\\t')):\n",
      "        results[headers[i]].update([col])\n",
      "        \n",
      "# Plot histograms of the results.\n",
      "for question in results:\n",
      "    vals = sorted(results[question].keys())  # e.g., Yes, No\n",
      "    frequencies = [results[question][v] for v in vals] # frequency of each response\n",
      "    pos = range(len(vals))  # index of each value\n",
      "    fig = plt.figure()\n",
      "    plt.title(question)\n",
      "    ax = plt.axes()\n",
      "    ax.set_xticks([p + .3 for p in pos]) # shift to center x labels\n",
      "    ax.set_xticklabels(vals, horizontalalignment='center')\n",
      "    plt.bar(range(len(vals)), frequencies)\n",
      "    plt.show()"
     ],
     "language": "python",
     "metadata": {
      "slideshow": {
       "slide_type": "slide"
      }
     },
     "outputs": [
      {
       "metadata": {},
       "output_type": "display_data",
       "png": "[encoded data removed]",
       "text": [
        "<matplotlib.figure.Figure at 0x106164350>"
       ]
      },
      {
       "metadata": {},
       "output_type": "display_data",
       "png": "[encoded data removed]",
       "text": [
        "<matplotlib.figure.Figure at 0x1061378d0>"
       ]
      },
      {
       "metadata": {},
       "output_type": "display_data",
       "png": "[encoded data removed]",
       "text": [
        "<matplotlib.figure.Figure at 0x106159390>"
       ]
      }
     ],
     "prompt_number": 2
    }
   ],
   "metadata": {}
  }
 ]
}