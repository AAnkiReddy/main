{
 "cells": [
  {
   "cell_type": "markdown",
   "metadata": {
    "slideshow": {
     "slide_type": "slide"
    }
   },
   "source": [
    "<br><br><br><br><br><br><br><br><br><br><br><br>\n",
    "\n",
    "\n",
    "\n",
    "<center>\n",
    "<b><font size=\"+3\">CS579: Online Social Network Analysis </font></b>\n",
    "<br>\n",
    "**Lecture 01**    \n",
    "*[Dr. Aron Culotta](http://cs.iit.edu/~culotta)*  \n",
    "*[Illinois Institute of Technology](http://iit.edu)*\n",
    "\n",
    "</center>\n",
    "\n",
    "<br><br><br><br><br><br><br><br><br><br><br><br>\n",
    "<br><br><br><br><br><br><br><br><br><br><br><br>"
   ]
  },
  {
   "cell_type": "markdown",
   "metadata": {
    "slideshow": {
     "slide_type": "slide"
    }
   },
   "source": [
    "What is an **online social network?**\n",
    "\n",
    "<br><br><br><br><br><br>\n",
    "\n",
    "\n",
    "\n"
   ]
  },
  {
   "cell_type": "markdown",
   "metadata": {
    "slideshow": {
     "slide_type": "slide"
    }
   },
   "source": [
    "<span style=\"float: left; margin: 50px;\">\n",
    "<img width=50% src=\"images/fb_logo.png\"/>\n",
    "</span>\n",
    "\n",
    "- 1.2B users\n",
    "- 70B pieces of content shared / day\n",
    "- 150K messages sent / minute\n",
    "\n",
    "Sources: [\\[1\\]](http://www.statisticbrain.com/facebook-statistics/) [\\[2\\]](http://expandedramblings.com/index.php/march-2013-by-the-numbers-a-few-amazing-twitter-stats/)\n",
    "\n",
    "<br><br><br><br><br><br><br><br><br><br><br><br>"
   ]
  },
  {
   "cell_type": "markdown",
   "metadata": {
    "slideshow": {
     "slide_type": "slide"
    }
   },
   "source": [
    "\n",
    "<span style=\"float: left; margin: 80px;\">\n",
    "<img src=\"images/twitter_logo2.png\"/>\n",
    "</span>\n",
    "\n",
    "<br>\n",
    "\n",
    "- 560M users\n",
    "- 400M tweets / day\n",
    "- 170B total tweets\n",
    "\n",
    "Sources: [\\[1\\]](http://www.statisticbrain.com/twitter-statistics/) [\\[2\\]](http://expandedramblings.com/index.php/march-2013-by-the-numbers-a-few-amazing-twitter-stats/)\n",
    "\n",
    "<br><br><br><br><br><br><br><br><br><br><br><br>"
   ]
  },
  {
   "cell_type": "markdown",
   "metadata": {
    "slideshow": {
     "slide_type": "slide"
    }
   },
   "source": [
    "<span style=\"float: left; margin: 80px;\">\n",
    "<img src=\"images/instagram.png\"/>\n",
    "</span>\n",
    "<br>\n",
    "\n",
    "- 4B shared photos\n",
    "- 5M photos / day\n",
    "- 81 comments / second\n",
    "\n",
    "Sources: [\\[1\\]](http://www.huffingtonpost.com/brian-honigman/100-fascinating-social-me_b_2185281.html)\n",
    "<br><br><br><br><br><br><br><br><br><br><br><br>"
   ]
  },
  {
   "cell_type": "markdown",
   "metadata": {},
   "source": [
    "<span style=\"float: left; margin: 80px;\">\n",
    "<img src=\"images/sina-weibo.png\"/>\n",
    "</span>\n",
    "<br>\n",
    "\n",
    "- 261M active users\n",
    "- 470M daily video views\n",
    "- 100M posts / day\n",
    "\n",
    "Sources: [\\[1\\]](http://expandedramblings.com/index.php/weibo-user-statistics/)\n",
    "<br><br><br><br><br><br><br><br><br><br><br><br>"
   ]
  },
  {
   "cell_type": "markdown",
   "metadata": {
    "slideshow": {
     "slide_type": "slide"
    }
   },
   "source": [
    "### A large portion of the world's conversations are conducted in public."
   ]
  },
  {
   "cell_type": "markdown",
   "metadata": {
    "slideshow": {
     "slide_type": "slide"
    }
   },
   "source": [
    "### Is there anything useful in this chatter?"
   ]
  },
  {
   "cell_type": "markdown",
   "metadata": {
    "slideshow": {
     "slide_type": "slide"
    }
   },
   "source": [
    "![brand](images/brand.png)\n",
    "\n",
    "[Radian6](http://www.salesforcemarketingcloud.com/blog/2012/08/social-media-insights-peekanalytics-at-work/)\n",
    "\n",
    "<br><br><br><br><br><br><br><br><br><br><br><br>"
   ]
  },
  {
   "cell_type": "markdown",
   "metadata": {
    "slideshow": {
     "slide_type": "slide"
    }
   },
   "source": [
    "![flu](images/flu.png)\n",
    "\n",
    "- [Paul & Dredze \\[2011\\]](http://www.cs.jhu.edu/~mdredze/publications/twitter_health_icwsm_11.pdf)\n",
    "- [Culotta \\[2010\\]](http://cs.iit.edu/~culotta/pubs/culotta10towards.pdf)\n",
    "\n",
    "<br><br><br><br><br><br><br><br><br><br><br><br>"
   ]
  },
  {
   "cell_type": "markdown",
   "metadata": {
    "slideshow": {
     "slide_type": "slide"
    }
   },
   "source": [
    "\n",
    "![gallup](images/gallup.png)\n",
    "\n",
    "[O'Connor et al. \\[2010\\]](http://www.cs.cmu.edu/~nasmith/papers/oconnor+balasubramanyan+routledge+smith.icwsm10.pdf)\n",
    "\n",
    "<br><br><br><br><br><br><br><br><br><br><br><br>"
   ]
  },
  {
   "cell_type": "markdown",
   "metadata": {
    "slideshow": {
     "slide_type": "slide"
    }
   },
   "source": [
    "![djia](images/djia.png)\n",
    "\n",
    "[Bollen et al. \\[2010\\]](http://arxiv.org/pdf/1010.3003v1.pdf)\n",
    "<br><br><br><br><br><br><br><br><br><br><br><br>"
   ]
  },
  {
   "cell_type": "markdown",
   "metadata": {
    "slideshow": {
     "slide_type": "slide"
    }
   },
   "source": [
    "\n",
    "![crisis](images/crisis.png)\n",
    "\n",
    "[Rogstadius et al. \\[2013\\]](http://ufn.virtues.fi/~jakob/twitter/about.php)\n",
    "\n",
    "<br><br><br><br><br><br><br><br><br><br><br><br>"
   ]
  },
  {
   "cell_type": "markdown",
   "metadata": {
    "slideshow": {
     "slide_type": "slide"
    }
   },
   "source": [
    "\n",
    "![earthquake](images/earthquake.png)\n",
    "\n",
    "[Kumar et al. \\[2011\\]](http://www.public.asu.edu/~mabbasi2/papers/kumar2011tweettracker.pdf)\n",
    "\n",
    "<br><br><br><br><br><br><br><br><br><br><br><br>"
   ]
  },
  {
   "cell_type": "markdown",
   "metadata": {
    "slideshow": {
     "slide_type": "slide"
    }
   },
   "source": [
    "**How does this** ![tweets](images/tweets.png) **become useful?**\n",
    "\n",
    "<br><br><br><br><br><br><br><br><br><br><br><br>"
   ]
  },
  {
   "cell_type": "markdown",
   "metadata": {},
   "source": [
    "###  Algorithms + Data = The Microscope of the 21st Century\n",
    "\n",
    "<table style=\"border: none;border-collapse: collapse;\" border=\"0\" >\n",
    "<tr><td><img src=\"images/tree.png\" width=80%></td>\n",
    "<td>\n",
    "<ul>\n",
    "<li>Much as the microscope allowed scientists to see things they previously couldn't, now computer science provides new windows into human behavior\n",
    "<li>More human behavior is publicly observable than ever before\n",
    "<li>Supports sociology, anthropology, economics, psychology...\n",
    "<li>New algorithms are needed to sift through noise to find true patterns.\n",
    "<li>**Computational Social Science**\n",
    "</ul>\n",
    "</td></tr></table>\n",
    "\n",
    "<br><br><br><br>"
   ]
  },
  {
   "cell_type": "markdown",
   "metadata": {},
   "source": [
    "## Social Network Analysis\n",
    "- Study of the relationship between objects\n",
    "- Core tasks:\n",
    "  - Community detection\n",
    "  - Link prediction\n",
    "  - Spread of influence\n",
    "  \n",
    "  <br><br><br><br><br><br><br><br><br><br><br><br>"
   ]
  },
  {
   "cell_type": "markdown",
   "metadata": {},
   "source": [
    "## Natural Language Processing\n",
    "- Algorithms allowing computers to make sense of human language\n",
    "  - text / audio \n",
    "- Core tasks:\n",
    "  - syntactic parsing\n",
    "  - entity/relation extraction\n",
    "  - sentiment classification\n",
    "- CS585\n",
    "  \n",
    "  <br><br><br><br><br><br><br><br><br>"
   ]
  },
  {
   "cell_type": "markdown",
   "metadata": {
    "slideshow": {
     "slide_type": "slide"
    }
   },
   "source": [
    "## Machine Learning\n",
    "- Algorithms to detect patterns in data\n",
    "- Combines statistics and computer science\n",
    "- *CS584 Machine Learning*\n",
    "\n",
    "**Key tasks**\n",
    "- **Classification:** Assign a label to an object\n",
    "- **Regression:** Assign a real number to an object\n",
    "- **Clustering:** Group similar objects\n",
    "\n",
    "<br><br><br><br><br><br><br><br><br><br><br><br>"
   ]
  },
  {
   "cell_type": "markdown",
   "metadata": {
    "slideshow": {
     "slide_type": "slide"
    }
   },
   "source": [
    "## This Course\n",
    "- Hands-on overview of social network, text analysis, machine learning\n",
    "- Survey of cutting edge research in this area\n",
    "- Technologies we'll use:\n",
    "  - Python / Jupyter notebooks\n",
    "  - Github\n",
    "  - Math\n",
    "  - Many APIs (Twitter, Facebook, LinkedIn, ...)\n",
    "- We'll use real data whenever possible\n",
    "  - Data are messy\n",
    "  \n",
    "Course Website: <https://github.com/iit-cs579/main>\n",
    "\n",
    "<br><br><br><br><br><br><br><br><br><br><br><br>"
   ]
  },
  {
   "cell_type": "markdown",
   "metadata": {
    "slideshow": {
     "slide_type": "slide"
    }
   },
   "source": [
    "## Why Jupyter Notebook?\n",
    "\n",
    "- Interactive; more fun.\n",
    "- See the code behind the math.\n",
    "<br><br><br><br><br>"
   ]
  },
  {
   "cell_type": "markdown",
   "metadata": {},
   "source": [
    "$$ f(x) = \\sum_i x_i $$\n",
    "\n",
    "<br><br><br>"
   ]
  },
  {
   "cell_type": "code",
   "execution_count": 58,
   "metadata": {
    "collapsed": false,
    "slideshow": {
     "slide_type": "slide"
    }
   },
   "outputs": [
    {
     "data": {
      "text/plain": [
       "36"
      ]
     },
     "execution_count": 58,
     "metadata": {},
     "output_type": "execute_result"
    }
   ],
   "source": [
    "def my_sum(x):\n",
    "    total = 0\n",
    "    for xi in x:\n",
    "        total += xi\n",
    "    return total\n",
    "\n",
    "my_sum([1, 2, 3, 4, 5, 6, 7, 8])"
   ]
  },
  {
   "cell_type": "markdown",
   "metadata": {},
   "source": [
    "<br><br><br><br><br><br><br><br><br><br><br><br>"
   ]
  },
  {
   "cell_type": "code",
   "execution_count": 59,
   "metadata": {
    "collapsed": false,
    "slideshow": {
     "slide_type": "slide"
    }
   },
   "outputs": [
    {
     "data": {
      "image/png": "[encoded data removed]",
      "text/plain": [
       "<matplotlib.figure.Figure at 0x10919d978>"
      ]
     },
     "metadata": {},
     "output_type": "display_data"
    }
   ],
   "source": [
    "%matplotlib inline\n",
    "import matplotlib.pyplot as plt\n",
    "import numpy as np\n",
    "\n",
    "plt.plot(np.arange(5)*10, [50, 60, 70, 90, 100], 'bo-')\n",
    "plt.xlabel('hours studying', size=14)\n",
    "plt.ylabel('grade', size=14)\n",
    "plt.show()"
   ]
  },
  {
   "cell_type": "markdown",
   "metadata": {},
   "source": [
    "<br><br><br><br><br><br><br><br><br><br><br><br>"
   ]
  },
  {
   "cell_type": "code",
   "execution_count": 60,
   "metadata": {
    "collapsed": false,
    "scrolled": true
   },
   "outputs": [
    {
     "data": {
      "image/png": "[encoded data removed]",
      "text/plain": [
       "<matplotlib.figure.Figure at 0x10a991a58>"
      ]
     },
     "metadata": {},
     "output_type": "display_data"
    },
    {
     "data": {
      "image/png": "[encoded data removed]",
      "text/plain": [
       "<matplotlib.figure.Figure at 0x10b50e5f8>"
      ]
     },
     "metadata": {},
     "output_type": "display_data"
    }
   ],
   "source": [
    "data = pd.read_csv('survey_results.tsv', sep='\\t')\n",
    "headers = ['How familiar are you with version control? (git, svn, mercurial, cvs, etc.)',\n",
    "          'How familiar are you with Python?',\n",
    "          ]\n",
    "\n",
    "for h in headers:\n",
    "    plt.figure()\n",
    "    data[h].plot(kind='hist')\n",
    "    plt.ylabel('count')\n",
    "    plt.xticks(np.arange(1, 6))\n",
    "    plt.title(h)\n",
    "plt.show()"
   ]
  },
  {
   "cell_type": "code",
   "execution_count": 61,
   "metadata": {
    "collapsed": false
   },
   "outputs": [
    {
     "data": {
      "image/png": "[encoded data removed]",
      "text/plain": [
       "<matplotlib.figure.Figure at 0x10b525c88>"
      ]
     },
     "metadata": {},
     "output_type": "display_data"
    }
   ],
   "source": [
    "mlq = 'Have you taken a course on Machine Learning or Data Mining?'\n",
    "mlclass = Counter(data[mlq])\n",
    "plt.figure()\n",
    "plt.title(mlq)\n",
    "plt.bar([0, 1], mlclass.values(), width=.5)\n",
    "plt.xticks([.5, 1.5], mlclass.keys())\n",
    "plt.ylabel('count')\n",
    "plt.show()"
   ]
  },
  {
   "cell_type": "code",
   "execution_count": 65,
   "metadata": {
    "collapsed": false,
    "scrolled": true
   },
   "outputs": [
    {
     "name": "stdout",
     "output_type": "stream",
     "text": [
      "                data\t27\n",
      "              social\t25\n",
      "               learn\t19\n",
      "              course\t17\n",
      "          interested\t15\n",
      "            analysis\t15\n",
      "                want\t14\n",
      "            learning\t12\n",
      "              python\t11\n",
      "                like\t11\n",
      "             network\t10\n",
      "      social network\t10\n",
      "    machine learning\t8\n",
      "             machine\t8\n",
      "           analytics\t7\n",
      "      data analytics\t7\n",
      "              online\t7\n",
      "                area\t6\n",
      "              mining\t6\n",
      "       online social\t6\n"
     ]
    }
   ],
   "source": [
    "# Why take this course question.\n",
    "# Note: this wont work since I removed this column from the data in github.\n",
    "from sklearn.feature_extraction.text import CountVectorizer\n",
    "\n",
    "vec = CountVectorizer(binary=True, stop_words='english', ngram_range=(1,3), min_df=2)\n",
    "text = vec.fit_transform(data['Why are you taking this course?'])\n",
    "counts = text.sum(axis=0).getA1()\n",
    "words = np.array(vec.get_feature_names())\n",
    "\n",
    "for idx in np.argsort(counts)[::-1][:20]:\n",
    "    print('%20s\\t%d' % (words[idx], counts[idx]))\n"
   ]
  },
  {
   "cell_type": "code",
   "execution_count": 66,
   "metadata": {
    "collapsed": false
   },
   "outputs": [
    {
     "name": "stdout",
     "output_type": "stream",
     "text": [
      "data\n",
      "subject\n",
      "help\n",
      "influence\n",
      "social data\n",
      "course help\n",
      "online\n",
      "using\n",
      "mining\n",
      "knowledge\n"
     ]
    }
   ],
   "source": [
    "# Top words for people who have taken ML/DM\n",
    "from sklearn.linear_model import LogisticRegression\n",
    "clf = LogisticRegression()\n",
    "clf.fit(text, data[mlq])\n",
    "print('\\n'.join(words[np.argsort(clf.coef_[0])[::-1][:10]]))"
   ]
  },
  {
   "cell_type": "code",
   "execution_count": 53,
   "metadata": {
    "collapsed": false
   },
   "outputs": [
    {
     "name": "stdout",
     "output_type": "stream",
     "text": [
      "python\n",
      "area\n",
      "new\n",
      "use\n",
      "analysis\n",
      "language\n",
      "algorithms\n",
      "science\n",
      "data science\n",
      "programming\n"
     ]
    }
   ],
   "source": [
    "# Top words for people who have NOT taken ML/DM\n",
    "print('\\n'.join(words[np.argsort(clf.coef_[0])[:10]]))"
   ]
  },
  {
   "cell_type": "markdown",
   "metadata": {},
   "source": [
    "**Any insights?**"
   ]
  }
 ],
 "metadata": {
  "kernelspec": {
   "display_name": "Python 3",
   "language": "python",
   "name": "python3"
  },
  "language_info": {
   "codemirror_mode": {
    "name": "ipython",
    "version": 3
   },
   "file_extension": ".py",
   "mimetype": "text/x-python",
   "name": "python",
   "nbconvert_exporter": "python",
   "pygments_lexer": "ipython3",
   "version": "3.5.0"
  }
 },
 "nbformat": 4,
 "nbformat_minor": 0
}
