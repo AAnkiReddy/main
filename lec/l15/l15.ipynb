{
 "metadata": {
  "name": "",
  "signature": "sha256:b78134d0c61b0315e22cbb0348017f13b9c4f8f1a777b0e33b42489c8fe9c921"
 },
 "nbformat": 3,
 "nbformat_minor": 0,
 "worksheets": [
  {
   "cells": [
    {
     "cell_type": "markdown",
     "metadata": {},
     "source": [
      "# CS579: Lecture 15  \n",
      "\n",
      "**Demographic Inference IV**\n",
      "\n",
      "*[Dr. Aron Culotta](http://cs.iit.edu/~culotta)*  \n",
      "*[Illinois Institute of Technology](http://iit.edu)*"
     ]
    },
    {
     "cell_type": "markdown",
     "metadata": {},
     "source": [
      "## Gender Classification\n",
      "\n",
      "Let's build a classifier to predict whether a Twitter user is male/female.\n",
      "\n",
      "We'll collect \"labeled\" training data using Census name list."
     ]
    },
    {
     "cell_type": "markdown",
     "metadata": {},
     "source": [
      "**1.) Read tweets collected in l13**"
     ]
    },
    {
     "cell_type": "code",
     "collapsed": false,
     "input": [
      "import pickle\n",
      "tweets = pickle.load(open('tweets.pkl', 'rb'))"
     ],
     "language": "python",
     "metadata": {},
     "outputs": [],
     "prompt_number": 28
    },
    {
     "cell_type": "code",
     "collapsed": false,
     "input": [
      "from collections import Counter\n",
      "\n",
      "def get_first_name(tweet):\n",
      "    if 'user' in tweet and 'name' in tweet['user']:\n",
      "        parts = tweet['user']['name'].split()\n",
      "        if len(parts) > 0:\n",
      "            return parts[0].lower()"
     ],
     "language": "python",
     "metadata": {},
     "outputs": [],
     "prompt_number": 29
    },
    {
     "cell_type": "code",
     "collapsed": false,
     "input": [
      "print 'sampled %d tweets' % len(tweets)\n",
      "print 'top names:', Counter(get_first_name(t) for t in tweets).most_common(10)"
     ],
     "language": "python",
     "metadata": {},
     "outputs": [
      {
       "output_type": "stream",
       "stream": "stdout",
       "text": [
        "sampled 6704 tweets\n",
        "top names: [(u'michael', 62), (u'nick', 55), (u'jay', 52), (u'justin', 51), (u'amanda', 50), (u'mike', 50), (u'john', 49), (u'chris', 48), (u'ryan', 47), (u'steve', 46)]\n"
       ]
      }
     ],
     "prompt_number": 30
    },
    {
     "cell_type": "markdown",
     "metadata": {},
     "source": [
      "** 2.) Filter tweets. **"
     ]
    },
    {
     "cell_type": "code",
     "collapsed": false,
     "input": [
      "# Remove tweets that don't have a description.\n",
      "filtered_tweets = [t for t in tweets if t['user']['description']]\n",
      "print '%d / %d tweets have description' % (len(filtered_tweets), len(tweets))"
     ],
     "language": "python",
     "metadata": {},
     "outputs": [
      {
       "output_type": "stream",
       "stream": "stdout",
       "text": [
        "5883 / 6704 tweets have description\n"
       ]
      }
     ],
     "prompt_number": 54
    },
    {
     "cell_type": "markdown",
     "metadata": {},
     "source": [
      "** 3.) Label by gender. **"
     ]
    },
    {
     "cell_type": "code",
     "collapsed": false,
     "input": [
      "import requests\n",
      "\n",
      "def get_census_names():\n",
      "    \"\"\" Fetch a list of common male/female names from the census.\n",
      "    For ambiguous names, we select the more frequent gender.\"\"\"\n",
      "    males = requests.get('http://www2.census.gov/topics/genealogy/1990surnames/dist.male.first').text.split('\\n')\n",
      "    females = requests.get('http://www2.census.gov/topics/genealogy/1990surnames/dist.female.first').text.split('\\n')\n",
      "    males_pct = dict([(m.split()[0].lower(), float(m.split()[1]))\n",
      "                  for m in males if m])\n",
      "    females_pct = dict([(f.split()[0].lower(), float(f.split()[1]))\n",
      "                    for f in females if f])\n",
      "    male_names = set([m for m in males_pct if m not in females_pct or\n",
      "                  males_pct[m] > females_pct[m]])\n",
      "    female_names = set([f for f in females_pct if f not in males_pct or\n",
      "                  females_pct[f] > males_pct[f]])\n",
      "    # Additional filter to be more conservative about ambiguous names.\n",
      "    # male_names = set([m for m in male_names if m not in females_pct or females_pct[m] < .01])\n",
      "    # female_names = set([f for f in female_names if f not in males_pct or males_pct[f] < .01])\n",
      "    return male_names, female_names\n",
      "\n",
      "male_names, female_names = get_census_names()\n",
      "print 'found %d males and %d females' % (len(male_names), len(female_names))\n",
      "print 'male name sample:', list(male_names)[:5]\n",
      "print 'female name sample:', list(female_names)[:5]"
     ],
     "language": "python",
     "metadata": {},
     "outputs": [
      {
       "output_type": "stream",
       "stream": "stdout",
       "text": [
        "found 1146 males and 4014 females\n",
        "male name sample: [u'trenton', u'darrin', u'emile', u'jason', u'ron']\n",
        "female name sample: [u'fawn', u'kymberly', u'augustina', u'evalyn', u'chieko']\n"
       ]
      }
     ],
     "prompt_number": 55
    },
    {
     "cell_type": "code",
     "collapsed": false,
     "input": [
      "# y is a 1d numpy array of gender labels.\n",
      "# Let 1=Female, 0=Male.\n",
      "import numpy as np\n",
      "\n",
      "def get_gender(tweet, male_names, female_names):\n",
      "    name = get_first_name(tweet)\n",
      "    if name in female_names:\n",
      "        return 1\n",
      "    elif name in male_names:\n",
      "        return 0\n",
      "    else:\n",
      "        return -1\n",
      "    \n",
      "y = np.array([get_gender(t, male_names, female_names) for t in filtered_tweets])\n",
      "print 'gender labels:', Counter(y).items()"
     ],
     "language": "python",
     "metadata": {},
     "outputs": [
      {
       "output_type": "stream",
       "stream": "stdout",
       "text": [
        "gender labels: [(0, 2834), (1, 3049)]\n"
       ]
      }
     ],
     "prompt_number": 56
    },
    {
     "cell_type": "code",
     "collapsed": false,
     "input": [
      "# Sidebar: difference between lists and generators (iterators)\n",
      "\n",
      "x = [1,2,3,4,5,6,7,8,9]\n",
      "\n",
      "sublist = [i for i in x if i % 2 == 0]\n",
      "print sublist\n",
      "\n",
      "sublist2 = (i for i in x if i % 2 == 0)\n",
      "print sublist2\n",
      "\n",
      "for i in sublist2:\n",
      "    print i\n"
     ],
     "language": "python",
     "metadata": {},
     "outputs": [
      {
       "output_type": "stream",
       "stream": "stdout",
       "text": [
        "[2, 4, 6, 8]\n",
        "<generator object <genexpr> at 0x115af29b0>\n",
        "2\n",
        "4\n",
        "6\n",
        "8\n"
       ]
      }
     ],
     "prompt_number": 185
    },
    {
     "cell_type": "markdown",
     "metadata": {},
     "source": [
      "**3.) Tokenize tweets. **"
     ]
    },
    {
     "cell_type": "code",
     "collapsed": false,
     "input": [
      "# This time, we'll use sklearn's built in tokenization.\n",
      "from sklearn.feature_extraction.text import TfidfVectorizer\n",
      "def tokenize(tweets, vectorizer):\n",
      "    X = vectorizer.fit_transform(t['user']['description'] for t in tweets)\n",
      "    print 'X dimensions=', X.shape\n",
      "    return X\n",
      "\n",
      "X = tokenize(filtered_tweets, TfidfVectorizer())"
     ],
     "language": "python",
     "metadata": {},
     "outputs": [
      {
       "output_type": "stream",
       "stream": "stdout",
       "text": [
        "X dimensions= (5883, 11548)\n"
       ]
      }
     ],
     "prompt_number": 153
    },
    {
     "cell_type": "markdown",
     "metadata": {},
     "source": [
      "** 4.) Compute cross validation accuracy. **"
     ]
    },
    {
     "cell_type": "code",
     "collapsed": false,
     "input": [
      "from sklearn.cross_validation import cross_val_score\n",
      "from sklearn.cross_validation import KFold\n",
      "from sklearn.linear_model import LogisticRegression\n",
      "\n",
      "def do_cv(X, y, nfolds=10):\n",
      "    cv = KFold(len(y), nfolds)\n",
      "    return np.mean(cross_val_score(LogisticRegression(), X, y, cv=cv))\n",
      "  \n",
      "print do_cv(X, y)"
     ],
     "language": "python",
     "metadata": {},
     "outputs": [
      {
       "output_type": "stream",
       "stream": "stdout",
       "text": [
        "0.727009343636\n"
       ]
      }
     ],
     "prompt_number": 154
    },
    {
     "cell_type": "markdown",
     "metadata": {},
     "source": [
      "** 5.) Compare different preprocessing decisions. **"
     ]
    },
    {
     "cell_type": "code",
     "collapsed": false,
     "input": [
      "print do_cv(tokenize(filtered_tweets, TfidfVectorizer()), y)\n",
      "print do_cv(tokenize(filtered_tweets, TfidfVectorizer(min_df=10)), y)"
     ],
     "language": "python",
     "metadata": {},
     "outputs": [
      {
       "output_type": "stream",
       "stream": "stdout",
       "text": [
        "X dimensions= (5883, 11548)\n",
        "0.727009343636"
       ]
      },
      {
       "output_type": "stream",
       "stream": "stdout",
       "text": [
        "\n",
        "X dimensions="
       ]
      },
      {
       "output_type": "stream",
       "stream": "stdout",
       "text": [
        " (5883, 976)\n",
        "0.683150849474"
       ]
      },
      {
       "output_type": "stream",
       "stream": "stdout",
       "text": [
        "\n"
       ]
      }
     ],
     "prompt_number": 155
    },
    {
     "cell_type": "code",
     "collapsed": false,
     "input": [
      "# How does filtering rare words affect accuracy?\n",
      "import matplotlib.pyplot as plt\n",
      "\n",
      "def compare_mindf(tweets, y):\n",
      "    accuracies = []\n",
      "    for freq in range(20):\n",
      "        accuracies.append(do_cv(tokenize(tweets, TfidfVectorizer(min_df=freq)), y))\n",
      "    plt.figure()\n",
      "    plt.plot(accuracies, 'bo-')\n",
      "    plt.xlabel('mindf')\n",
      "    plt.ylabel('accuracy')\n",
      "    plt.show()\n",
      "        \n",
      "compare_mindf(filtered_tweets, y)"
     ],
     "language": "python",
     "metadata": {},
     "outputs": [
      {
       "output_type": "stream",
       "stream": "stdout",
       "text": [
        "X dimensions= (5883, 11548)\n",
        "X dimensions="
       ]
      },
      {
       "output_type": "stream",
       "stream": "stdout",
       "text": [
        " (5883, 11548)\n",
        "X dimensions="
       ]
      },
      {
       "output_type": "stream",
       "stream": "stdout",
       "text": [
        " (5883, 5314)\n",
        "X dimensions="
       ]
      },
      {
       "output_type": "stream",
       "stream": "stdout",
       "text": [
        " (5883, 3386)\n",
        "X dimensions="
       ]
      },
      {
       "output_type": "stream",
       "stream": "stdout",
       "text": [
        " (5883, 2493)\n",
        "X dimensions="
       ]
      },
      {
       "output_type": "stream",
       "stream": "stdout",
       "text": [
        " (5883, 1957)\n",
        "X dimensions="
       ]
      },
      {
       "output_type": "stream",
       "stream": "stdout",
       "text": [
        " (5883, 1639)\n",
        "X dimensions="
       ]
      },
      {
       "output_type": "stream",
       "stream": "stdout",
       "text": [
        " (5883, 1397)\n",
        "X dimensions="
       ]
      },
      {
       "output_type": "stream",
       "stream": "stdout",
       "text": [
        " (5883, 1216)\n",
        "X dimensions="
       ]
      },
      {
       "output_type": "stream",
       "stream": "stdout",
       "text": [
        " (5883, 1098)\n",
        "X dimensions="
       ]
      },
      {
       "output_type": "stream",
       "stream": "stdout",
       "text": [
        " (5883, 976)\n",
        "X dimensions="
       ]
      },
      {
       "output_type": "stream",
       "stream": "stdout",
       "text": [
        " (5883, 905)\n",
        "X dimensions="
       ]
      },
      {
       "output_type": "stream",
       "stream": "stdout",
       "text": [
        " (5883, 816)\n",
        "X dimensions="
       ]
      },
      {
       "output_type": "stream",
       "stream": "stdout",
       "text": [
        " (5883, 758)\n",
        "X dimensions="
       ]
      },
      {
       "output_type": "stream",
       "stream": "stdout",
       "text": [
        " (5883, 696)\n",
        "X dimensions="
       ]
      },
      {
       "output_type": "stream",
       "stream": "stdout",
       "text": [
        " (5883, 632)\n",
        "X dimensions="
       ]
      },
      {
       "output_type": "stream",
       "stream": "stdout",
       "text": [
        " (5883, 598)\n",
        "X dimensions="
       ]
      },
      {
       "output_type": "stream",
       "stream": "stdout",
       "text": [
        " (5883, 556)\n",
        "X dimensions="
       ]
      },
      {
       "output_type": "stream",
       "stream": "stdout",
       "text": [
        " (5883, 520)\n",
        "X dimensions="
       ]
      },
      {
       "output_type": "stream",
       "stream": "stdout",
       "text": [
        " (5883, 500)\n"
       ]
      },
      {
       "metadata": {},
       "output_type": "display_data",
       "png": "[encoded data removed]",
       "text": [
        "<matplotlib.figure.Figure at 0x1151fd2d0>"
       ]
      }
     ],
     "prompt_number": 156
    },
    {
     "cell_type": "code",
     "collapsed": false,
     "input": [
      "# How does filtering common words affect accuracy?\n",
      "import matplotlib.pyplot as plt\n",
      "\n",
      "def compare_maxdf(tweets, y):\n",
      "    accuracies = []\n",
      "    maxdfs = [1., .1, .05, .04, .03, .02, .01, .005, .001]\n",
      "    for freq in maxdfs:\n",
      "        print freq\n",
      "        accuracies.append(do_cv(tokenize(tweets, TfidfVectorizer(max_df=freq)), y))\n",
      "    plt.figure()\n",
      "    plt.plot(maxdfs, accuracies, 'bo-')\n",
      "    plt.xlabel('maxdf (fraction)')\n",
      "    plt.ylabel('accuracy')\n",
      "    plt.show()\n",
      "        \n",
      "compare_maxdf(filtered_tweets, y)"
     ],
     "language": "python",
     "metadata": {},
     "outputs": [
      {
       "output_type": "stream",
       "stream": "stdout",
       "text": [
        "1.0\n",
        "X dimensions="
       ]
      },
      {
       "output_type": "stream",
       "stream": "stdout",
       "text": [
        " (5883, 11548)\n",
        "0.1"
       ]
      },
      {
       "output_type": "stream",
       "stream": "stdout",
       "text": [
        "\n",
        "X dimensions="
       ]
      },
      {
       "output_type": "stream",
       "stream": "stdout",
       "text": [
        " (5883, 11542)\n",
        "0.05"
       ]
      },
      {
       "output_type": "stream",
       "stream": "stdout",
       "text": [
        "\n",
        "X dimensions="
       ]
      },
      {
       "output_type": "stream",
       "stream": "stdout",
       "text": [
        " (5883, 11532)\n",
        "0.04"
       ]
      },
      {
       "output_type": "stream",
       "stream": "stdout",
       "text": [
        "\n",
        "X dimensions="
       ]
      },
      {
       "output_type": "stream",
       "stream": "stdout",
       "text": [
        " (5883, 11530)\n",
        "0.03"
       ]
      },
      {
       "output_type": "stream",
       "stream": "stdout",
       "text": [
        "\n",
        "X dimensions="
       ]
      },
      {
       "output_type": "stream",
       "stream": "stdout",
       "text": [
        " (5883, 11522)\n",
        "0.02"
       ]
      },
      {
       "output_type": "stream",
       "stream": "stdout",
       "text": [
        "\n",
        "X dimensions="
       ]
      },
      {
       "output_type": "stream",
       "stream": "stdout",
       "text": [
        " (5883, 11500)\n",
        "0.01"
       ]
      },
      {
       "output_type": "stream",
       "stream": "stdout",
       "text": [
        "\n",
        "X dimensions="
       ]
      },
      {
       "output_type": "stream",
       "stream": "stdout",
       "text": [
        " (5883, 11416)\n",
        "0.005"
       ]
      },
      {
       "output_type": "stream",
       "stream": "stdout",
       "text": [
        "\n",
        "X dimensions="
       ]
      },
      {
       "output_type": "stream",
       "stream": "stdout",
       "text": [
        " (5883, 11235)\n",
        "0.001"
       ]
      },
      {
       "output_type": "stream",
       "stream": "stdout",
       "text": [
        "\n",
        "X dimensions="
       ]
      },
      {
       "output_type": "stream",
       "stream": "stdout",
       "text": [
        " (5883, 9909)\n"
       ]
      },
      {
       "metadata": {},
       "output_type": "display_data",
       "png": "[encoded data removed]",
       "text": [
        "<matplotlib.figure.Figure at 0x10c442990>"
       ]
      }
     ],
     "prompt_number": 158
    },
    {
     "cell_type": "code",
     "collapsed": false,
     "input": [
      "# How does using ngrams help?\n",
      "import matplotlib.pyplot as plt\n",
      "\n",
      "def compare_ngrams(tweets, y):\n",
      "    accuracies = []\n",
      "    ngrams = [(1,1), (1,2), (2,2), (1,3), (2, 3), (3,3)]\n",
      "    for ngram in ngrams:\n",
      "        print ngram\n",
      "        accuracies.append(do_cv(tokenize(tweets, TfidfVectorizer(min_df=2, ngram_range=ngram)), y))\n",
      "    plt.figure()\n",
      "    plt.plot(accuracies, 'bo-')\n",
      "    plt.xticks(range(len(ngrams)), ngrams)\n",
      "    plt.xlabel('ngrams')\n",
      "    plt.ylabel('accuracy')\n",
      "    plt.show()\n",
      "        \n",
      "compare_ngrams(filtered_tweets, y)"
     ],
     "language": "python",
     "metadata": {},
     "outputs": [
      {
       "output_type": "stream",
       "stream": "stdout",
       "text": [
        "(1, 1)\n",
        "X dimensions="
       ]
      },
      {
       "output_type": "stream",
       "stream": "stdout",
       "text": [
        " (5883, 5314)\n",
        "(1, 2)"
       ]
      },
      {
       "output_type": "stream",
       "stream": "stdout",
       "text": [
        "\n",
        "X dimensions="
       ]
      },
      {
       "output_type": "stream",
       "stream": "stdout",
       "text": [
        " (5883, 14483)\n",
        "(2, 2)"
       ]
      },
      {
       "output_type": "stream",
       "stream": "stdout",
       "text": [
        "\n",
        "X dimensions="
       ]
      },
      {
       "output_type": "stream",
       "stream": "stdout",
       "text": [
        " (5883, 9169)\n",
        "(1, 3)"
       ]
      },
      {
       "output_type": "stream",
       "stream": "stdout",
       "text": [
        "\n",
        "X dimensions="
       ]
      },
      {
       "output_type": "stream",
       "stream": "stdout",
       "text": [
        " (5883, 22586)\n",
        "(2, 3)"
       ]
      },
      {
       "output_type": "stream",
       "stream": "stdout",
       "text": [
        "\n",
        "X dimensions="
       ]
      },
      {
       "output_type": "stream",
       "stream": "stdout",
       "text": [
        " (5883, 17272)\n",
        "(3, 3)"
       ]
      },
      {
       "output_type": "stream",
       "stream": "stdout",
       "text": [
        "\n",
        "X dimensions="
       ]
      },
      {
       "output_type": "stream",
       "stream": "stdout",
       "text": [
        " (5883, 8103)\n"
       ]
      },
      {
       "metadata": {},
       "output_type": "display_data",
       "png": "[encoded data removed]",
       "text": [
        "<matplotlib.figure.Figure at 0x10e23a410>"
       ]
      }
     ],
     "prompt_number": 161
    },
    {
     "cell_type": "code",
     "collapsed": false,
     "input": [
      "# Does binary/freq help?\n",
      "def compare_binary(tweets, y):\n",
      "    accuracies = []\n",
      "    choices = [True, False]\n",
      "    for choice in choices:\n",
      "        print choice\n",
      "        accuracies.append(do_cv(tokenize(tweets, TfidfVectorizer(binary=choice, min_df=2, ngram_range=(1,3))), y))\n",
      "    plt.figure()\n",
      "    plt.plot(accuracies, 'bo-')\n",
      "    plt.xticks([0,1], [str(c) for c in choices])\n",
      "    plt.xlabel('binary')\n",
      "    plt.ylabel('accuracy')\n",
      "    plt.show()\n",
      "        \n",
      "compare_binary(filtered_tweets, y)"
     ],
     "language": "python",
     "metadata": {},
     "outputs": [
      {
       "output_type": "stream",
       "stream": "stdout",
       "text": [
        "True\n",
        "X dimensions="
       ]
      },
      {
       "output_type": "stream",
       "stream": "stdout",
       "text": [
        " (5883, 22586)\n",
        "False"
       ]
      },
      {
       "output_type": "stream",
       "stream": "stdout",
       "text": [
        "\n",
        "X dimensions="
       ]
      },
      {
       "output_type": "stream",
       "stream": "stdout",
       "text": [
        " (5883, 22586)\n"
       ]
      },
      {
       "metadata": {},
       "output_type": "display_data",
       "png": "[encoded data removed]",
       "text": [
        "<matplotlib.figure.Figure at 0x1138a7590>"
       ]
      }
     ],
     "prompt_number": 162
    },
    {
     "cell_type": "code",
     "collapsed": false,
     "input": [
      "# Does idf help?\n",
      "def compare_idf(tweets, y):\n",
      "    accuracies = []\n",
      "    choices = [True, False]\n",
      "    for choice in choices:\n",
      "        print choice\n",
      "        accuracies.append(do_cv(tokenize(tweets, TfidfVectorizer(use_idf=choice, binary=True, min_df=2, ngram_range=(1,3))), y))\n",
      "    plt.figure()\n",
      "    plt.plot(accuracies, 'bo-')\n",
      "    plt.xticks([0,1], [str(c) for c in choices])\n",
      "    plt.xlabel('binary')\n",
      "    plt.ylabel('use idf?')\n",
      "    plt.show()\n",
      "        \n",
      "compare_idf(filtered_tweets, y)"
     ],
     "language": "python",
     "metadata": {},
     "outputs": [
      {
       "output_type": "stream",
       "stream": "stdout",
       "text": [
        "True\n",
        "X dimensions="
       ]
      },
      {
       "output_type": "stream",
       "stream": "stdout",
       "text": [
        " (5883, 22586)\n",
        "False"
       ]
      },
      {
       "output_type": "stream",
       "stream": "stdout",
       "text": [
        "\n",
        "X dimensions="
       ]
      },
      {
       "output_type": "stream",
       "stream": "stdout",
       "text": [
        " (5883, 22586)\n"
       ]
      },
      {
       "metadata": {},
       "output_type": "display_data",
       "png": "[encoded data removed]",
       "text": [
        "<matplotlib.figure.Figure at 0x10b1634d0>"
       ]
      }
     ],
     "prompt_number": 163
    },
    {
     "cell_type": "code",
     "collapsed": false,
     "input": [
      "# Do stop words help?\n",
      "def compare_stopwords(tweets, y):\n",
      "    accuracies = []\n",
      "    choices = [None, 'english']\n",
      "    for choice in choices:\n",
      "        print choice\n",
      "        accuracies.append(do_cv(tokenize(tweets, TfidfVectorizer(stop_words=choice,\n",
      "                                                                 use_idf=True, binary=True, min_df=2, ngram_range=(1,3))), y))\n",
      "    plt.figure()\n",
      "    plt.plot(accuracies, 'bo-')\n",
      "    plt.xticks([0,1], [str(c) for c in choices])\n",
      "    plt.xlabel('binary')\n",
      "    plt.ylabel('use stopwords')\n",
      "    plt.show()\n",
      "        \n",
      "compare_stopwords(filtered_tweets, y)"
     ],
     "language": "python",
     "metadata": {},
     "outputs": [
      {
       "output_type": "stream",
       "stream": "stdout",
       "text": [
        "None\n",
        "X dimensions="
       ]
      },
      {
       "output_type": "stream",
       "stream": "stdout",
       "text": [
        " (5883, 22586)\n",
        "english"
       ]
      },
      {
       "output_type": "stream",
       "stream": "stdout",
       "text": [
        "\n",
        "X dimensions="
       ]
      },
      {
       "output_type": "stream",
       "stream": "stdout",
       "text": [
        " (5883, 16028)\n"
       ]
      },
      {
       "metadata": {},
       "output_type": "display_data",
       "png": "[encoded data removed]",
       "text": [
        "<matplotlib.figure.Figure at 0x10a1bbe90>"
       ]
      }
     ],
     "prompt_number": 164
    },
    {
     "cell_type": "code",
     "collapsed": false,
     "input": [
      "# Do GridSearch on all parameters.\n",
      "from sklearn.grid_search import GridSearchCV\n",
      "from sklearn.pipeline import Pipeline\n",
      "from pprint import pprint\n",
      "\n",
      "pipeline = Pipeline([\n",
      "    ('vect', TfidfVectorizer()),\n",
      "    ('clf', LogisticRegression()),\n",
      "])\n",
      "\n",
      "parameters = {\n",
      "    'vect__min_df': (1, 2, 3, 4, 5),\n",
      "    'vect__ngram_range': ((1, 1), (1, 2), (1, 3)),  # unigrams or bigrams or trigrams\n",
      "    'vect__use_idf': (True, False),\n",
      "}\n",
      "\n",
      "data = [t['user']['description'] for t in filtered_tweets]\n",
      "grid_search = GridSearchCV(pipeline, parameters, verbose=1, cv=KFold(len(y), 10))\n",
      "\n",
      "print \"Performing grid search...\"\n",
      "print \"pipeline:\", [name for name, _ in pipeline.steps]\n",
      "print \"parameters:\"\n",
      "pprint(parameters)\n",
      "grid_search.fit(data, y)\n",
      "print \"done.\"\n",
      "\n",
      "print(\"Best score: %0.3f\" % grid_search.best_score_)\n",
      "print(\"Best parameters set:\")\n",
      "best_parameters = grid_search.best_estimator_.get_params()\n",
      "for param_name in sorted(parameters.keys()):\n",
      "    print(\"\\t%s: %r\" % (param_name, best_parameters[param_name]))"
     ],
     "language": "python",
     "metadata": {},
     "outputs": [
      {
       "output_type": "stream",
       "stream": "stderr",
       "text": [
        "[Parallel(n_jobs=1)]: Done   1 jobs       | elapsed:    0.2s\n",
        "[Parallel(n_jobs=1)]: Done  50 jobs       | elapsed:   19.4s\n"
       ]
      },
      {
       "output_type": "stream",
       "stream": "stderr",
       "text": [
        "[Parallel(n_jobs=1)]: Done 200 jobs       | elapsed:  1.3min\n",
        "[Parallel(n_jobs=1)]: Done 300 out of 300 | elapsed:  2.1min finished\n"
       ]
      },
      {
       "output_type": "stream",
       "stream": "stdout",
       "text": [
        "Performing grid search...\n",
        "pipeline: ['vect', 'clf']\n",
        "parameters:\n",
        "{'vect__min_df': (1, 2, 3, 4, 5),\n",
        " 'vect__ngram_range': ((1, 1), (1, 2), (1, 3)),\n",
        " 'vect__use_idf': (True, False)}\n",
        "Fitting 10 folds for each of 30 candidates, totalling 300 fits\n",
        "done."
       ]
      },
      {
       "output_type": "stream",
       "stream": "stdout",
       "text": [
        "\n",
        "Best score: 0.748\n",
        "Best parameters set:\n",
        "\tvect__min_df: 1\n",
        "\tvect__ngram_range: (1, 3)\n",
        "\tvect__use_idf: True\n"
       ]
      }
     ],
     "prompt_number": 125
    },
    {
     "cell_type": "code",
     "collapsed": false,
     "input": [
      "print '\\n'.join(str(x) for x in grid_search.grid_scores_)"
     ],
     "language": "python",
     "metadata": {},
     "outputs": [
      {
       "output_type": "stream",
       "stream": "stdout",
       "text": [
        "mean: 0.72752, std: 0.01626, params: {'vect__ngram_range': (1, 1), 'vect__use_idf': True, 'vect__min_df': 1}\n",
        "mean: 0.71511, std: 0.01507, params: {'vect__ngram_range': (1, 1), 'vect__use_idf': False, 'vect__min_df': 1}\n",
        "mean: 0.74044, std: 0.01864, params: {'vect__ngram_range': (1, 2), 'vect__use_idf': True, 'vect__min_df': 1}\n",
        "mean: 0.72973, std: 0.01194, params: {'vect__ngram_range': (1, 2), 'vect__use_idf': False, 'vect__min_df': 1}\n",
        "mean: 0.74758, std: 0.02004, params: {'vect__ngram_range': (1, 3), 'vect__use_idf': True, 'vect__min_df': 1}\n",
        "mean: 0.73466, std: 0.01721, params: {'vect__ngram_range': (1, 3), 'vect__use_idf': False, 'vect__min_df': 1}\n",
        "mean: 0.71664, std: 0.01486, params: {'vect__ngram_range': (1, 1), 'vect__use_idf': True, 'vect__min_df': 2}\n",
        "mean: 0.70491, std: 0.01217, params: {'vect__ngram_range': (1, 1), 'vect__use_idf': False, 'vect__min_df': 2}\n",
        "mean: 0.72633, std: 0.01204, params: {'vect__ngram_range': (1, 2), 'vect__use_idf': True, 'vect__min_df': 2}\n",
        "mean: 0.71749, std: 0.01070, params: {'vect__ngram_range': (1, 2), 'vect__use_idf': False, 'vect__min_df': 2}\n",
        "mean: 0.72973, std: 0.01523, params: {'vect__ngram_range': (1, 3), 'vect__use_idf': True, 'vect__min_df': 2}\n",
        "mean: 0.71970, std: 0.01386, params: {'vect__ngram_range': (1, 3), 'vect__use_idf': False, 'vect__min_df': 2}\n",
        "mean: 0.71018, std: 0.01404, params: {'vect__ngram_range': (1, 1), 'vect__use_idf': True, 'vect__min_df': 3}\n",
        "mean: 0.69794, std: 0.01687, params: {'vect__ngram_range': (1, 1), 'vect__use_idf': False, 'vect__min_df': 3}\n",
        "mean: 0.71477, std: 0.01097, params: {'vect__ngram_range': (1, 2), 'vect__use_idf': True, 'vect__min_df': 3}\n",
        "mean: 0.71069, std: 0.01380, params: {'vect__ngram_range': (1, 2), 'vect__use_idf': False, 'vect__min_df': 3}\n",
        "mean: 0.71800, std: 0.01284, params: {'vect__ngram_range': (1, 3), 'vect__use_idf': True, 'vect__min_df': 3}\n",
        "mean: 0.71188, std: 0.01252, params: {'vect__ngram_range': (1, 3), 'vect__use_idf': False, 'vect__min_df': 3}\n",
        "mean: 0.70015, std: 0.01167, params: {'vect__ngram_range': (1, 1), 'vect__use_idf': True, 'vect__min_df': 4}\n",
        "mean: 0.69233, std: 0.01688, params: {'vect__ngram_range': (1, 1), 'vect__use_idf': False, 'vect__min_df': 4}\n",
        "mean: 0.70848, std: 0.00656, params: {'vect__ngram_range': (1, 2), 'vect__use_idf': True, 'vect__min_df': 4}\n",
        "mean: 0.70219, std: 0.00992, params: {'vect__ngram_range': (1, 2), 'vect__use_idf': False, 'vect__min_df': 4}\n",
        "mean: 0.70950, std: 0.00880, params: {'vect__ngram_range': (1, 3), 'vect__use_idf': True, 'vect__min_df': 4}\n",
        "mean: 0.70270, std: 0.01103, params: {'vect__ngram_range': (1, 3), 'vect__use_idf': False, 'vect__min_df': 4}\n",
        "mean: 0.69352, std: 0.01433, params: {'vect__ngram_range': (1, 1), 'vect__use_idf': True, 'vect__min_df': 5}\n",
        "mean: 0.69012, std: 0.01726, params: {'vect__ngram_range': (1, 1), 'vect__use_idf': False, 'vect__min_df': 5}\n",
        "mean: 0.70236, std: 0.00884, params: {'vect__ngram_range': (1, 2), 'vect__use_idf': True, 'vect__min_df': 5}\n",
        "mean: 0.69709, std: 0.01243, params: {'vect__ngram_range': (1, 2), 'vect__use_idf': False, 'vect__min_df': 5}\n",
        "mean: 0.70355, std: 0.00812, params: {'vect__ngram_range': (1, 3), 'vect__use_idf': True, 'vect__min_df': 5}\n",
        "mean: 0.69590, std: 0.01083, params: {'vect__ngram_range': (1, 3), 'vect__use_idf': False, 'vect__min_df': 5}\n"
       ]
      }
     ],
     "prompt_number": 130
    },
    {
     "cell_type": "code",
     "collapsed": false,
     "input": [
      "# What are top terms?\n",
      "def print_top_terms(C, vectorizer, tweets, y, n=30):\n",
      "    X = tokenize(tweets, vectorizer)\n",
      "    clf = LogisticRegression(C=C)\n",
      "    clf.fit(X, y)\n",
      "    coef = clf.coef_[0]\n",
      "    srted = np.argsort(coef)\n",
      "    feats = vectorizer.get_feature_names()\n",
      "    print '\\nMale terms:\\n' + '\\n'.join('%s=%g' % (feats[i], coef[i]) for i in srted[:n])\n",
      "    print '\\nFemale terms:\\n' + '\\n'.join('%s=%g' % (feats[i], coef[i]) for i in srted[::-1][:n])\n",
      "    \n",
      "print_top_terms(1, TfidfVectorizer(min_df=2, ngram_range=(1,3)), filtered_tweets, y)"
     ],
     "language": "python",
     "metadata": {},
     "outputs": [
      {
       "output_type": "stream",
       "stream": "stdout",
       "text": [
        "X dimensions= (5883, 22586)\n",
        "\n",
        "Male terms:\n",
        "baseball=-2.6929\n",
        "father=-2.66578\n",
        "husband=-2.3666\n",
        "guy=-2.3107\n",
        "sports=-2.25135\n",
        "man=-1.7289\n",
        "dad=-1.63617\n",
        "for=-1.61734\n",
        "musician=-1.42925\n",
        "director=-1.36602\n",
        "at=-1.34308\n",
        "gamer=-1.32657\n",
        "engineer=-1.30066\n",
        "future=-1.228\n",
        "com=-1.20427\n",
        "crazy person=-1.20274\n",
        "and=-1.191\n",
        "product=-1.18013\n",
        "tweet=-1.15608\n",
        "author=-1.14994\n",
        "cleveland=-1.12702\n",
        "of=-1.12404\n",
        "son=-1.10616\n",
        "twitter=-1.09262\n",
        "golf=-1.05911\n",
        "father of=-1.05488\n",
        "photographer=-1.04517\n",
        "pablo=-1.04491\n",
        "tybg=-1.0203\n",
        "agent=-0.991499\n",
        "\n",
        "Female terms:\n",
        "girl=2.92994\n",
        "happy=1.80636\n",
        "14=1.73938\n",
        "love=1.72514\n",
        "mom=1.71418\n",
        "be=1.67272\n",
        "wife=1.65859\n",
        "lover=1.60033\n",
        "mother=1.45497\n",
        "taken=1.41934\n",
        "smile=1.34609\n",
        "princess=1.34188\n",
        "18=1.33843\n",
        "softball=1.33554\n",
        "let=1.21768\n",
        "lady=1.18769\n",
        "animal=1.13674\n",
        "only=1.13421\n",
        "que=1.09722\n",
        "idk=1.07724\n",
        "she=1.07091\n",
        "stay=1.0679\n",
        "perfect=1.06462\n",
        "no=1.05415\n",
        "2016=1.046\n",
        "insta=1.03567\n",
        "chill out=1.01412\n",
        "your=1.01009\n",
        "13=0.993287\n",
        "eight=0.992806\n"
       ]
      }
     ],
     "prompt_number": 175
    },
    {
     "cell_type": "code",
     "collapsed": false,
     "input": [
      "from sklearn.feature_selection import SelectKBest\n",
      "from sklearn.feature_selection import chi2\n",
      "\n",
      "pipeline = Pipeline([\n",
      "    ('vect', TfidfVectorizer(min_df=2, ngram_range=(1,3))),\n",
      "    ('fsel', SelectKBest(chi2)),\n",
      "    ('clf', LogisticRegression(C=1000)),\n",
      "])\n",
      "\n",
      "parameters = {\n",
      "    'fsel__k': (1000, 10000, 20000, 'all'),\n",
      "}\n",
      "\n",
      "data = [t['user']['description'] for t in filtered_tweets]\n",
      "grid_search = GridSearchCV(pipeline, parameters, verbose=1, cv=KFold(len(y), 10))\n",
      "grid_search.fit(data, y)\n",
      "print \"done.\"\n",
      "\n",
      "print(\"Best score: %0.3f\" % grid_search.best_score_)\n",
      "print(\"Best parameters set:\")\n",
      "best_parameters = grid_search.best_estimator_.get_params()\n",
      "for param_name in sorted(parameters.keys()):\n",
      "    print(\"\\t%s: %r\" % (param_name, best_parameters[param_name]))"
     ],
     "language": "python",
     "metadata": {},
     "outputs": [
      {
       "output_type": "stream",
       "stream": "stderr",
       "text": [
        "[Parallel(n_jobs=1)]: Done   1 jobs       | elapsed:    0.7s\n",
        "[Parallel(n_jobs=1)]: Done  40 out of  40 | elapsed:   29.9s finished\n"
       ]
      },
      {
       "output_type": "stream",
       "stream": "stdout",
       "text": [
        "Fitting 10 folds for each of 4 candidates, totalling 40 fits\n",
        "done."
       ]
      },
      {
       "output_type": "stream",
       "stream": "stdout",
       "text": [
        "\n",
        "Best score: 0.735\n",
        "Best parameters set:\n",
        "\tfsel__k: 20000\n"
       ]
      }
     ],
     "prompt_number": 172
    },
    {
     "cell_type": "code",
     "collapsed": false,
     "input": [
      "print '\\n'.join(str(x) for x in grid_search.grid_scores_)"
     ],
     "language": "python",
     "metadata": {},
     "outputs": [
      {
       "output_type": "stream",
       "stream": "stdout",
       "text": [
        "mean: 0.67823, std: 0.02320, params: {'fsel__k': 1000}\n",
        "mean: 0.72786, std: 0.02319, params: {'fsel__k': 10000}\n",
        "mean: 0.73534, std: 0.02825, params: {'fsel__k': 20000}\n",
        "mean: 0.73330, std: 0.02647, params: {'fsel__k': 'all'}\n"
       ]
      }
     ],
     "prompt_number": 173
    },
    {
     "cell_type": "markdown",
     "metadata": {},
     "source": [
      "$$\n",
      "\\chi^2 = \\sum_i \\frac{(O_i - E_i)^2}{E_i}\n",
      "$$\n",
      "\n",
      "$O_i$: observed count  \n",
      "$E_i$: expected count  \n",
      "$n$: number of instances"
     ]
    },
    {
     "cell_type": "markdown",
     "metadata": {},
     "source": [
      "## Regularization\n",
      "\n",
      "Controls how many parameters the model has, or how large each parameter can get.\n",
      "\n",
      "E.g. L2 Regularization for linear regression:\n",
      "\n",
      "$$\n",
      "\\hbox{argmin}_\\vec{\\beta} \\leftarrow (y_i - \\vec{\\beta} \\cdot \\vec{x})^2 + \\frac{1}{C}||\\vec{\\beta}||^2_2\n",
      "$$\n",
      "\n",
      "As $C \\rightarrow 0$, the classifier prefers smaller and smaller coefficients.\n",
      "\n",
      "This is the $C$ parameter of the `LogisticRegression` class in sklearn.\n",
      "\n"
     ]
    },
    {
     "cell_type": "code",
     "collapsed": false,
     "input": [
      "# How does C affect top terms and their coefficients??\n",
      "for C in [.1, 1, 100]:\n",
      "    print '\\nC=', C\n",
      "    print_top_terms(C, TfidfVectorizer(min_df=2, ngram_range=(1,3)), filtered_tweets, y, n=3)"
     ],
     "language": "python",
     "metadata": {},
     "outputs": [
      {
       "output_type": "stream",
       "stream": "stdout",
       "text": [
        "\n",
        "C= 0.1\n",
        "X dimensions="
       ]
      },
      {
       "output_type": "stream",
       "stream": "stdout",
       "text": [
        " (5883, 22586)\n",
        "\n",
        "Male terms:\n",
        "father=-0.578635\n",
        "for=-0.554477\n",
        "husband=-0.547383"
       ]
      },
      {
       "output_type": "stream",
       "stream": "stdout",
       "text": [
        "\n",
        "\n",
        "Female terms:\n",
        "girl=0.598368\n",
        "love=0.546589\n",
        "14=0.544554\n",
        "\n",
        "C= 1\n",
        "X dimensions="
       ]
      },
      {
       "output_type": "stream",
       "stream": "stdout",
       "text": [
        " (5883, 22586)\n",
        "\n",
        "Male terms:\n",
        "baseball=-2.6929\n",
        "father=-2.66578\n",
        "husband=-2.3666"
       ]
      },
      {
       "output_type": "stream",
       "stream": "stdout",
       "text": [
        "\n",
        "\n",
        "Female terms:\n",
        "girl=2.92994\n",
        "happy=1.80636\n",
        "14=1.73938\n",
        "\n",
        "C= 100\n",
        "X dimensions="
       ]
      },
      {
       "output_type": "stream",
       "stream": "stdout",
       "text": [
        " (5883, 22586)\n",
        "\n",
        "Male terms:\n",
        "guy=-12.3372\n",
        "baseball=-11.7556\n",
        "father=-10.9725"
       ]
      },
      {
       "output_type": "stream",
       "stream": "stdout",
       "text": [
        "\n",
        "\n",
        "Female terms:\n",
        "girl=13.992\n",
        "princess=10.0073\n",
        "alumna=8.78947\n"
       ]
      }
     ],
     "prompt_number": 179
    },
    {
     "cell_type": "code",
     "collapsed": false,
     "input": [
      "# How does C affect accuracy?\n",
      "def compare_C(tweets, y):\n",
      "    accuracies = []\n",
      "    cs = [.01, .1, .5, 1, 2, 5, 10, 100]\n",
      "    X = tokenize(tweets, TfidfVectorizer(min_df=2, ngram_range=(1,3)))\n",
      "    cv = KFold(len(y), 10)\n",
      "    for c in cs:\n",
      "        clf = LogisticRegression(C=c)\n",
      "        accuracies.append(np.mean(cross_val_score(clf, X, y, cv=cv)))\n",
      "    plt.figure()\n",
      "    plt.plot(cs, accuracies, 'bo-')\n",
      "    plt.xlabel('C')\n",
      "    plt.ylabel('accuracy')\n",
      "    plt.show()\n",
      "    print '\\n'.join('%g %g' % (c, a) for c, a in zip(cs, accuracies))\n",
      "        \n",
      "compare_C(filtered_tweets, y)"
     ],
     "language": "python",
     "metadata": {},
     "outputs": [
      {
       "output_type": "stream",
       "stream": "stdout",
       "text": [
        "X dimensions= (5883, 22586)\n"
       ]
      },
      {
       "metadata": {},
       "output_type": "display_data",
       "png": "[encoded data removed]",
       "text": [
        "<matplotlib.figure.Figure at 0x10f9b7dd0>"
       ]
      },
      {
       "output_type": "stream",
       "stream": "stdout",
       "text": [
        "0.01 0.531879\n",
        "0.1 0.685368\n",
        "0.5 0.741291\n",
        "1 0.750298\n",
        "2 0.753526\n",
        "5 0.754548\n",
        "10 0.753359\n",
        "100 0.748943\n"
       ]
      }
     ],
     "prompt_number": 184
    }
   ],
   "metadata": {}
  }
 ]
}