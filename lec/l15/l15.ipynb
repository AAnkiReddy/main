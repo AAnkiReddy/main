{
 "cells": [
  {
   "cell_type": "markdown",
   "metadata": {},
   "source": [
    "# CS579: Lecture 15  \n",
    "\n",
    "**More Classification**\n",
    "\n",
    "*[Dr. Aron Culotta](http://cs.iit.edu/~culotta)*  \n",
    "*[Illinois Institute of Technology](http://iit.edu)*"
   ]
  },
  {
   "cell_type": "markdown",
   "metadata": {},
   "source": [
    "## Recall Error function for logistic regression.\n",
    "\n",
    "Given labeled dataset $D=\\{(x_1, y_1), \\ldots (x_n, y_n)\\}$\n",
    "\n",
    "$$\n",
    "E(D, \\theta) = - \\prod_{i \\in D} p(y_i|x_i)\n",
    "$$\n",
    "\n",
    "$$\n",
    "p(y_i|x_i) = \\frac{1}{1 + e^{-y_i x_i \\cdot \\theta}}\n",
    "$$"
   ]
  },
  {
   "cell_type": "code",
   "execution_count": 3,
   "metadata": {
    "collapsed": true
   },
   "outputs": [],
   "source": [
    "import numpy as np\n",
    "import math"
   ]
  },
  {
   "cell_type": "code",
   "execution_count": 4,
   "metadata": {
    "collapsed": false
   },
   "outputs": [
    {
     "data": {
      "text/plain": [
       "0.80000000000000004"
      ]
     },
     "execution_count": 4,
     "metadata": {},
     "output_type": "execute_result"
    }
   ],
   "source": [
    "x = np.array([1,0,0,1])\n",
    "theta = np.array([.9, -.9, .1, -.1])\n",
    "x.dot(theta)\n",
    "# E.g., \n",
    "# feature 0 (.9) is strongly predictive of y=1\n",
    "# feature 1 (-.9) is strongly predictive of y=-1\n",
    "# feature 2 (.1) is weakly predictive of y=1\n",
    "# feature 3 (-.1) is weakly predictive of y=1"
   ]
  },
  {
   "cell_type": "code",
   "execution_count": 5,
   "metadata": {
    "collapsed": false
   },
   "outputs": [
    {
     "name": "stdout",
     "output_type": "stream",
     "text": [
      "('for x=', array([1, 0, 0, 1]))\n",
      "p(y=1|x)=0.69\n",
      "p(y=-1|x)=0.31\n"
     ]
    }
   ],
   "source": [
    "def logistic(x, theta, y):\n",
    "    return 1. / (1 + math.exp(-y * x.dot(theta)))\n",
    "\n",
    "print('for x=', x)\n",
    "print('p(y=1|x)=%.3g' % logistic(x, theta, 1.))\n",
    "print('p(y=-1|x)=%.3g' % logistic(x, theta, -1.))"
   ]
  },
  {
   "cell_type": "code",
   "execution_count": 6,
   "metadata": {
    "collapsed": false
   },
   "outputs": [
    {
     "name": "stdout",
     "output_type": "stream",
     "text": [
      "('for x=', array([1, 0, 1, 0]))\n",
      "p(y=1|x)=0.731\n",
      "p(y=0|x)=0.269\n"
     ]
    }
   ],
   "source": [
    "x = np.array([1, 0, 1, 0])\n",
    "print('for x=', x)\n",
    "print('p(y=1|x)=%.3g' % logistic(x, theta, 1.))\n",
    "print('p(y=0|x)=%.3g' % logistic(x, theta, -1.))"
   ]
  },
  {
   "cell_type": "code",
   "execution_count": 7,
   "metadata": {
    "collapsed": false
   },
   "outputs": [
    {
     "name": "stdout",
     "output_type": "stream",
     "text": [
      "('for x=', array([0, 1, 1, 0]))\n",
      "p(y=1|x)=0.31\n",
      "p(y=0|x)=0.69\n"
     ]
    }
   ],
   "source": [
    "x = np.array([0, 1, 1, 0])\n",
    "print('for x=', x)\n",
    "print('p(y=1|x)=%.3g' % logistic(x, theta, 1.))\n",
    "print('p(y=0|x)=%.3g' % logistic(x, theta, -1.))"
   ]
  },
  {
   "cell_type": "code",
   "execution_count": 8,
   "metadata": {
    "collapsed": true
   },
   "outputs": [],
   "source": [
    "def error(X, y, theta):\n",
    "    error = 1.\n",
    "    for xi, yi in zip(X, y):\n",
    "        prob = logistic(xi, theta, yi)\n",
    "        print('probability of %d for %s=%.3f' % (yi, str(xi), prob))\n",
    "        error *= prob\n",
    "    return -error"
   ]
  },
  {
   "cell_type": "code",
   "execution_count": 9,
   "metadata": {
    "collapsed": false
   },
   "outputs": [],
   "source": [
    "X = np.array([\n",
    "  [1, 0, 0, 0],\n",
    "  [1, 0, 1, 0],\n",
    "  [0, 1, 0, 0],\n",
    "  [0, 1, 0, 1],\n",
    "])\n",
    "\n",
    "y = np.array([\n",
    "        1,\n",
    "        1,\n",
    "        -1,\n",
    "        -1\n",
    "    ])"
   ]
  },
  {
   "cell_type": "code",
   "execution_count": 10,
   "metadata": {
    "collapsed": false
   },
   "outputs": [
    {
     "name": "stdout",
     "output_type": "stream",
     "text": [
      "('error for theta=', array([ 0.9, -0.9,  0.1, -0.1]))\n",
      "probability of 1 for [1 0 0 0]=0.711\n",
      "probability of 1 for [1 0 1 0]=0.731\n",
      "probability of -1 for [0 1 0 0]=0.711\n",
      "probability of -1 for [0 1 0 1]=0.731\n"
     ]
    },
    {
     "data": {
      "text/plain": [
       "-0.2701356268331891"
      ]
     },
     "execution_count": 10,
     "metadata": {},
     "output_type": "execute_result"
    }
   ],
   "source": [
    "print('error for theta=', theta)\n",
    "error(X, y, theta)"
   ]
  },
  {
   "cell_type": "code",
   "execution_count": 11,
   "metadata": {
    "collapsed": false
   },
   "outputs": [
    {
     "name": "stdout",
     "output_type": "stream",
     "text": [
      "probability of 1 for [1 0 0 0]=1.000\n",
      "probability of 1 for [1 0 1 0]=1.000\n",
      "probability of -1 for [0 1 0 0]=1.000\n",
      "probability of -1 for [0 1 0 1]=1.000\n"
     ]
    },
    {
     "data": {
      "text/plain": [
       "-0.9999092022016287"
      ]
     },
     "execution_count": 11,
     "metadata": {},
     "output_type": "execute_result"
    }
   ],
   "source": [
    "# Make theta even better:\n",
    "theta = np.array([10, -10, 10, -10])\n",
    "error(X, y, theta)"
   ]
  },
  {
   "cell_type": "code",
   "execution_count": 12,
   "metadata": {
    "collapsed": false
   },
   "outputs": [
    {
     "name": "stdout",
     "output_type": "stream",
     "text": [
      "probability of 1 for [1 0 0 0]=0.000\n",
      "probability of 1 for [1 0 1 0]=0.000\n",
      "probability of -1 for [0 1 0 0]=0.000\n",
      "probability of -1 for [0 1 0 1]=0.000\n"
     ]
    },
    {
     "data": {
      "text/plain": [
       "-8.755715690797854e-27"
      ]
     },
     "execution_count": 12,
     "metadata": {},
     "output_type": "execute_result"
    }
   ],
   "source": [
    "# Make theta much, much worse:\n",
    "theta = np.array([-10, 10, -10, 10])\n",
    "error(X, y, theta)"
   ]
  },
  {
   "cell_type": "code",
   "execution_count": 13,
   "metadata": {
    "collapsed": false
   },
   "outputs": [
    {
     "name": "stdout",
     "output_type": "stream",
     "text": [
      "probability of 1 for [1 0 0 0]=1.000\n",
      "probability of 1 for [1 0 1 0]=1.000\n",
      "probability of -1 for [0 1 0 0]=1.000\n",
      "probability of -1 for [0 1 0 1]=1.000\n"
     ]
    },
    {
     "data": {
      "text/plain": [
       "-1.0"
      ]
     },
     "execution_count": 13,
     "metadata": {},
     "output_type": "execute_result"
    }
   ],
   "source": [
    "# Make theta even better:\n",
    "theta = np.array([100, -100, 100, -100])\n",
    "error(X, y, theta)"
   ]
  },
  {
   "cell_type": "markdown",
   "metadata": {},
   "source": [
    "## Regularization\n",
    "\n",
    "Controls how many parameters the model has, or how large each parameter can get.\n",
    "\n",
    "E.g. L2 Regularization for linear regression:\n",
    "\n",
    "$$\n",
    "E(D, \\theta) =  - \\prod_{i \\in D} p(y_i|x_i) + \\frac{1}{C}||\\vec{\\theta}||^2_2\n",
    "$$\n",
    "\n",
    "$$\n",
    " =  - \\prod_{i \\in D} p(y_i|x_i) + \\frac{1}{C}\\sum_k \\theta_k^2\n",
    "$$\n",
    "\n",
    "As $C \\rightarrow 0$, the classifier prefers smaller and smaller coefficients.\n",
    "\n",
    "This is the $C$ parameter of the `LogisticRegression` class in sklearn.\n",
    "\n"
   ]
  },
  {
   "cell_type": "code",
   "execution_count": 14,
   "metadata": {
    "collapsed": false
   },
   "outputs": [],
   "source": [
    "from collections import Counter\n",
    "import glob\n",
    "import hashlib\n",
    "import io\n",
    "import math\n",
    "import matplotlib.pyplot as plt\n",
    "import numpy as np\n",
    "import os\n",
    "import re\n",
    "from sklearn.cross_validation import KFold\n",
    "from sklearn.feature_extraction.text import CountVectorizer\n",
    "from sklearn.linear_model import LogisticRegression\n",
    "from sklearn.metrics import accuracy_score\n",
    "import tarfile\n",
    "from urllib import urlretrieve\n",
    "%matplotlib inline"
   ]
  },
  {
   "cell_type": "code",
   "execution_count": 15,
   "metadata": {
    "collapsed": false
   },
   "outputs": [],
   "source": [
    "def get_data():\n",
    "    \"\"\" Download and unzip data.\"\"\"\n",
    "    urlretrieve('https://www.dropbox.com/s/xk4glpk61q3qrg2/imdb.tgz?dl=1', 'imdb.tgz')\n",
    "    tar = tarfile.open(\"imdb.tgz\")\n",
    "    tar.extractall()\n",
    "    tar.close()\n",
    "    \n",
    "get_data()"
   ]
  },
  {
   "cell_type": "code",
   "execution_count": 16,
   "metadata": {
    "collapsed": false
   },
   "outputs": [
    {
     "name": "stdout",
     "output_type": "stream",
     "text": [
      "subdirectories are:['test', 'train']\n"
     ]
    }
   ],
   "source": [
    "# Here is the path to the data directory.\n",
    "path = 'data'\n",
    "print('subdirectories are:' + str(os.listdir(path)))"
   ]
  },
  {
   "cell_type": "code",
   "execution_count": 17,
   "metadata": {
    "collapsed": true
   },
   "outputs": [],
   "source": [
    "def get_files(path):\n",
    "    \"\"\" Return a list of file names in this directory that end in .txt \n",
    "    The list should be sorted alphabetically by file name.\n",
    "    Params:\n",
    "        path....a directory containing .txt review files.\n",
    "    Returns:\n",
    "        a list of .txt file names, sorted alphabetically.\n",
    "    \"\"\"\n",
    "    ###TODO\n",
    "    return sorted([f for f in glob.glob(path + os.sep + '*.txt')])\n",
    "    ###"
   ]
  },
  {
   "cell_type": "code",
   "execution_count": 18,
   "metadata": {
    "collapsed": false,
    "scrolled": true
   },
   "outputs": [
    {
     "name": "stdout",
     "output_type": "stream",
     "text": [
      "found 200 positive and 200 negative training files\n",
      "first positive file: data/train/pos/10057_9.txt\n",
      "first negative file: data/train/neg/10108_1.txt\n"
     ]
    }
   ],
   "source": [
    "pos_train_files = get_files(path + os.sep + 'train' + os.sep + 'pos')\n",
    "neg_train_files = get_files(path + os.sep + 'train' + os.sep + 'neg')\n",
    "all_train_files = pos_train_files + neg_train_files\n",
    "\n",
    "print('found %d positive and %d negative training files' %\n",
    "      (len(pos_train_files), len(neg_train_files)))\n",
    "print('first positive file: %s' % pos_train_files[0])\n",
    "print('first negative file: %s' % neg_train_files[0])"
   ]
  },
  {
   "cell_type": "code",
   "execution_count": 19,
   "metadata": {
    "collapsed": false
   },
   "outputs": [
    {
     "name": "stdout",
     "output_type": "stream",
     "text": [
      "first 3 and last 3 labels are: [1 1 1 0 0 0]\n"
     ]
    }
   ],
   "source": [
    "def get_true_labels(file_names):\n",
    "    \"\"\"Return a *numpy array* of ints for the true sentiment labels of each file.\n",
    "    1 means positive, 0 means negative. Use the name of the file to determine\n",
    "    the true label.\n",
    "    Params:\n",
    "        file_names....a list of .txt file paths, e.g., data/train/pos/10057_9.txt\n",
    "    Returns:\n",
    "        a numpy array of 1 or 0 values corresponding to each element\n",
    "        of file_names, where 1 indicates a positive review, and 0\n",
    "        indicates a negative review.\n",
    "    \"\"\"\n",
    "    ###TODO\n",
    "    return np.array([1 if 'pos' in f else 0 for f in file_names])\n",
    "    ###\n",
    "\n",
    "labels = get_true_labels(all_train_files)\n",
    "print('first 3 and last 3 labels are: %s' % str(labels[[1,2,3,-3,-2,-1]]))"
   ]
  },
  {
   "cell_type": "code",
   "execution_count": 20,
   "metadata": {
    "collapsed": false
   },
   "outputs": [
    {
     "data": {
      "text/plain": [
       "u\"This is a great film!! The first time I saw it I thought it was absorbing from start to finish and I still do now. I may not have seen the play, but even if I had it wouldn't stop me thinking that the film is just as good.\""
      ]
     },
     "execution_count": 20,
     "metadata": {},
     "output_type": "execute_result"
    }
   ],
   "source": [
    "# Here's what a positive review looks like.\n",
    "def file2string(filename):\n",
    "    return io.open(filename, encoding='utf8').readlines()[0]\n",
    "    \n",
    "file2string(pos_train_files[10])"
   ]
  },
  {
   "cell_type": "code",
   "execution_count": 21,
   "metadata": {
    "collapsed": false
   },
   "outputs": [
    {
     "data": {
      "text/plain": [
       "['hi',\n",
       " 'how',\n",
       " 's',\n",
       " 'it',\n",
       " 'going',\n",
       " 'an_underscore',\n",
       " 'is',\n",
       " 'not',\n",
       " 'really',\n",
       " 'punctuation']"
      ]
     },
     "execution_count": 21,
     "metadata": {},
     "output_type": "execute_result"
    }
   ],
   "source": [
    "def tokenize(text):\n",
    "    \"\"\"Given a string, return a list of tokens such that: (1) all\n",
    "    tokens are lowercase, (2) all punctuation is removed. Note that\n",
    "    underscore (_) is not considered punctuation.\n",
    "    Params:\n",
    "        text....a string\n",
    "    Returns:\n",
    "        a list of tokens\n",
    "    \"\"\"\n",
    "    ###TODO\n",
    "    return re.findall('\\w+', text.lower())\n",
    "    ###\n",
    "\n",
    "tokenize(\"Hi! How's it going??? an_underscore is not *really* punctuation.\")"
   ]
  },
  {
   "cell_type": "code",
   "execution_count": 22,
   "metadata": {
    "collapsed": false,
    "scrolled": true
   },
   "outputs": [
    {
     "name": "stdout",
     "output_type": "stream",
     "text": [
      "matrix represents 400 documents with 10710 features\n",
      "first doc has terms:\n",
      "[128, 170, 202, 253, 260, 312, 355, 439, 504, 514, 560, 673, 683, 702, 750, 860, 869, 961, 985, 1013, 1222, 1254, 1312, 1341, 1403, 1444, 1451, 1469, 1504, 1658, 1665, 1743, 2465, 2537, 2996, 3109, 3206, 3229, 3356, 3368, 3515, 3634, 3706, 3716, 3759, 3810, 3926, 4015, 4059, 4061, 4087, 4139, 4205, 4207, 4222, 4309, 4366, 4384, 4412, 4435, 4472, 4510, 4524, 4631, 4690, 4757, 4798, 5062, 5074, 5225, 5274, 5287, 5289, 5312, 5360, 5418, 5609, 5610, 5646, 5693, 5761, 5888, 5932, 5948, 6116, 6243, 6258, 6294, 6424, 6440, 6579, 6620, 6676, 6696, 6860, 6942, 7094, 7626, 8052, 8248, 8336, 8341, 8474, 8767, 8988, 9204, 9412, 9436, 9440, 9505, 9508, 9523, 9550, 9558, 9634, 9684, 9690, 9835, 9855, 9857, 10047, 10337, 10353, 10431, 10441, 10446, 10448, 10519]\n"
     ]
    }
   ],
   "source": [
    "def do_vectorize(filenames, tokenizer_fn=tokenize, min_df=1,\n",
    "                 max_df=1., binary=True, ngram_range=(1,1)):\n",
    "    \"\"\"\n",
    "    Convert a list of filenames into a sparse csr_matrix, where\n",
    "    each row is a file and each column represents a unique word.\n",
    "    Use sklearn's CountVectorizer: http://goo.gl/eJ2PJ5\n",
    "    Params:\n",
    "        filenames.......list of review file names\n",
    "        tokenizer_fn....the function used to tokenize each document\n",
    "        min_df..........remove terms from the vocabulary that don't appear\n",
    "                        in at least this many documents\n",
    "        max_df..........remove terms from the vocabulary that appear in more\n",
    "                        than this fraction of documents\n",
    "        binary..........If true, each documents is represented by a binary\n",
    "                        vector, where 1 means a term occurs at least once in \n",
    "                        the document. If false, the term frequency is used instead.\n",
    "        ngram_range.....A tuple (n,m) means to use phrases of length n to m inclusive.\n",
    "                        E.g., (1,2) means consider unigrams and bigrams.\n",
    "    Return:\n",
    "        A tuple (X, vec), where X is the csr_matrix of feature vectors,\n",
    "        and vec is the CountVectorizer object.\n",
    "    \"\"\"\n",
    "    ###TODO\n",
    "    vec = CountVectorizer(input='filename', tokenizer=tokenizer_fn,\n",
    "                          binary=binary, min_df=min_df, max_df=max_df,\n",
    "                          ngram_range=ngram_range)\n",
    "    X = vec.fit_transform(filenames)\n",
    "    return (X, vec)\n",
    "    ###\n",
    "    \n",
    "matrix, vec = do_vectorize(all_train_files)\n",
    "print ('matrix represents %d documents with %d features' % (matrix.shape[0], matrix.shape[1]))\n",
    "print('first doc has terms:\\n%s' % (str(sorted(matrix[0].nonzero()[1]))))"
   ]
  },
  {
   "cell_type": "code",
   "execution_count": 23,
   "metadata": {
    "collapsed": false
   },
   "outputs": [
    {
     "name": "stdout",
     "output_type": "stream",
     "text": [
      "first shuffled document data/train/pos/5140_10.txt has label 1 and terms: [98, 170, 355, 384, 514, 720, 750, 780, 1225, 2234, 3356, 3682, 3916, 4015, 4397, 4690, 4798, 5074, 5080, 5764, 5948, 6579, 6782, 6950, 7899, 8186, 8587, 9045, 9508, 9550, 9609, 9827, 10003, 10421, 10640]\n"
     ]
    }
   ],
   "source": [
    "# Do not modify. This is to randomize the order of the documents, but\n",
    "# in a way that is consistent across platforms.\n",
    "# See: http://stackoverflow.com/a/18992474/1756896\n",
    "# You should run this block once to get the shuffled data.\n",
    "def repeatable_random(seed):\n",
    "    hash = str(seed)\n",
    "    while True:\n",
    "        hash = hashlib.md5(hash).digest()\n",
    "        for c in hash:\n",
    "            yield ord(c)\n",
    "\n",
    "def repeatable_shuffle(X, y, filenames):\n",
    "    r = repeatable_random(42) \n",
    "    indices = sorted(range(X.shape[0]), key=lambda x: next(r))\n",
    "    return X[indices], y[indices], np.array(filenames)[indices]\n",
    "\n",
    "X, y, filenames = repeatable_shuffle(matrix, labels, all_train_files)\n",
    "\n",
    "print('first shuffled document %s has label %d and terms: %s' % \n",
    "      (filenames[0], y[0], sorted(X[0].nonzero()[1])))"
   ]
  },
  {
   "cell_type": "code",
   "execution_count": 24,
   "metadata": {
    "collapsed": true
   },
   "outputs": [],
   "source": [
    "# Do not modify. This creates a LogsticRegression object, which\n",
    "# you will use in the do_cross_validation method below.\n",
    "def get_clf(c=1, penalty='l2'):\n",
    "    return LogisticRegression(random_state=42, C=c, penalty=penalty)"
   ]
  },
  {
   "cell_type": "code",
   "execution_count": 25,
   "metadata": {
    "collapsed": false
   },
   "outputs": [
    {
     "name": "stdout",
     "output_type": "stream",
     "text": [
      "fold 0 accuracy=0.7125\n",
      "fold 1 accuracy=0.775\n",
      "fold 2 accuracy=0.775\n",
      "fold 3 accuracy=0.725\n",
      "fold 4 accuracy=0.7125\n",
      "average cross validation test accuracy=0.7400 train accuracy=1.0000\n"
     ]
    }
   ],
   "source": [
    "def do_cross_validation(X, y, n_folds=5, c=1, penalty='l2', verbose=False):\n",
    "    \"\"\"\n",
    "    Perform n-fold cross validation, calling get_clf() to train n\n",
    "    different classifiers. Use sklearn's KFold class: http://goo.gl/wmyFhi\n",
    "    Be sure not to shuffle the data, otherwise your output will differ.\n",
    "    Params:\n",
    "        X.........a csr_matrix of feature vectors\n",
    "        y.........the true labels of each document\n",
    "        n_folds...the number of folds of cross-validation to do\n",
    "        verbose...If true, report the testing accuracy for each fold.\n",
    "    Return:\n",
    "        the average testing accuracy across all folds.\n",
    "    \"\"\"\n",
    "    ###TODO\n",
    "    cv = KFold(len(y), n_folds=n_folds, shuffle=False)\n",
    "    accuracies = []\n",
    "    train_accuracies = []\n",
    "    for foldi, (train, test) in enumerate(cv):\n",
    "        clf = get_clf(c=c, penalty=penalty)\n",
    "        clf.fit(X[train], y[train])\n",
    "        train_accuracies.append(accuracy_score(clf.predict(X[train]), y[train]))\n",
    "        pred = clf.predict(X[test])\n",
    "        acc = accuracy_score(pred, y[test])\n",
    "        accuracies.append(acc)\n",
    "        if verbose:\n",
    "            print('fold %d accuracy=%.4g' % (foldi, acc))\n",
    "    return np.mean(accuracies), np.mean(train_accuracies)\n",
    "    ###\n",
    "    \n",
    "print('average cross validation test accuracy=%.4f train accuracy=%.4f' %\n",
    "      do_cross_validation(X, y, verbose=True))"
   ]
  },
  {
   "cell_type": "code",
   "execution_count": 26,
   "metadata": {
    "collapsed": false
   },
   "outputs": [],
   "source": [
    "def do_expt(filenames, y, tokenizer_fn=tokenize,\n",
    "            min_df=1, max_df=1., binary=True,\n",
    "            ngram_range=(1,1), n_folds=5, c=1, penalty='l2'):\n",
    "    \"\"\"\n",
    "    Run one experiment, which consists of vectorizing each file,\n",
    "    performing cross-validation, and returning the average accuracy.\n",
    "    You should call do_vectorize and do_cross_validation here.\n",
    "    Params:\n",
    "        filenames.......list of review file names\n",
    "        y...............the true sentiment labels for each file\n",
    "        tokenizer_fn....the function used to tokenize each document\n",
    "        min_df..........remove terms from the vocabulary that don't appear\n",
    "                        in at least this many documents\n",
    "        max_df..........remove terms from the vocabulary that appear in more\n",
    "                        than this fraction of documents\n",
    "        binary..........If true, each documents is represented by a binary\n",
    "                        vector, where 1 means a term occurs at least once in \n",
    "                        the document. If false, the term frequency is used instead.\n",
    "        ngram_range.....A tuple (n,m) means to use phrases of length n to m inclusive.\n",
    "                        E.g., (1,2) means consider unigrams and bigrams.\n",
    "        n_folds.........The number of cross-validation folds to use.\n",
    "    Returns:\n",
    "        the average cross validation testing accuracy.\n",
    "    \"\"\"\n",
    "    ###TODO\n",
    "    X, vec = do_vectorize(filenames, tokenizer_fn=tokenizer_fn,\n",
    "                          binary=binary, min_df=min_df,\n",
    "                          max_df=max_df, ngram_range=ngram_range)\n",
    "    return do_cross_validation(X, y, verbose=False, n_folds=n_folds, c=c, penalty=penalty)\n",
    "    ###"
   ]
  },
  {
   "cell_type": "code",
   "execution_count": 27,
   "metadata": {
    "collapsed": false
   },
   "outputs": [
    {
     "name": "stdout",
     "output_type": "stream",
     "text": [
      "accuracy using default settings: test acc=0.74 train acc=1\n"
     ]
    }
   ],
   "source": [
    "print('accuracy using default settings: test acc=%.4g train acc=%.4g' % do_expt(filenames, y))"
   ]
  },
  {
   "cell_type": "markdown",
   "metadata": {},
   "source": [
    "## Compare accuracy of various settings\n",
    "\n",
    "Next, we'll try out a few different settings to see how they affect cross-validation accuracy."
   ]
  },
  {
   "cell_type": "code",
   "execution_count": 53,
   "metadata": {
    "collapsed": false
   },
   "outputs": [
    {
     "data": {
      "image/png": "[encoded data removed]",
      "text/plain": [
       "<matplotlib.figure.Figure at 0x1121de3d0>"
      ]
     },
     "metadata": {},
     "output_type": "display_data"
    },
    {
     "data": {
      "text/plain": [
       "([0.73999999999999999,\n",
       "  0.745,\n",
       "  0.74749999999999994,\n",
       "  0.74750000000000016,\n",
       "  0.74500000000000011],\n",
       " [1.0, 1.0, 1.0, 1.0, 1.0])"
      ]
     },
     "execution_count": 53,
     "metadata": {},
     "output_type": "execute_result"
    }
   ],
   "source": [
    "# def compare_c(filenames, y, penalty='l2', cs=[.001, .01, .1, 1, 5, 10, 1000, 10000]):\n",
    "def compare_c(filenames, y, penalty='l2', cs=[1, 5, 10, 1000, 10000]):\n",
    "    accs = []\n",
    "    train_accs = []\n",
    "    # cs = [.00001, .1, 1, 5, 10, 1000]\n",
    "    for c in cs:\n",
    "        test_acc, train_acc = do_expt(filenames, y, c=c, penalty=penalty)\n",
    "        accs.append(test_acc)\n",
    "        train_accs.append(train_acc)\n",
    "    plt.figure()\n",
    "    plt.plot(cs, accs, 'bo-', label='test acc')\n",
    "    # plt.plot(cs, train_accs, 'go-', label='train acc')\n",
    "    plt.xlabel('C')\n",
    "    plt.ylabel('accuracy')\n",
    "    plt.xscale('log')\n",
    "    plt.show()\n",
    "    return accs, train_accs\n",
    "    \n",
    "compare_c(filenames, y)"
   ]
  },
  {
   "cell_type": "code",
   "execution_count": 29,
   "metadata": {
    "collapsed": false
   },
   "outputs": [
    {
     "data": {
      "image/png": "[encoded data removed]",
      "text/plain": [
       "<matplotlib.figure.Figure at 0x111e8fa50>"
      ]
     },
     "metadata": {},
     "output_type": "display_data"
    },
    {
     "data": {
      "text/plain": [
       "[0.11466026802541229,\n",
       " 0.83929621603127313,\n",
       " 1.1744811278974618,\n",
       " 1.324203134850072,\n",
       " 2.3546797109082895,\n",
       " 2.7410768190860462]"
      ]
     },
     "execution_count": 29,
     "metadata": {},
     "output_type": "execute_result"
    }
   ],
   "source": [
    "def compare_c_coef(X, y, penalty='l2'):\n",
    "    max_coef = []\n",
    "    cs = [.01, 1, 5, 10, 1000, 10000]\n",
    "    for c in cs:\n",
    "        clf = get_clf(c=c, penalty=penalty)\n",
    "        clf.fit(X, y)\n",
    "        max_coef.append(max(np.abs(clf.coef_[0])))\n",
    "    plt.figure()\n",
    "    plt.plot(cs, max_coef, 'bo-')\n",
    "    plt.xlabel('C')\n",
    "    plt.ylabel('max coef')\n",
    "    plt.xscale('log')\n",
    "    plt.show()\n",
    "    return max_coef\n",
    "    \n",
    "compare_c_coef(X, y)"
   ]
  },
  {
   "cell_type": "markdown",
   "metadata": {},
   "source": [
    "## L1 Regularization\n",
    "\n",
    "Penalize by absolute value of coefficients (rather than square):\n",
    "\n",
    "$$\n",
    "E(D, \\theta) = - \\prod_{i \\in D} p(y_i|x_i) + \\frac{1}{C}\\sum_k |\\theta_k|\n",
    "$$\n"
   ]
  },
  {
   "cell_type": "code",
   "execution_count": 30,
   "metadata": {
    "collapsed": false
   },
   "outputs": [
    {
     "data": {
      "image/png": "[encoded data removed]",
      "text/plain": [
       "<matplotlib.figure.Figure at 0x111875f10>"
      ]
     },
     "metadata": {},
     "output_type": "display_data"
    },
    {
     "data": {
      "text/plain": [
       "([0.59250000000000003,\n",
       "  0.66500000000000004,\n",
       "  0.66249999999999998,\n",
       "  0.68250000000000011,\n",
       "  0.75249999999999995,\n",
       "  0.75750000000000006,\n",
       "  0.69499999999999995],\n",
       " [0.68562500000000004, 0.99937500000000001, 1.0, 1.0, 1.0, 1.0, 1.0])"
      ]
     },
     "execution_count": 30,
     "metadata": {},
     "output_type": "execute_result"
    }
   ],
   "source": [
    "compare_c(filenames, y, penalty='l1', cs=[.1, 1., 10, 1e2, 1e3, 1e4, 1e5])"
   ]
  },
  {
   "cell_type": "code",
   "execution_count": 31,
   "metadata": {
    "collapsed": false
   },
   "outputs": [
    {
     "data": {
      "image/png": "[encoded data removed]",
      "text/plain": [
       "<matplotlib.figure.Figure at 0x11212e510>"
      ]
     },
     "metadata": {},
     "output_type": "display_data"
    },
    {
     "data": {
      "text/plain": [
       "[9, 181, 236, 318, 779, 3300, 5974]"
      ]
     },
     "execution_count": 31,
     "metadata": {},
     "output_type": "execute_result"
    }
   ],
   "source": [
    "def compare_num_feats(X, y, cs=[.1, 1., 10, 1e2, 1e3, 1e4, 1e5]):\n",
    "    nnzs = []\n",
    "    for c in cs:\n",
    "        clf = get_clf(c=c, penalty='l1')\n",
    "        clf.fit(X, y)\n",
    "        nnz = len(np.where(clf.coef_[0]!=0)[0])\n",
    "        nnzs.append(nnz)\n",
    "    plt.figure()\n",
    "    plt.plot(cs, nnzs, 'bo-')\n",
    "    plt.xlabel('C')\n",
    "    plt.ylabel('# nonzero coefficients')\n",
    "    plt.xscale('log')\n",
    "    plt.show()\n",
    "    return nnzs\n",
    "    \n",
    "compare_num_feats(X, y)"
   ]
  },
  {
   "cell_type": "code",
   "execution_count": 57,
   "metadata": {
    "collapsed": false
   },
   "outputs": [
    {
     "name": "stdout",
     "output_type": "stream",
     "text": [
      "\n",
      "Top Coefficients\n",
      "Positive Terms:\n",
      "great (0.207907)\n",
      "best (0.207509)\n",
      "will (0.112228)\n",
      "film (0.0667835)\n",
      "worth (0.0246239)\n",
      "well (0.00193947)\n",
      "zucker (0)\n",
      "fantasy (0)\n",
      "fare (0)\n",
      "farcical (0)\n",
      "\n",
      "NegativeTerms:\n",
      "worst (-0.726748)\n",
      "bad (-0.313763)\n",
      "nothing (-0.299507)\n",
      "poky (0)\n",
      "poland (0)\n",
      "poldark (0)\n",
      "pole (0)\n",
      "police (0)\n",
      "policeman (0)\n",
      "policies (0)\n"
     ]
    }
   ],
   "source": [
    "# What features are selected?\n",
    "def print_top_terms(model, vec, n=10):\n",
    "    terms = np.array(vec.get_feature_names())\n",
    "    print '\\nTop Coefficients'\n",
    "    coef = model.coef_[0]\n",
    "    srted = np.argsort(coef)\n",
    "    topi = srted[::-1][:n]\n",
    "    boti = srted[:n]\n",
    "    print 'Positive Terms:\\n' + '\\n'.join('%s (%g)' % (n, c) for n, c in zip(terms[topi], coef[topi]))\n",
    "    print '\\nNegativeTerms:\\n' + '\\n'.join('%s (%g)' % (n, c) for n, c in zip(terms[boti], coef[boti]))\n",
    "\n",
    "clf = get_clf(c=.1, penalty='l1')\n",
    "clf.fit(X, y)\n",
    "print_top_terms(clf, vec)"
   ]
  },
  {
   "cell_type": "code",
   "execution_count": 64,
   "metadata": {
    "collapsed": false
   },
   "outputs": [
    {
     "name": "stdout",
     "output_type": "stream",
     "text": [
      "[[ 0.47502081  0.52497919]]\n",
      "intercept=0.1\n"
     ]
    }
   ],
   "source": [
    "# How to predict when no features?\n",
    "clf.intercept_=.1\n",
    "print(clf.predict_proba([0] * len(vec.vocabulary_)))\n",
    "print('intercept=%g' % clf.intercept_)"
   ]
  },
  {
   "cell_type": "code",
   "execution_count": 69,
   "metadata": {
    "collapsed": false
   },
   "outputs": [
    {
     "name": "stdout",
     "output_type": "stream",
     "text": [
      "[[ 0.49525703  0.50474297]]\n",
      "intercept=0.0189725\n",
      "Counter({0: 200, 1: 200})\n"
     ]
    }
   ],
   "source": [
    "clf = get_clf(c=1000, penalty='l1')\n",
    "clf.fit(X, y)\n",
    "print(clf.predict_proba([0] * len(vec.vocabulary_)))\n",
    "print('intercept=%g' % clf.intercept_)\n",
    "print(Counter(y))"
   ]
  },
  {
   "cell_type": "markdown",
   "metadata": {},
   "source": [
    "## Feature Selection\n",
    "\n",
    "Rather than using L1 regularization, we can explicitly look for terms that are highly correlated with the class label.\n",
    "\n",
    "Intuitively, we want terms that are very probable in one class, but not the other."
   ]
  },
  {
   "cell_type": "markdown",
   "metadata": {},
   "source": [
    "One way to compute this is the chi-squared statistic: $\\chi^2$\n",
    "\n",
    "The chi-squared statistic is used in hypothesis testing to determine whether two variables are independent.\n",
    "\n",
    "$$A \\perp B \\iff P(A,B) \\equiv P(A)P(B)$$\n",
    "\n",
    "To apply this to feature selection, we wish to know whether the occurrence of a term is independent of the class label. \n",
    "- If they are independent, then it is not a useful feature. \n",
    "- If they are highly dependent, then it is a useful feature."
   ]
  },
  {
   "cell_type": "markdown",
   "metadata": {},
   "source": [
    "To compute the chi-squared statistic for term $t$ and class label $y$:\n",
    "\n",
    "- Let $N^t_{i,j}$ indicate the number of documents that contain/don't contain term $t$ and have class label $y$.\n",
    "  - E.g., $N^t_{0,0}=10$ means that 10 document have class label $0$ and do **not** have term $t$.\n",
    "  - E.g., $N^t_{1,1}=10$ means that 10 documents have class label $1$ and do have term $t$.\n",
    "  \n",
    "So, for each term we have a table like this:\n",
    "\n",
    "|         |  y=1          |  y=0         |\n",
    "|---------|---------------|--------------|\n",
    "| **t=1** |  $N^t_{11}$   | $N^t_{10}$   |\n",
    "| **t=0** | $N^t_{01}$    | $N^t_{00}$   |\n",
    "\n",
    "The chi-squared statistic measures how much these values deviate from what would be expected if $t$ and $y$ were independent.\n",
    "\n",
    "If $N$ is the total number of documents, then the expected value $E_{11}$ (for $t=1$, $y=1$) is:\n",
    "\n",
    "$$\n",
    "p(t=1) = \\frac{N^t_{11} + N^t_{10}}{N}\n",
    "$$\n",
    "\n",
    "$$\n",
    "p(y=1) = \\frac{N^t_{11} + N^t_{01}}{N}\n",
    "$$\n",
    "\n",
    "$$\n",
    "E_{11} = N * p(t=1) * p(y=1)\n",
    "$$\n",
    "Then, the chi-squared statistic is as follows:\n",
    "$$\n",
    "\\chi^2 = \\sum_{ij} \\frac{(N^t_{ij} - E^t_{ij})^2}{E^t_{ij}}\n",
    "$$\n",
    "\n"
   ]
  },
  {
   "cell_type": "code",
   "execution_count": 125,
   "metadata": {
    "collapsed": false
   },
   "outputs": [],
   "source": [
    "from sklearn.feature_selection import chi2\n",
    "\n",
    "chi, pvals = chi2(X,y)"
   ]
  },
  {
   "cell_type": "code",
   "execution_count": 126,
   "metadata": {
    "collapsed": false
   },
   "outputs": [
    {
     "name": "stdout",
     "output_type": "stream",
     "text": [
      "index=10577 chisq=29.88 worst\n",
      "index=10344 chisq=20.00 waste\n",
      "index=9472 chisq=16.13 terrible\n",
      "index=6497 chisq=16.07 nothing\n",
      "index=10578 chisq=15.21 worth\n",
      "index=1216 chisq=14.44 boring\n",
      "index=869 chisq=13.79 bad\n",
      "index=9244 chisq=13.00 superb\n",
      "index=837 chisq=12.57 awful\n",
      "index=7157 chisq=12.57 poor\n"
     ]
    }
   ],
   "source": [
    "feats = vec.get_feature_names()\n",
    "# Top chi-sq terms:\n",
    "for i in np.argsort(chi)[::-1][:10]:\n",
    "    print('index=%d chisq=%.2f %s' % (i, chi[i], feats[i]))"
   ]
  },
  {
   "cell_type": "code",
   "execution_count": 127,
   "metadata": {
    "collapsed": false
   },
   "outputs": [
    {
     "name": "stdout",
     "output_type": "stream",
     "text": [
      "index=3401 chisq=0.00 excitement\n",
      "index=6069 chisq=0.00 military\n",
      "index=7624 chisq=0.00 realized\n",
      "index=798 chisq=0.00 australia\n",
      "index=4779 chisq=0.00 important\n",
      "index=796 chisq=0.00 austen\n",
      "index=2068 chisq=0.00 confronted\n",
      "index=5536 chisq=0.00 li\n",
      "index=794 chisq=0.00 aussie\n",
      "index=4103 chisq=0.00 glaring\n"
     ]
    }
   ],
   "source": [
    "# Bottom chi-sq terms:\n",
    "for i in np.argsort(chi)[:10]:\n",
    "    print('index=%d chisq=%.2f %s' % (i, chi[i], feats[i]))"
   ]
  },
  {
   "cell_type": "code",
   "execution_count": 111,
   "metadata": {
    "collapsed": false
   },
   "outputs": [
    {
     "data": {
      "text/plain": [
       "41"
      ]
     },
     "execution_count": 111,
     "metadata": {},
     "output_type": "execute_result"
    }
   ],
   "source": [
    "# How many times does \"worst\" appear?\n",
    "X.sum(axis=0).A1[10577]"
   ]
  },
  {
   "cell_type": "code",
   "execution_count": 131,
   "metadata": {
    "collapsed": false
   },
   "outputs": [
    {
     "data": {
      "text/plain": [
       "Counter({0: 38, 1: 3})"
      ]
     },
     "execution_count": 131,
     "metadata": {},
     "output_type": "execute_result"
    }
   ],
   "source": [
    "# What labels do the documents containing \"worst\" have?\n",
    "Counter(y[np.where(X[:, 10577].T.toarray()[0]==1)])\n",
    "# Clearly skewed toward negative class, so high chisq value."
   ]
  },
  {
   "cell_type": "code",
   "execution_count": 129,
   "metadata": {
    "collapsed": false
   },
   "outputs": [
    {
     "data": {
      "text/plain": [
       "4"
      ]
     },
     "execution_count": 129,
     "metadata": {},
     "output_type": "execute_result"
    }
   ],
   "source": [
    "# How many times does \"excitement\" appear?\n",
    "X.sum(axis=0).A1[3401]"
   ]
  },
  {
   "cell_type": "code",
   "execution_count": 130,
   "metadata": {
    "collapsed": false
   },
   "outputs": [
    {
     "data": {
      "text/plain": [
       "Counter({0: 2, 1: 2})"
      ]
     },
     "execution_count": 130,
     "metadata": {},
     "output_type": "execute_result"
    }
   ],
   "source": [
    "# What labels do the documents containing \"excitement\" have?\n",
    "Counter(y[np.where(X[:, 3401].T.toarray()[0]==1)])\n",
    "# Equally distributed between classes, so chisq=0"
   ]
  }
 ],
 "metadata": {
  "kernelspec": {
   "display_name": "Python 2",
   "language": "python",
   "name": "python2"
  },
  "language_info": {
   "codemirror_mode": {
    "name": "ipython",
    "version": 2
   },
   "file_extension": ".py",
   "mimetype": "text/x-python",
   "name": "python",
   "nbconvert_exporter": "python",
   "pygments_lexer": "ipython2",
   "version": "2.7.5"
  }
 },
 "nbformat": 4,
 "nbformat_minor": 0
}
