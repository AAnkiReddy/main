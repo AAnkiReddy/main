{
 "cells": [
  {
   "cell_type": "markdown",
   "metadata": {},
   "source": [
    "# CS 579\n",
    "<br>\n",
    "\n",
    "## Clustering Words with K-Means\n",
    "\n",
    "<br>\n"
   ]
  },
  {
   "cell_type": "code",
   "execution_count": 1,
   "metadata": {
    "collapsed": false
   },
   "outputs": [
    {
     "data": {
      "text/html": [
       "<div>\n",
       "<table border=\"1\" class=\"dataframe\">\n",
       "  <thead>\n",
       "    <tr style=\"text-align: right;\">\n",
       "      <th></th>\n",
       "      <th>movieId</th>\n",
       "      <th>tokens</th>\n",
       "    </tr>\n",
       "  </thead>\n",
       "  <tbody>\n",
       "    <tr>\n",
       "      <th>0</th>\n",
       "      <td>123</td>\n",
       "      <td>[horror, horror, romance, romance, romance]</td>\n",
       "    </tr>\n",
       "    <tr>\n",
       "      <th>1</th>\n",
       "      <td>456</td>\n",
       "      <td>[romance]</td>\n",
       "    </tr>\n",
       "  </tbody>\n",
       "</table>\n",
       "</div>"
      ],
      "text/plain": [
       "   movieId                                       tokens\n",
       "0      123  [horror, horror, romance, romance, romance]\n",
       "1      456                                    [romance]"
      ]
     },
     "execution_count": 1,
     "metadata": {},
     "output_type": "execute_result"
    }
   ],
   "source": [
    "import pandas as pd\n",
    "movies = pd.DataFrame([[123, ['horror', 'horror', 'romance', 'romance', 'romance']],\n",
    "                       [456, ['romance']]], columns=['movieId', 'tokens'])\n",
    "movies"
   ]
  },
  {
   "cell_type": "markdown",
   "metadata": {},
   "source": [
    "tfidf(i, d) := tf(i, d) / max_k tf(k, d) * log10(N/df(i))\n",
    "\n",
    "- df(horror) = 1\n",
    "- df(romance) = 2\n",
    "\n",
    "- tf (horror, 123) = 2\n",
    "- tfidf(horror, 123) = 2 / 3 * log10(2/1)"
   ]
  },
  {
   "cell_type": "code",
   "execution_count": 6,
   "metadata": {
    "collapsed": false
   },
   "outputs": [
    {
     "data": {
      "text/plain": [
       "32"
      ]
     },
     "execution_count": 6,
     "metadata": {},
     "output_type": "execute_result"
    }
   ],
   "source": [
    "from scipy.sparse import csr_matrix\n",
    "a = csr_matrix([1,2,3, 0, 0, 0, 5])\n",
    "b = csr_matrix([4,5,6, 0, 0, 0, 0])\n",
    "a.dot(b.T).sum()"
   ]
  },
  {
   "cell_type": "code",
   "execution_count": 9,
   "metadata": {
    "collapsed": false
   },
   "outputs": [
    {
     "name": "stdout",
     "output_type": "stream",
     "text": [
      "tf: [0.6666666666666666, 1.0]\n",
      "idf_weight: [0.3010299956639812, 0.0]\n",
      "tf: [1.0]\n",
      "idf_weight: [0.0]\n"
     ]
    },
    {
     "data": {
      "text/html": [
       "<div>\n",
       "<table border=\"1\" class=\"dataframe\">\n",
       "  <thead>\n",
       "    <tr style=\"text-align: right;\">\n",
       "      <th></th>\n",
       "      <th>movieId</th>\n",
       "      <th>tokens</th>\n",
       "      <th>features</th>\n",
       "    </tr>\n",
       "  </thead>\n",
       "  <tbody>\n",
       "    <tr>\n",
       "      <th>0</th>\n",
       "      <td>123</td>\n",
       "      <td>[horror, horror, romance, romance, romance]</td>\n",
       "      <td>(0, 0)\\t0.200686663776\\n  (0, 1)\\t0.0</td>\n",
       "    </tr>\n",
       "    <tr>\n",
       "      <th>1</th>\n",
       "      <td>456</td>\n",
       "      <td>[romance]</td>\n",
       "      <td>(0, 1)\\t0.0</td>\n",
       "    </tr>\n",
       "  </tbody>\n",
       "</table>\n",
       "</div>"
      ],
      "text/plain": [
       "   movieId                                       tokens  \\\n",
       "0      123  [horror, horror, romance, romance, romance]   \n",
       "1      456                                    [romance]   \n",
       "\n",
       "                                  features  \n",
       "0    (0, 0)\\t0.200686663776\\n  (0, 1)\\t0.0  \n",
       "1                              (0, 1)\\t0.0  "
      ]
     },
     "execution_count": 9,
     "metadata": {},
     "output_type": "execute_result"
    }
   ],
   "source": [
    "from collections import Counter\n",
    "import math\n",
    "def featurize(movies):\n",
    "    dfs = Counter()\n",
    "    data = []\n",
    "    rows = []\n",
    "    cols = []\n",
    "    for tokens in movies['tokens']:\n",
    "        dfs.update(set(tokens))\n",
    "    vocab = {v: i for i, v in enumerate(sorted(dfs))}\n",
    "    N = len(movies)\n",
    "    n_cols = len(vocab)\n",
    "    vectors = []\n",
    "    for tokens in movies.tokens:\n",
    "        tfs = Counter(tokens)\n",
    "        maxtf = max(tfs.values())\n",
    "        rows = [0] * len(tfs)\n",
    "        cols = [vocab[t] for t in tfs]\n",
    "        data = [v / maxtf * math.log10(N / dfs[t])\n",
    "                for t, v in tfs.items()]\n",
    "        print('tf:', [v / maxtf for t, v in tfs.items()])\n",
    "        print('idf_weight:', [math.log10(N / dfs[t]) for t, v in tfs.items()])\n",
    "\n",
    "        vectors.append(csr_matrix((data, (rows, cols)), shape=(1, n_cols)))\n",
    "        \n",
    "    movies['features'] = vectors\n",
    "    return movies, vocab\n",
    "\n",
    "movies, vocab = featurize(movies)\n",
    "movies"
   ]
  },
  {
   "cell_type": "code",
   "execution_count": 10,
   "metadata": {
    "collapsed": false
   },
   "outputs": [
    {
     "data": {
      "text/plain": [
       "matrix([[ 0.20068666,  0.        ]])"
      ]
     },
     "execution_count": 10,
     "metadata": {},
     "output_type": "execute_result"
    }
   ],
   "source": [
    "movies['features'][0].todense()"
   ]
  },
  {
   "cell_type": "markdown",
   "metadata": {},
   "source": [
    "# Motivation\n",
    "\n",
    "Often, we want to know which features appear together.\n",
    "\n",
    "- If you liked *Twilight* you might like *Nosferatu*.\n",
    "- \"happy\" is a synonym of \"glad.\"\n",
    "\n",
    "Can be used to summarize a large collection of messages."
   ]
  },
  {
   "cell_type": "markdown",
   "metadata": {},
   "source": [
    "We'll use k-means to cluster together related words from Twitter.\n",
    "\n",
    "**Caution:** This uses live Twitter data, which often contains profanity."
   ]
  },
  {
   "cell_type": "code",
   "execution_count": 11,
   "metadata": {
    "collapsed": true
   },
   "outputs": [
    {
     "name": "stdout",
     "output_type": "stream",
     "text": [
      "100\n",
      "200\n",
      "300\n",
      "400\n",
      "500\n",
      "600\n",
      "700\n",
      "800\n",
      "900\n",
      "1000\n",
      "1100\n",
      "1200\n",
      "1300\n",
      "1400\n",
      "1500\n",
      "1600\n",
      "1700\n",
      "1800\n",
      "1900\n",
      "2000\n",
      "2100\n",
      "2200\n",
      "2300\n",
      "2400\n",
      "2500\n",
      "2600\n",
      "2700\n",
      "2800\n",
      "2900\n",
      "3000\n",
      "3100\n",
      "3200\n",
      "3300\n",
      "3400\n",
      "3500\n",
      "3600\n",
      "3700\n",
      "3800\n",
      "3900\n",
      "4000\n",
      "4100\n",
      "4200\n",
      "4300\n",
      "4400\n",
      "4500\n",
      "4600\n",
      "4700\n",
      "4800\n",
      "4900\n",
      "5000\n",
      "5100\n",
      "5200\n",
      "5300\n",
      "5400\n",
      "5500\n",
      "5600\n",
      "5700\n",
      "5800\n",
      "5900\n",
      "6000\n",
      "6100\n",
      "6200\n",
      "6300\n",
      "6400\n",
      "6500\n",
      "6600\n",
      "6700\n",
      "6800\n",
      "6900\n",
      "7000\n",
      "7100\n",
      "7200\n",
      "7300\n",
      "7400\n",
      "7500\n",
      "7600\n",
      "7700\n",
      "7800\n",
      "7900\n",
      "8000\n",
      "8100\n",
      "8200\n",
      "8300\n",
      "8400\n",
      "8500\n",
      "8600\n",
      "8700\n",
      "8800\n",
      "8900\n",
      "9000\n",
      "9100\n",
      "9200\n",
      "9300\n",
      "9400\n",
      "9500\n",
      "9600\n",
      "9700\n",
      "9800\n",
      "9900\n",
      "10000\n"
     ]
    }
   ],
   "source": [
    "# Get some tweets containing the word 'i'.\n",
    "\n",
    "import os\n",
    "from TwitterAPI import TwitterAPI\n",
    "\n",
    "# Read Twitter credentials from environmental variables.\n",
    "api = TwitterAPI(os.environ.get('TW_CONSUMER_KEY'),\n",
    "                 os.environ.get('TW_CONSUMER_SECRET'),\n",
    "                 os.environ.get('TW_ACCESS_TOKEN'),\n",
    "                 os.environ.get('TW_ACCESS_TOKEN_SECRET'))\n",
    "\n",
    "# Collect 10000 tweets.\n",
    "tweets = []\n",
    "while True: \n",
    "    r = api.request('statuses/filter', {'track':'i',\n",
    "                                        'language':'en'})\n",
    "    if r.status_code != 200: # error\n",
    "        break\n",
    "    else:\n",
    "        for item in r.get_iterator():\n",
    "            tweets.append(item)\n",
    "            if len(tweets) > 10000:\n",
    "                break\n",
    "            elif len(tweets) % 100 == 0:\n",
    "                print(len(tweets))\n"
   ]
  },
  {
   "cell_type": "code",
   "execution_count": 12,
   "metadata": {
    "collapsed": false
   },
   "outputs": [
    {
     "name": "stdout",
     "output_type": "stream",
     "text": [
      "10002\n"
     ]
    }
   ],
   "source": [
    "print(len(tweets))"
   ]
  },
  {
   "cell_type": "code",
   "execution_count": 70,
   "metadata": {
    "collapsed": false
   },
   "outputs": [
    {
     "name": "stdout",
     "output_type": "stream",
     "text": [
      "text RT @unheroicly: i love this song https://t.co/2pS8yLKvIQ\n",
      "description: uh\n",
      "name: morg\n",
      "location: south wales x\n"
     ]
    }
   ],
   "source": [
    "# Each tweet is a Python dict.\n",
    "print('text', tweets[0]['text'])\n",
    "print('description:', tweets[0]['user']['description'])\n",
    "print('name:', tweets[0]['user']['name'])\n",
    "print('location:', tweets[0]['user']['location'])"
   ]
  },
  {
   "cell_type": "code",
   "execution_count": 71,
   "metadata": {
    "collapsed": false
   },
   "outputs": [],
   "source": [
    "tweets = [t for t in tweets if 'text' in t]"
   ]
  },
  {
   "cell_type": "code",
   "execution_count": 72,
   "metadata": {
    "collapsed": false
   },
   "outputs": [
    {
     "data": {
      "text/plain": [
       "9235"
      ]
     },
     "execution_count": 72,
     "metadata": {},
     "output_type": "execute_result"
    }
   ],
   "source": [
    "len(tweets)"
   ]
  },
  {
   "cell_type": "code",
   "execution_count": 73,
   "metadata": {
    "collapsed": false
   },
   "outputs": [
    {
     "data": {
      "text/plain": [
       "['rt', 'i', 'love', 'this', 'song']"
      ]
     },
     "execution_count": 73,
     "metadata": {},
     "output_type": "execute_result"
    }
   ],
   "source": [
    "# Tokenize each tweet text.\n",
    "import re\n",
    "tokens = []\n",
    "for tweet in tweets:\n",
    "    text = tweet['text'].lower()\n",
    "    text = re.sub('@\\S+', ' ', text)  # Remove mentions.\n",
    "    text = re.sub('http\\S+', ' ', text)  # Remove urls.\n",
    "    tokens.append(re.findall('[A-Za-z]+', text)) # Retain words.\n",
    "tokens[0]"
   ]
  },
  {
   "cell_type": "code",
   "execution_count": 74,
   "metadata": {
    "collapsed": false
   },
   "outputs": [],
   "source": [
    "# Count words.\n",
    "from collections import Counter\n",
    "\n",
    "word_counts = Counter()\n",
    "for tweet in tokens:\n",
    "    word_counts.update(tweet)"
   ]
  },
  {
   "cell_type": "code",
   "execution_count": 75,
   "metadata": {
    "collapsed": false
   },
   "outputs": [
    {
     "name": "stdout",
     "output_type": "stream",
     "text": [
      "12139 unique terms\n"
     ]
    },
    {
     "data": {
      "text/plain": [
       "[('i', 10791),\n",
       " ('rt', 5155),\n",
       " ('the', 3714),\n",
       " ('to', 3344),\n",
       " ('a', 3147),\n",
       " ('and', 2377),\n",
       " ('you', 2253),\n",
       " ('my', 1960),\n",
       " ('m', 1825),\n",
       " ('of', 1721)]"
      ]
     },
     "execution_count": 75,
     "metadata": {},
     "output_type": "execute_result"
    }
   ],
   "source": [
    "# Inspect word counts.\n",
    "import math\n",
    "\n",
    "print(len(word_counts), 'unique terms')\n",
    "word_counts.most_common(10)"
   ]
  },
  {
   "cell_type": "code",
   "execution_count": 76,
   "metadata": {
    "collapsed": false
   },
   "outputs": [
    {
     "name": "stdout",
     "output_type": "stream",
     "text": [
      "3748 words occur at least three times.\n"
     ]
    }
   ],
   "source": [
    "# Retain in vocabulary words occurring more than twice.\n",
    "vocab = set([w for w, c in word_counts.items() if c > 2])\n",
    "print('%d words occur at least three times.' % len(vocab))"
   ]
  },
  {
   "cell_type": "code",
   "execution_count": 77,
   "metadata": {
    "collapsed": false
   },
   "outputs": [],
   "source": [
    "# Prune tokens.\n",
    "newtoks = []\n",
    "for i, tweet in enumerate(tokens):\n",
    "    newtok = [token for token in tweet if token in vocab]\n",
    "    if len(newtok) > 0:\n",
    "        newtoks.append(newtok)\n",
    "tokens = newtoks"
   ]
  },
  {
   "cell_type": "code",
   "execution_count": 82,
   "metadata": {
    "collapsed": false
   },
   "outputs": [
    {
     "data": {
      "text/plain": [
       "['rt', 'i', 'love', 'this', 'song']"
      ]
     },
     "execution_count": 82,
     "metadata": {},
     "output_type": "execute_result"
    }
   ],
   "source": [
    "# A sample pruned tweet.\n",
    "tokens[0]"
   ]
  },
  {
   "cell_type": "code",
   "execution_count": 85,
   "metadata": {
    "collapsed": false
   },
   "outputs": [
    {
     "data": {
      "text/plain": [
       "['i@-2', 'love@-1', 'song@1']"
      ]
     },
     "execution_count": 85,
     "metadata": {},
     "output_type": "execute_result"
    }
   ],
   "source": [
    "import numpy as np\n",
    "def get_contexts(tweet, i, window):\n",
    "    \"\"\"\n",
    "    Get the context features for token at position i\n",
    "    in this tweet, using the given window size.\n",
    "    \"\"\"\n",
    "    features = []\n",
    "    for j in range(np.amax([0, i-window]), i):\n",
    "        features.append(tweet[j] + \"@\" + str(j-i))\n",
    "    for j in range(i+1, min(i + window + 1, len(tweet))):\n",
    "        features.append(tweet[j] + \"@\" + str(j-i))\n",
    "    return features\n",
    "\n",
    "get_contexts(tokens[0], i=3, window=2)"
   ]
  },
  {
   "cell_type": "code",
   "execution_count": 86,
   "metadata": {
    "collapsed": false
   },
   "outputs": [],
   "source": [
    "# For each term, create a context vector, indicating how often\n",
    "# each word occurs to the left or right of it.\n",
    "from collections import defaultdict\n",
    "import numpy as np\n",
    "\n",
    "# dict from term to context vector.\n",
    "contexts = defaultdict(lambda: Counter())\n",
    "window = 2\n",
    "for tweet in tokens:\n",
    "    for i, token in enumerate(tweet):\n",
    "        features = get_contexts(tweet, i, window)\n",
    "        contexts[token].update(features)\n",
    "        # Optionally: ignore word order\n",
    "        # contexts[token].update(tweet[:i] + tweet[i+1:])\n"
   ]
  },
  {
   "cell_type": "code",
   "execution_count": 87,
   "metadata": {
    "collapsed": false
   },
   "outputs": [
    {
     "data": {
      "text/plain": [
       "[('rt@-1', 1757),\n",
       " ('m@1', 1756),\n",
       " ('t@2', 764),\n",
       " ('a@2', 519),\n",
       " ('to@2', 462),\n",
       " ('rt@-2', 425),\n",
       " ('and@-1', 422),\n",
       " ('can@1', 395),\n",
       " ('have@1', 378),\n",
       " ('just@1', 366),\n",
       " ('don@1', 345),\n",
       " ('love@1', 344),\n",
       " ('ve@1', 322),\n",
       " ('when@-1', 306),\n",
       " ('was@1', 304),\n",
       " ('am@1', 293),\n",
       " ('you@2', 289),\n",
       " ('the@2', 268),\n",
       " ('ll@1', 267),\n",
       " ('want@1', 230)]"
      ]
     },
     "execution_count": 87,
     "metadata": {},
     "output_type": "execute_result"
    }
   ],
   "source": [
    "contexts['i'].most_common(20)"
   ]
  },
  {
   "cell_type": "code",
   "execution_count": 88,
   "metadata": {
    "collapsed": false
   },
   "outputs": [
    {
     "data": {
      "text/plain": [
       "[('i@-1', 10635),\n",
       " ('i@-2', 10263),\n",
       " ('i@1', 8954),\n",
       " ('i@2', 6772),\n",
       " ('rt@-1', 5127)]"
      ]
     },
     "execution_count": 88,
     "metadata": {},
     "output_type": "execute_result"
    }
   ],
   "source": [
    "# Compute the number of different contexts each term appears in.\n",
    "tweet_freq = Counter()\n",
    "for context in contexts.values():\n",
    "    tweet_freq.update(context)\n",
    "tweet_freq.most_common(5)"
   ]
  },
  {
   "cell_type": "code",
   "execution_count": 89,
   "metadata": {
    "collapsed": true
   },
   "outputs": [
    {
     "data": {
      "text/plain": [
       "Counter({1: 224,\n",
       "         2: 678,\n",
       "         3: 3202,\n",
       "         4: 1811,\n",
       "         5: 1258,\n",
       "         6: 1024,\n",
       "         7: 676,\n",
       "         8: 561,\n",
       "         9: 482,\n",
       "         10: 328,\n",
       "         11: 279,\n",
       "         12: 243,\n",
       "         13: 224,\n",
       "         14: 197,\n",
       "         15: 181,\n",
       "         16: 161,\n",
       "         17: 146,\n",
       "         18: 142,\n",
       "         19: 156,\n",
       "         20: 121,\n",
       "         21: 100,\n",
       "         22: 82,\n",
       "         23: 82,\n",
       "         24: 60,\n",
       "         25: 67,\n",
       "         26: 83,\n",
       "         27: 64,\n",
       "         28: 53,\n",
       "         29: 79,\n",
       "         30: 53,\n",
       "         31: 49,\n",
       "         32: 48,\n",
       "         33: 38,\n",
       "         34: 31,\n",
       "         35: 42,\n",
       "         36: 37,\n",
       "         37: 40,\n",
       "         38: 50,\n",
       "         39: 36,\n",
       "         40: 26,\n",
       "         41: 39,\n",
       "         42: 32,\n",
       "         43: 45,\n",
       "         44: 25,\n",
       "         45: 28,\n",
       "         46: 20,\n",
       "         47: 22,\n",
       "         48: 24,\n",
       "         49: 28,\n",
       "         50: 38,\n",
       "         51: 15,\n",
       "         52: 15,\n",
       "         53: 22,\n",
       "         54: 11,\n",
       "         55: 26,\n",
       "         56: 20,\n",
       "         57: 24,\n",
       "         58: 30,\n",
       "         59: 24,\n",
       "         60: 13,\n",
       "         61: 21,\n",
       "         62: 22,\n",
       "         63: 13,\n",
       "         64: 10,\n",
       "         65: 16,\n",
       "         66: 22,\n",
       "         67: 16,\n",
       "         68: 17,\n",
       "         69: 13,\n",
       "         70: 10,\n",
       "         71: 12,\n",
       "         72: 11,\n",
       "         73: 14,\n",
       "         74: 19,\n",
       "         75: 12,\n",
       "         76: 17,\n",
       "         77: 7,\n",
       "         78: 6,\n",
       "         79: 11,\n",
       "         80: 13,\n",
       "         81: 11,\n",
       "         82: 9,\n",
       "         83: 8,\n",
       "         84: 15,\n",
       "         85: 7,\n",
       "         86: 10,\n",
       "         87: 8,\n",
       "         88: 7,\n",
       "         89: 11,\n",
       "         90: 4,\n",
       "         91: 3,\n",
       "         92: 9,\n",
       "         93: 7,\n",
       "         94: 5,\n",
       "         95: 12,\n",
       "         96: 5,\n",
       "         97: 19,\n",
       "         98: 5,\n",
       "         99: 11,\n",
       "         100: 13,\n",
       "         101: 7,\n",
       "         102: 6,\n",
       "         103: 5,\n",
       "         104: 5,\n",
       "         105: 8,\n",
       "         106: 9,\n",
       "         107: 2,\n",
       "         108: 4,\n",
       "         109: 2,\n",
       "         110: 4,\n",
       "         111: 2,\n",
       "         112: 1,\n",
       "         113: 3,\n",
       "         114: 4,\n",
       "         115: 2,\n",
       "         116: 2,\n",
       "         117: 1,\n",
       "         118: 4,\n",
       "         119: 2,\n",
       "         120: 2,\n",
       "         121: 2,\n",
       "         122: 3,\n",
       "         123: 6,\n",
       "         124: 2,\n",
       "         125: 1,\n",
       "         126: 6,\n",
       "         127: 2,\n",
       "         128: 3,\n",
       "         129: 1,\n",
       "         130: 6,\n",
       "         131: 1,\n",
       "         132: 2,\n",
       "         133: 2,\n",
       "         134: 2,\n",
       "         136: 2,\n",
       "         137: 2,\n",
       "         138: 5,\n",
       "         139: 1,\n",
       "         140: 4,\n",
       "         141: 1,\n",
       "         142: 3,\n",
       "         143: 2,\n",
       "         144: 5,\n",
       "         145: 2,\n",
       "         147: 2,\n",
       "         148: 6,\n",
       "         149: 4,\n",
       "         151: 2,\n",
       "         152: 2,\n",
       "         153: 3,\n",
       "         154: 8,\n",
       "         155: 1,\n",
       "         156: 2,\n",
       "         157: 2,\n",
       "         158: 4,\n",
       "         159: 1,\n",
       "         160: 2,\n",
       "         163: 4,\n",
       "         164: 4,\n",
       "         165: 1,\n",
       "         166: 4,\n",
       "         167: 4,\n",
       "         168: 1,\n",
       "         169: 7,\n",
       "         170: 3,\n",
       "         171: 2,\n",
       "         172: 2,\n",
       "         173: 2,\n",
       "         174: 6,\n",
       "         175: 3,\n",
       "         176: 1,\n",
       "         177: 3,\n",
       "         178: 1,\n",
       "         179: 3,\n",
       "         180: 2,\n",
       "         181: 3,\n",
       "         182: 1,\n",
       "         183: 2,\n",
       "         185: 2,\n",
       "         186: 3,\n",
       "         187: 1,\n",
       "         189: 3,\n",
       "         190: 2,\n",
       "         192: 2,\n",
       "         194: 3,\n",
       "         195: 2,\n",
       "         196: 1,\n",
       "         197: 2,\n",
       "         198: 1,\n",
       "         199: 1,\n",
       "         200: 2,\n",
       "         201: 1,\n",
       "         202: 1,\n",
       "         203: 3,\n",
       "         204: 1,\n",
       "         205: 1,\n",
       "         206: 1,\n",
       "         207: 2,\n",
       "         208: 1,\n",
       "         209: 5,\n",
       "         210: 2,\n",
       "         211: 3,\n",
       "         212: 2,\n",
       "         213: 3,\n",
       "         214: 4,\n",
       "         215: 2,\n",
       "         216: 2,\n",
       "         217: 1,\n",
       "         218: 2,\n",
       "         219: 2,\n",
       "         220: 2,\n",
       "         221: 3,\n",
       "         222: 1,\n",
       "         223: 2,\n",
       "         224: 3,\n",
       "         226: 1,\n",
       "         228: 4,\n",
       "         229: 1,\n",
       "         230: 1,\n",
       "         231: 1,\n",
       "         234: 1,\n",
       "         235: 1,\n",
       "         237: 2,\n",
       "         240: 1,\n",
       "         243: 1,\n",
       "         244: 1,\n",
       "         246: 1,\n",
       "         247: 1,\n",
       "         248: 1,\n",
       "         249: 1,\n",
       "         251: 2,\n",
       "         252: 1,\n",
       "         254: 1,\n",
       "         255: 1,\n",
       "         262: 1,\n",
       "         263: 1,\n",
       "         273: 1,\n",
       "         274: 2,\n",
       "         276: 1,\n",
       "         279: 1,\n",
       "         284: 2,\n",
       "         285: 1,\n",
       "         286: 3,\n",
       "         287: 1,\n",
       "         288: 1,\n",
       "         289: 1,\n",
       "         292: 3,\n",
       "         293: 1,\n",
       "         295: 2,\n",
       "         301: 1,\n",
       "         303: 1,\n",
       "         304: 1,\n",
       "         306: 2,\n",
       "         310: 1,\n",
       "         311: 1,\n",
       "         312: 2,\n",
       "         314: 1,\n",
       "         315: 1,\n",
       "         316: 2,\n",
       "         318: 2,\n",
       "         320: 1,\n",
       "         323: 2,\n",
       "         324: 1,\n",
       "         325: 2,\n",
       "         327: 1,\n",
       "         331: 1,\n",
       "         332: 1,\n",
       "         333: 1,\n",
       "         334: 1,\n",
       "         337: 1,\n",
       "         338: 1,\n",
       "         339: 2,\n",
       "         341: 1,\n",
       "         342: 1,\n",
       "         344: 1,\n",
       "         347: 2,\n",
       "         348: 2,\n",
       "         351: 1,\n",
       "         352: 1,\n",
       "         354: 2,\n",
       "         356: 1,\n",
       "         357: 1,\n",
       "         358: 1,\n",
       "         360: 2,\n",
       "         361: 2,\n",
       "         364: 1,\n",
       "         365: 2,\n",
       "         367: 1,\n",
       "         368: 1,\n",
       "         369: 1,\n",
       "         370: 2,\n",
       "         371: 2,\n",
       "         372: 3,\n",
       "         373: 1,\n",
       "         376: 2,\n",
       "         377: 2,\n",
       "         379: 1,\n",
       "         380: 1,\n",
       "         381: 4,\n",
       "         385: 1,\n",
       "         386: 3,\n",
       "         387: 1,\n",
       "         388: 1,\n",
       "         391: 2,\n",
       "         392: 1,\n",
       "         393: 1,\n",
       "         394: 1,\n",
       "         395: 1,\n",
       "         397: 1,\n",
       "         398: 1,\n",
       "         401: 1,\n",
       "         402: 1,\n",
       "         403: 1,\n",
       "         404: 1,\n",
       "         406: 1,\n",
       "         409: 2,\n",
       "         411: 1,\n",
       "         412: 1,\n",
       "         417: 1,\n",
       "         418: 1,\n",
       "         420: 2,\n",
       "         423: 1,\n",
       "         432: 1,\n",
       "         442: 1,\n",
       "         444: 2,\n",
       "         448: 1,\n",
       "         452: 1,\n",
       "         457: 2,\n",
       "         462: 1,\n",
       "         464: 1,\n",
       "         470: 1,\n",
       "         472: 1,\n",
       "         475: 1,\n",
       "         476: 1,\n",
       "         478: 1,\n",
       "         480: 1,\n",
       "         503: 1,\n",
       "         508: 1,\n",
       "         509: 1,\n",
       "         519: 1,\n",
       "         526: 1,\n",
       "         527: 1,\n",
       "         534: 1,\n",
       "         538: 1,\n",
       "         550: 1,\n",
       "         562: 1,\n",
       "         567: 1,\n",
       "         575: 2,\n",
       "         584: 2,\n",
       "         585: 1,\n",
       "         587: 1,\n",
       "         593: 1,\n",
       "         597: 1,\n",
       "         600: 1,\n",
       "         601: 1,\n",
       "         604: 2,\n",
       "         611: 2,\n",
       "         626: 1,\n",
       "         634: 1,\n",
       "         641: 1,\n",
       "         645: 1,\n",
       "         660: 1,\n",
       "         663: 1,\n",
       "         672: 1,\n",
       "         677: 1,\n",
       "         680: 1,\n",
       "         683: 1,\n",
       "         684: 1,\n",
       "         689: 1,\n",
       "         690: 1,\n",
       "         691: 1,\n",
       "         707: 1,\n",
       "         714: 1,\n",
       "         719: 1,\n",
       "         728: 1,\n",
       "         731: 1,\n",
       "         735: 1,\n",
       "         752: 1,\n",
       "         754: 1,\n",
       "         755: 1,\n",
       "         757: 1,\n",
       "         761: 1,\n",
       "         777: 1,\n",
       "         778: 1,\n",
       "         779: 1,\n",
       "         782: 1,\n",
       "         785: 1,\n",
       "         787: 1,\n",
       "         788: 1,\n",
       "         792: 1,\n",
       "         833: 1,\n",
       "         841: 1,\n",
       "         846: 1,\n",
       "         878: 1,\n",
       "         881: 1,\n",
       "         895: 1,\n",
       "         916: 1,\n",
       "         928: 1,\n",
       "         930: 1,\n",
       "         1044: 1,\n",
       "         1062: 1,\n",
       "         1079: 1,\n",
       "         1114: 1,\n",
       "         1131: 1,\n",
       "         1137: 1,\n",
       "         1138: 1,\n",
       "         1141: 1,\n",
       "         1171: 1,\n",
       "         1172: 1,\n",
       "         1189: 1,\n",
       "         1205: 1,\n",
       "         1221: 1,\n",
       "         1228: 1,\n",
       "         1244: 1,\n",
       "         1259: 1,\n",
       "         1273: 1,\n",
       "         1283: 1,\n",
       "         1304: 1,\n",
       "         1322: 1,\n",
       "         1330: 1,\n",
       "         1335: 1,\n",
       "         1350: 1,\n",
       "         1359: 1,\n",
       "         1394: 1,\n",
       "         1401: 1,\n",
       "         1438: 1,\n",
       "         1450: 1,\n",
       "         1455: 1,\n",
       "         1461: 1,\n",
       "         1462: 1,\n",
       "         1482: 1,\n",
       "         1485: 1,\n",
       "         1510: 1,\n",
       "         1514: 1,\n",
       "         1538: 1,\n",
       "         1550: 1,\n",
       "         1566: 1,\n",
       "         1594: 1,\n",
       "         1672: 1,\n",
       "         1687: 1,\n",
       "         1707: 1,\n",
       "         1713: 1,\n",
       "         1731: 1,\n",
       "         1775: 1,\n",
       "         1796: 1,\n",
       "         1824: 1,\n",
       "         1912: 1,\n",
       "         1915: 1,\n",
       "         1972: 1,\n",
       "         2019: 1,\n",
       "         2183: 1,\n",
       "         2185: 1,\n",
       "         2294: 1,\n",
       "         2309: 1,\n",
       "         2346: 1,\n",
       "         2771: 1,\n",
       "         2915: 1,\n",
       "         3011: 1,\n",
       "         3033: 1,\n",
       "         3112: 1,\n",
       "         3189: 1,\n",
       "         3233: 1,\n",
       "         3286: 1,\n",
       "         3337: 1,\n",
       "         3476: 1,\n",
       "         3566: 1,\n",
       "         3667: 1,\n",
       "         5115: 1,\n",
       "         5127: 1,\n",
       "         6772: 1,\n",
       "         8954: 1,\n",
       "         10263: 1,\n",
       "         10635: 1})"
      ]
     },
     "execution_count": 89,
     "metadata": {},
     "output_type": "execute_result"
    }
   ],
   "source": [
    "Counter(tweet_freq.values())"
   ]
  },
  {
   "cell_type": "code",
   "execution_count": 91,
   "metadata": {
    "collapsed": false
   },
   "outputs": [
    {
     "data": {
      "text/plain": [
       "[('m@1', 0.5348416998626828),\n",
       " ('rt@-1', 0.47718655488402345),\n",
       " ('t@2', 0.23745836508511597),\n",
       " ('a@2', 0.14916223680739002),\n",
       " ('can@1', 0.13601059357820566)]"
      ]
     },
     "execution_count": 91,
     "metadata": {},
     "output_type": "execute_result"
    }
   ],
   "source": [
    "# Transform each context vector to be term freq / tweet frequency. \n",
    "# Also then normalize by length.\n",
    "for term, context in contexts.items():\n",
    "    for term2, frequency in context.items():\n",
    "        context[term2] = frequency / (1. + math.log(tweet_freq[term2]))\n",
    "    length = math.sqrt(sum([v*v for v in context.values()]))\n",
    "    for term2, frequency in context.items():\n",
    "        context[term2] = 1. * frequency / length\n",
    "    \n",
    "contexts['i'].most_common(5)"
   ]
  },
  {
   "cell_type": "code",
   "execution_count": 92,
   "metadata": {
    "collapsed": false
   },
   "outputs": [
    {
     "data": {
      "text/plain": [
       "[('high@-1', 0.38800295111622285),\n",
       " ('learn@-2', 0.3529463081704446),\n",
       " ('at@-1', 0.2667839867762236),\n",
       " ('in@-1', 0.2086612877584478),\n",
       " ('middle@-1', 0.1764731540852223),\n",
       " ('and@1', 0.16832763251562577),\n",
       " ('bus@1', 0.15374049576328533),\n",
       " ('my@-1', 0.1436004814848667),\n",
       " ('in@-2', 0.12052115264917021),\n",
       " ('today@1', 0.11960096270951157)]"
      ]
     },
     "execution_count": 92,
     "metadata": {},
     "output_type": "execute_result"
    }
   ],
   "source": [
    "contexts['school'].most_common(10)"
   ]
  },
  {
   "cell_type": "code",
   "execution_count": 95,
   "metadata": {
    "collapsed": false
   },
   "outputs": [
    {
     "data": {
      "text/plain": [
       "[('i@-1', 0.8141403726522269),\n",
       " ('you@1', 0.3105791369815186),\n",
       " ('rt@-2', 0.2013138503585514),\n",
       " ('i@-2', 0.1258707204596764),\n",
       " ('mommy@2', 0.11710090003630982),\n",
       " ('it@1', 0.11359980067546291),\n",
       " ('this@1', 0.09205216940200686),\n",
       " ('smothered@-2', 0.08371089223507543),\n",
       " ('aff@2', 0.08371089223507543),\n",
       " ('affection@2', 0.08244650211913902)]"
      ]
     },
     "execution_count": 95,
     "metadata": {},
     "output_type": "execute_result"
    }
   ],
   "source": [
    "contexts['love'].most_common(10)"
   ]
  },
  {
   "cell_type": "code",
   "execution_count": 96,
   "metadata": {
    "collapsed": false
   },
   "outputs": [
    {
     "data": {
      "text/plain": [
       "[('i@-1', 0.6463444525203702),\n",
       " ('crime@1', 0.44433510232223705),\n",
       " ('amp@-2', 0.2850941944330984),\n",
       " ('a@-1', 0.20805648100428276),\n",
       " ('when@1', 0.20063109214120775),\n",
       " ('rt@-2', 0.18012479341462465),\n",
       " ('letting@1', 0.13792321943635005),\n",
       " ('close@2', 0.11006059894303455),\n",
       " ('people@2', 0.10481011273849687),\n",
       " ('i@-2', 0.09919652344126183)]"
      ]
     },
     "execution_count": 96,
     "metadata": {},
     "output_type": "execute_result"
    }
   ],
   "source": [
    "contexts['hate'].most_common(10)"
   ]
  },
  {
   "cell_type": "markdown",
   "metadata": {},
   "source": [
    "At this point we have a list of dictionaries, one per term, indicating the terms that co-occur (weighted by inverse tweet frequency).\n",
    "\n",
    "Next, we have to cluster these vectors. To do this, we'll need to be able to compute the euclidean distance between two vectors."
   ]
  },
  {
   "cell_type": "code",
   "execution_count": 29,
   "metadata": {
    "collapsed": false
   },
   "outputs": [
    {
     "name": "stdout",
     "output_type": "stream",
     "text": [
      "1.4142135623730951\n",
      "2.23606797749979\n"
     ]
    }
   ],
   "source": [
    "# n.b. This is not efficient!\n",
    "def distance(c1, c2):\n",
    "    if len(c1.keys()) == 0 or len(c2.keys()) == 0:\n",
    "        return 1e9\n",
    "    keys = set(c1.keys()) | set(c2.keys())\n",
    "    distance = 0.\n",
    "    for k in keys:\n",
    "        distance += (c1[k] - c2[k]) ** 2\n",
    "    return math.sqrt(distance)\n",
    "\n",
    "print(distance({'hi':10, 'bye': 5}, {'hi': 9, 'bye': 4}))\n",
    "print(distance({'hi':10, 'bye': 5}, {'hi': 8, 'bye': 4}))"
   ]
  },
  {
   "cell_type": "code",
   "execution_count": 97,
   "metadata": {
    "collapsed": false
   },
   "outputs": [
    {
     "data": {
      "text/plain": [
       "array(['love', 'hope', 'miss', 'm', 'am', 'll', 'guess', 'think', 've',\n",
       "       'just'],\n",
       "      dtype='<U21')"
      ]
     },
     "execution_count": 97,
     "metadata": {},
     "output_type": "execute_result"
    }
   ],
   "source": [
    "def find_closest(term, n=5):\n",
    "    terms = np.array(list(contexts.keys()))\n",
    "    context = contexts[term]\n",
    "    distances = []\n",
    "    for term2, context2 in contexts.items():\n",
    "        distances.append(distance(context, context2))\n",
    "    return terms[np.argsort(distances)][:n]\n",
    "\n",
    "find_closest('love', n=10)"
   ]
  },
  {
   "cell_type": "code",
   "execution_count": 98,
   "metadata": {
    "collapsed": false
   },
   "outputs": [
    {
     "name": "stdout",
     "output_type": "stream",
     "text": [
      "3748 nonzero contexts\n"
     ]
    }
   ],
   "source": [
    "nz_contexts = [t for t, context in contexts.items()\n",
    "               if len(context) > 1]\n",
    "contexts = dict([(term, contexts[term]) for term in nz_contexts])\n",
    "print(len(nz_contexts), 'nonzero contexts')"
   ]
  },
  {
   "cell_type": "code",
   "execution_count": 99,
   "metadata": {
    "collapsed": false
   },
   "outputs": [
    {
     "name": "stdout",
     "output_type": "stream",
     "text": [
      "rt\n",
      "[('i@1', 0.8766515168186277), ('love@2', 0.05575788542455453), ('ng@1', 0.002401254444845591)]\n"
     ]
    }
   ],
   "source": [
    "# e..g., what are three context features for the term \"rt\"?\n",
    "print(list(contexts.keys())[0])\n",
    "print(list(list(contexts.values())[0].items())[:3])"
   ]
  },
  {
   "cell_type": "code",
   "execution_count": 100,
   "metadata": {
    "collapsed": true
   },
   "outputs": [
    {
     "name": "stdout",
     "output_type": "stream",
     "text": [
      "['a@-1' 'a@-2' 'a@1' 'a@2' 'aang@-1' 'aang@-2' 'aang@1' 'aang@2' 'able@-1'\n",
      " 'able@-2']\n",
      "  (0, 0)\t0.00167789789884\n",
      "  (0, 1)\t0.00056450349112\n",
      "  (0, 2)\t0.0256339003198\n",
      "  (0, 3)\t0.0279423879128\n",
      "  (0, 15)\t0.00288518525991\n",
      "  (0, 18)\t0.00240125444485\n",
      "  (0, 22)\t0.00129532661652\n",
      "  (0, 23)\t0.00131464169454\n",
      "  (0, 47)\t0.00193118298089\n",
      "  (0, 89)\t0.00297629299096\n",
      "  (0, 109)\t0.00152586593359\n",
      "  (0, 124)\t0.00193118298089\n",
      "  (0, 140)\t0.014517576632\n",
      "  (0, 153)\t0.00415434682369\n",
      "  (0, 212)\t0.00180506313016\n",
      "  (0, 216)\t0.00157614892676\n",
      "  (0, 237)\t0.00720376333454\n",
      "  (0, 248)\t0.021137681212\n",
      "  (0, 249)\t0.00250422808562\n",
      "  (0, 261)\t0.00276008337091\n",
      "  (0, 269)\t0.00163643375527\n",
      "  (0, 273)\t0.00240125444485\n",
      "  (0, 293)\t0.00482737297348\n",
      "  (0, 296)\t0.00111332317847\n",
      "  (0, 297)\t0.00723681736636\n",
      "  :\t:\n",
      "  (0, 14691)\t0.0145692909941\n",
      "  (0, 14692)\t0.00388597984957\n",
      "  (0, 14694)\t0.000824494789694\n",
      "  (0, 14695)\t0.000789303153438\n",
      "  (0, 14696)\t0.00474611999356\n",
      "  (0, 14699)\t0.00928543660684\n",
      "  (0, 14700)\t0.00601191435705\n",
      "  (0, 14703)\t0.00297629299096\n",
      "  (0, 14715)\t0.00704469091596\n",
      "  (0, 14716)\t0.00314519820992\n",
      "  (0, 14720)\t0.00123178924287\n",
      "  (0, 14723)\t0.00103899973774\n",
      "  (0, 14727)\t0.00240125444485\n",
      "  (0, 14731)\t0.00112843710328\n",
      "  (0, 14732)\t0.00454606822597\n",
      "  (0, 14736)\t0.00240125444485\n",
      "  (0, 14740)\t0.00163643375527\n",
      "  (0, 14742)\t0.00118665109015\n",
      "  (0, 14743)\t0.049299980232\n",
      "  (0, 14744)\t0.0462355784109\n",
      "  (0, 14755)\t0.00486425567293\n",
      "  (0, 14756)\t0.00836115584871\n",
      "  (0, 14772)\t0.00211176884473\n",
      "  (0, 14783)\t0.00126117110486\n",
      "  (0, 14784)\t0.00127757131313\n"
     ]
    }
   ],
   "source": [
    "# Transform context dicts to a sparse vector\n",
    "# for sklearn.\n",
    "from sklearn.feature_extraction import DictVectorizer\n",
    "\n",
    "vec = DictVectorizer()\n",
    "X = vec.fit_transform(contexts.values())\n",
    "names = np.array(vec.get_feature_names())\n",
    "print(names[:10])\n",
    "print(X[0])"
   ]
  },
  {
   "cell_type": "code",
   "execution_count": 102,
   "metadata": {
    "collapsed": false
   },
   "outputs": [
    {
     "name": "stdout",
     "output_type": "stream",
     "text": [
      "2\n",
      "  (0, 0)\t0.00809444377632\n",
      "  (0, 1)\t0.00544650753013\n",
      "  (0, 2)\t0.0134415188201\n",
      "  (0, 3)\t0.00808790885641\n",
      "  (0, 15)\t0.00347964704628\n",
      "  (0, 20)\t0.00608408807693\n",
      "  (0, 123)\t0.0115840297016\n",
      "  (0, 138)\t0.00439402619225\n",
      "  (0, 139)\t0.0088767179772\n",
      "  (0, 187)\t0.00931633091108\n",
      "  (0, 218)\t0.0837108922351\n",
      "  (0, 226)\t0.0824465021191\n",
      "  (0, 251)\t0.00870790888402\n",
      "  (0, 379)\t0.00659262515803\n",
      "  (0, 380)\t0.0162872109942\n",
      "  (0, 381)\t0.0131344058608\n",
      "  (0, 404)\t0.00510593684227\n",
      "  (0, 423)\t0.00608408807693\n",
      "  (0, 442)\t0.0122745793276\n",
      "  (0, 451)\t0.00712287919769\n",
      "  (0, 488)\t0.0070137124198\n",
      "  (0, 490)\t0.0104771017539\n",
      "  (0, 491)\t0.0104887974929\n",
      "  (0, 500)\t0.00556011047179\n",
      "  (0, 501)\t0.0531565919884\n",
      "  :\t:\n",
      "  (0, 14555)\t0.00945352917138\n",
      "  (0, 14590)\t0.0216941289941\n",
      "  (0, 14591)\t0.00364104889952\n",
      "  (0, 14599)\t0.010607739342\n",
      "  (0, 14612)\t0.00681927978395\n",
      "  (0, 14667)\t0.00435282518242\n",
      "  (0, 14668)\t0.00439402619225\n",
      "  (0, 14671)\t0.0146734160731\n",
      "  (0, 14672)\t0.00989831971767\n",
      "  (0, 14675)\t0.00616320526507\n",
      "  (0, 14690)\t0.004756600873\n",
      "  (0, 14694)\t0.00397749274474\n",
      "  (0, 14707)\t0.00736101762698\n",
      "  (0, 14714)\t0.00478783019381\n",
      "  (0, 14741)\t0.0254802014348\n",
      "  (0, 14742)\t0.0143114794678\n",
      "  (0, 14743)\t0.310579136982\n",
      "  (0, 14744)\t0.0197637214542\n",
      "  (0, 14753)\t0.0033907541136\n",
      "  (0, 14754)\t0.00693224248299\n",
      "  (0, 14755)\t0.0301704886444\n",
      "  (0, 14756)\t0.00336129440938\n",
      "  (0, 14766)\t0.00681927978395\n",
      "  (0, 14767)\t0.00681927978395\n",
      "  (0, 14779)\t0.0231680594033\n",
      "you@1\n"
     ]
    }
   ],
   "source": [
    "# Which row of X is the word \"love\"?\n",
    "love_idx = list(contexts.keys()).index('love')\n",
    "print(love_idx)\n",
    "# What are the context feature values for love?\n",
    "print(X[love_idx])\n",
    "# Print a highly ranking feature.\n",
    "print(names[14743])"
   ]
  },
  {
   "cell_type": "code",
   "execution_count": 103,
   "metadata": {
    "collapsed": false
   },
   "outputs": [
    {
     "data": {
      "text/plain": [
       "KMeans(algorithm='auto', copy_x=True, init='k-means++', max_iter=300,\n",
       "    n_clusters=20, n_init=10, n_jobs=1, precompute_distances='auto',\n",
       "    random_state=None, tol=0.0001, verbose=0)"
      ]
     },
     "execution_count": 103,
     "metadata": {},
     "output_type": "execute_result"
    }
   ],
   "source": [
    "# Let's cluster!\n",
    "# http://scikit-learn.org/stable/modules/generated/sklearn.cluster.KMeans.html\n",
    "from sklearn.cluster import KMeans\n",
    "num_clusters = 20\n",
    "kmeans = KMeans(num_clusters)\n",
    "kmeans.fit(X)"
   ]
  },
  {
   "cell_type": "code",
   "execution_count": 104,
   "metadata": {
    "collapsed": true
   },
   "outputs": [
    {
     "name": "stdout",
     "output_type": "stream",
     "text": [
      "0 it@2 cloud@-2 make@1 liberals@-1 guard@-2\n",
      "1 i@-2 m@-1 i@2 i@1 m@-2\n",
      "2 a@-2 i@1 i@2 the@-2 a@-1\n",
      "3 and@1 i@2 i@-2 to@-2 a@-1\n",
      "4 i@-1 rt@-2 i@-2 a@1 to@1\n",
      "5 of@1 the@-1 the@2 the@-2 a@-1\n",
      "6 you@1 me@1 i@-2 rt@-2 i@2\n",
      "7 the@-1 in@-2 i@2 on@-2 and@1\n",
      "8 i@1 rt@-1 m@2 i@2 i@-2\n",
      "9 in@1 the@2 i@-2 a@2 a@-1\n",
      "10 a@-1 the@-1 i@2 i@1 of@1\n",
      "11 my@-1 and@1 a@-1 i@2 i@1\n",
      "12 the@-1 of@-2 i@1 i@2 of@-1\n",
      "13 the@1 i@-2 my@1 i@2 a@1\n",
      "14 rt@-1 i@1 the@-2 i@-2 rt@-2\n",
      "15 t@-1 don@-2 can@-2 i@-2 to@-1\n",
      "16 to@1 i@-2 be@2 i@-1 m@-1\n",
      "17 t@1 i@-1 you@-1 rt@-2 even@2\n",
      "18 an@-1 the@-1 i@1 i@2 to@2\n",
      "19 to@-1 i@-2 i@-1 me@1 i@2\n"
     ]
    }
   ],
   "source": [
    "# Let's print out the top features for each mean vector.\n",
    "# This is swamped by common terms\n",
    "for i in range(num_clusters):\n",
    "    print(i, ' '.join(names[np.argsort(kmeans.cluster_centers_[i])[::-1][:5]]))"
   ]
  },
  {
   "cell_type": "code",
   "execution_count": 68,
   "metadata": {
    "collapsed": false
   },
   "outputs": [
    {
     "name": "stdout",
     "output_type": "stream",
     "text": [
      "distance from term \"love\" to each cluster:\n",
      "[ 1.00606603  1.01782013  0.97889608  1.05252756  0.99111308  0.99801906\n",
      "  1.00980453  0.61473522  0.95239746  0.9609487   1.02707764  0.99946716\n",
      "  1.02367633  1.04759488  0.99433607  1.07227539  0.97752083  1.00250763\n",
      "  0.9760815   0.98537512]\n",
      "closest cluster to \"love\":\n",
      "7\n"
     ]
    }
   ],
   "source": [
    "# .transform will compute the distance from each context to each cluster.\n",
    "distances = kmeans.transform(X)\n",
    "# e.g., what is the distance from the word \"love\" to each cluster?\n",
    "print('distance from term \"love\" to each cluster:')\n",
    "print(distances[love_idx])\n",
    "# what is the closest cluster for the word \"love\"?\n",
    "print('closest cluster to \"love\":')\n",
    "print(np.argmin(distances[love_idx]))"
   ]
  },
  {
   "cell_type": "code",
   "execution_count": 105,
   "metadata": {
    "collapsed": false
   },
   "outputs": [
    {
     "name": "stdout",
     "output_type": "stream",
     "text": [
      "0 germany august the progress al awe glasgow trouble bed \n",
      "\n",
      "1 surname guests mouth sn avi name blog pl thoughts \n",
      "\n",
      "2 and the me you this but my what a \n",
      "\n",
      "3 out proud kind violations lots rest tired list type \n",
      "\n",
      "4 verified occasion rts hilarious dies mommy whore yesterday senses \n",
      "\n",
      "5 going supposed listening wanted able listen want tried used \n",
      "\n",
      "6 yeah when but and pressplay omg wow if hello \n",
      "\n",
      "7 am love ll miss just hope d guess ve \n",
      "\n",
      "8 on with for told made from at of is \n",
      "\n",
      "9 be get win go watch take do make study \n",
      "\n",
      "10 lot student few pedophile playlist couple child video joke \n",
      "\n",
      "11 crime bop gig deal whe kicked fan time weird \n",
      "\n",
      "12 heart family own dad room degree phone friend husband \n",
      "\n",
      "13 holidays bathroom best world roomba most first streets worst \n",
      "\n",
      "14 leak stepped homelessness live girl stuck bell knives log \n",
      "\n",
      "15 didn haven wouldn won wasn couldn can ain shouldn \n",
      "\n",
      "16 products person good verified kelley why what fr neighbor \n",
      "\n",
      "17 she paige mysecrethope there fox semester it brutus he \n",
      "\n",
      "18 not done crying disgusted sorry hoping ready verified joking \n",
      "\n",
      "19 world holidays bathroom best first year roomba most worst \n",
      "\n"
     ]
    }
   ],
   "source": [
    "# Finally, we'll print the words that are closest\n",
    "# to the mean of each cluster.\n",
    "terms = np.array(list(contexts.keys()))\n",
    "for i in range(distances.shape[1]):\n",
    "    print(i, ' '.join(terms[np.argsort(distances[:,i])[1:10]]), '\\n')"
   ]
  },
  {
   "cell_type": "markdown",
   "metadata": {},
   "source": [
    "Clearly, interpreting these results requires a bit of investigation.\n",
    "\n",
    "As the number of tweets increases, we expect these clusters to become more coherent."
   ]
  },
  {
   "cell_type": "markdown",
   "metadata": {},
   "source": [
    "**How does error decrease with number of cluster?**"
   ]
  },
  {
   "cell_type": "code",
   "execution_count": 49,
   "metadata": {
    "collapsed": false
   },
   "outputs": [
    {
     "data": {
      "text/plain": [
       "-3438.1336404513354"
      ]
     },
     "execution_count": 49,
     "metadata": {},
     "output_type": "execute_result"
    }
   ],
   "source": [
    "kmeans.score(X)"
   ]
  },
  {
   "cell_type": "code",
   "execution_count": 50,
   "metadata": {
    "collapsed": false
   },
   "outputs": [
    {
     "name": "stdout",
     "output_type": "stream",
     "text": [
      "k=5 score=3554.24\n",
      "k=10 score=3490.37\n",
      "k=20 score=3439.58\n",
      "k=50 score=3350.42\n",
      "k=100 score=3268.95\n"
     ]
    },
    {
     "data": {
      "image/png": "[encoded data removed]",
      "text/plain": [
       "<matplotlib.figure.Figure at 0x111ee2b70>"
      ]
     },
     "metadata": {},
     "output_type": "display_data"
    }
   ],
   "source": [
    "import matplotlib.pyplot as plt\n",
    "%matplotlib inline\n",
    "\n",
    "scores = []\n",
    "num_cluster_options = [5,10,20,50,100]\n",
    "\n",
    "for num_clusters in num_cluster_options:\n",
    "    kmeans = KMeans(num_clusters, n_init=10, max_iter=10)\n",
    "    kmeans.fit(X)\n",
    "    score = -1 * kmeans.score(X)\n",
    "    scores.append(score)\n",
    "    print('k=%d score=%g' % (num_clusters, score))\n",
    "    \n",
    "plt.figure()\n",
    "plt.plot(num_cluster_options, scores, 'bo-')\n",
    "plt.xlabel('num clusters')\n",
    "plt.ylabel('error')\n",
    "plt.show()"
   ]
  },
  {
   "cell_type": "markdown",
   "metadata": {},
   "source": [
    "** How does error vary by initalization? **"
   ]
  },
  {
   "cell_type": "code",
   "execution_count": 51,
   "metadata": {
    "collapsed": false
   },
   "outputs": [
    {
     "name": "stdout",
     "output_type": "stream",
     "text": [
      "score=3467.15\n",
      "score=3447.12\n",
      "score=3447.76\n",
      "score=3469.75\n",
      "score=3450.49\n",
      "score=3449.89\n",
      "score=3437.55\n",
      "score=3451.28\n",
      "score=3436.78\n",
      "score=3438.89\n"
     ]
    },
    {
     "data": {
      "image/png": "[encoded data removed]",
      "text/plain": [
       "<matplotlib.figure.Figure at 0x110d830b8>"
      ]
     },
     "metadata": {},
     "output_type": "display_data"
    }
   ],
   "source": [
    "scores = []\n",
    "for i in range(10):\n",
    "    kmeans = KMeans(20, n_init=1, max_iter=100, init='random')\n",
    "    kmeans.fit(X)\n",
    "    score = -1 * kmeans.score(X)\n",
    "    scores.append(score)\n",
    "    print('score=%g' % (score))\n",
    "     \n",
    "    \n",
    "plt.figure()\n",
    "plt.plot(range(10), sorted(scores), 'bo-')\n",
    "plt.xlabel('sample')\n",
    "plt.ylabel('error')\n",
    "plt.show()"
   ]
  }
 ],
 "metadata": {
  "kernelspec": {
   "display_name": "Python 3",
   "language": "python",
   "name": "python3"
  },
  "language_info": {
   "codemirror_mode": {
    "name": "ipython",
    "version": 3
   },
   "file_extension": ".py",
   "mimetype": "text/x-python",
   "name": "python",
   "nbconvert_exporter": "python",
   "pygments_lexer": "ipython3",
   "version": "3.6.0"
  }
 },
 "nbformat": 4,
 "nbformat_minor": 0
}
