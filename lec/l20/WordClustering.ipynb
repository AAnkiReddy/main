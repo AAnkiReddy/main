{
 "cells": [
  {
   "cell_type": "markdown",
   "metadata": {},
   "source": [
    "# CS 579\n",
    "<br>\n",
    "\n",
    "## Clustering Words with K-Means\n",
    "\n",
    "<br>\n"
   ]
  },
  {
   "cell_type": "markdown",
   "metadata": {},
   "source": [
    "# Motivation\n",
    "\n",
    "Often, we want to know which features appear together.\n",
    "\n",
    "- If you liked *Twilight* you might like *Nosferatu*.\n",
    "- \"happy\" is a synonym of \"glad.\"\n",
    "\n",
    "Can be used to summarize a large collection of messages."
   ]
  },
  {
   "cell_type": "markdown",
   "metadata": {},
   "source": [
    "We'll use k-means to cluster together related words from Twitter.\n",
    "\n",
    "**Caution:** This uses live Twitter data, which often contains profanity."
   ]
  },
  {
   "cell_type": "code",
   "execution_count": 1,
   "metadata": {
    "collapsed": false,
    "scrolled": true
   },
   "outputs": [
    {
     "name": "stdout",
     "output_type": "stream",
     "text": [
      "100\n",
      "200\n",
      "300\n",
      "400\n",
      "500\n",
      "600\n",
      "700\n",
      "800\n",
      "900\n",
      "1000\n",
      "1100\n",
      "1200\n",
      "1300\n",
      "1400\n",
      "1500\n",
      "1600\n",
      "1700\n",
      "1800\n",
      "1900\n",
      "2000\n",
      "2100\n",
      "2200\n",
      "2300\n",
      "2400\n",
      "2500\n",
      "2600\n",
      "2700\n",
      "2800\n",
      "2900\n",
      "3000\n",
      "3100\n",
      "3200\n",
      "3300\n",
      "3400\n",
      "3500\n",
      "3600\n",
      "3700\n",
      "3800\n",
      "3900\n",
      "4000\n",
      "4100\n",
      "4200\n",
      "4300\n",
      "4400\n",
      "4500\n",
      "4600\n",
      "4700\n",
      "4800\n",
      "4900\n",
      "5000\n",
      "5100\n",
      "5200\n",
      "5300\n",
      "5400\n",
      "5500\n",
      "5600\n",
      "5700\n",
      "5800\n",
      "5900\n",
      "6000\n",
      "6100\n",
      "6200\n",
      "6300\n",
      "6400\n",
      "6500\n",
      "6600\n",
      "6700\n",
      "6800\n",
      "6900\n",
      "7000\n",
      "7100\n",
      "7200\n",
      "7300\n",
      "7400\n",
      "7500\n",
      "7600\n",
      "7700\n",
      "7800\n",
      "7900\n",
      "8000\n",
      "8100\n",
      "8200\n",
      "8300\n",
      "8400\n",
      "8500\n",
      "8600\n",
      "8700\n",
      "8800\n",
      "8900\n",
      "9000\n",
      "9100\n",
      "9200\n",
      "9300\n",
      "9400\n",
      "9500\n",
      "9600\n",
      "9700\n",
      "9800\n",
      "9900\n",
      "10000\n"
     ]
    }
   ],
   "source": [
    "# Get some tweets containing the word 'i'.\n",
    "\n",
    "import os\n",
    "from TwitterAPI import TwitterAPI\n",
    "\n",
    "# Read Twitter credentials from environmental variables.\n",
    "api = TwitterAPI(os.environ.get('TW_CONSUMER_KEY'),\n",
    "                 os.environ.get('TW_CONSUMER_SECRET'),\n",
    "                 os.environ.get('TW_ACCESS_TOKEN'),\n",
    "                 os.environ.get('TW_ACCESS_TOKEN_SECRET'))\n",
    "\n",
    "# Collect 10000 tweets.\n",
    "tweets = []\n",
    "while True: \n",
    "    r = api.request('statuses/filter', {'track':'i',\n",
    "                                        'language':'en'})\n",
    "    if r.status_code != 200: # error\n",
    "        break\n",
    "    else:\n",
    "        for item in r.get_iterator():\n",
    "            tweets.append(item)\n",
    "            if len(tweets) > 10000:\n",
    "                break\n",
    "            elif len(tweets) % 100 == 0:\n",
    "                print(len(tweets))\n"
   ]
  },
  {
   "cell_type": "code",
   "execution_count": 2,
   "metadata": {
    "collapsed": false
   },
   "outputs": [
    {
     "name": "stdout",
     "output_type": "stream",
     "text": [
      "10002\n"
     ]
    }
   ],
   "source": [
    "print(len(tweets))"
   ]
  },
  {
   "cell_type": "code",
   "execution_count": 3,
   "metadata": {
    "collapsed": false
   },
   "outputs": [
    {
     "name": "stdout",
     "output_type": "stream",
     "text": [
      "text RT @JARSMcLucien: Reposting @curvyphysique: ...\n",
      "\"The greatest feeling in the world is stepping out of your comfort zone. Taking a risk to o…\n",
      "description: None\n",
      "name: vrvrvr\n",
      "location: None\n"
     ]
    }
   ],
   "source": [
    "# Each tweet is a Python dict.\n",
    "print('text', tweets[0]['text'])\n",
    "print('description:', tweets[0]['user']['description'])\n",
    "print('name:', tweets[0]['user']['name'])\n",
    "print('location:', tweets[0]['user']['location'])"
   ]
  },
  {
   "cell_type": "code",
   "execution_count": 4,
   "metadata": {
    "collapsed": false
   },
   "outputs": [],
   "source": [
    "tweets = [t for t in tweets if 'text' in t]"
   ]
  },
  {
   "cell_type": "code",
   "execution_count": 5,
   "metadata": {
    "collapsed": false
   },
   "outputs": [
    {
     "data": {
      "text/plain": [
       "9234"
      ]
     },
     "execution_count": 5,
     "metadata": {},
     "output_type": "execute_result"
    }
   ],
   "source": [
    "len(tweets)"
   ]
  },
  {
   "cell_type": "code",
   "execution_count": 18,
   "metadata": {
    "collapsed": false
   },
   "outputs": [
    {
     "data": {
      "text/plain": [
       "['rt',\n",
       " 'reposting',\n",
       " 'the',\n",
       " 'greatest',\n",
       " 'feeling',\n",
       " 'in',\n",
       " 'the',\n",
       " 'world',\n",
       " 'is',\n",
       " 'stepping',\n",
       " 'out',\n",
       " 'of',\n",
       " 'your',\n",
       " 'comfort',\n",
       " 'zone',\n",
       " 'taking',\n",
       " 'a',\n",
       " 'risk',\n",
       " 'to',\n",
       " 'o']"
      ]
     },
     "execution_count": 18,
     "metadata": {},
     "output_type": "execute_result"
    }
   ],
   "source": [
    "# Tokenize each tweet text.\n",
    "import re\n",
    "tokens = []\n",
    "for tweet in tweets:\n",
    "    text = tweet['text'].lower()\n",
    "    text = re.sub('@\\S+', ' ', text)  # Remove mentions.\n",
    "    text = re.sub('http\\S+', ' ', text)  # Remove urls.\n",
    "    tokens.append(re.findall('[A-Za-z]+', text)) # Retain words.\n",
    "tokens[0]"
   ]
  },
  {
   "cell_type": "code",
   "execution_count": 19,
   "metadata": {
    "collapsed": false
   },
   "outputs": [],
   "source": [
    "# Count words.\n",
    "from collections import Counter\n",
    "\n",
    "word_counts = Counter()\n",
    "for tweet in tokens:\n",
    "    word_counts.update(tweet)"
   ]
  },
  {
   "cell_type": "code",
   "execution_count": 20,
   "metadata": {
    "collapsed": false
   },
   "outputs": [
    {
     "name": "stdout",
     "output_type": "stream",
     "text": [
      "12214 unique terms\n"
     ]
    },
    {
     "data": {
      "text/plain": [
       "[('i', 11015),\n",
       " ('rt', 5101),\n",
       " ('the', 3586),\n",
       " ('to', 3556),\n",
       " ('a', 3012),\n",
       " ('you', 2457),\n",
       " ('and', 2273),\n",
       " ('m', 1934),\n",
       " ('my', 1925),\n",
       " ('it', 1811)]"
      ]
     },
     "execution_count": 20,
     "metadata": {},
     "output_type": "execute_result"
    }
   ],
   "source": [
    "# Inspect word counts.\n",
    "import math\n",
    "\n",
    "print(len(word_counts), 'unique terms')\n",
    "word_counts.most_common(10)"
   ]
  },
  {
   "cell_type": "code",
   "execution_count": 21,
   "metadata": {
    "collapsed": false
   },
   "outputs": [
    {
     "name": "stdout",
     "output_type": "stream",
     "text": [
      "3768 words occur at least three times.\n"
     ]
    }
   ],
   "source": [
    "# Retain in vocabulary words occurring more than twice.\n",
    "vocab = set([w for w, c in word_counts.items() if c > 2])\n",
    "print('%d words occur at least three times.' % len(vocab))"
   ]
  },
  {
   "cell_type": "code",
   "execution_count": 22,
   "metadata": {
    "collapsed": false
   },
   "outputs": [],
   "source": [
    "# Prune tokens.\n",
    "newtoks = []\n",
    "for i, tweet in enumerate(tokens):\n",
    "    newtok = [token for token in tweet if token in vocab]\n",
    "    if len(newtok) > 0:\n",
    "        newtoks.append(newtok)\n",
    "tokens = newtoks"
   ]
  },
  {
   "cell_type": "code",
   "execution_count": 23,
   "metadata": {
    "collapsed": false
   },
   "outputs": [
    {
     "data": {
      "text/plain": [
       "['rt',\n",
       " 'the',\n",
       " 'greatest',\n",
       " 'feeling',\n",
       " 'in',\n",
       " 'the',\n",
       " 'world',\n",
       " 'is',\n",
       " 'out',\n",
       " 'of',\n",
       " 'your',\n",
       " 'comfort',\n",
       " 'zone',\n",
       " 'taking',\n",
       " 'a',\n",
       " 'risk',\n",
       " 'to',\n",
       " 'o']"
      ]
     },
     "execution_count": 23,
     "metadata": {},
     "output_type": "execute_result"
    }
   ],
   "source": [
    "# A sample pruned tweet.\n",
    "tokens[0]"
   ]
  },
  {
   "cell_type": "markdown",
   "metadata": {},
   "source": [
    "**Context features**\n",
    "\n",
    "To determine if two words are similar, we will create a feature vector that counts how often other words appear nearby.\n",
    "\n",
    "E.g.,\n",
    "\n",
    "> I really **love** school.\n",
    "\n",
    "> I really **like** school.\n",
    "\n",
    "> You **love** school.\n",
    "\n",
    "**love:** {really@-1: 1, school@1: 1, you@-1: 1}\n",
    "\n",
    "**like:** {really@-1: 1, school@1: 1}\n",
    "\n",
    "<br>\n",
    "\n",
    "**Assumption**: words with similar meaning have similar contexts vectors.\n",
    "\n"
   ]
  },
  {
   "cell_type": "code",
   "execution_count": 25,
   "metadata": {
    "collapsed": false
   },
   "outputs": [
    {
     "name": "stdout",
     "output_type": "stream",
     "text": [
      "context for word feeling in ['rt', 'the', 'greatest', 'feeling', 'in', 'the', 'world', 'is', 'out', 'of', 'your', 'comfort', 'zone', 'taking', 'a', 'risk', 'to', 'o']\n",
      "['the@-2', 'greatest@-1', 'in@1', 'the@2']\n"
     ]
    }
   ],
   "source": [
    "import numpy as np\n",
    "def get_contexts(tweet, i, window):\n",
    "    \"\"\"\n",
    "    Get the context features for token at position i\n",
    "    in this tweet, using the given window size.\n",
    "    \"\"\"\n",
    "    features = []\n",
    "    for j in range(np.amax([0, i-window]), i):\n",
    "        features.append(tweet[j] + \"@\" + str(j-i))\n",
    "    for j in range(i+1, min(i + window + 1, len(tweet))):\n",
    "        features.append(tweet[j] + \"@\" + str(j-i))\n",
    "    return features\n",
    "\n",
    "print('context for word %s in %s' % (tokens[0][3], tokens[0]))\n",
    "print(get_contexts(tokens[0], i=3, window=2))"
   ]
  },
  {
   "cell_type": "markdown",
   "metadata": {},
   "source": [
    "** Q: How would the approach differ if we ignore location of context?**\n",
    "\n",
    "E.g., **love:** {really: 1, school:1, you: 1} **vs** {really@-1: 1, school@1: 1, you@-1: 1}"
   ]
  },
  {
   "cell_type": "code",
   "execution_count": 26,
   "metadata": {
    "collapsed": false
   },
   "outputs": [],
   "source": [
    "# For each term, create a context vector, indicating how often\n",
    "# each word occurs to the left or right of it.\n",
    "from collections import defaultdict\n",
    "import numpy as np\n",
    "\n",
    "# dict from term to context vector.\n",
    "contexts = defaultdict(lambda: Counter())\n",
    "window = 2\n",
    "for tweet in tokens:\n",
    "    for i, token in enumerate(tweet):\n",
    "        features = get_contexts(tweet, i, window)\n",
    "        contexts[token].update(features)\n",
    "        # Optionally: ignore word order\n",
    "        # contexts[token].update(tweet[:i] + tweet[i+1:])\n"
   ]
  },
  {
   "cell_type": "code",
   "execution_count": 27,
   "metadata": {
    "collapsed": false
   },
   "outputs": [
    {
     "data": {
      "text/plain": [
       "[('m@1', 1885),\n",
       " ('rt@-1', 1631),\n",
       " ('t@2', 821),\n",
       " ('a@2', 519),\n",
       " ('rt@-2', 506),\n",
       " ('and@-1', 453),\n",
       " ('when@-1', 444),\n",
       " ('to@2', 399),\n",
       " ('don@1', 380),\n",
       " ('ve@1', 359),\n",
       " ('you@2', 358),\n",
       " ('love@1', 341),\n",
       " ('am@1', 338),\n",
       " ('can@1', 332),\n",
       " ('the@-2', 317),\n",
       " ('not@2', 310),\n",
       " ('but@-1', 302),\n",
       " ('just@1', 292),\n",
       " ('was@1', 258),\n",
       " ('have@1', 256)]"
      ]
     },
     "execution_count": 27,
     "metadata": {},
     "output_type": "execute_result"
    }
   ],
   "source": [
    "contexts['i'].most_common(20)"
   ]
  },
  {
   "cell_type": "markdown",
   "metadata": {},
   "source": [
    "**tf-idf vectors**\n",
    "\n",
    "- We will transform the context features by dividing by (the log of) the number of distinct terms this feature appears in."
   ]
  },
  {
   "cell_type": "code",
   "execution_count": 29,
   "metadata": {
    "collapsed": false
   },
   "outputs": [
    {
     "data": {
      "text/plain": [
       "[('i@-1', 10872),\n",
       " ('i@-2', 10470),\n",
       " ('i@1', 9138),\n",
       " ('i@2', 7095),\n",
       " ('rt@-1', 5081)]"
      ]
     },
     "execution_count": 29,
     "metadata": {},
     "output_type": "execute_result"
    }
   ],
   "source": [
    "# Compute the number of different contexts each term appears in.\n",
    "tweet_freq = Counter()\n",
    "for context in contexts.values():\n",
    "    tweet_freq.update(context)\n",
    "tweet_freq.most_common(5)"
   ]
  },
  {
   "cell_type": "code",
   "execution_count": 30,
   "metadata": {
    "collapsed": false
   },
   "outputs": [
    {
     "data": {
      "text/plain": [
       "Counter({1: 241,\n",
       "         2: 732,\n",
       "         3: 3013,\n",
       "         4: 1956,\n",
       "         5: 1272,\n",
       "         6: 914,\n",
       "         7: 725,\n",
       "         8: 648,\n",
       "         9: 447,\n",
       "         10: 394,\n",
       "         11: 313,\n",
       "         12: 290,\n",
       "         13: 235,\n",
       "         14: 184,\n",
       "         15: 163,\n",
       "         16: 165,\n",
       "         17: 103,\n",
       "         18: 145,\n",
       "         19: 138,\n",
       "         20: 104,\n",
       "         21: 76,\n",
       "         22: 89,\n",
       "         23: 86,\n",
       "         24: 72,\n",
       "         25: 81,\n",
       "         26: 77,\n",
       "         27: 62,\n",
       "         28: 57,\n",
       "         29: 63,\n",
       "         30: 53,\n",
       "         31: 51,\n",
       "         32: 36,\n",
       "         33: 41,\n",
       "         34: 39,\n",
       "         35: 51,\n",
       "         36: 33,\n",
       "         37: 21,\n",
       "         38: 41,\n",
       "         39: 39,\n",
       "         40: 28,\n",
       "         41: 47,\n",
       "         42: 32,\n",
       "         43: 38,\n",
       "         44: 29,\n",
       "         45: 29,\n",
       "         46: 32,\n",
       "         47: 35,\n",
       "         48: 24,\n",
       "         49: 20,\n",
       "         50: 24,\n",
       "         51: 14,\n",
       "         52: 14,\n",
       "         53: 22,\n",
       "         54: 24,\n",
       "         55: 17,\n",
       "         56: 24,\n",
       "         57: 21,\n",
       "         58: 23,\n",
       "         59: 21,\n",
       "         60: 21,\n",
       "         61: 12,\n",
       "         62: 10,\n",
       "         63: 17,\n",
       "         64: 9,\n",
       "         65: 13,\n",
       "         66: 12,\n",
       "         67: 17,\n",
       "         68: 15,\n",
       "         69: 8,\n",
       "         70: 11,\n",
       "         71: 7,\n",
       "         72: 9,\n",
       "         73: 5,\n",
       "         74: 14,\n",
       "         75: 9,\n",
       "         76: 12,\n",
       "         77: 13,\n",
       "         78: 8,\n",
       "         79: 18,\n",
       "         80: 11,\n",
       "         81: 11,\n",
       "         82: 13,\n",
       "         83: 7,\n",
       "         84: 12,\n",
       "         85: 8,\n",
       "         86: 6,\n",
       "         87: 8,\n",
       "         88: 8,\n",
       "         89: 8,\n",
       "         90: 6,\n",
       "         91: 6,\n",
       "         92: 8,\n",
       "         93: 12,\n",
       "         94: 5,\n",
       "         95: 6,\n",
       "         96: 10,\n",
       "         97: 6,\n",
       "         98: 5,\n",
       "         99: 9,\n",
       "         100: 5,\n",
       "         101: 5,\n",
       "         102: 5,\n",
       "         103: 3,\n",
       "         104: 7,\n",
       "         105: 11,\n",
       "         106: 15,\n",
       "         107: 7,\n",
       "         108: 6,\n",
       "         109: 9,\n",
       "         110: 4,\n",
       "         111: 9,\n",
       "         112: 4,\n",
       "         113: 8,\n",
       "         114: 9,\n",
       "         115: 6,\n",
       "         116: 3,\n",
       "         117: 2,\n",
       "         118: 4,\n",
       "         119: 3,\n",
       "         120: 3,\n",
       "         121: 2,\n",
       "         123: 3,\n",
       "         124: 4,\n",
       "         125: 4,\n",
       "         126: 4,\n",
       "         127: 2,\n",
       "         128: 2,\n",
       "         129: 9,\n",
       "         130: 4,\n",
       "         131: 8,\n",
       "         132: 1,\n",
       "         133: 7,\n",
       "         134: 4,\n",
       "         135: 2,\n",
       "         136: 6,\n",
       "         137: 8,\n",
       "         138: 5,\n",
       "         139: 2,\n",
       "         140: 1,\n",
       "         141: 4,\n",
       "         142: 1,\n",
       "         143: 2,\n",
       "         144: 2,\n",
       "         145: 3,\n",
       "         146: 4,\n",
       "         147: 3,\n",
       "         148: 2,\n",
       "         150: 3,\n",
       "         151: 3,\n",
       "         152: 1,\n",
       "         153: 3,\n",
       "         154: 2,\n",
       "         155: 4,\n",
       "         156: 2,\n",
       "         157: 2,\n",
       "         158: 3,\n",
       "         159: 1,\n",
       "         160: 2,\n",
       "         161: 1,\n",
       "         162: 1,\n",
       "         164: 1,\n",
       "         165: 3,\n",
       "         166: 1,\n",
       "         167: 2,\n",
       "         168: 2,\n",
       "         169: 3,\n",
       "         170: 1,\n",
       "         171: 2,\n",
       "         172: 2,\n",
       "         173: 3,\n",
       "         174: 2,\n",
       "         176: 4,\n",
       "         177: 2,\n",
       "         179: 1,\n",
       "         180: 3,\n",
       "         181: 2,\n",
       "         182: 1,\n",
       "         183: 1,\n",
       "         184: 5,\n",
       "         185: 4,\n",
       "         186: 2,\n",
       "         187: 2,\n",
       "         188: 1,\n",
       "         189: 4,\n",
       "         190: 1,\n",
       "         191: 1,\n",
       "         193: 1,\n",
       "         194: 1,\n",
       "         195: 1,\n",
       "         196: 2,\n",
       "         197: 1,\n",
       "         198: 6,\n",
       "         200: 5,\n",
       "         201: 2,\n",
       "         202: 2,\n",
       "         203: 4,\n",
       "         204: 1,\n",
       "         205: 3,\n",
       "         206: 2,\n",
       "         207: 3,\n",
       "         209: 1,\n",
       "         210: 1,\n",
       "         213: 2,\n",
       "         214: 1,\n",
       "         215: 1,\n",
       "         216: 2,\n",
       "         217: 2,\n",
       "         220: 2,\n",
       "         221: 4,\n",
       "         222: 1,\n",
       "         225: 2,\n",
       "         226: 1,\n",
       "         228: 1,\n",
       "         231: 1,\n",
       "         232: 1,\n",
       "         233: 3,\n",
       "         235: 1,\n",
       "         236: 2,\n",
       "         237: 1,\n",
       "         238: 1,\n",
       "         239: 1,\n",
       "         240: 4,\n",
       "         241: 2,\n",
       "         242: 1,\n",
       "         243: 3,\n",
       "         245: 2,\n",
       "         246: 1,\n",
       "         247: 3,\n",
       "         250: 2,\n",
       "         251: 2,\n",
       "         252: 2,\n",
       "         254: 1,\n",
       "         255: 4,\n",
       "         256: 1,\n",
       "         257: 1,\n",
       "         258: 3,\n",
       "         260: 1,\n",
       "         261: 1,\n",
       "         262: 1,\n",
       "         263: 3,\n",
       "         266: 2,\n",
       "         267: 3,\n",
       "         268: 1,\n",
       "         269: 2,\n",
       "         270: 2,\n",
       "         272: 1,\n",
       "         273: 2,\n",
       "         274: 1,\n",
       "         276: 3,\n",
       "         278: 1,\n",
       "         279: 2,\n",
       "         280: 1,\n",
       "         281: 1,\n",
       "         282: 1,\n",
       "         283: 1,\n",
       "         284: 1,\n",
       "         286: 1,\n",
       "         289: 2,\n",
       "         293: 1,\n",
       "         294: 1,\n",
       "         295: 2,\n",
       "         296: 1,\n",
       "         298: 1,\n",
       "         301: 1,\n",
       "         302: 2,\n",
       "         303: 1,\n",
       "         305: 1,\n",
       "         306: 1,\n",
       "         307: 1,\n",
       "         308: 2,\n",
       "         310: 1,\n",
       "         312: 1,\n",
       "         313: 1,\n",
       "         315: 2,\n",
       "         316: 1,\n",
       "         317: 1,\n",
       "         319: 1,\n",
       "         320: 2,\n",
       "         321: 1,\n",
       "         323: 1,\n",
       "         324: 1,\n",
       "         327: 1,\n",
       "         329: 2,\n",
       "         330: 1,\n",
       "         334: 1,\n",
       "         336: 1,\n",
       "         338: 1,\n",
       "         340: 1,\n",
       "         341: 1,\n",
       "         342: 2,\n",
       "         343: 1,\n",
       "         344: 1,\n",
       "         346: 1,\n",
       "         348: 1,\n",
       "         350: 1,\n",
       "         351: 1,\n",
       "         353: 3,\n",
       "         354: 1,\n",
       "         356: 1,\n",
       "         361: 2,\n",
       "         369: 1,\n",
       "         374: 1,\n",
       "         375: 1,\n",
       "         381: 3,\n",
       "         383: 1,\n",
       "         384: 1,\n",
       "         387: 1,\n",
       "         388: 1,\n",
       "         393: 1,\n",
       "         399: 1,\n",
       "         401: 1,\n",
       "         404: 2,\n",
       "         406: 1,\n",
       "         408: 1,\n",
       "         411: 2,\n",
       "         414: 1,\n",
       "         419: 1,\n",
       "         422: 1,\n",
       "         423: 2,\n",
       "         426: 1,\n",
       "         427: 1,\n",
       "         428: 1,\n",
       "         431: 1,\n",
       "         432: 2,\n",
       "         433: 2,\n",
       "         434: 2,\n",
       "         437: 2,\n",
       "         440: 1,\n",
       "         445: 1,\n",
       "         446: 1,\n",
       "         447: 2,\n",
       "         450: 2,\n",
       "         453: 1,\n",
       "         459: 1,\n",
       "         465: 1,\n",
       "         471: 1,\n",
       "         474: 1,\n",
       "         477: 1,\n",
       "         481: 1,\n",
       "         485: 1,\n",
       "         493: 1,\n",
       "         504: 1,\n",
       "         506: 1,\n",
       "         510: 1,\n",
       "         516: 1,\n",
       "         520: 1,\n",
       "         548: 1,\n",
       "         565: 1,\n",
       "         566: 1,\n",
       "         570: 1,\n",
       "         571: 1,\n",
       "         573: 1,\n",
       "         577: 1,\n",
       "         578: 1,\n",
       "         580: 1,\n",
       "         589: 2,\n",
       "         590: 1,\n",
       "         591: 1,\n",
       "         607: 1,\n",
       "         613: 1,\n",
       "         634: 1,\n",
       "         637: 1,\n",
       "         639: 1,\n",
       "         640: 1,\n",
       "         643: 1,\n",
       "         646: 2,\n",
       "         651: 1,\n",
       "         652: 1,\n",
       "         654: 1,\n",
       "         671: 2,\n",
       "         672: 1,\n",
       "         673: 1,\n",
       "         677: 1,\n",
       "         678: 1,\n",
       "         681: 1,\n",
       "         682: 1,\n",
       "         686: 1,\n",
       "         692: 3,\n",
       "         693: 1,\n",
       "         700: 2,\n",
       "         701: 1,\n",
       "         710: 1,\n",
       "         711: 1,\n",
       "         717: 1,\n",
       "         718: 1,\n",
       "         723: 1,\n",
       "         725: 1,\n",
       "         730: 1,\n",
       "         733: 1,\n",
       "         738: 1,\n",
       "         745: 2,\n",
       "         750: 1,\n",
       "         786: 1,\n",
       "         793: 1,\n",
       "         795: 1,\n",
       "         802: 1,\n",
       "         805: 1,\n",
       "         813: 1,\n",
       "         827: 1,\n",
       "         907: 1,\n",
       "         909: 1,\n",
       "         910: 1,\n",
       "         935: 1,\n",
       "         942: 1,\n",
       "         951: 1,\n",
       "         1001: 1,\n",
       "         1048: 1,\n",
       "         1077: 1,\n",
       "         1101: 1,\n",
       "         1115: 1,\n",
       "         1117: 1,\n",
       "         1125: 1,\n",
       "         1154: 1,\n",
       "         1157: 1,\n",
       "         1166: 1,\n",
       "         1177: 1,\n",
       "         1198: 1,\n",
       "         1207: 1,\n",
       "         1212: 1,\n",
       "         1218: 1,\n",
       "         1244: 1,\n",
       "         1255: 1,\n",
       "         1260: 1,\n",
       "         1262: 1,\n",
       "         1272: 1,\n",
       "         1284: 1,\n",
       "         1290: 1,\n",
       "         1299: 1,\n",
       "         1316: 1,\n",
       "         1359: 1,\n",
       "         1385: 1,\n",
       "         1391: 1,\n",
       "         1395: 1,\n",
       "         1418: 1,\n",
       "         1430: 1,\n",
       "         1492: 1,\n",
       "         1493: 1,\n",
       "         1532: 1,\n",
       "         1534: 1,\n",
       "         1559: 1,\n",
       "         1563: 1,\n",
       "         1570: 1,\n",
       "         1571: 1,\n",
       "         1601: 1,\n",
       "         1639: 1,\n",
       "         1653: 1,\n",
       "         1658: 1,\n",
       "         1671: 1,\n",
       "         1711: 1,\n",
       "         1729: 1,\n",
       "         1749: 2,\n",
       "         1778: 1,\n",
       "         1851: 1,\n",
       "         1875: 1,\n",
       "         1877: 1,\n",
       "         1933: 1,\n",
       "         2064: 1,\n",
       "         2122: 1,\n",
       "         2156: 1,\n",
       "         2202: 1,\n",
       "         2213: 1,\n",
       "         2234: 1,\n",
       "         2268: 1,\n",
       "         2403: 1,\n",
       "         2630: 1,\n",
       "         2900: 1,\n",
       "         2932: 1,\n",
       "         2993: 1,\n",
       "         3130: 1,\n",
       "         3150: 1,\n",
       "         3357: 1,\n",
       "         3446: 1,\n",
       "         3472: 1,\n",
       "         3504: 1,\n",
       "         3527: 1,\n",
       "         3548: 1,\n",
       "         5064: 1,\n",
       "         5081: 1,\n",
       "         7095: 1,\n",
       "         9138: 1,\n",
       "         10470: 1,\n",
       "         10872: 1})"
      ]
     },
     "execution_count": 30,
     "metadata": {},
     "output_type": "execute_result"
    }
   ],
   "source": [
    "Counter(tweet_freq.values())"
   ]
  },
  {
   "cell_type": "code",
   "execution_count": 31,
   "metadata": {
    "collapsed": false
   },
   "outputs": [
    {
     "data": {
      "text/plain": [
       "[('m@1', 0.5582214597504179),\n",
       " ('rt@-1', 0.4340378615319769),\n",
       " ('t@2', 0.2460022777183741),\n",
       " ('when@-1', 0.1478219992761952),\n",
       " ('a@2', 0.1465682588130064)]"
      ]
     },
     "execution_count": 31,
     "metadata": {},
     "output_type": "execute_result"
    }
   ],
   "source": [
    "# Transform each context vector to be term freq / tweet frequency. \n",
    "# Also then normalize by length.\n",
    "for term, context in contexts.items():\n",
    "    for term2, frequency in context.items():\n",
    "        context[term2] = frequency / (1. + math.log(tweet_freq[term2]))\n",
    "    length = math.sqrt(sum([v*v for v in context.values()]))\n",
    "    for term2, frequency in context.items():\n",
    "        context[term2] = 1. * frequency / length\n",
    "    \n",
    "contexts['i'].most_common(5)"
   ]
  },
  {
   "cell_type": "code",
   "execution_count": 32,
   "metadata": {
    "collapsed": false
   },
   "outputs": [
    {
     "data": {
      "text/plain": [
       "[('high@-1', 0.44824461523385556),\n",
       " ('middle@-1', 0.276809786508761),\n",
       " ('dance@1', 0.22496667376105228),\n",
       " ('in@-2', 0.22153077383442005),\n",
       " ('at@-1', 0.20311253102482868),\n",
       " ('i@1', 0.19779675303454353),\n",
       " ('haven@2', 0.18237836627142215),\n",
       " ('med@-1', 0.18197655195331622),\n",
       " ('to@-1', 0.17909179275324286),\n",
       " ('to@-2', 0.16088479142291645)]"
      ]
     },
     "execution_count": 32,
     "metadata": {},
     "output_type": "execute_result"
    }
   ],
   "source": [
    "contexts['school'].most_common(10)"
   ]
  },
  {
   "cell_type": "code",
   "execution_count": 33,
   "metadata": {
    "collapsed": false
   },
   "outputs": [
    {
     "data": {
      "text/plain": [
       "[('i@-1', 0.8137148135270944),\n",
       " ('you@1', 0.3719081059401668),\n",
       " ('rt@-2', 0.1778524815448788),\n",
       " ('in@-1', 0.10348512628664915),\n",
       " ('so@2', 0.10184880113176296),\n",
       " ('i@-2', 0.0981960838507083),\n",
       " ('u@1', 0.08830235442789779),\n",
       " ('babies@2', 0.07162307293925912),\n",
       " ('to@1', 0.06961578792104153),\n",
       " ('this@1', 0.06904772892089626)]"
      ]
     },
     "execution_count": 33,
     "metadata": {},
     "output_type": "execute_result"
    }
   ],
   "source": [
    "contexts['love'].most_common(10)"
   ]
  },
  {
   "cell_type": "code",
   "execution_count": 34,
   "metadata": {
    "collapsed": false
   },
   "outputs": [
    {
     "data": {
      "text/plain": [
       "[('i@-1', 0.7914599480479385),\n",
       " ('rt@-2', 0.31577868748481397),\n",
       " ('when@1', 0.14534233096643914),\n",
       " ('prejudices@-2', 0.14064065606799675),\n",
       " ('suspicious@2', 0.12303362601123709),\n",
       " ('seeing@1', 0.11587545481482033),\n",
       " ('received@-1', 0.10530929429508859),\n",
       " ('it@1', 0.10402789702708894),\n",
       " ('due@1', 0.09897197720363868),\n",
       " ('country@1', 0.09249593826492027)]"
      ]
     },
     "execution_count": 34,
     "metadata": {},
     "output_type": "execute_result"
    }
   ],
   "source": [
    "contexts['hate'].most_common(10)"
   ]
  },
  {
   "cell_type": "markdown",
   "metadata": {},
   "source": [
    "At this point we have a list of dictionaries, one per term, indicating the terms that co-occur (weighted by inverse tweet frequency).\n",
    "\n",
    "Next, we have to cluster these vectors. To do this, we'll need to be able to compute the euclidean distance between two vectors."
   ]
  },
  {
   "cell_type": "code",
   "execution_count": 35,
   "metadata": {
    "collapsed": false
   },
   "outputs": [
    {
     "name": "stdout",
     "output_type": "stream",
     "text": [
      "1.4142135623730951\n",
      "2.23606797749979\n"
     ]
    }
   ],
   "source": [
    "# n.b. This is not efficient!\n",
    "def distance(c1, c2):\n",
    "    if len(c1.keys()) == 0 or len(c2.keys()) == 0:\n",
    "        return 1e9\n",
    "    keys = set(c1.keys()) | set(c2.keys())\n",
    "    distance = 0.\n",
    "    for k in keys:\n",
    "        distance += (c1[k] - c2[k]) ** 2\n",
    "    return math.sqrt(distance)\n",
    "\n",
    "print(distance({'hi':10, 'bye': 5}, {'hi': 9, 'bye': 4}))\n",
    "print(distance({'hi':10, 'bye': 5}, {'hi': 8, 'bye': 4}))"
   ]
  },
  {
   "cell_type": "code",
   "execution_count": 36,
   "metadata": {
    "collapsed": false
   },
   "outputs": [
    {
     "data": {
      "text/plain": [
       "array(['love', 'hope', 'miss', 'm', 'hate', 'am', 'll', 'swear', 'think',\n",
       "       'thought'],\n",
       "      dtype='<U76')"
      ]
     },
     "execution_count": 36,
     "metadata": {},
     "output_type": "execute_result"
    }
   ],
   "source": [
    "def find_closest(term, n=5):\n",
    "    terms = np.array(list(contexts.keys()))\n",
    "    context = contexts[term]\n",
    "    distances = []\n",
    "    for term2, context2 in contexts.items():\n",
    "        distances.append(distance(context, context2))\n",
    "    return terms[np.argsort(distances)][:n]\n",
    "\n",
    "find_closest('love', n=10)"
   ]
  },
  {
   "cell_type": "code",
   "execution_count": 37,
   "metadata": {
    "collapsed": false
   },
   "outputs": [
    {
     "name": "stdout",
     "output_type": "stream",
     "text": [
      "3768 nonzero contexts\n"
     ]
    }
   ],
   "source": [
    "nz_contexts = [t for t, context in contexts.items()\n",
    "               if len(context) > 1]\n",
    "contexts = dict([(term, contexts[term]) for term in nz_contexts])\n",
    "print(len(nz_contexts), 'nonzero contexts')"
   ]
  },
  {
   "cell_type": "code",
   "execution_count": 38,
   "metadata": {
    "collapsed": false
   },
   "outputs": [
    {
     "name": "stdout",
     "output_type": "stream",
     "text": [
      "rt\n",
      "[('the@1', 0.0683073756730184), ('greatest@2', 0.002745818714779079), ('when@1', 0.04446290612775616)]\n"
     ]
    }
   ],
   "source": [
    "# e.g., what are three context features for the term \"rt\"?\n",
    "print(list(contexts.keys())[0])\n",
    "print(list(list(contexts.values())[0].items())[:3])"
   ]
  },
  {
   "cell_type": "code",
   "execution_count": 39,
   "metadata": {
    "collapsed": false
   },
   "outputs": [
    {
     "name": "stdout",
     "output_type": "stream",
     "text": [
      "['a@-1' 'a@-2' 'a@1' 'a@2' 'abandoned@-1' 'abandoned@-2' 'abandoned@1'\n",
      " 'abandoned@2' 'able@-1' 'able@-2']\n",
      "  (0, 0)\t0.00469227029408\n",
      "  (0, 1)\t0.00237197032823\n",
      "  (0, 2)\t0.0192877598577\n",
      "  (0, 3)\t0.0240185086907\n",
      "  (0, 11)\t0.00133419593933\n",
      "  (0, 16)\t0.00148857295274\n",
      "  (0, 17)\t0.00149201211056\n",
      "  (0, 30)\t0.00270547638962\n",
      "  (0, 31)\t0.00147622138247\n",
      "  (0, 111)\t0.00125959470189\n",
      "  (0, 115)\t0.00117845179014\n",
      "  (0, 146)\t0.000929232994559\n",
      "  (0, 147)\t0.000933967628242\n",
      "  (0, 163)\t0.00144615871426\n",
      "  (0, 179)\t0.00250768305196\n",
      "  (0, 183)\t0.00159349549542\n",
      "  (0, 195)\t0.0034179278273\n",
      "  (0, 219)\t0.00141925113834\n",
      "  (0, 248)\t0.00731738520698\n",
      "  (0, 249)\t0.00651553583701\n",
      "  (0, 253)\t0.00285362485145\n",
      "  (0, 281)\t0.00561184662607\n",
      "  (0, 285)\t0.00377878410568\n",
      "  (0, 304)\t0.00250768305196\n",
      "  (0, 316)\t0.000884664125953\n",
      "  :\t:\n",
      "  (0, 14753)\t0.00272794573339\n",
      "  (0, 14754)\t0.013761695615\n",
      "  (0, 14757)\t0.00187117507715\n",
      "  (0, 14758)\t0.0131681115934\n",
      "  (0, 14766)\t0.00188506729428\n",
      "  (0, 14773)\t0.00358719730966\n",
      "  (0, 14774)\t0.00251918940378\n",
      "  (0, 14777)\t0.00234077421064\n",
      "  (0, 14778)\t0.00118688986373\n",
      "  (0, 14782)\t0.00111648965889\n",
      "  (0, 14785)\t0.00220001917634\n",
      "  (0, 14790)\t0.00151012781626\n",
      "  (0, 14794)\t0.0044107336921\n",
      "  (0, 14798)\t0.00658402854304\n",
      "  (0, 14799)\t0.00120611053699\n",
      "  (0, 14801)\t0.0664985401372\n",
      "  (0, 14802)\t0.051404305485\n",
      "  (0, 14805)\t0.00128638471219\n",
      "  (0, 14806)\t0.00260236136649\n",
      "  (0, 14813)\t0.00225179885662\n",
      "  (0, 14814)\t0.00978193957847\n",
      "  (0, 14826)\t0.00121477516968\n",
      "  (0, 14832)\t0.00501536610392\n",
      "  (0, 14844)\t0.00526265446893\n",
      "  (0, 14864)\t0.0318515391669\n"
     ]
    }
   ],
   "source": [
    "# Transform context dicts to a sparse vector\n",
    "# for sklearn.\n",
    "from sklearn.feature_extraction import DictVectorizer\n",
    "\n",
    "vec = DictVectorizer()\n",
    "X = vec.fit_transform(contexts.values())\n",
    "names = np.array(vec.get_feature_names())\n",
    "print(names[:10])\n",
    "print(X[0])"
   ]
  },
  {
   "cell_type": "code",
   "execution_count": 40,
   "metadata": {
    "collapsed": false
   },
   "outputs": [
    {
     "name": "stdout",
     "output_type": "stream",
     "text": [
      "49\n",
      "  (0, 1)\t0.00553572015238\n",
      "  (0, 2)\t0.0109124611968\n",
      "  (0, 3)\t0.0136718428235\n",
      "  (0, 14)\t0.00348673067176\n",
      "  (0, 15)\t0.00353406694781\n",
      "  (0, 17)\t0.00348206780233\n",
      "  (0, 28)\t0.00614756806249\n",
      "  (0, 144)\t0.00434457169663\n",
      "  (0, 145)\t0.00454324239669\n",
      "  (0, 245)\t0.00797678273112\n",
      "  (0, 250)\t0.00487086781525\n",
      "  (0, 295)\t0.0076829248359\n",
      "  (0, 324)\t0.00722919164337\n",
      "  (0, 327)\t0.00722919164337\n",
      "  (0, 341)\t0.00562454137925\n",
      "  (0, 351)\t0.00659255897575\n",
      "  (0, 352)\t0.022868052213\n",
      "  (0, 353)\t0.0197527099471\n",
      "  (0, 375)\t0.00587930101157\n",
      "  (0, 401)\t0.00453307965468\n",
      "  (0, 410)\t0.00838389846504\n",
      "  (0, 411)\t0.00426934058479\n",
      "  (0, 413)\t0.00851338713158\n",
      "  (0, 423)\t0.0116448253662\n",
      "  (0, 456)\t0.00361445370419\n",
      "  :\t:\n",
      "  (0, 14561)\t0.00857774499953\n",
      "  (0, 14567)\t0.00640821000721\n",
      "  (0, 14599)\t0.0083404346929\n",
      "  (0, 14606)\t0.00571810263689\n",
      "  (0, 14643)\t0.00797678273112\n",
      "  (0, 14649)\t0.00689043059188\n",
      "  (0, 14651)\t0.00651118844902\n",
      "  (0, 14652)\t0.0307138624097\n",
      "  (0, 14669)\t0.010042902075\n",
      "  (0, 14689)\t0.00558121665107\n",
      "  (0, 14697)\t0.00631405882004\n",
      "  (0, 14707)\t0.00526722663386\n",
      "  (0, 14718)\t0.00389394320112\n",
      "  (0, 14744)\t0.00689043059188\n",
      "  (0, 14748)\t0.00535920903589\n",
      "  (0, 14771)\t0.00500079826255\n",
      "  (0, 14785)\t0.00513441940867\n",
      "  (0, 14799)\t0.0365927744711\n",
      "  (0, 14800)\t0.0510562140066\n",
      "  (0, 14801)\t0.37190810594\n",
      "  (0, 14802)\t0.0282276966022\n",
      "  (0, 14811)\t0.00702938094687\n",
      "  (0, 14813)\t0.0245245614667\n",
      "  (0, 14814)\t0.0105365334224\n",
      "  (0, 14831)\t0.0117048948221\n",
      "yea@-1\n"
     ]
    }
   ],
   "source": [
    "# Which row of X is the word \"love\"?\n",
    "love_idx = list(contexts.keys()).index('love')\n",
    "print(love_idx)\n",
    "# What are the context feature values for love?\n",
    "print(X[love_idx])\n",
    "# Print a highly ranking feature.\n",
    "print(names[14743])"
   ]
  },
  {
   "cell_type": "code",
   "execution_count": 41,
   "metadata": {
    "collapsed": false
   },
   "outputs": [
    {
     "data": {
      "text/plain": [
       "KMeans(algorithm='auto', copy_x=True, init='k-means++', max_iter=300,\n",
       "    n_clusters=20, n_init=10, n_jobs=1, precompute_distances='auto',\n",
       "    random_state=None, tol=0.0001, verbose=0)"
      ]
     },
     "execution_count": 41,
     "metadata": {},
     "output_type": "execute_result"
    }
   ],
   "source": [
    "# Let's cluster!\n",
    "# http://scikit-learn.org/stable/modules/generated/sklearn.cluster.KMeans.html\n",
    "from sklearn.cluster import KMeans\n",
    "num_clusters = 20\n",
    "kmeans = KMeans(num_clusters)\n",
    "kmeans.fit(X)"
   ]
  },
  {
   "cell_type": "code",
   "execution_count": 42,
   "metadata": {
    "collapsed": false
   },
   "outputs": [
    {
     "name": "stdout",
     "output_type": "stream",
     "text": [
      "0 s@-1 it@-2 i@-2 i@1 and@1\n",
      "1 of@1 the@-1 a@-1 the@2 the@-2\n",
      "2 to@-1 i@-1 i@-2 t@-1 i@2\n",
      "3 the@-1 i@2 in@-2 i@1 of@-2\n",
      "4 i@1 rt@-1 m@2 i@2 i@-2\n",
      "5 my@-1 i@1 and@1 i@2 your@-1\n",
      "6 t@1 i@-1 we@-1 if@-2 heart@-2\n",
      "7 to@1 i@-2 i@-1 m@-1 the@2\n",
      "8 of@-1 the@-1 and@1 the@-2 i@1\n",
      "9 my@-2 i@1 i@2 and@1 the@-1\n",
      "10 m@-2 i@2 so@-1 when@1 i@1\n",
      "11 i@-1 rt@-2 i@-2 the@1 you@1\n",
      "12 and@1 i@2 i@1 i@-2 the@-1\n",
      "13 be@-1 to@-2 the@2 in@1 i@-2\n",
      "14 on@1 the@2 i@-2 i@1 i@2\n",
      "15 a@-1 i@1 i@2 the@-1 is@-2\n",
      "16 i@-2 rt@-1 the@-2 the@-1 and@-1\n",
      "17 i@-2 m@-1 i@2 i@1 the@1\n",
      "18 this@-1 i@1 the@-1 a@-1 i@2\n",
      "19 a@-2 a@-1 the@-1 i@2 the@-2\n"
     ]
    }
   ],
   "source": [
    "# Let's print out the top features for each mean vector.\n",
    "# This is swamped by common terms\n",
    "for i in range(num_clusters):\n",
    "    print(i, ' '.join(names[np.argsort(\n",
    "        kmeans.cluster_centers_[i])[::-1][:5]]))"
   ]
  },
  {
   "cell_type": "code",
   "execution_count": 43,
   "metadata": {
    "collapsed": false
   },
   "outputs": [
    {
     "name": "stdout",
     "output_type": "stream",
     "text": [
      "distance from term \"love\" to each cluster:\n",
      "[ 0.99906709  1.03256762  0.93987811  1.024899    1.01064838  1.01944766\n",
      "  1.10228092  0.98968205  0.99938276  0.98827777  0.97608548  0.62476626\n",
      "  0.98192206  1.00981618  1.0011895   1.03278746  0.97250793  0.98842098\n",
      "  1.01922596  0.99833337]\n",
      "closest cluster to \"love\":\n",
      "11\n"
     ]
    }
   ],
   "source": [
    "# .transform will compute the distance from each context to each cluster.\n",
    "distances = kmeans.transform(X)\n",
    "# e.g., what is the distance from the word \"love\" to each cluster?\n",
    "print('distance from term \"love\" to each cluster:')\n",
    "print(distances[love_idx])\n",
    "# what is the closest cluster for the word \"love\"?\n",
    "print('closest cluster to \"love\":')\n",
    "print(np.argmin(distances[love_idx]))"
   ]
  },
  {
   "cell_type": "code",
   "execution_count": 44,
   "metadata": {
    "collapsed": false
   },
   "outputs": [
    {
     "name": "stdout",
     "output_type": "stream",
     "text": [
      "0 funny gavin quavos som bright totally gooooooo dealing parents \n",
      "\n",
      "1 amount kind proud one part instead president tired colour \n",
      "\n",
      "2 do see say begin watch find take get read \n",
      "\n",
      "3 best truth past world shows stars club gist way \n",
      "\n",
      "4 and when what but yes hi today if wow \n",
      "\n",
      "5 mom own heart brother bestfriend cousins favorite mind hair \n",
      "\n",
      "6 didn wouldn couldn wasn doesn ain haven won isn \n",
      "\n",
      "7 used supposed wanted listening want decided listen willing starting \n",
      "\n",
      "8 them africa yours the peo society pruitt meat heaven \n",
      "\n",
      "9 but rt time where priority today thing what now \n",
      "\n",
      "10 jealous excited the bored much but and annoyed for \n",
      "\n",
      "11 am love ll hate hope swear think just saw \n",
      "\n",
      "12 plans cousins oppression apologize complex me thoughts strong corner \n",
      "\n",
      "13 dramatic amazed careful motivated honest perfect embarrassed ashamed successful \n",
      "\n",
      "14 working out shame congrats focus blast popular jump cheating \n",
      "\n",
      "15 great few bit couple star bl playlist believer video \n",
      "\n",
      "16 and you the that my me do for a \n",
      "\n",
      "17 honored sorry nervous done gonna so bored a odie \n",
      "\n",
      "18 is tweet morning piece month year guy thread opportunity \n",
      "\n",
      "19 top excuse supporter of man day relationship where person \n",
      "\n"
     ]
    }
   ],
   "source": [
    "# Finally, we'll print the words that are closest\n",
    "# to the mean of each cluster.\n",
    "terms = np.array(list(contexts.keys()))\n",
    "for i in range(distances.shape[1]):\n",
    "    print(i, ' '.join(terms[np.argsort(distances[:,i])[1:10]]), '\\n')"
   ]
  },
  {
   "cell_type": "markdown",
   "metadata": {},
   "source": [
    "Clearly, interpreting these results requires a bit of investigation.\n",
    "\n",
    "As the number of tweets increases, we expect these clusters to become more coherent."
   ]
  },
  {
   "cell_type": "markdown",
   "metadata": {},
   "source": [
    "**How does error decrease with number of cluster?**"
   ]
  },
  {
   "cell_type": "code",
   "execution_count": 45,
   "metadata": {
    "collapsed": false
   },
   "outputs": [
    {
     "data": {
      "text/plain": [
       "-3448.3248338538415"
      ]
     },
     "execution_count": 45,
     "metadata": {},
     "output_type": "execute_result"
    }
   ],
   "source": [
    "kmeans.score(X)"
   ]
  },
  {
   "cell_type": "code",
   "execution_count": 46,
   "metadata": {
    "collapsed": false
   },
   "outputs": [
    {
     "name": "stdout",
     "output_type": "stream",
     "text": [
      "k=5 score=3568.43\n",
      "k=10 score=3501.97\n",
      "k=20 score=3448.02\n",
      "k=50 score=3365.94\n",
      "k=100 score=3288.19\n"
     ]
    },
    {
     "data": {
      "image/png": "[encoded data removed]",
      "text/plain": [
       "<matplotlib.figure.Figure at 0x116ee1668>"
      ]
     },
     "metadata": {},
     "output_type": "display_data"
    }
   ],
   "source": [
    "import matplotlib.pyplot as plt\n",
    "%matplotlib inline\n",
    "\n",
    "scores = []\n",
    "num_cluster_options = [5,10,20,50,100]\n",
    "\n",
    "for num_clusters in num_cluster_options:\n",
    "    kmeans = KMeans(num_clusters, n_init=10, max_iter=10)\n",
    "    kmeans.fit(X)\n",
    "    score = -1 * kmeans.score(X)\n",
    "    scores.append(score)\n",
    "    print('k=%d score=%g' % (num_clusters, score))\n",
    "    \n",
    "plt.figure()\n",
    "plt.plot(num_cluster_options, scores, 'bo-')\n",
    "plt.xlabel('num clusters')\n",
    "plt.ylabel('error')\n",
    "plt.show()"
   ]
  },
  {
   "cell_type": "markdown",
   "metadata": {},
   "source": [
    "** How does error vary by initalization? **"
   ]
  },
  {
   "cell_type": "code",
   "execution_count": 47,
   "metadata": {
    "collapsed": false
   },
   "outputs": [
    {
     "name": "stdout",
     "output_type": "stream",
     "text": [
      "score=3456.04\n",
      "score=3455.95\n",
      "score=3457.99\n",
      "score=3461.53\n",
      "score=3459.64\n",
      "score=3461.99\n",
      "score=3461.05\n",
      "score=3457.85\n",
      "score=3463.08\n",
      "score=3457.6\n"
     ]
    },
    {
     "data": {
      "image/png": "[encoded data removed]",
      "text/plain": [
       "<matplotlib.figure.Figure at 0x116ca5a20>"
      ]
     },
     "metadata": {},
     "output_type": "display_data"
    }
   ],
   "source": [
    "scores = []\n",
    "for i in range(10):\n",
    "    kmeans = KMeans(20, n_init=1,\n",
    "                    max_iter=100,\n",
    "                    init='random')\n",
    "    kmeans.fit(X)\n",
    "    score = -1 * kmeans.score(X)\n",
    "    scores.append(score)\n",
    "    print('score=%g' % (score))\n",
    "     \n",
    "    \n",
    "plt.figure()\n",
    "plt.plot(range(10), sorted(scores), 'bo-')\n",
    "plt.xlabel('sample')\n",
    "plt.ylabel('error')\n",
    "plt.show()"
   ]
  }
 ],
 "metadata": {
  "kernelspec": {
   "display_name": "Python 3",
   "language": "python",
   "name": "python3"
  },
  "language_info": {
   "codemirror_mode": {
    "name": "ipython",
    "version": 3
   },
   "file_extension": ".py",
   "mimetype": "text/x-python",
   "name": "python",
   "nbconvert_exporter": "python",
   "pygments_lexer": "ipython3",
   "version": "3.6.0"
  }
 },
 "nbformat": 4,
 "nbformat_minor": 0
}
