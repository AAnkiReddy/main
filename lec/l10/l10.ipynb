{
 "cells": [
  {
   "cell_type": "markdown",
   "metadata": {
    "slideshow": {
     "slide_type": "slide"
    }
   },
   "source": [
    "# CS579: Lecture 10  \n",
    "\n",
    "**Sentiment Analysis**\n",
    "\n",
    "*[Dr. Aron Culotta](http://cs.iit.edu/~culotta)*  \n",
    "*[Illinois Institute of Technology](http://iit.edu)*\n",
    "\n",
    "*Warning: Live Twitter data is used below, some or all of which may be offensive.*"
   ]
  },
  {
   "cell_type": "markdown",
   "metadata": {},
   "source": [
    "# Midterm review \n",
    "\n",
    "~5 True/False, ~6 short answer\n",
    " \n",
    "**Topics:** \n",
    "- Twitter API \n",
    " - what comes in a tweet? \n",
    " - how do rate limits work? \n",
    " - can you understand API documentation? \n",
    "- graph basics: \n",
    " - directed/undirected \n",
    " - path \n",
    " - cycle \n",
    " - connected \n",
    " - connected component \n",
    " - degree (distribution) \n",
    " - diameter \n",
    " - average path length \n",
    " - clustering coefficient \n",
    "- modeling networks \n",
    " - random graphs \n",
    " - regular graphs \n",
    " - rewired graphs \n",
    " - what makes a small world? \n",
    "- community detection \n",
    " - girvan-newman (betweenness) \n",
    " - graph cuts \n",
    " - representing graphs with matrices \n",
    " - graph laplacian \n",
    "- link prediction \n",
    " - shortest path \n",
    " - common neighbors \n",
    " - jaccard \n",
    " - preferential attachment \n",
    " - sim rank \n",
    " - evaluation \n",
    "- information cascades \n",
    " - urn experiment \n",
    " - bayes' theorem for decision making \n",
    " - game-theoretic model \n",
    " - maximizing payoff \n",
    "\t- cluster density \n",
    "- sentiment analysis \n",
    " - lexicon approach \n",
    " - machine learning \n",
    " \n",
    "**Question types:** \n",
    "- What does this algorithm output? \n",
    " - E.g., what is jaccard score for a specific link? \n",
    " - E.g., what is the next step in girvan-newman? \n",
    "- What does this code do? \n",
    " - E.g., I give you a new graph-generating algorithm, tell me what it produces \n",
    "- Write a new algorithm \n",
    " - E.g., provide pseudo-code the linear-threshold cascade model \n",
    "- True/False \n",
    " - E.g., small world graphs have higher clustering coefficients than random graphs."
   ]
  },
  {
   "cell_type": "markdown",
   "metadata": {
    "slideshow": {
     "slide_type": "slide"
    }
   },
   "source": [
    "**sen·ti·ment**\n",
    "\n",
    "1. a view of or attitude toward a situation or event; an opinion.\n",
    "2. a feeling or emotion.\n"
   ]
  },
  {
   "cell_type": "markdown",
   "metadata": {
    "slideshow": {
     "slide_type": "slide"
    }
   },
   "source": [
    "**sen·ti·ment &nbsp; a·nal·y·sis ** \n",
    "\n",
    "1. classification of documents/messages by sentiment"
   ]
  },
  {
   "cell_type": "markdown",
   "metadata": {
    "slideshow": {
     "slide_type": "slide"
    }
   },
   "source": [
    "# Examples"
   ]
  },
  {
   "cell_type": "markdown",
   "metadata": {
    "slideshow": {
     "slide_type": "slide"
    }
   },
   "source": [
    "![tmnt.png](tmnt.png)"
   ]
  },
  {
   "cell_type": "markdown",
   "metadata": {
    "slideshow": {
     "slide_type": "slide"
    }
   },
   "source": [
    "![ufo](ufo.png)\n",
    "\n",
    "![ufo-review](ufo-review.png)"
   ]
  },
  {
   "cell_type": "markdown",
   "metadata": {
    "slideshow": {
     "slide_type": "slide"
    }
   },
   "source": [
    "![mcds](mcds.png)"
   ]
  },
  {
   "cell_type": "markdown",
   "metadata": {
    "slideshow": {
     "slide_type": "slide"
    }
   },
   "source": [
    "![rauner](rauner.png)\n",
    "![quinn](quinn.png)"
   ]
  },
  {
   "cell_type": "markdown",
   "metadata": {
    "slideshow": {
     "slide_type": "slide"
    }
   },
   "source": [
    "## Why is this hard?\n"
   ]
  },
  {
   "cell_type": "markdown",
   "metadata": {
    "slideshow": {
     "slide_type": "slide"
    }
   },
   "source": [
    "# Two Approaches\n",
    "\n",
    "- Lexicons (word lists)\n",
    "\n",
    "- Machine learning"
   ]
  },
  {
   "cell_type": "markdown",
   "metadata": {
    "slideshow": {
     "slide_type": "slide"
    }
   },
   "source": [
    "# Lexicons\n",
    "\n",
    "- List of terms with positive/negative/neutral sentiment\n",
    "\n",
    "- E.g., AFINN: http://neuro.imm.dtu.dk/wiki/AFINN\n"
   ]
  },
  {
   "cell_type": "code",
   "execution_count": 24,
   "metadata": {
    "collapsed": false
   },
   "outputs": [
    {
     "name": "stdout",
     "output_type": "stream",
     "text": [
      "read 2462 AFINN terms.\n",
      "E.g.: [('abandon', -2), ('abandoned', -2), ('abandons', -2), ('abducted', -2), ('abduction', -2), ('abductions', -2), ('abhor', -3), ('abhorred', -3), ('abhorrent', -3), ('abhors', -3)]\n"
     ]
    }
   ],
   "source": [
    "# Download the AFINN lexicon, unzip, and read the latest word list in AFINN-111.txt\n",
    "from collections import defaultdict\n",
    "from io import BytesIO\n",
    "from zipfile import ZipFile\n",
    "from urllib.request import urlopen\n",
    "\n",
    "url = urlopen('http://www2.compute.dtu.dk/~faan/data/AFINN.zip')\n",
    "zipfile = ZipFile(BytesIO(url.read()))\n",
    "afinn_file = zipfile.open('AFINN/AFINN-111.txt')\n",
    "\n",
    "afinn = dict()\n",
    "\n",
    "for line in afinn_file:\n",
    "    parts = line.strip().split()\n",
    "    if len(parts) == 2:\n",
    "        afinn[parts[0].decode(\"utf-8\")] = int(parts[1])\n",
    "\n",
    "print('read %d AFINN terms.\\nE.g.: %s' % (len(afinn), \n",
    "                                          str(list(afinn.items())[:10])))"
   ]
  },
  {
   "cell_type": "code",
   "execution_count": 25,
   "metadata": {
    "collapsed": false
   },
   "outputs": [
    {
     "data": {
      "text/plain": [
       "2462"
      ]
     },
     "execution_count": 25,
     "metadata": {},
     "output_type": "execute_result"
    }
   ],
   "source": [
    "len(afinn)"
   ]
  },
  {
   "cell_type": "code",
   "execution_count": 26,
   "metadata": {
    "collapsed": false
   },
   "outputs": [
    {
     "data": {
      "image/png": "[encoded data removed]",
      "text/plain": [
       "<matplotlib.figure.Figure at 0x1069b83c8>"
      ]
     },
     "metadata": {},
     "output_type": "display_data"
    }
   ],
   "source": [
    "# What is the distribution of scores?\n",
    "from collections import Counter\n",
    "import matplotlib.pyplot as plt\n",
    "%matplotlib inline\n",
    "\n",
    "counts = Counter(afinn.values())\n",
    "vals = sorted(counts.keys())\n",
    "\n",
    "plt.bar(vals, counts.values())\n",
    "plt.xticks(vals)\n",
    "plt.xlabel('negative <--       sentiment       --> positive')\n",
    "plt.ylabel('count')\n",
    "plt.show()"
   ]
  },
  {
   "cell_type": "code",
   "execution_count": 28,
   "metadata": {
    "collapsed": false
   },
   "outputs": [
    {
     "name": "stdout",
     "output_type": "stream",
     "text": [
      "\tscam=-2\n",
      "\tbroken=-1\n",
      "AFINN:  -3.0\n"
     ]
    }
   ],
   "source": [
    "# How do we score a document?\n",
    "def afinn_sentiment(terms, afinn):\n",
    "    total = 0.\n",
    "    for t in terms:\n",
    "        if t in afinn:\n",
    "            print('\\t%s=%d' % (t, afinn[t]))\n",
    "            total += afinn[t]\n",
    "    return total\n",
    "    \n",
    "doc = \"i don't know if this is a scam or if mine was broken\".split()\n",
    "print('AFINN: ', afinn_sentiment(doc, afinn))"
   ]
  },
  {
   "cell_type": "code",
   "execution_count": 29,
   "metadata": {
    "collapsed": false
   },
   "outputs": [
    {
     "name": "stdout",
     "output_type": "stream",
     "text": [
      "\tgood=3\n",
      "\tbad=-3\n",
      "AFINN:  0.0\n"
     ]
    }
   ],
   "source": [
    "# What if mixed sentiment?\n",
    "doc = \"it has a hokey plot that is both too good and bad\".split()\n",
    "print('AFINN: ', afinn_sentiment(doc, afinn))"
   ]
  },
  {
   "cell_type": "code",
   "execution_count": 30,
   "metadata": {
    "collapsed": false
   },
   "outputs": [
    {
     "name": "stdout",
     "output_type": "stream",
     "text": [
      "\tgood=3\n",
      "\tbad=-3\n",
      "AFINN: (3, 3)\n"
     ]
    }
   ],
   "source": [
    "# Distinguish neutral from pos/neg.\n",
    "# Return two scores per document.\n",
    "def afinn_sentiment2(terms, afinn, verbose=False):\n",
    "    pos = 0\n",
    "    neg = 0\n",
    "    for t in terms:\n",
    "        if t in afinn:\n",
    "            if verbose:\n",
    "                print('\\t%s=%d' % (t, afinn[t]))\n",
    "            if afinn[t] > 0:\n",
    "                pos += afinn[t]\n",
    "            else:\n",
    "                neg += -1 * afinn[t]\n",
    "    return pos, neg\n",
    "\n",
    "doc = \"it has a hokey plot that is both to good and bad\".split()\n",
    "print('AFINN:', afinn_sentiment2(doc, afinn, verbose=True))"
   ]
  },
  {
   "cell_type": "code",
   "execution_count": 31,
   "metadata": {
    "collapsed": false
   },
   "outputs": [
    {
     "name": "stdout",
     "output_type": "stream",
     "text": [
      "\tbad=-3\n",
      "AFINN: (0, 3)\n"
     ]
    }
   ],
   "source": [
    "doc = \"the plot is not bad\".split()\n",
    "print('AFINN:', afinn_sentiment2(doc, afinn, verbose=True))"
   ]
  },
  {
   "cell_type": "code",
   "execution_count": 32,
   "metadata": {
    "collapsed": false
   },
   "outputs": [],
   "source": [
    "import configparser\n",
    "from TwitterAPI import TwitterAPI\n",
    "\n",
    "# Get some tweets about McDonald's\n",
    "\n",
    "def get_twitter(config_file):\n",
    "    \"\"\" Read the config_file and construct an instance of TwitterAPI.\n",
    "    Args:\n",
    "      config_file ... A config file in ConfigParser format with Twitter credentials\n",
    "    Returns:\n",
    "      An instance of TwitterAPI.\n",
    "    \"\"\"\n",
    "    config = configparser.ConfigParser()\n",
    "    config.read(config_file)\n",
    "    twitter = TwitterAPI(\n",
    "                   config.get('twitter', 'consumer_key'),\n",
    "                   config.get('twitter', 'consumer_secret'),\n",
    "                   config.get('twitter', 'access_token'),\n",
    "                   config.get('twitter', 'access_token_secret'))\n",
    "    return twitter\n",
    "\n",
    "twitter = get_twitter('twitter.cfg')\n",
    "tweets = []\n",
    "for r in twitter.request('search/tweets',\n",
    "                         {'q': 'mcdonalds', 'count': 100}):\n",
    "    tweets.append(r)"
   ]
  },
  {
   "cell_type": "code",
   "execution_count": 33,
   "metadata": {
    "collapsed": false
   },
   "outputs": [
    {
     "name": "stdout",
     "output_type": "stream",
     "text": [
      "read 100 mcdonalds tweets\n"
     ]
    }
   ],
   "source": [
    "print('read %d mcdonalds tweets' % len(tweets))"
   ]
  },
  {
   "cell_type": "code",
   "execution_count": 41,
   "metadata": {
    "collapsed": false,
    "scrolled": true
   },
   "outputs": [
    {
     "name": "stdout",
     "output_type": "stream",
     "text": [
      "tokenized, e.g., \n",
      "@McDonalds those are some pricey pickles. To bad I didn’t get the nuggets I ordered. #Fail https://t.co/fs36ggP2mN\n",
      "to\n",
      "['rt', 'tanzverbotcf', 'grüße', 'vom', 'mcdonalds', 'https', 't', 'co', '4rmnubmstx']\n"
     ]
    }
   ],
   "source": [
    "# Tokenize tweets\n",
    "import re\n",
    "\n",
    "# \\w = [a-zA-Z0-9_]\n",
    "def tokenize(text):\n",
    "    return re.sub('\\W+', ' ', text.lower()).split()\n",
    "\n",
    "tokens = [tokenize(t['text']) for t in tweets]\n",
    "print('tokenized, e.g., \\n%s\\nto\\n%s' % \n",
    "      (tweets[6]['text'], tokens[10]))\n",
    "#tweets[50]['user']['name']\n",
    "# tweets[50]['user']['screen_name']"
   ]
  },
  {
   "cell_type": "code",
   "execution_count": 42,
   "metadata": {
    "collapsed": false
   },
   "outputs": [
    {
     "data": {
      "text/plain": [
       "['hi',\n",
       " 'there',\n",
       " 'how',\n",
       " 'are',\n",
       " 'you',\n",
       " 'don',\n",
       " 't',\n",
       " 'you',\n",
       " 'awesome',\n",
       " 'awesome',\n",
       " 'http',\n",
       " 'www',\n",
       " 'good',\n",
       " 'com']"
      ]
     },
     "execution_count": 42,
     "metadata": {},
     "output_type": "execute_result"
    }
   ],
   "source": [
    "tokenize(\"Hi there how are you? Don't you ... #awesome @awesome http://www.good.com\")"
   ]
  },
  {
   "cell_type": "code",
   "execution_count": 44,
   "metadata": {
    "collapsed": false
   },
   "outputs": [],
   "source": [
    "positives = []\n",
    "negatives = []\n",
    "for token_list, tweet in zip(tokens, tweets):\n",
    "    pos, neg = afinn_sentiment2(token_list, afinn)\n",
    "    if pos > neg:\n",
    "        positives.append((tweet['text'], pos, neg))\n",
    "    elif neg > pos:\n",
    "        negatives.append((tweet['text'], pos, neg))"
   ]
  },
  {
   "cell_type": "code",
   "execution_count": 45,
   "metadata": {
    "collapsed": false
   },
   "outputs": [
    {
     "data": {
      "text/plain": [
       "22"
      ]
     },
     "execution_count": 45,
     "metadata": {},
     "output_type": "execute_result"
    }
   ],
   "source": [
    "len(negatives)"
   ]
  },
  {
   "cell_type": "code",
   "execution_count": 46,
   "metadata": {
    "collapsed": false
   },
   "outputs": [
    {
     "data": {
      "text/plain": [
       "27"
      ]
     },
     "execution_count": 46,
     "metadata": {},
     "output_type": "execute_result"
    }
   ],
   "source": [
    "len(positives)"
   ]
  },
  {
   "cell_type": "code",
   "execution_count": 47,
   "metadata": {
    "collapsed": false,
    "scrolled": false
   },
   "outputs": [
    {
     "name": "stdout",
     "output_type": "stream",
     "text": [
      "11 0 @KidbyVet Hey, Lisa! Thanks for that haiku, we loved it! Good luck! 😊\n",
      "8 0 @DarkTruths16 Thanks for the entry, good luck! 💓\n",
      "8 0 @bigdawgtrayy That's awesome! We hope you enjoy it all 😋\n",
      "6 0 @ anyone thinking i dont love their taizo fanart, I save it and want to but Mcdonalds for myself.\n",
      "6 0 Me and Grace are fighting over what sauce is better on McDonalds nuggets aren't we best friend goals\n",
      "4 2 @McDonalds the fact that you called it the Grand Big Mac and not the Mac Daddy is aggressively disappointing.\n",
      "4 0 Voy en un micro y casi todos van hablando de lo que paso en mcdonalds, hasta unos viejitos wow\n",
      "4 0 @McDonalds My dearest Big Mac @McDonalds\n",
      "My sauce of happiness. My one and only. My picklemonster. Who knew I would… https://t.co/mM5PI4yKEm\n",
      "3 0 Why is mcdonalds the best food place in the Tivoli?? The food places in there are trash.\n",
      "3 0 RT @PoliceCreek: This Friday! Come join us. Hope to see you there! #retweet #coffeewithacop #community #McDonalds #hcpd @McDonalds https://…\n",
      "3 0 @rockbollocks @McDonalds Hahaha, it was just as a treat. We don't have fast food very often at all. I cook most of… https://t.co/ioh8jAeBmZ\n",
      "3 0 Talk about knowing your audience, what a great ad on @reddit by @McDonalds \n",
      "\n",
      "The image linked to this game:… https://t.co/unARHh1GfC\n",
      "3 0 RT @mikecoulson48: @SharzaDethick Perhaps not, it's encouraging in regards to plastic pollution though. I don't suppose McDonalds is a good…\n",
      "3 0 RT @GoVeganTweets: McDonalds Sells A Massive 150,000 'McVegan' Burgers In One Month\n",
      "The sales numbers were described as 'exciting' https://…\n",
      "3 0 @FlamingoMoody @TANZVERBOTcf mcdonalds ist aber eine schnelle alternative lol xD\n",
      "3 0 @Leedeeyaayaa That’s cool, Lyd! It’s like that old saying “The stomach wants what the stomach wants.\"\n",
      "2 0 RT @HeatPenis: Wendys is better than both burgerking and mcdonalds https://t.co/jGD9vK1dj2\n",
      "2 0 @McDonalds Yeah! It would be even cooler if u decided to deliver free chicken nuggets to my house right now 😝\n",
      "2 0 Wendys is better than both burgerking and mcdonalds https://t.co/jGD9vK1dj2\n",
      "2 0 @LeftInLeftField @YouTube Its Tree....bearing gifts of romance.     https://t.co/mletYGamPn\n",
      "2 1 Try to eat healthy at @McDonalds but end up with moldy tomatoes. And no time left to return lunch. :-( https://t.co/JH1XmnENoT\n",
      "2 0 RT @beomsnyeong: I CAN'T BELIEVE MY FRIENDS MANAGED TO GET ME TO EAT MCDONALDS I WAS SUPPOSED  TOBE CAREFUL\n",
      "2 0 The McDonald's in Olympic Park looks just like an Extra Value Meal https://t.co/qtKm6zQz37 https://t.co/sV4bgHE74p\n",
      "2 0 RT @Barbienegri: Hoy me ha pasado algo súper divertido en @mcdonalds_es (cc @facua). Resulta que al comprar en las maquinuchas que han inst…\n",
      "1 0 @McDonalds Your song is the Tastiest of all burgers. 2 All beef patties special sauce,  big mac is my master and I… https://t.co/rN3qqvErd4\n",
      "1 0 RT @wef: McDonald's has promised 100% renewable packaging by 2025 https://t.co/RzoVv2V7A2 #environment https://t.co/OBaAFKWVCK\n",
      "1 0 RT @ansontm: Now I see why Mcdonalds employees want 15 an hour https://t.co/uYeAbpDlCQ\n"
     ]
    }
   ],
   "source": [
    "# Print top positives:\n",
    "for tweet, pos, neg in sorted(positives,\n",
    "                              key=lambda x: x[1],\n",
    "                              reverse=True):\n",
    "    print(pos, neg, tweet)"
   ]
  },
  {
   "cell_type": "code",
   "execution_count": 49,
   "metadata": {
    "collapsed": false
   },
   "outputs": [
    {
     "name": "stdout",
     "output_type": "stream",
     "text": [
      "\tbest=3\n"
     ]
    },
    {
     "data": {
      "text/plain": [
       "(3, 0)"
      ]
     },
     "execution_count": 49,
     "metadata": {},
     "output_type": "execute_result"
    }
   ],
   "source": [
    "afinn_sentiment2(tokenize('Why is mcdonalds the best food place in the Tivoli?? The food places in there are trash.'),\n",
    "                 afinn, verbose=True)"
   ]
  },
  {
   "cell_type": "code",
   "execution_count": 50,
   "metadata": {
    "collapsed": false,
    "scrolled": false
   },
   "outputs": [
    {
     "name": "stdout",
     "output_type": "stream",
     "text": [
      "0 5 @McDonalds those are some pricey pickles. To bad I didn’t get the nuggets I ordered. #Fail https://t.co/fs36ggP2mN\n",
      "0 5 RT @milesgrace77: I believe McDonalds workers deserve a living wage. Dumbass Republicans probably already scream at them for cold fries. Wh…\n",
      "2 4 RT @Freedom_Daily: McDonald’s Just Pissed Off Most Of America With FOUL New Rule Effective Immediately! https://t.co/BKfjaAqQZm #MAGA https…\n",
      "0 4 RT @LukeNWood: I don’t understand why McDonalds workers get so much shit from people. Just because they work at McDonald’s? And it’s been b…\n",
      "1 4 I had popeye’s, mcdonalds and a huge ass cinnamon roll. I’m still hungry! #fatpeopleproblems\n",
      "0 4 McDonald’s  “curbside ordering”..wtf? https://t.co/bl2B2bGc1G https://t.co/3iv6J3rAAa\n",
      "0 3 RT @Dax_x98: @realDonaldTrump What Are You Going To Do When U Get Locked Up For #ObstructionOfJustice &amp; #Treason I Don't Think They Have A…\n",
      "0 3 @Jas_Jennette Alert! We have a McD’s emergency! Someone grab Jasmine some McDonald's stat!\n",
      "0 3 RT @foreveright2016: Florida officer claims anti-cop McDonald's worker refused to serve him https://t.co/5LeTZGQ4Tj #FoxNews\n",
      "0 2 Bethnal Green McDonalds isn’t delivering to my house I’m fuming\n",
      "0 2 RT @Ripple1026: #FightFor15 protest at the @McDonalds on Union Ave @3onyourside https://t.co/LEjb0ryM8H\n",
      "0 2 @Wendys @McDonalds snubbed me two nuggets. What do?\n",
      "0 2 @McDonalds #BlingMacContest                            Oh Mac you meat all my hunger needs.… https://t.co/y7PCItD00M\n",
      "0 2 RT @HelenClarkNZ: It would be unacceptable for tobacco companies to be #Olympics sponsors. Yet companies marketing products associated with…\n",
      "0 2 RT @VoceSabiaSDV: Reclama que o lanche do McDonalds não é igual o da propaganda, mas você não é igual a foto do perfil\n",
      "0 2 RT @HelenClarkNZ: It would be unacceptable for tobacco companies to be #Olympics sponsors. Yet companies marketing products associated with…\n",
      "0 1 RT @athii_mhlaba: Pick n Pay\n",
      "Shoprite\n",
      "KFC\n",
      "McDonalds\n",
      "Checkers\n",
      "Clover\n",
      "Sibanye Gold\n",
      "Lonmin \n",
      "Pam Golding\n",
      "IGrowWealth Properties\n",
      "Sanlam\n",
      "Old Mutu…\n",
      "0 1 RT @athii_mhlaba: Pick n Pay\n",
      "Shoprite\n",
      "KFC\n",
      "McDonalds\n",
      "Checkers\n",
      "Clover\n",
      "Sibanye Gold\n",
      "Lonmin \n",
      "Pam Golding\n",
      "IGrowWealth Properties\n",
      "Sanlam\n",
      "Old Mutu…\n",
      "0 1 Pq q as minhas amigas trabalham no mcdonalds pqp tão a demorar colhoes pra sair\n",
      "0 1 From North to South... right now in LA restaurant workers are outside another @McDonalds franchise to demand an end… https://t.co/JkcVEIPcTW\n",
      "0 1 200 March To McDonald’s In Detroit, Demanding A $15 Minimum Wage https://t.co/CnfVt6bKUm #detroit https://t.co/5SSRI6lC66\n",
      "0 1 RT @athii_mhlaba: Pick n Pay\n",
      "Shoprite\n",
      "KFC\n",
      "McDonalds\n",
      "Checkers\n",
      "Clover\n",
      "Sibanye Gold\n",
      "Lonmin \n",
      "Pam Golding\n",
      "IGrowWealth Properties\n",
      "Sanlam\n",
      "Old Mutu…\n"
     ]
    }
   ],
   "source": [
    "# Print top negatives:\n",
    "for tweet, pos, neg in sorted(negatives, key=lambda x: x[2], reverse=True):\n",
    "    print(pos, neg, tweet)"
   ]
  },
  {
   "cell_type": "code",
   "execution_count": 51,
   "metadata": {
    "collapsed": false
   },
   "outputs": [
    {
     "name": "stdout",
     "output_type": "stream",
     "text": [
      "\tsnubbed=-2\n"
     ]
    },
    {
     "data": {
      "text/plain": [
       "(0, 2)"
      ]
     },
     "execution_count": 51,
     "metadata": {},
     "output_type": "execute_result"
    }
   ],
   "source": [
    "afinn_sentiment2(tokenize(\"@Wendys @McDonalds snubbed me two nuggets. What do?\"),\n",
    "                 afinn, verbose=True)"
   ]
  },
  {
   "cell_type": "markdown",
   "metadata": {},
   "source": [
    "# Sentiment Trends?\n",
    "![politico](politico.png)\n",
    "\n",
    "What can go wrong?\n",
    "\n",
    "<br><br><br><br>"
   ]
  },
  {
   "cell_type": "code",
   "execution_count": 52,
   "metadata": {
    "collapsed": false
   },
   "outputs": [
    {
     "name": "stdout",
     "output_type": "stream",
     "text": [
      "pay count=3 sentiment=-1\n",
      "better count=3 sentiment=2\n",
      "big count=3 sentiment=1\n",
      "good count=3 sentiment=3\n",
      "best count=2 sentiment=3\n",
      "hope count=2 sentiment=2\n",
      "thanks count=2 sentiment=2\n",
      "luck count=2 sentiment=3\n",
      "want count=2 sentiment=1\n",
      "no count=2 sentiment=-1\n",
      "like count=2 sentiment=2\n"
     ]
    }
   ],
   "source": [
    "# Which words contribute most to sentiment?\n",
    "all_counts = Counter()\n",
    "for tweet in tokens:\n",
    "    all_counts.update(tweet)\n",
    "sorted_tokens = sorted(all_counts.items(),\n",
    "                       key=lambda x:x[1],\n",
    "                       reverse=True)\n",
    "i = 0\n",
    "for token, count in sorted_tokens:\n",
    "    if token in afinn:\n",
    "        print('%s count=%d sentiment=%d' % (token, count, afinn[token]))\n",
    "        i += 1\n",
    "        if i > 10:\n",
    "            break"
   ]
  },
  {
   "cell_type": "code",
   "execution_count": 56,
   "metadata": {
    "collapsed": false,
    "scrolled": true
   },
   "outputs": [
    {
     "data": {
      "text/plain": [
       "[['rt',\n",
       "  'heatpenis',\n",
       "  'wendys',\n",
       "  'is',\n",
       "  'better',\n",
       "  'than',\n",
       "  'both',\n",
       "  'burgerking',\n",
       "  'and',\n",
       "  'mcdonalds',\n",
       "  'https',\n",
       "  't',\n",
       "  'co',\n",
       "  'jgd9vk1dj2'],\n",
       " ['wendys',\n",
       "  'is',\n",
       "  'better',\n",
       "  'than',\n",
       "  'both',\n",
       "  'burgerking',\n",
       "  'and',\n",
       "  'mcdonalds',\n",
       "  'https',\n",
       "  't',\n",
       "  'co',\n",
       "  'jgd9vk1dj2'],\n",
       " ['me',\n",
       "  'and',\n",
       "  'grace',\n",
       "  'are',\n",
       "  'fighting',\n",
       "  'over',\n",
       "  'what',\n",
       "  'sauce',\n",
       "  'is',\n",
       "  'better',\n",
       "  'on',\n",
       "  'mcdonalds',\n",
       "  'nuggets',\n",
       "  'aren',\n",
       "  't',\n",
       "  'we',\n",
       "  'best',\n",
       "  'friend',\n",
       "  'goals']]"
      ]
     },
     "execution_count": 56,
     "metadata": {},
     "output_type": "execute_result"
    }
   ],
   "source": [
    "[t for t in tokens if 'better' in t]"
   ]
  },
  {
   "cell_type": "markdown",
   "metadata": {},
   "source": [
    "# Part of speech?\n",
    "\n",
    "> *I hate McDonlads.*  \n",
    "> *Hate speech is wrong.*\n",
    "\n",
    "> *Rauner is lying.*  \n",
    "> *Lying in bed with the flu.*\n",
    "\n",
    "Noun/verb/adjective form of term may have different sentiment."
   ]
  },
  {
   "cell_type": "markdown",
   "metadata": {
    "slideshow": {
     "slide_type": "slide"
    }
   },
   "source": [
    "# WordNet\n",
    "\n",
    "- A database of words and their relations\n",
    "- http://wordnet.princeton.edu/\n",
    "- Statistics: http://wordnet.princeton.edu/wordnet/man/wnstats.7WN.html"
   ]
  },
  {
   "cell_type": "markdown",
   "metadata": {
    "slideshow": {
     "slide_type": "slide"
    }
   },
   "source": [
    "# WordNet\n",
    "\n",
    "- **Synset:**\n",
    "  - A list of synonyms\n",
    "  - E.g. [dog](http://wordnetweb.princeton.edu/perl/webwn?s=dog&sub=Search+WordNet&o2=&o0=1&o8=1&o1=1&o7=&o5=&o9=&o6=&o3=&o4=&h=11000000000000000000001000000000)\n",
    "- **Hypernym:**\n",
    "  - Y is a Hypernym of X if every X is a kind of Y\n",
    "    - **canine** is a hypernym of **dog**\n",
    "- **Hyponym:**\n",
    "  - Y is a Hyponym of X if every Y is a kind of X\n",
    "    - **dog** is a hyponym of **canine**\n",
    "    \n",
    "<br><br><br>\n",
    "\n",
    "<img src=\"https://upload.wikimedia.org/wikipedia/en/1/1f/Hyponymsandhypernyms.jpg\">"
   ]
  },
  {
   "cell_type": "markdown",
   "metadata": {},
   "source": [
    "# SentiWordNet\n",
    "\n",
    "http://sentiwordnet.isti.cnr.it/\n",
    "\n",
    "![senti](senti.png)\n",
    "\n",
    "[source](http://nmis.isti.cnr.it/sebastiani/Publications/LREC06.pdf)"
   ]
  },
  {
   "cell_type": "code",
   "execution_count": 57,
   "metadata": {
    "collapsed": false
   },
   "outputs": [
    {
     "name": "stdout",
     "output_type": "stream",
     "text": [
      "happy(a): negative_score=0.00 positive_score=0.88 objective_score=0.12\n"
     ]
    }
   ],
   "source": [
    "from nltk.corpus import sentiwordnet as swn\n",
    "# Depends on nltk (pip install nltk)\n",
    "# See http://www.nltk.org/data.html\n",
    "# must run nltk.download('sentiwordnet')\n",
    "happy = list(swn.senti_synsets('happy', 'a'))[0]\n",
    "\n",
    "print('happy(a): negative_score=%.2f positive_score=%.2f objective_score=%.2f' %\n",
    "      (happy.neg_score(), happy.pos_score(), happy.obj_score()))"
   ]
  },
  {
   "cell_type": "code",
   "execution_count": 58,
   "metadata": {
    "collapsed": false
   },
   "outputs": [
    {
     "name": "stdout",
     "output_type": "stream",
     "text": [
      "hate(n): negative_score=0.38 positive_score=0.12 objective_score=0.50\n"
     ]
    }
   ],
   "source": [
    "hate = list(swn.senti_synsets('hate', 'n'))[0]\n",
    "\n",
    "print('hate(n): negative_score=%.2f positive_score=%.2f objective_score=%.2f' %\n",
    "      (hate.neg_score(), hate.pos_score(), hate.obj_score()))"
   ]
  },
  {
   "cell_type": "code",
   "execution_count": 59,
   "metadata": {
    "collapsed": false
   },
   "outputs": [
    {
     "name": "stdout",
     "output_type": "stream",
     "text": [
      "hate(v): negative_score=0.75 positive_score=0.00 objective_score=0.25\n"
     ]
    }
   ],
   "source": [
    "hate = list(swn.senti_synsets('hate', 'v'))[0]\n",
    "\n",
    "print('hate(v): negative_score=%.2f positive_score=%.2f objective_score=%.2f' %\n",
    "      (hate.neg_score(), hate.pos_score(), hate.obj_score()))"
   ]
  },
  {
   "cell_type": "code",
   "execution_count": 66,
   "metadata": {
    "collapsed": false
   },
   "outputs": [
    {
     "name": "stdout",
     "output_type": "stream",
     "text": [
      "good(a): negative_score=0.00 positive_score=0.75 objective_score=0.25\n"
     ]
    }
   ],
   "source": [
    "good = list(swn.senti_synsets('good', 'a'))[0]\n",
    "print('good(a): negative_score=%.2f positive_score=%.2f objective_score=%.2f' %\n",
    "      (good.neg_score(), good.pos_score(), good.obj_score()))"
   ]
  },
  {
   "cell_type": "code",
   "execution_count": 62,
   "metadata": {
    "collapsed": false
   },
   "outputs": [
    {
     "data": {
      "text/plain": [
       "[SentiSynset('good.a.01'),\n",
       " SentiSynset('full.s.06'),\n",
       " SentiSynset('good.a.03'),\n",
       " SentiSynset('estimable.s.02'),\n",
       " SentiSynset('beneficial.s.01'),\n",
       " SentiSynset('good.s.06'),\n",
       " SentiSynset('good.s.07'),\n",
       " SentiSynset('adept.s.01'),\n",
       " SentiSynset('good.s.09'),\n",
       " SentiSynset('dear.s.02'),\n",
       " SentiSynset('dependable.s.04'),\n",
       " SentiSynset('good.s.12'),\n",
       " SentiSynset('good.s.13'),\n",
       " SentiSynset('effective.s.04'),\n",
       " SentiSynset('good.s.15'),\n",
       " SentiSynset('good.s.16'),\n",
       " SentiSynset('good.s.17'),\n",
       " SentiSynset('good.s.18'),\n",
       " SentiSynset('good.s.19'),\n",
       " SentiSynset('good.s.20'),\n",
       " SentiSynset('good.s.21')]"
      ]
     },
     "execution_count": 62,
     "metadata": {},
     "output_type": "execute_result"
    }
   ],
   "source": [
    "good = list(swn.senti_synsets('good', 'a'))\n",
    "good"
   ]
  }
 ],
 "metadata": {
  "kernelspec": {
   "display_name": "Python 3",
   "language": "python",
   "name": "python3"
  },
  "language_info": {
   "codemirror_mode": {
    "name": "ipython",
    "version": 3
   },
   "file_extension": ".py",
   "mimetype": "text/x-python",
   "name": "python",
   "nbconvert_exporter": "python",
   "pygments_lexer": "ipython3",
   "version": "3.6.0"
  }
 },
 "nbformat": 4,
 "nbformat_minor": 0
}
