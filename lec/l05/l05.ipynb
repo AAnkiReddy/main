{
 "metadata": {
  "celltoolbar": "Slideshow",
  "name": "",
  "signature": "sha256:4529068aa7f1015b5c5e748008bb521760d36e0d3c58fad0739bbf5a8b966fb6"
 },
 "nbformat": 3,
 "nbformat_minor": 0,
 "worksheets": [
  {
   "cells": [
    {
     "cell_type": "markdown",
     "metadata": {
      "slideshow": {
       "slide_type": "slide"
      }
     },
     "source": [
      "# CS579: Lecture 05  \n",
      "** Community Detection **\n",
      "\n",
      "*[Dr. Aron Culotta](http://cs.iit.edu/~culotta)*  \n",
      "*[Illinois Institute of Technology](http://iit.edu)*\n",
      "\n",
      "(Many figures come from [Mining of Massive Datasets](http://www.mmds.org/), Jure Leskovec, Anand Rajaraman, Jeff Ullman)"
     ]
    },
    {
     "cell_type": "markdown",
     "metadata": {
      "slideshow": {
       "slide_type": "slide"
      }
     },
     "source": [
      "![network](network.png)"
     ]
    },
    {
     "cell_type": "markdown",
     "metadata": {
      "slideshow": {
       "slide_type": "slide"
      }
     },
     "source": [
      "**Betweenness:** The betweenness of an edge $(A, B)$ is the fraction of shortest paths between any nodex $X$ and $Y$ that include edge $(A, B)$.\n",
      "\n",
      "High betweenness $\\rightarrow$ $A$ and $B$ belong in different communities."
     ]
    },
    {
     "cell_type": "markdown",
     "metadata": {
      "slideshow": {
       "slide_type": "slide"
      }
     },
     "source": [
      "![network](network.png)\n",
      "\n",
      "What is **betweenness** of $(B,D)$?\n",
      "\n",
      "Of $(D,F)$?"
     ]
    },
    {
     "cell_type": "markdown",
     "metadata": {
      "slideshow": {
       "slide_type": "slide"
      }
     },
     "source": [
      "![network](network.png)\n",
      "\n",
      "What is **betweenness** of $(B,D)$? \n",
      "\n",
      "> $(B,D)$ is on all shortest paths connecting any of $\\{A,B,C\\}$ to any of $\\{D,E,F,G\\}$.\n",
      "\n",
      "> Thus, betweenness is $3 * 4 = \\mathbf{12}.$\n",
      "\n",
      "Of $(D,F)$?\n",
      "\n",
      "> $(D,F)$ is on shortest paths from $\\{A,B,C,D\\}$ to $\\{F\\}$.\n",
      "\n",
      "> Thus, betweenness is $4 * 1 = \\mathbf{4}.$\n",
      "\n"
     ]
    },
    {
     "cell_type": "markdown",
     "metadata": {
      "slideshow": {
       "slide_type": "slide"
      }
     },
     "source": [
      "# Girvan-Newman Algorithm\n",
      "\n",
      "**Input:** Graph $G$; desired number of clusters $k$\n",
      "\n",
      "- **While** number of clusters $< k$:\n",
      "  - Compute the betweenness of all edges in $G$\n",
      "  - Remove edge with highest betweenness\n"
     ]
    },
    {
     "cell_type": "markdown",
     "metadata": {
      "slideshow": {
       "slide_type": "slide"
      }
     },
     "source": [
      "![between](between.png)"
     ]
    },
    {
     "cell_type": "markdown",
     "metadata": {
      "slideshow": {
       "slide_type": "slide"
      }
     },
     "source": [
      "![between2](between2.png)"
     ]
    },
    {
     "cell_type": "markdown",
     "metadata": {
      "slideshow": {
       "slide_type": "slide"
      }
     },
     "source": [
      "## Computing betweenness of all edges\n",
      "\n",
      "- All pairs-shortest-paths, but need to store the paths.\n",
      "- How can we reduce redundant computation?"
     ]
    },
    {
     "cell_type": "markdown",
     "metadata": {
      "slideshow": {
       "slide_type": "slide"
      }
     },
     "source": [
      "## Computing betweenness of all edges\n",
      "\n",
      "![newman1](newman1.png)\n",
      "\n",
      "1.) Do breadth-first search starting at node $E$.\n",
      "  - Each level is length of shortest path from $E$ to that node\n",
      "  - Edges within the same level cannot be part of a shortest path from $E$ to some target.\n",
      "  \n",
      "2.) Label each node by the number of shortest paths that reach it from the root.\n",
      "  - Start by labeling the root ($E$). Then, each child node is the sum of its parents.\n",
      "  - E.g., $G = D + F$\n"
     ]
    },
    {
     "cell_type": "markdown",
     "metadata": {
      "slideshow": {
       "slide_type": "slide"
      }
     },
     "source": [
      "## Computing betweenness of all edges\n",
      "\n",
      "![newman1](newman2.png)\n",
      "\n",
      "3.) Compute fraction of shortest paths through each edge (bottom up).\n",
      "  - leaf nodes get credit 1\n",
      "  - non-leaf nodes get credit of 1 + credits for edges to nodes at level below\n",
      "  - edges to level above gets credit proportional to fraction of shortest paths that go through it.\n",
      "\n",
      "E.g. Level 3:\n",
      " - $A$ and $C$ are given credit 1 (they are leaf nodes)\n",
      " \n",
      "Level 2:\n",
      " - $B$ gets credit $3$ ($A + C + 1$)\n",
      "   - All shortest paths from  $\\{E\\}$ to $\\{A, B, C\\}$ go through B.\n",
      " - $G$ gets credit 1 (leaf)\n"
     ]
    },
    {
     "cell_type": "markdown",
     "metadata": {
      "slideshow": {
       "slide_type": "slide"
      }
     },
     "source": [
      "## Computing betweenness of all edges\n",
      "\n",
      "![newman1](newman3.png)\n",
      "\n",
      "Level 1 Edges:\n",
      " - $D,B$ edge gets all credit from node $B$ (3)\n",
      " - $G$ has two parents, so edges $(D,G)$, $(F,G)$ share the credit from $G$\n",
      "   - From step 1, $D$ and $F$ each have credit 1, so shared equally. $(\\frac{1}{1+1} = .5)$\n",
      "   - What if $D=5$, $F=3$?  $\\frac{5}{8}$, $\\frac{3}{8}$\n",
      "    \n",
      "\n",
      "Level 1 Nodes:\n",
      "  - $D = 1 + 3 + .5 = 4.5$\n",
      "  - $F = 1 + .5 = 1.5$"
     ]
    },
    {
     "cell_type": "markdown",
     "metadata": {
      "slideshow": {
       "slide_type": "slide"
      }
     },
     "source": [
      "## Computing betweenness of all edges\n",
      "\n",
      "![newman1](newman3.png)\n",
      "\n",
      "- What if $D=5$, $F=3$?  \n"
     ]
    },
    {
     "cell_type": "markdown",
     "metadata": {
      "slideshow": {
       "slide_type": "slide"
      }
     },
     "source": [
      "## Computing betweenness of all edges\n",
      "\n",
      "![newman1](newman3.png)\n",
      "\n",
      "- What if $D=5$, $F=3$?  \n",
      "$(D,G) = \\frac{5}{8}$, $(F,G) = \\frac{3}{8}$"
     ]
    },
    {
     "cell_type": "markdown",
     "metadata": {
      "slideshow": {
       "slide_type": "slide"
      }
     },
     "source": [
      "Final steps:\n",
      "\n",
      "- Repeat for each node as source\n",
      "- Divide total by 2 (since each shortest path found twice, once in each direction)\n",
      "\n",
      "![between](between.png)"
     ]
    },
    {
     "cell_type": "code",
     "collapsed": false,
     "input": [
      "import networkx as nx\n",
      "\n",
      "def girvan_newman(G):\n",
      "\n",
      "    if G.order() == 1:\n",
      "        return [G.nodes()]\n",
      "\n",
      "    def find_best_edge(G0):\n",
      "        eb = nx.edge_betweenness_centrality(G0)\n",
      "        eb_il = eb.items()\n",
      "        eb_il.sort(key=lambda x: x[1], reverse=True)\n",
      "        return eb_il[0][0]\n",
      "\n",
      "    components = [c for c in nx.connected_component_subgraphs(G)]\n",
      "    while len(components) == 1:\n",
      "        G.remove_edge(*find_best_edge(G))\n",
      "        components = [c for c in nx.connected_component_subgraphs(G)]\n",
      "\n",
      "    result = [c.nodes() for c in components]\n",
      "\n",
      "    for c in components:\n",
      "        result.extend(girvan_newman(c))\n",
      "\n",
      "    return result"
     ],
     "language": "python",
     "metadata": {},
     "outputs": [],
     "prompt_number": 16
    },
    {
     "cell_type": "code",
     "collapsed": false,
     "input": [
      "graph = nx.Graph()\n",
      "graph.add_edges_from([('A', 'B'), ('A', 'C'), ('B', 'C'), ('B', 'D'), ('D', 'E'), ('D', 'F'), ('D', 'G'), ('E', 'F'), ('G', 'F')])\n",
      "nx.draw(graph, with_labels=True)"
     ],
     "language": "python",
     "metadata": {},
     "outputs": [
      {
       "metadata": {},
       "output_type": "display_data",
       "png": "[encoded data removed]",
       "text": [
        "<matplotlib.figure.Figure at 0x111262390>"
       ]
      }
     ],
     "prompt_number": 6
    },
    {
     "cell_type": "code",
     "collapsed": false,
     "input": [
      "result = girvan_newman(graph)\n",
      "print '\\n'.join(str(x) for x in result)"
     ],
     "language": "python",
     "metadata": {},
     "outputs": [
      {
       "output_type": "stream",
       "stream": "stdout",
       "text": [
        "['A', 'C', 'B']\n",
        "['E', 'D', 'G', 'F']\n",
        "['A', 'C']\n",
        "['B']\n",
        "['A']\n",
        "['C']\n",
        "['A']\n",
        "['C']\n",
        "['B']\n",
        "['E']\n",
        "['D', 'G', 'F']\n",
        "['E']\n",
        "['D', 'F']\n",
        "['G']\n",
        "['D']\n",
        "['F']\n",
        "['D']\n",
        "['F']\n",
        "['G']\n"
       ]
      }
     ],
     "prompt_number": 18
    },
    {
     "cell_type": "markdown",
     "metadata": {
      "slideshow": {
       "slide_type": "slide"
      }
     },
     "source": []
    }
   ],
   "metadata": {}
  }
 ]
}