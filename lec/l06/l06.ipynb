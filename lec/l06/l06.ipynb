{
 "cells": [
  {
   "cell_type": "markdown",
   "metadata": {},
   "source": [
    "# CS579: Lecture 06  \n",
    "** Graph Partitioning **\n",
    "\n",
    "*[Dr. Aron Culotta](http://cs.iit.edu/~culotta)*  \n",
    "*[Illinois Institute of Technology](http://iit.edu)*\n",
    "\n",
    "<br><br><br><br><br><br>"
   ]
  },
  {
   "cell_type": "markdown",
   "metadata": {
    "slideshow": {
     "slide_type": "slide"
    }
   },
   "source": [
    "Recall the network from last lecture:\n",
    "\n",
    "![network](network.png)\n",
    "\n",
    "We identified edge $(B,D)$ as a good candidate to remove to create two clusters based on *betweenness*."
   ]
  },
  {
   "cell_type": "markdown",
   "metadata": {
    "slideshow": {
     "slide_type": "slide"
    }
   },
   "source": [
    "Today we'll discuss an alternative clustering approach based on *graph cuts.*\n",
    "\n",
    "- A **cut** $C=(S,T)$ partitions the vertices $V$ of a graph into two subsets $S$ and $T$.\n",
    "- The **cut-set** of $C$ is the set of edges that have one endpoint in $S$ and the other in $T$\n"
   ]
  },
  {
   "cell_type": "markdown",
   "metadata": {
    "slideshow": {
     "slide_type": "slide"
    }
   },
   "source": [
    "**What makes a good cut?**\n",
    "\n",
    "<br><br>\n",
    "\n",
    "![partition](partition.png)\n",
    "\n",
    "The cut-set $\\{(H,C)\\}$ is smaller than the set $\\{(B,D), (C,G)\\}$. \n",
    "\n",
    "Why might we not like cut $\\{(H,C)\\}$?"
   ]
  },
  {
   "cell_type": "markdown",
   "metadata": {
    "slideshow": {
     "slide_type": "slide"
    }
   },
   "source": [
    "A good cut is:\n",
    "\n",
    "- small\n",
    "- balanced\n",
    "\n",
    "How to quantify these?\n",
    "<br><br><br>"
   ]
  },
  {
   "cell_type": "markdown",
   "metadata": {
    "slideshow": {
     "slide_type": "slide"
    }
   },
   "source": [
    "$Vol(S)$: **volume** of a set of $S$ nodes is the number of edges with at least one end in $S$.\n",
    "\n",
    "![partition](partition.png)\n",
    "\n",
    "$Vol(\\{A,B,C\\})=6$"
   ]
  },
  {
   "cell_type": "markdown",
   "metadata": {
    "slideshow": {
     "slide_type": "slide"
    }
   },
   "source": [
    "Let $Cut(S,T)$ be the number of edges in cut-set of cut $C=(S,T)$ (the cut **size**).\n",
    "\n",
    "The **normalized cut value** for $(S,T)$ is:\n",
    "\n",
    "$$NCV(S,T) = \\frac{Cut(S,T)}{Vol(S)} + \\frac{Cut(S,T)}{Vol(T)}$$\n",
    "\n",
    "![partition](partition.png)\n",
    "\n",
    "Example:\n",
    "\n",
    "Consider the cut where $S=\\{H\\}$ and $T=\\{A,B,C,D,E,F,G\\}$.\n",
    "\n",
    "- $Cut(S,T) = 1$\n",
    "- $Vol(S) = 1$\n",
    "- $Vol(T) = 11$\n",
    "- $NCV(S,T) = \\frac{1}{1} + \\frac{1}{11} = 1.09$\n"
   ]
  },
  {
   "cell_type": "markdown",
   "metadata": {
    "slideshow": {
     "slide_type": "slide"
    }
   },
   "source": [
    "![partition](partition.png)\n",
    "\n",
    "Example:\n",
    "\n",
    "Consider the cut where $S=\\{A,B,C,H\\}$ and $T=\\{D,E,F,G\\}$.\n",
    "\n",
    "- $Cut(S,T) = 2$\n",
    "- $Vol(S) = 6$\n",
    "- $Vol(T) = 7$\n",
    "- $NCV(S,T) = \\frac{2}{6} + \\frac{2}{7} = 0.62$\n",
    "\n",
    "So, if one part of the cut has a small volume, the normalized cut value will be large."
   ]
  },
  {
   "cell_type": "markdown",
   "metadata": {},
   "source": [
    "**Problem:** How do we identify the cut with the smallest normalized cut value?\n",
    "\n",
    "<br><br><br><br>\n",
    "Like most good things, it is NP-hard."
   ]
  },
  {
   "cell_type": "markdown",
   "metadata": {},
   "source": [
    "**Linear algebra to the rescue!**\n",
    "\n",
    "Below, we describe a way to approximate the optimal cuts using eigenvalue decomposition."
   ]
  },
  {
   "cell_type": "markdown",
   "metadata": {
    "slideshow": {
     "slide_type": "slide"
    }
   },
   "source": [
    "** Representing Graphs with Matrices **\n",
    "\n",
    "- **Adjacency matrix** $A$:  &nbsp;&nbsp;&nbsp; $A[i, j] = 1$ iff there is an edge from $i$ to $j$.\n",
    "- **Degree matrix** $D$:  &nbsp;&nbsp;&nbsp;&nbsp;&nbsp;&nbsp;&nbsp; $D[i, i] = deg(i)$, else 0\n",
    "\n"
   ]
  },
  {
   "cell_type": "code",
   "execution_count": 21,
   "metadata": {
    "collapsed": false,
    "slideshow": {
     "slide_type": "slide"
    }
   },
   "outputs": [
    {
     "data": {
      "image/png": "[encoded data removed]",
      "text/plain": [
       "<matplotlib.figure.Figure at 0x108cf9588>"
      ]
     },
     "metadata": {},
     "output_type": "display_data"
    }
   ],
   "source": [
    "import warnings\n",
    "warnings.filterwarnings(\"ignore\")\n",
    "%matplotlib inline \n",
    "import matplotlib.pyplot as plt\n",
    "import networkx as nx\n",
    "graph = nx.Graph()\n",
    "graph.add_edges_from([('A', 'B'), ('A', 'C'), ('B', 'C'), ('B', 'D'), ('D', 'E'), ('D', 'F'), ('D', 'G'), ('E', 'F'), ('G', 'F')])\n",
    "nx.draw(graph, with_labels=True)"
   ]
  },
  {
   "cell_type": "code",
   "execution_count": 22,
   "metadata": {
    "collapsed": false,
    "slideshow": {
     "slide_type": "-"
    }
   },
   "outputs": [
    {
     "name": "stdout",
     "output_type": "stream",
     "text": [
      "Adjacency matrix:\n",
      " [[0 1 1 0 0 0 0]\n",
      " [1 0 1 1 0 0 0]\n",
      " [1 1 0 0 0 0 0]\n",
      " [0 1 0 0 1 1 1]\n",
      " [0 0 0 1 0 1 0]\n",
      " [0 0 0 1 1 0 1]\n",
      " [0 0 0 1 0 1 0]]\n"
     ]
    }
   ],
   "source": [
    "# Print the adjacency matrix.\n",
    "def adjacency_matrix(graph):\n",
    "    return nx.adjacency_matrix(graph, sorted(graph.nodes()))\n",
    "\n",
    "adjacency = adjacency_matrix(graph)\n",
    "print('Adjacency matrix:\\n', adjacency.todense())"
   ]
  },
  {
   "cell_type": "markdown",
   "metadata": {},
   "source": [
    "** What data structure should we use to store the adjacency matrix? **\n",
    "\n",
    "<br><br><br><br><br>\n",
    "\n",
    "- Naive 2d array: $O(V^2)$ space, for $V$ vertices.\n",
    "- But, graphs are sparse ($E << V^2$), for $E$ edges.\n",
    "- Instead, only store non-zeros\n",
    "\n",
    "E.g., list of tuples `[(0,1), (0,2), (1,2), ...]`\n",
    "  - Space = $O(E)$\n",
    "  - We'll look at these *sparse matrices* in more detail later."
   ]
  },
  {
   "cell_type": "code",
   "execution_count": 23,
   "metadata": {
    "collapsed": false,
    "slideshow": {
     "slide_type": "-"
    }
   },
   "outputs": [
    {
     "name": "stdout",
     "output_type": "stream",
     "text": [
      "Degree matrix:\n",
      " [[2 0 0 0 0 0 0]\n",
      " [0 3 0 0 0 0 0]\n",
      " [0 0 2 0 0 0 0]\n",
      " [0 0 0 4 0 0 0]\n",
      " [0 0 0 0 2 0 0]\n",
      " [0 0 0 0 0 3 0]\n",
      " [0 0 0 0 0 0 2]]\n"
     ]
    }
   ],
   "source": [
    "# Print the degree matrix.\n",
    "import numpy as np\n",
    "\n",
    "def degree_matrix(graph):\n",
    "    degrees = graph.degree().items()\n",
    "    degrees = sorted(degrees, key=lambda x: x[0])\n",
    "    degrees = [d[1] for d in degrees]\n",
    "    return np.diag(degrees)\n",
    "\n",
    "degree = degree_matrix(graph)\n",
    "print('Degree matrix:\\n', degree)"
   ]
  },
  {
   "cell_type": "markdown",
   "metadata": {},
   "source": [
    "**Laplacian matrix** $L = D - A$\n",
    "\n",
    "- **Adjacency matrix** $A$:  &nbsp;&nbsp;&nbsp; $A[i, j] = 1$ iff there is an edge from $i$ to $j$.\n",
    "- **Degree matrix** $D$:  &nbsp;&nbsp;&nbsp;&nbsp;&nbsp;&nbsp;&nbsp; $D[i, i] = deg(i)$, else 0\n",
    "\n"
   ]
  },
  {
   "cell_type": "code",
   "execution_count": 24,
   "metadata": {
    "collapsed": false
   },
   "outputs": [
    {
     "name": "stdout",
     "output_type": "stream",
     "text": [
      "Laplacian matrix:\n",
      " [[ 2 -1 -1  0  0  0  0]\n",
      " [-1  3 -1 -1  0  0  0]\n",
      " [-1 -1  2  0  0  0  0]\n",
      " [ 0 -1  0  4 -1 -1 -1]\n",
      " [ 0  0  0 -1  2 -1  0]\n",
      " [ 0  0  0 -1 -1  3 -1]\n",
      " [ 0  0  0 -1  0 -1  2]]\n"
     ]
    }
   ],
   "source": [
    "def laplacian_matrix(graph):\n",
    "    return degree_matrix(graph) - adjacency_matrix(graph)\n",
    "\n",
    "laplacian = laplacian_matrix(graph)\n",
    "print('Laplacian matrix:\\n', laplacian)"
   ]
  },
  {
   "cell_type": "markdown",
   "metadata": {
    "slideshow": {
     "slide_type": "slide"
    }
   },
   "source": [
    "**Properties of Laplacian matrix:**\n",
    "- rows sum to 0; columns sum to 0\n",
    "- symmetric\n",
    "- positive-semidefinite &nbsp;&nbsp; ($z^TLz \\ge 0$ &nbsp;&nbsp;&nbsp; $\\forall $ nonzero $z$)\n"
   ]
  },
  {
   "cell_type": "markdown",
   "metadata": {
    "slideshow": {
     "slide_type": "slide"
    }
   },
   "source": [
    "** Recall that a matrix is a way to represent a linear transformation.**\n",
    "\n",
    "For an arbitrary vector $v$, what does $Lv$ mean?"
   ]
  },
  {
   "cell_type": "code",
   "execution_count": 25,
   "metadata": {
    "collapsed": false,
    "slideshow": {
     "slide_type": "slide"
    }
   },
   "outputs": [
    {
     "data": {
      "image/png": "[encoded data removed]",
      "text/plain": [
       "<matplotlib.figure.Figure at 0x10afada20>"
      ]
     },
     "metadata": {},
     "output_type": "display_data"
    }
   ],
   "source": [
    "# For a smaller graph.\n",
    "graph2 = nx.Graph()\n",
    "graph2.add_edges_from([('A', 'B'), ('B', 'C')])\n",
    "nx.draw(graph2, with_labels=True)"
   ]
  },
  {
   "cell_type": "code",
   "execution_count": 26,
   "metadata": {
    "collapsed": false
   },
   "outputs": [
    {
     "name": "stdout",
     "output_type": "stream",
     "text": [
      "[[ 1 -1  0]\n",
      " [-1  2 -1]\n",
      " [ 0 -1  1]]\n"
     ]
    }
   ],
   "source": [
    "laplacian2 = laplacian_matrix(graph2)\n",
    "print(laplacian2)"
   ]
  },
  {
   "cell_type": "markdown",
   "metadata": {},
   "source": [
    "Let $v$ be a map from nodes to real values. \n",
    "\n",
    "E.g., $v = \\{f(A), f(B), f(C)\\}$\n",
    "\n",
    "Then, $Lv$ is:\n",
    "\n",
    "$$ \\begin{pmatrix}\n",
    "  1 & -1 & 0 \\\\\n",
    "  -1 & 2 & -1 \\\\\n",
    "  0 & -1 & 1\n",
    " \\end{pmatrix}\n",
    " \\begin{pmatrix}\n",
    " f(A)\\\\\n",
    " f(B)\\\\\n",
    " f(C)\\\\\n",
    " \\end{pmatrix}\n",
    " =\n",
    " \\begin{pmatrix}\n",
    "  f(A) - f(B)\\\\\n",
    "  -f(A) + 2f(B) - f(C)\\\\\n",
    "  -f(B) + f(C)\n",
    " \\end{pmatrix}$$\n",
    " \n",
    "More generally:\n",
    "\n",
    "$Lv[i]= [deg(i) ∗ (f(i) − $average of $f$ on neighbors of $i)]$\n"
   ]
  },
  {
   "cell_type": "code",
   "execution_count": 27,
   "metadata": {
    "collapsed": false
   },
   "outputs": [
    {
     "name": "stdout",
     "output_type": "stream",
     "text": [
      "[[-1  0  1]]\n"
     ]
    }
   ],
   "source": [
    "print(laplacian2.dot([1,2,3]))"
   ]
  },
  {
   "cell_type": "code",
   "execution_count": 28,
   "metadata": {
    "collapsed": false
   },
   "outputs": [
    {
     "name": "stdout",
     "output_type": "stream",
     "text": [
      "[[ 1  0 -1]]\n"
     ]
    }
   ],
   "source": [
    "print(laplacian2.dot([3,2,1]))"
   ]
  },
  {
   "cell_type": "markdown",
   "metadata": {
    "slideshow": {
     "slide_type": "slide"
    }
   },
   "source": [
    "** Review of Linear Algebra**\n",
    "\n",
    "A vector $\\mathbf{v}$ of dimension $n$ is an **eigenvector **of a square $(n×n)$ matrix $A$ if and only if \n",
    "$$ A \\mathbf{v} = \\lambda \\mathbf{v}  $$\n",
    "\n",
    "where $\\lambda$ is a scalar, called an **eigenvalue**.\n",
    "\n",
    "In otherwords, $\\mathbf{v}$ is just a linear scaling of $A$.\n",
    "\n",
    "<br><br><br><br>\n",
    "Assume $A$ has $n$ linearly independent eigenvectors, $\\{\\mathbf{v}_1 \\ldots \\mathbf{v}_n\\}$. \n",
    "\n",
    "**eigenvector matrix**: Let $V$ be a square matrix where column $i$ is $\\mathbf{v}_i$\n",
    "\n",
    "Then A can be factorized as\n",
    "$A=V \\Lambda V^{-1}  $ where\n",
    "\n",
    "**eigenvalue matrix:** $\\Lambda$ is a diagonal matrix of eigenvalues: $\\Lambda[i, i]=\\lambda_i$.\n",
    "\n",
    "(c.f. Principal Component Analysis.)"
   ]
  },
  {
   "cell_type": "markdown",
   "metadata": {
    "slideshow": {
     "slide_type": "slide"
    }
   },
   "source": [
    "![eval](http://upload.wikimedia.org/wikipedia/commons/thumb/5/58/Eigenvalue_equation.svg/375px-Eigenvalue_equation.svg.png)\n",
    "\n",
    "[source](http://en.wikipedia.org/wiki/Eigenvalues_and_eigenvectors)"
   ]
  },
  {
   "cell_type": "markdown",
   "metadata": {
    "slideshow": {
     "slide_type": "slide"
    }
   },
   "source": [
    "**What happens when we compute the eigenvalue decomposition of the Laplacian $L$**?\n",
    "\n",
    "- Smallest eigenvalue $\\lambda_0=0$\n",
    "  - Corresponding eigenvector $\\mathbf{v}_0 = \\mathbf{1}$"
   ]
  },
  {
   "cell_type": "code",
   "execution_count": 30,
   "metadata": {
    "collapsed": false,
    "slideshow": {
     "slide_type": "slide"
    }
   },
   "outputs": [
    {
     "name": "stdout",
     "output_type": "stream",
     "text": [
      "[[0 0 0]]\n"
     ]
    }
   ],
   "source": [
    "print(laplacian2.dot([1,1,1]))"
   ]
  },
  {
   "cell_type": "markdown",
   "metadata": {
    "slideshow": {
     "slide_type": "slide"
    }
   },
   "source": [
    "**What about second eigenvector?**\n"
   ]
  },
  {
   "cell_type": "code",
   "execution_count": 31,
   "metadata": {
    "collapsed": true
   },
   "outputs": [
    {
     "name": "stdout",
     "output_type": "stream",
     "text": [
      "Help on function eigh in module numpy.linalg.linalg:\n",
      "\n",
      "eigh(a, UPLO='L')\n",
      "    Return the eigenvalues and eigenvectors of a Hermitian or symmetric matrix.\n",
      "    \n",
      "    Returns two objects, a 1-D array containing the eigenvalues of `a`, and\n",
      "    a 2-D square array or matrix (depending on the input type) of the\n",
      "    corresponding eigenvectors (in columns).\n",
      "    \n",
      "    Parameters\n",
      "    ----------\n",
      "    a : (..., M, M) array\n",
      "        Hermitian/Symmetric matrices whose eigenvalues and\n",
      "        eigenvectors are to be computed.\n",
      "    UPLO : {'L', 'U'}, optional\n",
      "        Specifies whether the calculation is done with the lower triangular\n",
      "        part of `a` ('L', default) or the upper triangular part ('U').\n",
      "        Irrespective of this value only the real parts of the diagonal will\n",
      "        be considered in the computation to preserve the notion of a Hermitian\n",
      "        matrix. It therefore follows that the imaginary part of the diagonal\n",
      "        will always be treated as zero.\n",
      "    \n",
      "    Returns\n",
      "    -------\n",
      "    w : (..., M) ndarray\n",
      "        The eigenvalues in ascending order, each repeated according to\n",
      "        its multiplicity.\n",
      "    v : {(..., M, M) ndarray, (..., M, M) matrix}\n",
      "        The column ``v[:, i]`` is the normalized eigenvector corresponding\n",
      "        to the eigenvalue ``w[i]``.  Will return a matrix object if `a` is\n",
      "        a matrix object.\n",
      "    \n",
      "    Raises\n",
      "    ------\n",
      "    LinAlgError\n",
      "        If the eigenvalue computation does not converge.\n",
      "    \n",
      "    See Also\n",
      "    --------\n",
      "    eigvalsh : eigenvalues of symmetric or Hermitian arrays.\n",
      "    eig : eigenvalues and right eigenvectors for non-symmetric arrays.\n",
      "    eigvals : eigenvalues of non-symmetric arrays.\n",
      "    \n",
      "    Notes\n",
      "    -----\n",
      "    \n",
      "    .. versionadded:: 1.8.0\n",
      "    \n",
      "    Broadcasting rules apply, see the `numpy.linalg` documentation for\n",
      "    details.\n",
      "    \n",
      "    The eigenvalues/eigenvectors are computed using LAPACK routines _syevd,\n",
      "    _heevd\n",
      "    \n",
      "    The eigenvalues of real symmetric or complex Hermitian matrices are\n",
      "    always real. [1]_ The array `v` of (column) eigenvectors is unitary\n",
      "    and `a`, `w`, and `v` satisfy the equations\n",
      "    ``dot(a, v[:, i]) = w[i] * v[:, i]``.\n",
      "    \n",
      "    References\n",
      "    ----------\n",
      "    .. [1] G. Strang, *Linear Algebra and Its Applications*, 2nd Ed., Orlando,\n",
      "           FL, Academic Press, Inc., 1980, pg. 222.\n",
      "    \n",
      "    Examples\n",
      "    --------\n",
      "    >>> from numpy import linalg as LA\n",
      "    >>> a = np.array([[1, -2j], [2j, 5]])\n",
      "    >>> a\n",
      "    array([[ 1.+0.j,  0.-2.j],\n",
      "           [ 0.+2.j,  5.+0.j]])\n",
      "    >>> w, v = LA.eigh(a)\n",
      "    >>> w; v\n",
      "    array([ 0.17157288,  5.82842712])\n",
      "    array([[-0.92387953+0.j        , -0.38268343+0.j        ],\n",
      "           [ 0.00000000+0.38268343j,  0.00000000-0.92387953j]])\n",
      "    \n",
      "    >>> np.dot(a, v[:, 0]) - w[0] * v[:, 0] # verify 1st e-val/vec pair\n",
      "    array([2.77555756e-17 + 0.j, 0. + 1.38777878e-16j])\n",
      "    >>> np.dot(a, v[:, 1]) - w[1] * v[:, 1] # verify 2nd e-val/vec pair\n",
      "    array([ 0.+0.j,  0.+0.j])\n",
      "    \n",
      "    >>> A = np.matrix(a) # what happens if input is a matrix object\n",
      "    >>> A\n",
      "    matrix([[ 1.+0.j,  0.-2.j],\n",
      "            [ 0.+2.j,  5.+0.j]])\n",
      "    >>> w, v = LA.eigh(A)\n",
      "    >>> w; v\n",
      "    array([ 0.17157288,  5.82842712])\n",
      "    matrix([[-0.92387953+0.j        , -0.38268343+0.j        ],\n",
      "            [ 0.00000000+0.38268343j,  0.00000000-0.92387953j]])\n",
      "    \n",
      "    >>> # demonstrate the treatment of the imaginary part of the diagonal\n",
      "    >>> a = np.array([[5+2j, 9-2j], [0+2j, 2-1j]])\n",
      "    >>> a\n",
      "    array([[ 5.+2.j,  9.-2.j],\n",
      "           [ 0.+2.j,  2.-1.j]])\n",
      "    >>> # with UPLO='L' this is numerically equivalent to using LA.eig() with:\n",
      "    >>> b = np.array([[5.+0.j, 0.-2.j], [0.+2.j, 2.-0.j]])\n",
      "    >>> b\n",
      "    array([[ 5.+0.j,  0.-2.j],\n",
      "           [ 0.+2.j,  2.+0.j]])\n",
      "    >>> wa, va = LA.eigh(a)\n",
      "    >>> wb, vb = LA.eig(b)\n",
      "    >>> wa; wb\n",
      "    array([ 1.,  6.])\n",
      "    array([ 6.+0.j,  1.+0.j])\n",
      "    >>> va; vb\n",
      "    array([[-0.44721360-0.j        , -0.89442719+0.j        ],\n",
      "           [ 0.00000000+0.89442719j,  0.00000000-0.4472136j ]])\n",
      "    array([[ 0.89442719+0.j       ,  0.00000000-0.4472136j],\n",
      "           [ 0.00000000-0.4472136j,  0.89442719+0.j       ]])\n",
      "\n"
     ]
    }
   ],
   "source": [
    "# Library to compute eigenvectors:\n",
    "from numpy.linalg import eigh\n",
    "help(eigh)"
   ]
  },
  {
   "cell_type": "code",
   "execution_count": 32,
   "metadata": {
    "collapsed": false,
    "slideshow": {
     "slide_type": "slide"
    }
   },
   "outputs": [
    {
     "name": "stdout",
     "output_type": "stream",
     "text": [
      "eigen values\n",
      " [ 0.    0.4   2.    3.    3.34  4.    5.26]\n",
      "eigen vectors\n",
      " [[-0.38  0.49  0.   -0.71 -0.32 -0.   -0.11]\n",
      " [-0.38  0.3   0.    0.    0.75  0.    0.45]\n",
      " [-0.38  0.49 -0.    0.71 -0.32 -0.   -0.11]\n",
      " [-0.38 -0.21  0.    0.    0.39  0.   -0.81]\n",
      " [-0.38 -0.36  0.71 -0.   -0.17 -0.41  0.19]\n",
      " [-0.38 -0.36 -0.   -0.   -0.17  0.82  0.19]\n",
      " [-0.38 -0.36 -0.71 -0.   -0.17 -0.41  0.19]]\n"
     ]
    }
   ],
   "source": [
    "eig_vals, eig_vectors = eigh(laplacian)\n",
    "# round them for prettier printing\n",
    "eig_vals = np.round(eig_vals, 2)\n",
    "eig_vectors = np.round(eig_vectors, 2)\n",
    "print('eigen values\\n', eig_vals)\n",
    "print('eigen vectors\\n',np.round(eig_vectors, 2))"
   ]
  },
  {
   "cell_type": "code",
   "execution_count": 33,
   "metadata": {
    "collapsed": false
   },
   "outputs": [
    {
     "name": "stdout",
     "output_type": "stream",
     "text": [
      "first eigen value=0\n",
      "first (normalized) eigen vector=\n",
      "[-0.38 -0.38 -0.38 -0.38 -0.38 -0.38 -0.38]\n"
     ]
    }
   ],
   "source": [
    "print('first eigen value=%g' % eig_vals[0])\n",
    "print('first (normalized) eigen vector=\\n%s' % eig_vectors[:,0])"
   ]
  },
  {
   "cell_type": "markdown",
   "metadata": {},
   "source": [
    "Eigen vectors have been normalized to unit length by $ v = \\frac{v'}{||v'||} $"
   ]
  },
  {
   "cell_type": "code",
   "execution_count": 34,
   "metadata": {
    "collapsed": false
   },
   "outputs": [
    {
     "data": {
      "text/plain": [
       "array([ 0.37796447,  0.37796447,  0.37796447,  0.37796447,  0.37796447,\n",
       "        0.37796447,  0.37796447])"
      ]
     },
     "execution_count": 34,
     "metadata": {},
     "output_type": "execute_result"
    }
   ],
   "source": [
    "v = np.array([1, 1, 1, 1, 1, 1, 1])\n",
    "v / (np.sqrt(np.sum(v**2)))"
   ]
  },
  {
   "cell_type": "code",
   "execution_count": 35,
   "metadata": {
    "collapsed": false
   },
   "outputs": [
    {
     "name": "stdout",
     "output_type": "stream",
     "text": [
      "second eigen value=0.40\n",
      "second eigen vector=\n",
      "[ 0.49  0.3   0.49 -0.21 -0.36 -0.36 -0.36]\n"
     ]
    },
    {
     "data": {
      "image/png": "[encoded data removed]",
      "text/plain": [
       "<matplotlib.figure.Figure at 0x10b6fb908>"
      ]
     },
     "metadata": {},
     "output_type": "display_data"
    }
   ],
   "source": [
    "print('second eigen value=%.2f' % eig_vals[1])\n",
    "print('second eigen vector=\\n%s' % eig_vectors[:,1])\n",
    "nx.draw(graph, with_labels=True)"
   ]
  },
  {
   "cell_type": "markdown",
   "metadata": {},
   "source": [
    "What do you notice about the second eigenvector?\n",
    "\n",
    "(Note that first vector component corresponds to node 'A', the second to 'B', etc.)\n",
    "<br><br><br><br>"
   ]
  },
  {
   "cell_type": "markdown",
   "metadata": {},
   "source": [
    "We can think of eigenvectors as the cluster assignment to each node.\n",
    "\n",
    "E.g., nodes with negative values are in cluster 1, nodes with positive values are in cluster 2."
   ]
  },
  {
   "cell_type": "markdown",
   "metadata": {
    "slideshow": {
     "slide_type": "slide"
    }
   },
   "source": [
    "**From eigenvalues to clustering**\n",
    "\n",
    "Method 1:\n",
    "- Compute decomposition and examine second eigenvector\n",
    "- Place nodes of positive values in cluster 1, negative values in cluster 2."
   ]
  },
  {
   "cell_type": "markdown",
   "metadata": {
    "slideshow": {
     "slide_type": "slide"
    }
   },
   "source": [
    "**From eigenvalues to clustering**\n",
    "\n",
    "Method 2:\n",
    "- Compute decomposition and examine second eigenvector\n",
    "- Place nodes of values greather than $\\tau$ in cluster 1, and the remainder in cluster 2.\n",
    "  - The threshold $\\tau$ will determine balance of clustering\n",
    "  - E.g., for $\\tau=-.3$?"
   ]
  },
  {
   "cell_type": "markdown",
   "metadata": {
    "slideshow": {
     "slide_type": "slide"
    }
   },
   "source": [
    "**Partitioning into more than 2 components?**\n",
    "\n",
    "- Just recursively repeat the above procedure."
   ]
  },
  {
   "cell_type": "markdown",
   "metadata": {
    "slideshow": {
     "slide_type": "slide"
    }
   },
   "source": [
    "\n",
    "- Or, consider multiple eigen vectors simultaneously."
   ]
  },
  {
   "cell_type": "code",
   "execution_count": 36,
   "metadata": {
    "collapsed": false,
    "slideshow": {
     "slide_type": "slide"
    }
   },
   "outputs": [
    {
     "name": "stdout",
     "output_type": "stream",
     "text": [
      "third eigen value=2.00\n",
      "third eigen vector=\n",
      "[ 0.    0.   -0.    0.    0.71 -0.   -0.71]\n"
     ]
    }
   ],
   "source": [
    "print('third eigen value=%.2f' % eig_vals[2])\n",
    "print('third eigen vector=\\n%s' % eig_vectors[:,2])"
   ]
  },
  {
   "cell_type": "markdown",
   "metadata": {},
   "source": [
    "$\\mathbf{v}_1: \\{A,B,C\\}, \\{D,E,F,G\\}$\n",
    "\n",
    "$\\mathbf{v}_2: \\{A,B,D,E,F\\}, \\{C,G\\}$"
   ]
  },
  {
   "cell_type": "code",
   "execution_count": 37,
   "metadata": {
    "collapsed": false,
    "slideshow": {
     "slide_type": "slide"
    }
   },
   "outputs": [
    {
     "name": "stdout",
     "output_type": "stream",
     "text": [
      "fourth eigen value=3.00\n",
      "fourth eigen vector=\n",
      "[-0.71  0.    0.71  0.   -0.   -0.   -0.  ]\n"
     ]
    }
   ],
   "source": [
    "print('fourth eigen value=%.2f' % eig_vals[3])\n",
    "print('fourth eigen vector=\\n%s' % eig_vectors[:,3])"
   ]
  },
  {
   "cell_type": "markdown",
   "metadata": {},
   "source": [
    "$\\mathbf{v}_1: \\{A,B,C\\}, \\{D,E,F,G\\}$\n",
    "\n",
    "$\\mathbf{v}_2: \\{A,B,C,D,E\\}, \\{C,G\\}$\n",
    "    \n",
    "$\\mathbf{v}_3: \\{A,E,F,G\\}, \\{B,C,D\\}$"
   ]
  },
  {
   "cell_type": "markdown",
   "metadata": {
    "collapsed": true
   },
   "source": [
    "Method 3:\n",
    "- Represent each node by all of its eigenvectors\n",
    "- Cluster the result using a standard algorithm like $k$-means"
   ]
  },
  {
   "cell_type": "code",
   "execution_count": 39,
   "metadata": {
    "collapsed": false
   },
   "outputs": [
    {
     "data": {
      "text/plain": [
       "array([-0.38,  0.49,  0.  , -0.71, -0.32, -0.  , -0.11])"
      ]
     },
     "execution_count": 39,
     "metadata": {},
     "output_type": "execute_result"
    }
   ],
   "source": [
    "# get first row of eigenvector matrix.\n",
    "# this is a vector to represent node A\n",
    "eig_vectors[0,:]"
   ]
  },
  {
   "cell_type": "code",
   "execution_count": 40,
   "metadata": {
    "collapsed": false
   },
   "outputs": [
    {
     "data": {
      "text/plain": [
       "array([-0.38,  0.3 ,  0.  ,  0.  ,  0.75,  0.  ,  0.45])"
      ]
     },
     "execution_count": 40,
     "metadata": {},
     "output_type": "execute_result"
    }
   ],
   "source": [
    "# get second row of eigenvector matrix.\n",
    "# this is a vector to represent node B\n",
    "eig_vectors[1,:]"
   ]
  },
  {
   "cell_type": "code",
   "execution_count": 41,
   "metadata": {
    "collapsed": false
   },
   "outputs": [
    {
     "data": {
      "text/plain": [
       "array([-0.38,  0.49, -0.  ,  0.71, -0.32, -0.  , -0.11])"
      ]
     },
     "execution_count": 41,
     "metadata": {},
     "output_type": "execute_result"
    }
   ],
   "source": [
    "# get second row of eigenvector matrix.\n",
    "# this is a vector to represent node C\n",
    "eig_vectors[2,:]"
   ]
  },
  {
   "cell_type": "code",
   "execution_count": 20,
   "metadata": {
    "collapsed": false
   },
   "outputs": [
    {
     "name": "stdout",
     "output_type": "stream",
     "text": [
      "A 0.49 0.0\n",
      "B 0.3 0.0\n",
      "C 0.49 -0.0\n",
      "D -0.21 0.0\n",
      "E -0.36 0.71\n",
      "F -0.36 -0.0\n",
      "G -0.36 -0.71\n"
     ]
    },
    {
     "data": {
      "image/png": "[encoded data removed]",
      "text/plain": [
       "<matplotlib.figure.Figure at 0x10b170518>"
      ]
     },
     "metadata": {},
     "output_type": "display_data"
    }
   ],
   "source": [
    "# plot each point using 2nd and 3rd eigen vector\n",
    "def plot_by_eigenvectors(eig_vectors):\n",
    "    plt.figure()\n",
    "    for i, name in enumerate(['A', 'B', 'C', 'D', 'E', 'F', 'G']):\n",
    "        v1 = eig_vectors[i, 1]\n",
    "        v2 = eig_vectors[i, 2]\n",
    "        plt.annotate(name, xy=(v1, v2))\n",
    "        print(name, v1, v2)\n",
    "    plt.xlim(-.5,.5)\n",
    "    plt.ylim(-.8,.8)\n",
    "    plt.xlabel('second eigenvector value')\n",
    "    plt.ylabel('third eigenvector value')\n",
    "    plt.show()\n",
    "    \n",
    "plot_by_eigenvectors(eig_vectors)"
   ]
  }
 ],
 "metadata": {
  "kernelspec": {
   "display_name": "Python 3",
   "language": "python",
   "name": "python3"
  },
  "language_info": {
   "codemirror_mode": {
    "name": "ipython",
    "version": 3
   },
   "file_extension": ".py",
   "mimetype": "text/x-python",
   "name": "python",
   "nbconvert_exporter": "python",
   "pygments_lexer": "ipython3",
   "version": "3.6.0"
  }
 },
 "nbformat": 4,
 "nbformat_minor": 0
}
