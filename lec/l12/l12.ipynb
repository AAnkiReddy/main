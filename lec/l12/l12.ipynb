{
 "metadata": {
  "name": "",
  "signature": "sha256:3cbed10ff45ec580ee63f39ba604e6a24aefbd1032b40a04d792ddf9cc9b0b43"
 },
 "nbformat": 3,
 "nbformat_minor": 0,
 "worksheets": [
  {
   "cells": [
    {
     "cell_type": "markdown",
     "metadata": {
      "slideshow": {
       "slide_type": "slide"
      }
     },
     "source": [
      "# CS579: Lecture 12  \n",
      "\n",
      "** Demographic Inference I**\n",
      "\n",
      "*[Dr. Aron Culotta](http://cs.iit.edu/~culotta)*  \n",
      "*[Illinois Institute of Technology](http://iit.edu)*"
     ]
    },
    {
     "cell_type": "markdown",
     "metadata": {
      "slideshow": {
       "slide_type": "slide"
      }
     },
     "source": [
      "**dem\u00b7o\u00b7graph\u00b7ics**\n",
      "\n",
      "statistical data relating to the population and particular groups within it.\n",
      "\n",
      "E.g., age, ethnicity, gender, income, ..."
     ]
    },
    {
     "cell_type": "markdown",
     "metadata": {
      "slideshow": {
       "slide_type": "slide"
      }
     },
     "source": [
      "# Why Demographics?"
     ]
    },
    {
     "cell_type": "markdown",
     "metadata": {
      "slideshow": {
       "slide_type": "slide"
      }
     },
     "source": [
      "# Why Demographics?\n",
      "\n",
      "- Marketing\n",
      "  - Who are my customers?\n",
      "  - Who are my competitors' customers?\n",
      "  - E.g., [DemographicsPro](http://www.demographicspro.com/samples#c=%40FamilyGuyonFOX)\n",
      "  \n",
      "- Social Media as Surveys\n",
      "  - E.g., 45% of tweets express positive sentiment toward Pres. Obama\n",
      "  - Who wrote those tweets?\n",
      "  \n",
      "- Health\n",
      "  - 2% of Facebook users are expressing flu-like symptoms\n",
      "  - Are they representative of the full population?\n",
      "\n"
     ]
    },
    {
     "cell_type": "markdown",
     "metadata": {
      "slideshow": {
       "slide_type": "slide"
      }
     },
     "source": [
      "** User profiles vary from site to site. **"
     ]
    },
    {
     "cell_type": "markdown",
     "metadata": {
      "slideshow": {
       "slide_type": "slide"
      }
     },
     "source": [
      "![rahm](rahm.png)"
     ]
    },
    {
     "cell_type": "markdown",
     "metadata": {
      "slideshow": {
       "slide_type": "slide"
      }
     },
     "source": [
      "![rahm-fb](rahm-fb.png)"
     ]
    },
    {
     "cell_type": "markdown",
     "metadata": {
      "slideshow": {
       "slide_type": "slide"
      }
     },
     "source": [
      "![rahm-li](rahm-li.png)"
     ]
    },
    {
     "cell_type": "markdown",
     "metadata": {
      "slideshow": {
       "slide_type": "slide"
      }
     },
     "source": [
      "# Approaches\n",
      "\n",
      "- Clever use of external data\n",
      "  - E.g., U.S. Census name lists for gender\n",
      "- Look for keywords in profile\n",
      "  - \"African American Male\"\n",
      "  - \"Happy 21st birthday to me\"\n",
      "- Machine Learning"
     ]
    },
    {
     "cell_type": "code",
     "collapsed": false,
     "input": [
      "# Guessing gender\n",
      "import ConfigParser\n",
      "from TwitterAPI import TwitterAPI\n",
      "\n",
      "def get_twitter(config_file):\n",
      "    \"\"\" Read the config_file and construct an instance of TwitterAPI.\n",
      "    Args:\n",
      "      config_file ... A config file in ConfigParser format with Twitter credentials\n",
      "    Returns:\n",
      "      An instance of TwitterAPI.\n",
      "    \"\"\"\n",
      "    config = ConfigParser.ConfigParser()\n",
      "    config.read(config_file)\n",
      "    twitter = TwitterAPI(\n",
      "                   config.get('twitter', 'consumer_key'),\n",
      "                   config.get('twitter', 'consumer_secret'),\n",
      "                   config.get('twitter', 'access_token'),\n",
      "                   config.get('twitter', 'access_token_secret'))\n",
      "    return twitter\n",
      "\n",
      "\n",
      "def robust_request(twitter, resource, params, max_tries=5):\n",
      "    \"\"\" If a Twitter request fails, sleep for 15 minutes.\n",
      "    Do this at most max_tries times before quitting.\n",
      "    Args:\n",
      "      twitter .... A TwitterAPI object.\n",
      "      resource ... A resource string to request.\n",
      "      params ..... A parameter dictionary for the request.\n",
      "      max_tries .. The maximum number of tries to attempt.\n",
      "    Returns:\n",
      "      A TwitterResponse object, or None if failed.\n",
      "    \"\"\"\n",
      "    for i in range(max_tries):\n",
      "        request = twitter.request(resource, params)\n",
      "        if request.status_code == 200:\n",
      "            return request\n",
      "        else:\n",
      "            print >> sys.stderr, 'Got error:', request.text, '\\nsleeping for 15 minutes.'\n",
      "            sys.stderr.flush()\n",
      "            time.sleep(60 * 15)\n",
      "\n",
      "twitter = get_twitter('twitter.cfg')\n",
      "request = robust_request(twitter, 'search/tweets',\n",
      "                                  {'q': 'ColbertReport',\n",
      "                                  'count': '100'})\n",
      "tweets = [t for t in request]\n",
      "print 'fetched %d tweets' % len(tweets)"
     ],
     "language": "python",
     "metadata": {
      "slideshow": {
       "slide_type": "slide"
      }
     },
     "outputs": [
      {
       "output_type": "stream",
       "stream": "stdout",
       "text": [
        "fetched 100 tweets\n"
       ]
      }
     ],
     "prompt_number": 4
    },
    {
     "cell_type": "code",
     "collapsed": false,
     "input": [
      "# Print 10 names.\n",
      "names = [t['user']['name'] for t in tweets]\n",
      "print '\\n'.join(names[:10])"
     ],
     "language": "python",
     "metadata": {
      "slideshow": {
       "slide_type": "slide"
      }
     },
     "outputs": [
      {
       "output_type": "stream",
       "stream": "stdout",
       "text": [
        "Jeff Bellin\n",
        "Robby Willey\n",
        "David Wescott\n",
        "Steve Jackson Show\n",
        "Kristin Bergman\n",
        "Pam\n",
        "Pam\n",
        "William & Mary News\n",
        "William & Mary Law \n",
        "Katie Collett WAVY\n"
       ]
      }
     ],
     "prompt_number": 87
    },
    {
     "cell_type": "code",
     "collapsed": false,
     "input": [
      "# Fetch census name data from:\n",
      "# http://www.census.gov/genealogy/www/data/1990surnames/index.html\n",
      "\n",
      "import requests\n",
      "males_url = 'http://www.census.gov/genealogy/www/data/' + \\\n",
      "            '1990surnames/dist.male.first'\n",
      "females_url = 'http://www.census.gov/genealogy/www/data/' + \\\n",
      "              '1990surnames/dist.female.first'\n",
      "males = requests.get(males_url).text.split('\\n')\n",
      "females = requests.get(females_url).text.split('\\n')\n",
      "print 'males:\\n', '\\n'.join(males[:10])\n",
      "print '\\nfemales:\\n', '\\n'.join(females[:10])"
     ],
     "language": "python",
     "metadata": {
      "slideshow": {
       "slide_type": "slide"
      }
     },
     "outputs": [
      {
       "output_type": "stream",
       "stream": "stdout",
       "text": [
        "males:\n",
        "JAMES          3.318  3.318      1\n",
        "JOHN           3.271  6.589      2\n",
        "ROBERT         3.143  9.732      3\n",
        "MICHAEL        2.629 12.361      4\n",
        "WILLIAM        2.451 14.812      5\n",
        "DAVID          2.363 17.176      6\n",
        "RICHARD        1.703 18.878      7\n",
        "CHARLES        1.523 20.401      8\n",
        "JOSEPH         1.404 21.805      9\n",
        "THOMAS         1.380 23.185     10\n",
        "\n",
        "females:\n",
        "MARY           2.629  2.629      1\n",
        "PATRICIA       1.073  3.702      2\n",
        "LINDA          1.035  4.736      3\n",
        "BARBARA        0.980  5.716      4\n",
        "ELIZABETH      0.937  6.653      5\n",
        "JENNIFER       0.932  7.586      6\n",
        "MARIA          0.828  8.414      7\n",
        "SUSAN          0.794  9.209      8\n",
        "MARGARET       0.768  9.976      9\n",
        "DOROTHY        0.727 10.703     10\n"
       ]
      }
     ],
     "prompt_number": 71
    },
    {
     "cell_type": "code",
     "collapsed": false,
     "input": [
      "# Get names. \n",
      "male_names = set([m.split()[0].lower() for m in males if m])\n",
      "female_names = set([f.split()[0].lower() for f in females if f])\n",
      "\n",
      "print 'males:\\n', '\\n'.join(list(male_names)[:10])\n",
      "print '\\nfemales:\\n', '\\n'.join(list(female_names)[:10])"
     ],
     "language": "python",
     "metadata": {
      "slideshow": {
       "slide_type": "slide"
      }
     },
     "outputs": [
      {
       "output_type": "stream",
       "stream": "stdout",
       "text": [
        "males:\n",
        "trenton\n",
        "darrin\n",
        "emile\n",
        "jason\n",
        "ron\n",
        "ali\n",
        "rob\n",
        "rod\n",
        "monte\n",
        "steve\n",
        "\n",
        "females:\n",
        "fawn\n",
        "kymberly\n",
        "augustina\n",
        "evalyn\n",
        "augustine\n",
        "chieko\n",
        "linsey\n",
        "hermina\n",
        "shenika\n",
        "sonja\n"
       ]
      }
     ],
     "prompt_number": 88
    },
    {
     "cell_type": "code",
     "collapsed": false,
     "input": [
      "def gender_by_name(tweets, male_names, female_names):\n",
      "    for t in tweets:\n",
      "        name = t['user']['name']\n",
      "        if name:\n",
      "            first = name.split()[0].lower()\n",
      "            if first in male_names:\n",
      "                t['gender'] = 'male'\n",
      "            elif first in female_names:\n",
      "                t['gender'] = 'female'\n",
      "            else:\n",
      "                t['gender'] = 'unknown'\n",
      "\n",
      "gender_by_name(tweets, male_names, female_names)"
     ],
     "language": "python",
     "metadata": {
      "slideshow": {
       "slide_type": "slide"
      }
     },
     "outputs": [],
     "prompt_number": 89
    },
    {
     "cell_type": "code",
     "collapsed": false,
     "input": [
      "from collections import Counter\n",
      "\n",
      "def print_genders(tweets):\n",
      "    print 'gender counts:\\n', Counter([t['gender'] for t in tweets])\n",
      "    for t in tweets[:20]:\n",
      "        print t['gender'], t['user']['name']\n",
      "    \n",
      "print_genders(tweets)"
     ],
     "language": "python",
     "metadata": {
      "slideshow": {
       "slide_type": "slide"
      }
     },
     "outputs": [
      {
       "output_type": "stream",
       "stream": "stdout",
       "text": [
        "gender counts:\n",
        "Counter({'unknown': 47, 'male': 34, 'female': 19})\n",
        "male Jeff Bellin\n",
        "male Robby Willey\n",
        "male David Wescott\n",
        "male Steve Jackson Show\n",
        "female Kristin Bergman\n",
        "female Pam\n",
        "female Pam\n",
        "male William & Mary News\n",
        "male William & Mary Law \n",
        "female Katie Collett WAVY\n",
        "male John Tarley\n",
        "female Linda Kanter\n",
        "unknown Duchess Reid\n",
        "male David K. Sutton\n",
        "female Amy #AmeliaMartinez\n",
        "male Alan Smithee\n",
        "male Alan Smithee\n",
        "female Jane \n",
        "male Fred Feuerbach\n",
        "male reggie tait\n"
       ]
      }
     ],
     "prompt_number": 90
    },
    {
     "cell_type": "code",
     "collapsed": false,
     "input": [
      "# What about ambiguous names?\n",
      "\n",
      "def print_ambiguous_names(male_names, female_names):\n",
      "    ambiguous = [n for n in male_names if n in female_names]\n",
      "    print 'found %d ambiguous names:\\n'% len(ambiguous)\n",
      "    print '\\n'.join(ambiguous[:20])\n",
      "    \n",
      "print_ambiguous_names(male_names, female_names)"
     ],
     "language": "python",
     "metadata": {
      "slideshow": {
       "slide_type": "slide"
      }
     },
     "outputs": [
      {
       "output_type": "stream",
       "stream": "stdout",
       "text": [
        "found 331 ambiguous names:\n",
        "\n",
        "jason\n",
        "ali\n",
        "roy\n",
        "marion\n",
        "cameron\n",
        "sung\n",
        "cody\n",
        "jessie\n",
        "paris\n",
        "demetrius\n",
        "young\n",
        "aaron\n",
        "edward\n",
        "daryl\n",
        "billie\n",
        "jack\n",
        "andre\n",
        "louis\n",
        "joel\n",
        "michael\n"
       ]
      }
     ],
     "prompt_number": 91
    },
    {
     "cell_type": "code",
     "collapsed": false,
     "input": [
      "# Keep names that are more frequent in one gender than the other.\n",
      "males_pct = dict([(m.split()[0].lower(), float(m.split()[1]))\n",
      "                  for m in males if m])\n",
      "females_pct = dict([(f.split()[0].lower(), float(f.split()[1]))\n",
      "                    for f in females if f])\n",
      "\n",
      "male_names = set([m for m in male_names if m not in female_names or\n",
      "              males_pct[m] > females_pct[m]])\n",
      "female_names = set([f for f in female_names if f not in male_names or\n",
      "              females_pct[f] > males_pct[f]])\n",
      "\n",
      "print_ambiguous_names(male_names, female_names)"
     ],
     "language": "python",
     "metadata": {
      "slideshow": {
       "slide_type": "slide"
      }
     },
     "outputs": [
      {
       "output_type": "stream",
       "stream": "stdout",
       "text": [
        "found 0 ambiguous names:\n",
        "\n",
        "\n"
       ]
      }
     ],
     "prompt_number": 93
    },
    {
     "cell_type": "code",
     "collapsed": false,
     "input": [
      "gender_by_name(tweets, male_names, female_names)\n",
      "print_genders(tweets)"
     ],
     "language": "python",
     "metadata": {
      "slideshow": {
       "slide_type": "slide"
      }
     },
     "outputs": [
      {
       "output_type": "stream",
       "stream": "stdout",
       "text": [
        "gender counts:\n",
        "Counter({'unknown': 47, 'male': 30, 'female': 23})\n",
        "male Jeff Bellin\n",
        "male Robby Willey\n",
        "male David Wescott\n",
        "male Steve Jackson Show\n",
        "female Kristin Bergman\n",
        "female Pam\n",
        "female Pam\n",
        "male William & Mary News\n",
        "male William & Mary Law \n",
        "female Katie Collett WAVY\n",
        "male John Tarley\n",
        "female Linda Kanter\n",
        "unknown Duchess Reid\n",
        "male David K. Sutton\n",
        "female Amy #AmeliaMartinez\n",
        "male Alan Smithee\n",
        "male Alan Smithee\n",
        "female Jane \n",
        "male Fred Feuerbach\n",
        "male reggie tait\n"
       ]
      }
     ],
     "prompt_number": 94
    },
    {
     "cell_type": "code",
     "collapsed": false,
     "input": [
      "# Who are the unknowns?\n",
      "# \"Filtered\" data can have big impact on analysis.\n",
      "\n",
      "unknown_names = Counter(t['user']['name']\n",
      "                        for t in tweets if t['gender'] == 'unknown')\n",
      "print '\\n'.join(str(x) for x in unknown_names.most_common(20))"
     ],
     "language": "python",
     "metadata": {
      "slideshow": {
       "slide_type": "slide"
      }
     },
     "outputs": [
      {
       "output_type": "stream",
       "stream": "stdout",
       "text": [
        "(u'hennemusic', 9)\n",
        "(u'Mandaliet', 2)\n",
        "(u'stop the insanity ', 2)\n",
        "(u'Sam_Wilson0115', 2)\n",
        "(u'Media Buzz', 1)\n",
        "(u'Maybe I can fix it!', 1)\n",
        "(u'Exposing MiLabs', 1)\n",
        "(u'mdh42', 1)\n",
        "(u'Woman Astro', 1)\n",
        "(u'Duchess Reid', 1)\n",
        "(u'NYC118', 1)\n",
        "(u'Kat is #allin ', 1)\n",
        "(u'Cracka Don\\xae Comedy', 1)\n",
        "(u'Izamar C.', 1)\n",
        "(u'ASH WILLIAMS ', 1)\n",
        "(u'Britty', 1)\n",
        "(u'MarieFranceRemillard', 1)\n",
        "(u'Dennes van Deursen', 1)\n",
        "(u'Colbert News Hub', 1)\n",
        "(u'ConnorPatrick', 1)\n"
       ]
      }
     ],
     "prompt_number": 96
    },
    {
     "cell_type": "code",
     "collapsed": false,
     "input": [
      "# How do the profiles of male Twitter users differ from\n",
      "# those of female users?\n",
      "\n",
      "male_profiles = [t['user']['description'] for t in tweets\n",
      "                if t['gender'] == 'male']\n",
      "\n",
      "female_profiles = [t['user']['description'] for t in tweets\n",
      "                if t['gender'] == 'female']\n",
      "\n",
      "import re\n",
      "def tokenize(s):\n",
      "    return re.sub('\\W+', ' ', s).lower().split()\n",
      "\n",
      "male_words = Counter()\n",
      "female_words = Counter()\n",
      "\n",
      "for p in male_profiles:\n",
      "    male_words.update(Counter(tokenize(p)))\n",
      "                      \n",
      "for p in female_profiles:\n",
      "    female_words.update(Counter(tokenize(p)))\n",
      "\n",
      "print 'Most Common Male Terms:\\n', \\\n",
      "    '\\n'.join(str(x) for x in male_words.most_common(10))\n",
      "    \n",
      "print '\\nMost Common Female Terms:\\n', \\\n",
      "    '\\n'.join(str(x) for x in female_words.most_common(10))"
     ],
     "language": "python",
     "metadata": {
      "slideshow": {
       "slide_type": "slide"
      }
     },
     "outputs": [
      {
       "output_type": "stream",
       "stream": "stdout",
       "text": [
        "Most Common Male Terms:\n",
        "(u'of', 14)\n",
        "(u'and', 12)\n",
        "(u'a', 10)\n",
        "(u'the', 10)\n",
        "(u'law', 7)\n",
        "(u'for', 5)\n",
        "(u'at', 5)\n",
        "(u'on', 4)\n",
        "(u'tweets', 3)\n",
        "(u'big', 3)\n",
        "\n",
        "Most Common Female Terms:\n",
        "(u'of', 12)\n",
        "(u'and', 10)\n",
        "(u'in', 8)\n",
        "(u'a', 8)\n",
        "(u'i', 8)\n",
        "(u'to', 5)\n",
        "(u'fan', 5)\n",
        "(u's', 5)\n",
        "(u'my', 5)\n",
        "(u'who', 5)\n"
       ]
      }
     ],
     "prompt_number": 97
    },
    {
     "cell_type": "code",
     "collapsed": false,
     "input": [
      "# Compute difference\n",
      "diff_counts = dict([(w, female_words[w] - male_words[w])\n",
      "                    for w in\n",
      "                    set(female_words.keys()) | set(male_words.keys())])\n",
      "\n",
      "sorted_diffs = sorted(diff_counts.items(), key=lambda x: x[1])\n",
      "\n",
      "print 'Top Male Terms (diff):\\n', \\\n",
      "    '\\n'.join(str(x) for x in sorted_diffs[:10])\n",
      "\n",
      "print '\\nTop Female Terms (diff):\\n', \\\n",
      "    '\\n'.join(str(x) for x in sorted_diffs[-10:])"
     ],
     "language": "python",
     "metadata": {
      "slideshow": {
       "slide_type": "slide"
      }
     },
     "outputs": [
      {
       "output_type": "stream",
       "stream": "stdout",
       "text": [
        "Top Male Terms (diff):\n",
        "(u'the', -7)\n",
        "(u'law', -5)\n",
        "(u'at', -4)\n",
        "(u'university', -3)\n",
        "(u'big', -3)\n",
        "(u'on', -3)\n",
        "(u'about', -3)\n",
        "(u'nerd', -3)\n",
        "(u'freelance', -2)\n",
        "(u'cigars', -2)\n",
        "\n",
        "Top Female Terms (diff):\n",
        "(u'reading', 3)\n",
        "(u'swimmer', 3)\n",
        "(u'formerly', 3)\n",
        "(u'to', 4)\n",
        "(u'my', 4)\n",
        "(u's', 4)\n",
        "(u'is', 4)\n",
        "(u'who', 5)\n",
        "(u'in', 6)\n",
        "(u'i', 6)\n"
       ]
      }
     ],
     "prompt_number": 99
    },
    {
     "cell_type": "markdown",
     "metadata": {
      "slideshow": {
       "slide_type": "slide"
      }
     },
     "source": [
      "** A problem with difference of counts:**\n",
      "\n",
      "What if we have more male than female words in total?"
     ]
    },
    {
     "cell_type": "markdown",
     "metadata": {
      "slideshow": {
       "slide_type": "slide"
      }
     },
     "source": [
      "*Solution:* ** Odds Ratio (OR)**\n",
      "\n",
      "$$ OR(w) = \\frac{p(w|\\hbox{female})}{p(w|\\hbox{male})} $$\n",
      "\n",
      "$$p(w|\\hbox{female}) = \\frac{\\hbox{freq}(w, \\hbox{female})}\n",
      "{\\sum_i \\hbox{freq}(w_i, \\hbox{female})} $$"
     ]
    },
    {
     "cell_type": "code",
     "collapsed": false,
     "input": [
      "def counts_to_probs(gender_words):\n",
      "    \"\"\" Compute probability of each term according to the frequency\n",
      "    in a gender. \"\"\"\n",
      "    total = 1. * sum(gender_words.values())\n",
      "    return dict([(word, count / total)\n",
      "                 for word, count in gender_words.items()])\n",
      "\n",
      "male_probs = counts_to_probs(male_words)\n",
      "female_probs = counts_to_probs(female_words)\n",
      "print sorted(male_probs.items(), key=lambda x: -x[1])[:10]"
     ],
     "language": "python",
     "metadata": {
      "slideshow": {
       "slide_type": "slide"
      }
     },
     "outputs": [
      {
       "output_type": "stream",
       "stream": "stdout",
       "text": [
        "[(u'of', 0.036458333333333336), (u'and', 0.03125), (u'a', 0.026041666666666668), (u'the', 0.026041666666666668), (u'law', 0.018229166666666668), (u'for', 0.013020833333333334), (u'at', 0.013020833333333334), (u'on', 0.010416666666666666), (u'tweets', 0.0078125), (u'big', 0.0078125)]\n"
       ]
      }
     ],
     "prompt_number": 101
    },
    {
     "cell_type": "code",
     "collapsed": false,
     "input": [
      "def odds_ratios(male_probs, female_probs):\n",
      "    return dict([(w, female_probs[w] / male_probs[w])\n",
      "                 for w in set(male_probs) | set(female_probs)])\n",
      "\n",
      "ors = odds_ratios(male_probs, female_probs)"
     ],
     "language": "python",
     "metadata": {
      "slideshow": {
       "slide_type": "slide"
      }
     },
     "outputs": [
      {
       "ename": "KeyError",
       "evalue": "u'represent'",
       "output_type": "pyerr",
       "traceback": [
        "\u001b[0;31m---------------------------------------------------------------------------\u001b[0m\n\u001b[0;31mKeyError\u001b[0m                                  Traceback (most recent call last)",
        "\u001b[0;32m<ipython-input-102-6f72aa3012f6>\u001b[0m in \u001b[0;36m<module>\u001b[0;34m()\u001b[0m\n\u001b[1;32m      3\u001b[0m                  for w in set(male_probs) | set(female_probs)])\n\u001b[1;32m      4\u001b[0m \u001b[0;34m\u001b[0m\u001b[0m\n\u001b[0;32m----> 5\u001b[0;31m \u001b[0mors\u001b[0m \u001b[0;34m=\u001b[0m \u001b[0modds_ratios\u001b[0m\u001b[0;34m(\u001b[0m\u001b[0mmale_probs\u001b[0m\u001b[0;34m,\u001b[0m \u001b[0mfemale_probs\u001b[0m\u001b[0;34m)\u001b[0m\u001b[0;34m\u001b[0m\u001b[0m\n\u001b[0m",
        "\u001b[0;32m<ipython-input-102-6f72aa3012f6>\u001b[0m in \u001b[0;36modds_ratios\u001b[0;34m(male_probs, female_probs)\u001b[0m\n\u001b[1;32m      1\u001b[0m \u001b[0;32mdef\u001b[0m \u001b[0modds_ratios\u001b[0m\u001b[0;34m(\u001b[0m\u001b[0mmale_probs\u001b[0m\u001b[0;34m,\u001b[0m \u001b[0mfemale_probs\u001b[0m\u001b[0;34m)\u001b[0m\u001b[0;34m:\u001b[0m\u001b[0;34m\u001b[0m\u001b[0m\n\u001b[1;32m      2\u001b[0m     return dict([(w, female_probs[w] / male_probs[w])\n\u001b[0;32m----> 3\u001b[0;31m                  for w in set(male_probs) | set(female_probs)])\n\u001b[0m\u001b[1;32m      4\u001b[0m \u001b[0;34m\u001b[0m\u001b[0m\n\u001b[1;32m      5\u001b[0m \u001b[0mors\u001b[0m \u001b[0;34m=\u001b[0m \u001b[0modds_ratios\u001b[0m\u001b[0;34m(\u001b[0m\u001b[0mmale_probs\u001b[0m\u001b[0;34m,\u001b[0m \u001b[0mfemale_probs\u001b[0m\u001b[0;34m)\u001b[0m\u001b[0;34m\u001b[0m\u001b[0m\n",
        "\u001b[0;31mKeyError\u001b[0m: u'represent'"
       ]
      }
     ],
     "prompt_number": 102
    },
    {
     "cell_type": "markdown",
     "metadata": {
      "slideshow": {
       "slide_type": "slide"
      }
     },
     "source": [
      "** How to deal with 0-probabilities? **\n",
      "\n",
      "$$p(w|\\hbox{male}) = \\frac{\\hbox{freq}(w, \\hbox{male})}\n",
      "{\\sum_i \\hbox{freq}(w_i, \\hbox{male})} $$\n",
      "\n",
      "$\\hbox{freq}(w, \\hbox{male}) = 0$\n",
      "\n",
      "Do we really believe there is **0** probability of a male using this term?\n"
     ]
    },
    {
     "cell_type": "markdown",
     "metadata": {
      "slideshow": {
       "slide_type": "slide"
      }
     },
     "source": [
      "** Additive Smoothing **\n",
      "\n",
      "Reserve small amount of counts (e.g., 1) for unseen observations.\n",
      "\n",
      "E.g., assume we've seen each word at least once in each class.\n",
      "\n",
      "$$p(w|\\hbox{male}) = \\frac{\\hbox{1 + freq}(w, \\hbox{male})}\n",
      "{|W| + \\sum_i \\hbox{freq}(w_i, \\hbox{male})} $$\n",
      "\n",
      "$|W|$: number of unique words."
     ]
    },
    {
     "cell_type": "code",
     "collapsed": false,
     "input": [
      "# Additive smoothing. Add count of 1 for all words.\n",
      "all_words = set(male_words) | set(female_words)\n",
      "male_words.update(all_words)  \n",
      "female_words.update(all_words)\n",
      "\n",
      "male_probs = counts_to_probs(male_words)\n",
      "female_probs = counts_to_probs(female_words)\n",
      "print '\\n'.join(str(x) for x in \n",
      "                sorted(male_probs.items(), key=lambda x: -x[1])[:10])"
     ],
     "language": "python",
     "metadata": {
      "slideshow": {
       "slide_type": "slide"
      }
     },
     "outputs": [
      {
       "output_type": "stream",
       "stream": "stdout",
       "text": [
        "(u'of', 0.012232415902140673)\n",
        "(u'and', 0.010703363914373088)\n",
        "(u'a', 0.009174311926605505)\n",
        "(u'the', 0.009174311926605505)\n",
        "(u'law', 0.006880733944954129)\n",
        "(u'for', 0.005351681957186544)\n",
        "(u'at', 0.005351681957186544)\n",
        "(u'on', 0.0045871559633027525)\n",
        "(u'fan', 0.00382262996941896)\n",
        "(u'school', 0.00382262996941896)\n"
       ]
      }
     ],
     "prompt_number": 104
    },
    {
     "cell_type": "code",
     "collapsed": false,
     "input": [
      "ors = odds_ratios(male_probs, female_probs)\n",
      "\n",
      "sorted_ors = sorted(ors.items(), key=lambda x: -x[1])\n",
      "\n",
      "print 'Top Female Terms (OR):\\n', \\\n",
      "    '\\n'.join(str(x) for x in sorted_ors[:10])\n",
      "\n",
      "print '\\nTop Male Terms (OR):\\n', \\\n",
      "    '\\n'.join(str(x) for x in sorted_ors[-10:])"
     ],
     "language": "python",
     "metadata": {
      "slideshow": {
       "slide_type": "slide"
      }
     },
     "outputs": [
      {
       "output_type": "stream",
       "stream": "stdout",
       "text": [
        "Top Female Terms (OR):\n",
        "(u'who', 3.4446952595936793)\n",
        "(u'is', 2.952595936794582)\n",
        "(u'woman', 2.460496613995485)\n",
        "(u'ride', 2.460496613995485)\n",
        "(u'good', 2.460496613995485)\n",
        "(u'space', 2.460496613995485)\n",
        "(u'god', 2.460496613995485)\n",
        "(u'first', 2.460496613995485)\n",
        "(u'friend', 2.460496613995485)\n",
        "(u'giraffes', 2.460496613995485)\n",
        "\n",
        "Top Male Terms (OR):\n",
        "(u'hicks', 0.492099322799097)\n",
        "(u'bourdain', 0.492099322799097)\n",
        "(u'william', 0.492099322799097)\n",
        "(u'law', 0.437421620265864)\n",
        "(u'at', 0.42179941954208316)\n",
        "(u'the', 0.4100827689992475)\n",
        "(u'university', 0.39367945823927764)\n",
        "(u'big', 0.39367945823927764)\n",
        "(u'about', 0.39367945823927764)\n",
        "(u'nerd', 0.39367945823927764)\n"
       ]
      }
     ],
     "prompt_number": 105
    }
   ],
   "metadata": {}
  }
 ]
}