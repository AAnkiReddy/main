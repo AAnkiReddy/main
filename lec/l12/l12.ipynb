{
 "cells": [
  {
   "cell_type": "markdown",
   "metadata": {
    "slideshow": {
     "slide_type": "slide"
    }
   },
   "source": [
    "# CS579: Lecture 12  \n",
    "\n",
    "** Demographic Inference I**\n",
    "\n",
    "*[Dr. Aron Culotta](http://cs.iit.edu/~culotta)*  \n",
    "*[Illinois Institute of Technology](http://iit.edu)*"
   ]
  },
  {
   "cell_type": "markdown",
   "metadata": {
    "slideshow": {
     "slide_type": "slide"
    }
   },
   "source": [
    "**dem·o·graph·ics**\n",
    "\n",
    "statistical data relating to the population and particular groups within it.\n",
    "\n",
    "E.g., age, ethnicity, gender, income, ..."
   ]
  },
  {
   "cell_type": "markdown",
   "metadata": {
    "slideshow": {
     "slide_type": "slide"
    }
   },
   "source": [
    "# Why Demographics?\n",
    "\n",
    "- Marketing\n",
    "  - Who are my customers?\n",
    "  - Who are my competitors' customers?\n",
    "  - E.g., [DemographicsPro](http://www.demographicspro.com/samples#c=%40FamilyGuyonFOX)\n",
    "  \n",
    "- Social Media as Surveys\n",
    "  - E.g., 45% of tweets express positive sentiment toward Pres. Obama\n",
    "  - Who wrote those tweets?\n",
    "  \n",
    "- Health\n",
    "  - 2% of Facebook users are expressing flu-like symptoms\n",
    "  - Are they representative of the full population?\n",
    "\n"
   ]
  },
  {
   "cell_type": "markdown",
   "metadata": {
    "slideshow": {
     "slide_type": "slide"
    }
   },
   "source": [
    "** User profiles vary from site to site. **"
   ]
  },
  {
   "cell_type": "markdown",
   "metadata": {
    "slideshow": {
     "slide_type": "slide"
    }
   },
   "source": [
    "![rahm](rahm.png)"
   ]
  },
  {
   "cell_type": "markdown",
   "metadata": {
    "slideshow": {
     "slide_type": "slide"
    }
   },
   "source": [
    "![rahm-fb](rahm-fb.png)"
   ]
  },
  {
   "cell_type": "markdown",
   "metadata": {
    "slideshow": {
     "slide_type": "slide"
    }
   },
   "source": [
    "![rahm-li](rahm-li.png)"
   ]
  },
  {
   "cell_type": "markdown",
   "metadata": {
    "slideshow": {
     "slide_type": "slide"
    }
   },
   "source": [
    "# Approaches\n",
    "\n",
    "- Clever use of external data\n",
    "  - E.g., U.S. Census name lists for gender\n",
    "- Look for keywords in profile\n",
    "  - \"African American Male\"\n",
    "  - \"Happy 21st birthday to me\"\n",
    "- Machine Learning"
   ]
  },
  {
   "cell_type": "code",
   "execution_count": 1,
   "metadata": {
    "collapsed": false,
    "slideshow": {
     "slide_type": "slide"
    }
   },
   "outputs": [
    {
     "name": "stdout",
     "output_type": "stream",
     "text": [
      "100 tweets\n",
      "200 tweets\n",
      "300 tweets\n",
      "400 tweets\n",
      "500 tweets\n",
      "600 tweets\n",
      "700 tweets\n",
      "800 tweets\n",
      "900 tweets\n",
      "1000 tweets\n",
      "fetched 1000 tweets\n"
     ]
    }
   ],
   "source": [
    "# Guessing gender\n",
    "# Collect 1000 tweets matching query \"i\"\n",
    "import configparser\n",
    "import sys\n",
    "from TwitterAPI import TwitterAPI\n",
    "\n",
    "def get_twitter(config_file):\n",
    "    \"\"\" Read the config_file and construct an instance of TwitterAPI.\n",
    "    Args:\n",
    "      config_file ... A config file in ConfigParser format with Twitter credentials\n",
    "    Returns:\n",
    "      An instance of TwitterAPI.\n",
    "    \"\"\"\n",
    "    config = configparser.ConfigParser()\n",
    "    config.read(config_file)\n",
    "    twitter = TwitterAPI(\n",
    "                   config.get('twitter', 'consumer_key'),\n",
    "                   config.get('twitter', 'consumer_secret'),\n",
    "                   config.get('twitter', 'access_token'),\n",
    "                   config.get('twitter', 'access_token_secret'))\n",
    "    return twitter\n",
    "\n",
    "twitter = get_twitter('twitter.cfg')\n",
    "tweets = []\n",
    "n_tweets=1000\n",
    "for r in twitter.request('statuses/filter', {'track': 'i'}):\n",
    "    tweets.append(r)\n",
    "    if len(tweets) % 100 == 0:\n",
    "        print('%d tweets' % len(tweets))\n",
    "    if len(tweets) >= n_tweets:\n",
    "        break\n",
    "print('fetched %d tweets' % len(tweets))"
   ]
  },
  {
   "cell_type": "code",
   "execution_count": 2,
   "metadata": {
    "collapsed": false
   },
   "outputs": [
    {
     "data": {
      "text/plain": [
       "[{'limit': {'timestamp_ms': '1519674109806', 'track': 77}},\n",
       " {'limit': {'timestamp_ms': '1519674109815', 'track': 67}},\n",
       " {'limit': {'timestamp_ms': '1519674109824', 'track': 78}},\n",
       " {'limit': {'timestamp_ms': '1519674109848', 'track': 87}},\n",
       " {'limit': {'timestamp_ms': '1519674110828', 'track': 173}},\n",
       " {'limit': {'timestamp_ms': '1519674110827', 'track': 165}}]"
      ]
     },
     "execution_count": 2,
     "metadata": {},
     "output_type": "execute_result"
    }
   ],
   "source": [
    "# not all tweets are returned\n",
    "# https://dev.twitter.com/streaming/overview/messages-types#limit_notices\n",
    "[t for t in tweets if 'user' not in t][:6]"
   ]
  },
  {
   "cell_type": "code",
   "execution_count": 3,
   "metadata": {
    "collapsed": false
   },
   "outputs": [
    {
     "name": "stdout",
     "output_type": "stream",
     "text": [
      "fetched 925 tweets\n"
     ]
    }
   ],
   "source": [
    "# restrict to actual tweets\n",
    "# (remove \"deleted\" tweets)\n",
    "tweets = [t for t in tweets if 'user' in t]\n",
    "print('fetched %d tweets' % len(tweets))"
   ]
  },
  {
   "cell_type": "code",
   "execution_count": 27,
   "metadata": {
    "collapsed": false,
    "slideshow": {
     "slide_type": "slide"
    }
   },
   "outputs": [
    {
     "data": {
      "text/plain": [
       "['Vinny',\n",
       " '💎Such a good time💎🇵🇱 will see Harry',\n",
       " 'Taking Lunches',\n",
       " 'Aug.14♌❤',\n",
       " 'bianca ama e tem muito orgulho do exo',\n",
       " 'T A M',\n",
       " 'Av.Gazi KOZANOĞLU',\n",
       " 'Neccar',\n",
       " 'Lexi 💋🔥',\n",
       " 'Miguel Sanchez']"
      ]
     },
     "execution_count": 27,
     "metadata": {},
     "output_type": "execute_result"
    }
   ],
   "source": [
    "# Print last 10 names.\n",
    "names = [t['user']['name'] for t in tweets]\n",
    "names[-10:]"
   ]
  },
  {
   "cell_type": "code",
   "execution_count": 28,
   "metadata": {
    "collapsed": false,
    "slideshow": {
     "slide_type": "slide"
    }
   },
   "outputs": [
    {
     "name": "stdout",
     "output_type": "stream",
     "text": [
      "males:\n",
      "['JAMES          3.318  3.318      1',\n",
      " 'JOHN           3.271  6.589      2',\n",
      " 'ROBERT         3.143  9.732      3',\n",
      " 'MICHAEL        2.629 12.361      4',\n",
      " 'WILLIAM        2.451 14.812      5',\n",
      " 'DAVID          2.363 17.176      6',\n",
      " 'RICHARD        1.703 18.878      7',\n",
      " 'CHARLES        1.523 20.401      8',\n",
      " 'JOSEPH         1.404 21.805      9',\n",
      " 'THOMAS         1.380 23.185     10']\n",
      "females:\n",
      "['MARY           2.629  2.629      1',\n",
      " 'PATRICIA       1.073  3.702      2',\n",
      " 'LINDA          1.035  4.736      3',\n",
      " 'BARBARA        0.980  5.716      4',\n",
      " 'ELIZABETH      0.937  6.653      5',\n",
      " 'JENNIFER       0.932  7.586      6',\n",
      " 'MARIA          0.828  8.414      7',\n",
      " 'SUSAN          0.794  9.209      8',\n",
      " 'MARGARET       0.768  9.976      9',\n",
      " 'DOROTHY        0.727 10.703     10']\n"
     ]
    }
   ],
   "source": [
    "# Fetch census name data from:\n",
    "# http://www2.census.gov/topics/genealogy/1990surnames/\n",
    "import requests\n",
    "from pprint import pprint\n",
    "males_url = 'http://www2.census.gov/topics/genealogy/' + \\\n",
    "            '1990surnames/dist.male.first'\n",
    "females_url = 'http://www2.census.gov/topics/genealogy/' + \\\n",
    "              '1990surnames/dist.female.first'\n",
    "males = requests.get(males_url).text.split('\\n')\n",
    "females = requests.get(females_url).text.split('\\n')\n",
    "print('males:')\n",
    "pprint(males[:10])\n",
    "print('females:')\n",
    "pprint(females[:10])"
   ]
  },
  {
   "cell_type": "code",
   "execution_count": 29,
   "metadata": {
    "collapsed": false,
    "slideshow": {
     "slide_type": "slide"
    }
   },
   "outputs": [
    {
     "name": "stdout",
     "output_type": "stream",
     "text": [
      "1219 male and 4275 female names\n",
      "males:\n",
      "bruce\n",
      "vance\n",
      "roy\n",
      "dale\n",
      "jessie\n",
      "malcolm\n",
      "saul\n",
      "eddie\n",
      "anton\n",
      "daren\n",
      "\n",
      "females:\n",
      "trudi\n",
      "jessie\n",
      "maegan\n",
      "mandy\n",
      "allen\n",
      "christie\n",
      "brigida\n",
      "janay\n",
      "nannie\n",
      "clementina\n"
     ]
    }
   ],
   "source": [
    "# Get names. \n",
    "male_names = set([m.split()[0].lower() for m in males if m])\n",
    "female_names = set([f.split()[0].lower() for f in females if f])\n",
    "print('%d male and %d female names' % (len(male_names), len(female_names)))\n",
    "print('males:\\n' + '\\n'.join(list(male_names)[:10]))\n",
    "print('\\nfemales:\\n' + '\\n'.join(list(female_names)[:10]))"
   ]
  },
  {
   "cell_type": "code",
   "execution_count": 30,
   "metadata": {
    "collapsed": true
   },
   "outputs": [],
   "source": [
    "# Initialize gender of all tweets to unknown.\n",
    "for t in tweets:\n",
    "    t['gender'] = 'unknown'"
   ]
  },
  {
   "cell_type": "code",
   "execution_count": 31,
   "metadata": {
    "collapsed": false,
    "slideshow": {
     "slide_type": "slide"
    }
   },
   "outputs": [],
   "source": [
    "# label a Twitter user's gender by matching name list.\n",
    "import re\n",
    "def gender_by_name(tweets, male_names, female_names):\n",
    "    for t in tweets:\n",
    "        name = t['user']['name']\n",
    "        if name:\n",
    "            # remove punctuation.\n",
    "            name_parts = re.findall('\\w+', name.split()[0].lower())\n",
    "            if len(name_parts) > 0:\n",
    "                first = name_parts[0].lower()\n",
    "                if first in male_names:\n",
    "                    t['gender'] = 'male'\n",
    "                elif first in female_names:\n",
    "                    t['gender'] = 'female'\n",
    "                else:\n",
    "                    t['gender'] = 'unknown'\n",
    "\n",
    "gender_by_name(tweets, male_names, female_names)\n",
    "# What's wrong with this approach?"
   ]
  },
  {
   "cell_type": "code",
   "execution_count": 32,
   "metadata": {
    "collapsed": false,
    "slideshow": {
     "slide_type": "slide"
    }
   },
   "outputs": [
    {
     "name": "stdout",
     "output_type": "stream",
     "text": [
      "0.31 of accounts are labeled with gender\n",
      "gender counts:\n",
      " Counter({'unknown': 641, 'male': 154, 'female': 130})\n",
      "unknown 🌹Mrs McK 🌹\n",
      "female Melanie Senpai\n",
      "male Shelby Kocher\n",
      "unknown catmom\n",
      "unknown 🦅Kapalı Üst⭐️⭐️⭐️\n",
      "male Glenn Fiedler\n",
      "unknown K.Bundii✨\n",
      "female Liz Ryan Murray\n",
      "unknown MKL\n",
      "unknown ♋️\n",
      "unknown J\n",
      "unknown buse atalay\n",
      "unknown Comeden\n",
      "unknown 🦁\n",
      "unknown Görkem\n",
      "unknown M.S.\n",
      "female miriam\n",
      "female Brooke Dunaway\n",
      "female Missy Moo\n",
      "unknown AK Avrupa\n"
     ]
    }
   ],
   "source": [
    "from collections import Counter\n",
    "\n",
    "def print_genders(tweets):\n",
    "    counts = Counter([t['gender'] for t in tweets])\n",
    "    print('%.2f of accounts are labeled with gender' % \n",
    "          ((counts['male'] + counts['female']) / sum(counts.values())))\n",
    "    print('gender counts:\\n', counts)\n",
    "    for t in tweets[:20]:\n",
    "        print(t['gender'], t['user']['name'])\n",
    "    \n",
    "print_genders(tweets)"
   ]
  },
  {
   "cell_type": "code",
   "execution_count": 34,
   "metadata": {
    "collapsed": false,
    "slideshow": {
     "slide_type": "slide"
    }
   },
   "outputs": [
    {
     "name": "stdout",
     "output_type": "stream",
     "text": [
      "found 331 ambiguous names:\n",
      "\n",
      "roy\n",
      "dale\n",
      "jessie\n",
      "eddie\n",
      "allen\n",
      "blake\n",
      "thomas\n",
      "dong\n",
      "shane\n",
      "shelby\n",
      "leslie\n",
      "jerry\n",
      "arthur\n",
      "dallas\n",
      "kim\n",
      "david\n",
      "stacy\n",
      "chung\n",
      "vernon\n",
      "rene\n"
     ]
    }
   ],
   "source": [
    "# What about ambiguous names?\n",
    "def print_ambiguous_names(male_names, female_names):\n",
    "    ambiguous = [n for n in male_names if n in female_names]  # names on both lists\n",
    "    print('found %d ambiguous names:\\n'% len(ambiguous))\n",
    "    print('\\n'.join(ambiguous[:20]))\n",
    "    \n",
    "print_ambiguous_names(male_names, female_names)"
   ]
  },
  {
   "cell_type": "code",
   "execution_count": 36,
   "metadata": {
    "collapsed": false,
    "slideshow": {
     "slide_type": "slide"
    }
   },
   "outputs": [
    {
     "name": "stdout",
     "output_type": "stream",
     "text": [
      "found 0 ambiguous names:\n",
      "\n",
      "\n",
      "1146 male and 4017 female names\n"
     ]
    }
   ],
   "source": [
    "# Keep names that are more frequent in one gender than the other.\n",
    "def get_percents(name_list):\n",
    "    # parse raw data to extract, e.g., the percent of males names John.\n",
    "    return dict([(n.split()[0].lower(), float(n.split()[1]))\n",
    "                  for n in name_list if n])\n",
    "\n",
    "males_pct = get_percents(males)\n",
    "females_pct = get_percents(females)\n",
    "\n",
    "# Assign a name as male if it is more common among males than femals.\n",
    "male_names = set([m for m in male_names if m not in female_names or\n",
    "              males_pct[m] > females_pct[m]])\n",
    "female_names = set([f for f in female_names if f not in male_names or\n",
    "              females_pct[f] > males_pct[f]])\n",
    "\n",
    "print_ambiguous_names(male_names, female_names)\n",
    "print('%d male and %d female names' % (len(male_names), len(female_names)))"
   ]
  },
  {
   "cell_type": "code",
   "execution_count": 37,
   "metadata": {
    "collapsed": false,
    "slideshow": {
     "slide_type": "slide"
    }
   },
   "outputs": [
    {
     "name": "stdout",
     "output_type": "stream",
     "text": [
      "0.31 of accounts are labeled with gender\n",
      "gender counts:\n",
      " Counter({'unknown': 641, 'female': 148, 'male': 136})\n",
      "unknown 🌹Mrs McK 🌹\n",
      "female Melanie Senpai\n",
      "female Shelby Kocher\n",
      "unknown catmom\n",
      "unknown 🦅Kapalı Üst⭐️⭐️⭐️\n",
      "male Glenn Fiedler\n",
      "unknown K.Bundii✨\n",
      "female Liz Ryan Murray\n",
      "unknown MKL\n",
      "unknown ♋️\n",
      "unknown J\n",
      "unknown buse atalay\n",
      "unknown Comeden\n",
      "unknown 🦁\n",
      "unknown Görkem\n",
      "unknown M.S.\n",
      "female miriam\n",
      "female Brooke Dunaway\n",
      "female Missy Moo\n",
      "unknown AK Avrupa\n"
     ]
    }
   ],
   "source": [
    "# Relabel twitter users (compare with above)\n",
    "gender_by_name(tweets, male_names, female_names)\n",
    "print_genders(tweets)"
   ]
  },
  {
   "cell_type": "code",
   "execution_count": 38,
   "metadata": {
    "collapsed": false,
    "slideshow": {
     "slide_type": "slide"
    }
   },
   "outputs": [
    {
     "data": {
      "text/plain": [
       "[('Ayşe şentürk', 10),\n",
       " ('J', 2),\n",
       " ('🇵🇦', 2),\n",
       " ('✝️', 2),\n",
       " ('twogeekgirls', 2),\n",
       " ('idris kınay', 2),\n",
       " ('imheckifiknow', 2),\n",
       " ('em', 2),\n",
       " ('Kalb-i Selim ERDOĞAN', 2),\n",
       " ('Ahmetcan', 2),\n",
       " ('🌹Mrs McK 🌹', 1),\n",
       " ('catmom', 1),\n",
       " ('🦅Kapalı Üst⭐️⭐️⭐️', 1),\n",
       " ('K.Bundii✨', 1),\n",
       " ('MKL', 1),\n",
       " ('♋️', 1),\n",
       " ('buse atalay', 1),\n",
       " ('Comeden', 1),\n",
       " ('🦁', 1),\n",
       " ('Görkem', 1)]"
      ]
     },
     "execution_count": 38,
     "metadata": {},
     "output_type": "execute_result"
    }
   ],
   "source": [
    "# Who are the unknowns?\n",
    "# \"Filtered\" data can have big impact on analysis.\n",
    "unknown_names = Counter(t['user']['name']\n",
    "                        for t in tweets if t['gender'] == 'unknown')\n",
    "unknown_names.most_common(20)"
   ]
  },
  {
   "cell_type": "code",
   "execution_count": 40,
   "metadata": {
    "collapsed": false,
    "slideshow": {
     "slide_type": "slide"
    }
   },
   "outputs": [
    {
     "name": "stdout",
     "output_type": "stream",
     "text": [
      "Most Common Male Terms:\n",
      "[('i', 36),\n",
      " ('a', 33),\n",
      " ('the', 32),\n",
      " ('and', 30),\n",
      " ('of', 27),\n",
      " ('for', 21),\n",
      " ('to', 17),\n",
      " ('my', 16),\n",
      " ('in', 14),\n",
      " ('s', 13)]\n",
      "\n",
      "Most Common Female Terms:\n",
      "[('and', 30),\n",
      " ('i', 29),\n",
      " ('a', 27),\n",
      " ('to', 25),\n",
      " ('my', 18),\n",
      " ('the', 17),\n",
      " ('of', 16),\n",
      " ('in', 15),\n",
      " ('is', 13),\n",
      " ('love', 11)]\n"
     ]
    }
   ],
   "source": [
    "# How do the profiles of male Twitter users differ from\n",
    "# those of female users?\n",
    "\n",
    "male_profiles = [t['user']['description'] for t in tweets\n",
    "                if t['gender'] == 'male']\n",
    "\n",
    "female_profiles = [t['user']['description'] for t in tweets\n",
    "                if t['gender'] == 'female']\n",
    "#male_profiles = [t['text'] for t in tweets\n",
    "#                if t['gender'] == 'male']\n",
    "\n",
    "#female_profiles = [t['text'] for t in tweets\n",
    "#                if t['gender'] == 'female']\n",
    "\n",
    "import re\n",
    "def tokenize(s):\n",
    "    return re.sub('\\W+', ' ', s).lower().split() if s else []\n",
    "\n",
    "male_words = Counter()\n",
    "female_words = Counter()\n",
    "\n",
    "for p in male_profiles:\n",
    "    male_words.update(Counter(tokenize(p)))\n",
    "                      \n",
    "for p in female_profiles:\n",
    "    female_words.update(Counter(tokenize(p)))\n",
    "\n",
    "print('Most Common Male Terms:')\n",
    "pprint(male_words.most_common(10))\n",
    "    \n",
    "print('\\nMost Common Female Terms:')\n",
    "pprint(female_words.most_common(10))"
   ]
  },
  {
   "cell_type": "code",
   "execution_count": 41,
   "metadata": {
    "collapsed": false
   },
   "outputs": [
    {
     "name": "stdout",
     "output_type": "stream",
     "text": [
      "866\n",
      "839\n"
     ]
    }
   ],
   "source": [
    "print(len(male_words))\n",
    "print(len(female_words))"
   ]
  },
  {
   "cell_type": "code",
   "execution_count": 43,
   "metadata": {
    "collapsed": false,
    "slideshow": {
     "slide_type": "slide"
    }
   },
   "outputs": [
    {
     "name": "stdout",
     "output_type": "stream",
     "text": [
      "Top Male Terms (diff):\n",
      "[('the', -15),\n",
      " ('for', -14),\n",
      " ('of', -11),\n",
      " ('m', -9),\n",
      " ('i', -7),\n",
      " ('fan', -7),\n",
      " ('we', -6),\n",
      " ('a', -6),\n",
      " ('if', -5),\n",
      " ('be', -5)]\n",
      "\n",
      "Top Female Terms (diff):\n",
      "[('love', 4),\n",
      " ('insta', 4),\n",
      " ('life', 4),\n",
      " ('an', 4),\n",
      " ('im', 4),\n",
      " ('girl', 5),\n",
      " ('21', 5),\n",
      " ('little', 5),\n",
      " ('to', 8),\n",
      " ('is', 8)]\n"
     ]
    }
   ],
   "source": [
    "# Compute difference\n",
    "diff_counts = dict([(w, female_words[w] - male_words[w])\n",
    "                    for w in\n",
    "                    set(female_words.keys()) | set(male_words.keys())])\n",
    "\n",
    "sorted_diffs = sorted(diff_counts.items(), key=lambda x: x[1])\n",
    "\n",
    "print('Top Male Terms (diff):')\n",
    "pprint(sorted_diffs[:10])\n",
    "\n",
    "print('\\nTop Female Terms (diff):')\n",
    "pprint(sorted_diffs[-10:])"
   ]
  },
  {
   "cell_type": "markdown",
   "metadata": {
    "slideshow": {
     "slide_type": "slide"
    }
   },
   "source": [
    "** A problem with difference of counts:**\n",
    "\n",
    "<br><br><br><br>\n",
    "What if we have more male than female words in total?\n",
    "\n",
    "<br><br><br><br>\n",
    "Instead, consider \"the probability that a male user writes the word **w**\"\n",
    "\n",
    "<br><br><br><br>\n",
    "\n",
    "$$p(w|male) = \\frac{freq(w, male)}\n",
    "{\\sum_i freq(w_i, male)} $$"
   ]
  },
  {
   "cell_type": "markdown",
   "metadata": {
    "slideshow": {
     "slide_type": "slide"
    }
   },
   "source": [
    "** Odds Ratio (OR)**\n",
    "\n",
    "The ratio of the probabilities for a word from each class:\n",
    "\n",
    "$$ OR(w) = \\frac{p(w|female)}{p(w|male)} $$\n",
    "\n",
    "\n",
    "- High values --> more likely to be written by females\n",
    "- Low values --> more likely to be written by males\n"
   ]
  },
  {
   "cell_type": "code",
   "execution_count": 45,
   "metadata": {
    "collapsed": false,
    "slideshow": {
     "slide_type": "slide"
    }
   },
   "outputs": [
    {
     "name": "stdout",
     "output_type": "stream",
     "text": [
      "p(w|male)\n",
      "[('i', 0.025806451612903226),\n",
      " ('a', 0.023655913978494623),\n",
      " ('the', 0.022939068100358423),\n",
      " ('and', 0.021505376344086023),\n",
      " ('of', 0.01935483870967742),\n",
      " ('for', 0.015053763440860216),\n",
      " ('to', 0.012186379928315413),\n",
      " ('my', 0.011469534050179211),\n",
      " ('in', 0.01003584229390681),\n",
      " ('s', 0.00931899641577061)]\n",
      "\n",
      "p(w|female)\n",
      "[('and', 0.02243829468960359),\n",
      " ('i', 0.02169035153328347),\n",
      " ('a', 0.02019446522064323),\n",
      " ('to', 0.018698578908002993),\n",
      " ('my', 0.013462976813762155),\n",
      " ('the', 0.012715033657442034),\n",
      " ('of', 0.011967090501121914),\n",
      " ('in', 0.011219147344801795),\n",
      " ('is', 0.009723261032161555),\n",
      " ('love', 0.008227374719521317)]\n"
     ]
    }
   ],
   "source": [
    "def counts_to_probs(gender_words):\n",
    "    \"\"\" Compute probability of each term according to the frequency\n",
    "    in a gender. \"\"\"\n",
    "    total = sum(gender_words.values())\n",
    "    return dict([(word, count / total)\n",
    "                 for word, count in gender_words.items()])\n",
    "\n",
    "male_probs = counts_to_probs(male_words)\n",
    "female_probs = counts_to_probs(female_words)\n",
    "\n",
    "print('p(w|male)')\n",
    "pprint(sorted(male_probs.items(), key=lambda x: -x[1])[:10])\n",
    "\n",
    "print('\\np(w|female)')\n",
    "pprint(sorted(female_probs.items(), key=lambda x: -x[1])[:10])"
   ]
  },
  {
   "cell_type": "code",
   "execution_count": 46,
   "metadata": {
    "collapsed": false,
    "slideshow": {
     "slide_type": "slide"
    }
   },
   "outputs": [
    {
     "ename": "KeyError",
     "evalue": "'selfcare'",
     "output_type": "error",
     "traceback": [
      "\u001b[0;31m---------------------------------------------------------------------------\u001b[0m",
      "\u001b[0;31mKeyError\u001b[0m                                  Traceback (most recent call last)",
      "\u001b[0;32m<ipython-input-46-1510d3c7d1b0>\u001b[0m in \u001b[0;36m<module>\u001b[0;34m()\u001b[0m\n\u001b[1;32m      4\u001b[0m                  set(male_probs) | set(female_probs)])\n\u001b[1;32m      5\u001b[0m \u001b[0;34m\u001b[0m\u001b[0m\n\u001b[0;32m----> 6\u001b[0;31m \u001b[0mors\u001b[0m \u001b[0;34m=\u001b[0m \u001b[0modds_ratios\u001b[0m\u001b[0;34m(\u001b[0m\u001b[0mmale_probs\u001b[0m\u001b[0;34m,\u001b[0m \u001b[0mfemale_probs\u001b[0m\u001b[0;34m)\u001b[0m\u001b[0;34m\u001b[0m\u001b[0m\n\u001b[0m",
      "\u001b[0;32m<ipython-input-46-1510d3c7d1b0>\u001b[0m in \u001b[0;36modds_ratios\u001b[0;34m(male_probs, female_probs)\u001b[0m\n\u001b[1;32m      2\u001b[0m     return dict([(w, female_probs[w] / male_probs[w])\n\u001b[1;32m      3\u001b[0m                  \u001b[0;32mfor\u001b[0m \u001b[0mw\u001b[0m \u001b[0;32min\u001b[0m\u001b[0;34m\u001b[0m\u001b[0m\n\u001b[0;32m----> 4\u001b[0;31m                  set(male_probs) | set(female_probs)])\n\u001b[0m\u001b[1;32m      5\u001b[0m \u001b[0;34m\u001b[0m\u001b[0m\n\u001b[1;32m      6\u001b[0m \u001b[0mors\u001b[0m \u001b[0;34m=\u001b[0m \u001b[0modds_ratios\u001b[0m\u001b[0;34m(\u001b[0m\u001b[0mmale_probs\u001b[0m\u001b[0;34m,\u001b[0m \u001b[0mfemale_probs\u001b[0m\u001b[0;34m)\u001b[0m\u001b[0;34m\u001b[0m\u001b[0m\n",
      "\u001b[0;32m<ipython-input-46-1510d3c7d1b0>\u001b[0m in \u001b[0;36m<listcomp>\u001b[0;34m(.0)\u001b[0m\n\u001b[1;32m      1\u001b[0m \u001b[0;32mdef\u001b[0m \u001b[0modds_ratios\u001b[0m\u001b[0;34m(\u001b[0m\u001b[0mmale_probs\u001b[0m\u001b[0;34m,\u001b[0m \u001b[0mfemale_probs\u001b[0m\u001b[0;34m)\u001b[0m\u001b[0;34m:\u001b[0m\u001b[0;34m\u001b[0m\u001b[0m\n\u001b[1;32m      2\u001b[0m     return dict([(w, female_probs[w] / male_probs[w])\n\u001b[0;32m----> 3\u001b[0;31m                  \u001b[0;32mfor\u001b[0m \u001b[0mw\u001b[0m \u001b[0;32min\u001b[0m\u001b[0;34m\u001b[0m\u001b[0m\n\u001b[0m\u001b[1;32m      4\u001b[0m                  set(male_probs) | set(female_probs)])\n\u001b[1;32m      5\u001b[0m \u001b[0;34m\u001b[0m\u001b[0m\n",
      "\u001b[0;31mKeyError\u001b[0m: 'selfcare'"
     ]
    }
   ],
   "source": [
    "def odds_ratios(male_probs, female_probs):\n",
    "    return dict([(w, female_probs[w] / male_probs[w])\n",
    "                 for w in\n",
    "                 set(male_probs) | set(female_probs)])\n",
    "\n",
    "ors = odds_ratios(male_probs, female_probs)"
   ]
  },
  {
   "cell_type": "code",
   "execution_count": 47,
   "metadata": {
    "collapsed": false
   },
   "outputs": [
    {
     "name": "stdout",
     "output_type": "stream",
     "text": [
      "866\n",
      "839\n",
      "0.0014958863126402393\n"
     ]
    },
    {
     "data": {
      "text/plain": [
       "False"
      ]
     },
     "execution_count": 47,
     "metadata": {},
     "output_type": "execute_result"
    }
   ],
   "source": [
    "print(len(male_probs))\n",
    "print(len(female_probs))\n",
    "print(female_probs['selfcare'])\n",
    "'selfcare' in male_probs"
   ]
  },
  {
   "cell_type": "markdown",
   "metadata": {
    "slideshow": {
     "slide_type": "slide"
    }
   },
   "source": [
    "** How to deal with 0-probabilities? **\n",
    "\n",
    "$$p(w|male) = \\frac{freq(w, male)}\n",
    "{\\sum_i freq(w_i, male)} $$\n",
    "\n",
    "$freq(w, male) = 0$\n",
    "\n",
    "Do we really believe there is **0** probability of a male using this term?\n",
    "\n",
    "(Recall over-fitting discussion.)\n",
    "<br><br><br><br>"
   ]
  },
  {
   "cell_type": "markdown",
   "metadata": {
    "slideshow": {
     "slide_type": "slide"
    }
   },
   "source": [
    "** Additive Smoothing **\n",
    "\n",
    "Reserve small amount of counts (e.g., 1) for unseen observations.\n",
    "\n",
    "E.g., assume we've seen each word at least once in each class.\n",
    "\n",
    "$$p(w|male) = \\frac{1 + freq(w, male)}\n",
    "{|W| + \\sum_i freq(w_i, male)} $$\n",
    "\n",
    "$|W|$: number of unique words."
   ]
  },
  {
   "cell_type": "code",
   "execution_count": 49,
   "metadata": {
    "collapsed": false,
    "slideshow": {
     "slide_type": "slide"
    }
   },
   "outputs": [
    {
     "name": "stdout",
     "output_type": "stream",
     "text": [
      "('i', 0.012732278045423262)\n",
      "('a', 0.01169993117687543)\n",
      "('the', 0.011355815554026153)\n",
      "('and', 0.010667584308327599)\n",
      "('of', 0.009635237439779766)\n",
      "('for', 0.007570543702684102)\n",
      "('to', 0.006194081211286993)\n",
      "('my', 0.005849965588437715)\n",
      "('in', 0.00516173434273916)\n",
      "('s', 0.004817618719889883)\n"
     ]
    }
   ],
   "source": [
    "# Additive smoothing. Add count of 1 for all words.\n",
    "all_words = set(male_words) | set(female_words)\n",
    "male_words.update(all_words)  \n",
    "female_words.update(all_words)\n",
    "\n",
    "male_probs = counts_to_probs(male_words)\n",
    "female_probs = counts_to_probs(female_words)\n",
    "print('\\n'.join(str(x) for x in \n",
    "                sorted(male_probs.items(), key=lambda x: -x[1])[:10]))"
   ]
  },
  {
   "cell_type": "code",
   "execution_count": 50,
   "metadata": {
    "collapsed": false
   },
   "outputs": [
    {
     "name": "stdout",
     "output_type": "stream",
     "text": [
      "0.00034411562284927734\n"
     ]
    }
   ],
   "source": [
    "# Even though word doesn't appear, has non-zero probability.\n",
    "print(male_probs['selfcare'])"
   ]
  },
  {
   "cell_type": "code",
   "execution_count": 51,
   "metadata": {
    "collapsed": false,
    "slideshow": {
     "slide_type": "slide"
    }
   },
   "outputs": [
    {
     "name": "stdout",
     "output_type": "stream",
     "text": [
      "Top Female Terms (OR):\n",
      "[('girl', 6.122191011235955),\n",
      " ('21', 6.122191011235955),\n",
      " ('little', 6.122191011235955),\n",
      " ('old', 5.10182584269663),\n",
      " ('an', 5.10182584269663),\n",
      " ('refuse', 5.10182584269663),\n",
      " ('im', 5.10182584269663),\n",
      " ('yourself', 4.081460674157303),\n",
      " ('cat', 4.081460674157303),\n",
      " ('wife', 4.081460674157303),\n",
      " ('mind', 4.081460674157303),\n",
      " ('books', 4.081460674157303),\n",
      " ('mom', 4.081460674157303),\n",
      " ('maga', 4.081460674157303),\n",
      " ('4', 4.081460674157303),\n",
      " ('them', 4.081460674157303),\n",
      " ('make', 4.081460674157303),\n",
      " ('country', 3.0610955056179776),\n",
      " ('read', 3.0610955056179776),\n",
      " ('going', 3.0610955056179776)]\n",
      "\n",
      "Top Male Terms (OR):\n",
      "[('women', 0.34012172284644193),\n",
      " ('m', 0.3139585133967156),\n",
      " ('great', 0.25509129213483145),\n",
      " ('director', 0.25509129213483145),\n",
      " ('etchednm', 0.25509129213483145),\n",
      " ('football', 0.25509129213483145),\n",
      " ('host', 0.25509129213483145),\n",
      " ('mac', 0.25509129213483145),\n",
      " ('future', 0.25509129213483145),\n",
      " ('artist', 0.25509129213483145),\n",
      " ('editor', 0.25509129213483145),\n",
      " ('man', 0.25509129213483145),\n",
      " ('podcast', 0.25509129213483145),\n",
      " ('guitar', 0.25509129213483145),\n",
      " ('w', 0.25509129213483145),\n",
      " ('wrestling', 0.25509129213483145),\n",
      " ('father', 0.20407303370786517),\n",
      " ('hockey', 0.20407303370786517),\n",
      " ('we', 0.14576645264847513),\n",
      " ('fan', 0.12754564606741572)]\n"
     ]
    }
   ],
   "source": [
    "ors = odds_ratios(male_probs, female_probs)\n",
    "\n",
    "sorted_ors = sorted(ors.items(), key=lambda x: -x[1])\n",
    "\n",
    "print('Top Female Terms (OR):')\n",
    "pprint(sorted_ors[:20])\n",
    "\n",
    "print('\\nTop Male Terms (OR):')\n",
    "pprint(sorted_ors[-20:])"
   ]
  }
 ],
 "metadata": {
  "kernelspec": {
   "display_name": "Python 3",
   "language": "python",
   "name": "python3"
  },
  "language_info": {
   "codemirror_mode": {
    "name": "ipython",
    "version": 3
   },
   "file_extension": ".py",
   "mimetype": "text/x-python",
   "name": "python",
   "nbconvert_exporter": "python",
   "pygments_lexer": "ipython3",
   "version": "3.6.0"
  }
 },
 "nbformat": 4,
 "nbformat_minor": 0
}
