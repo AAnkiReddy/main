{
 "metadata": {
  "name": "",
  "signature": "sha256:0c53ad1441919c4a0c388a939c039993489f96380269273311fca70a76b6e565"
 },
 "nbformat": 3,
 "nbformat_minor": 0,
 "worksheets": [
  {
   "cells": [
    {
     "cell_type": "markdown",
     "metadata": {},
     "source": [
      "# CS579: Lecture 21  \n",
      "*[Dr. Aron Culotta](http://cs.iit.edu/~culotta)*  \n",
      "*[Illinois Institute of Technology](http://iit.edu)*"
     ]
    },
    {
     "cell_type": "markdown",
     "metadata": {},
     "source": [
      "**Final Review**\n",
      "\n",
      "- l10 -> end\n",
      "- sentiment analysis\n",
      "  - lexicons\n",
      "  - wordnet\n",
      "  - how to combine words with different sentiment?\n",
      "- classification\n",
      "  - workflow (collect, label, train, test, etc)\n",
      "  - computing feature vectors\n",
      "  - generalization error\n",
      "  - variants of SimpleMachine\n",
      "  - computing cross-validation accuracy (why?)\n",
      "  - bias vs. variance\n",
      "- demographics\n",
      "  - pitfalls of using name lists\n",
      "  - computing odds ratio\n",
      "  - smoothing\n",
      "  - ngrams\n",
      "  - tokenization\n",
      "  - stop words\n",
      "  - regularization (why?)\n",
      "- logistic regression\n",
      "  - no need to do calculus, but do you understand the formula?\n",
      "- text regression\n",
      "  - normalization\n",
      "  - moving averages\n",
      "  - understanding correlation equation\n",
      "  - how to do cross-validation in time series?\n",
      "  - searching for term combinations (feature selection)\n",
      "- recommendation systems\n",
      "  - content-based\n",
      "    - tf-idf\n",
      "  - collaborative filtering\n",
      "    - user\n",
      "    - item\n",
      "    - measures: jaccard, cosine, pearson"
     ]
    }
   ],
   "metadata": {}
  }
 ]
}