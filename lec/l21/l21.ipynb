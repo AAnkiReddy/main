{
 "cells": [
  {
   "cell_type": "markdown",
   "metadata": {},
   "source": [
    "# CS579: Lecture 21  \n",
    "*[Dr. Aron Culotta](http://cs.iit.edu/~culotta)*  \n",
    "*[Illinois Institute of Technology](http://iit.edu)*"
   ]
  },
  {
   "cell_type": "markdown",
   "metadata": {},
   "source": [
    "**Final Review**\n",
    "\n",
    "- l10 -> end\n",
    "- sentiment analysis\n",
    "  - lexicons\n",
    "  - wordnet\n",
    "  - how to combine words with different sentiment?\n",
    "- classification\n",
    "  - workflow (collect, label, train, test, etc)\n",
    "  - computing feature vectors\n",
    "  - generalization error\n",
    "  - variants of SimpleMachine\n",
    "  - computing cross-validation accuracy (why?)\n",
    "  - bias vs. variance\n",
    "- demographics\n",
    "  - pitfalls of using name lists\n",
    "  - computing odds ratio\n",
    "  - smoothing\n",
    "  - ngrams\n",
    "  - tokenization\n",
    "  - stop words\n",
    "  - regularization (why?)\n",
    "- logistic regression\n",
    "  - no need to do calculus, but do you understand the formula?\n",
    "- recommendation systems\n",
    "  - content-based\n",
    "    - tf-idf\n",
    "  - collaborative filtering\n",
    "    - user\n",
    "    - item\n",
    "    - measures: jaccard, cosine, pearson"
   ]
  }
 ],
 "metadata": {
  "kernelspec": {
   "display_name": "Python 2",
   "language": "python",
   "name": "python2"
  },
  "language_info": {
   "codemirror_mode": {
    "name": "ipython",
    "version": 2
   },
   "file_extension": ".py",
   "mimetype": "text/x-python",
   "name": "python",
   "nbconvert_exporter": "python",
   "pygments_lexer": "ipython2",
   "version": "2.7.5"
  }
 },
 "nbformat": 4,
 "nbformat_minor": 0
}
