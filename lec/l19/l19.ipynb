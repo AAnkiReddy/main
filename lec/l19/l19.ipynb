{
 "cells": [
  {
   "cell_type": "markdown",
   "metadata": {},
   "source": [
    "# CS579: Lecture 19  \n",
    "\n",
    "**Recommendation Systems**\n",
    "\n",
    "*[Dr. Aron Culotta](http://cs.iit.edu/~culotta)*  \n",
    "*[Illinois Institute of Technology](http://iit.edu)*"
   ]
  },
  {
   "cell_type": "markdown",
   "metadata": {},
   "source": [
    "**Assignment 3 notes.**"
   ]
  },
  {
   "cell_type": "code",
   "execution_count": 11,
   "metadata": {
    "collapsed": true
   },
   "outputs": [],
   "source": [
    "from sklearn.cross_validation import KFold\n",
    "from sklearn.feature_extraction.text import CountVectorizer\n",
    "from sklearn.linear_model import LogisticRegression\n",
    "from sklearn.metrics import accuracy_score\n",
    "import numpy as np"
   ]
  },
  {
   "cell_type": "code",
   "execution_count": 3,
   "metadata": {
    "collapsed": false
   },
   "outputs": [
    {
     "data": {
      "text/plain": [
       "'0.16.1'"
      ]
     },
     "execution_count": 3,
     "metadata": {},
     "output_type": "execute_result"
    }
   ],
   "source": [
    "import sklearn\n",
    "sklearn.__version__"
   ]
  },
  {
   "cell_type": "code",
   "execution_count": 4,
   "metadata": {
    "collapsed": false
   },
   "outputs": [
    {
     "name": "stdout",
     "output_type": "stream",
     "text": [
      "  (0, 1)\t1\n",
      "  (0, 3)\t1\n",
      "  (1, 2)\t1\n",
      "  (1, 0)\t1\n",
      "  (1, 4)\t1\n"
     ]
    }
   ],
   "source": [
    "def my_toker(s):\n",
    "    return s.split()\n",
    "    \n",
    "vec = CountVectorizer(binary=True)\n",
    "X = vec.fit_transform(['hi there.', 'how a are you you ??'])\n",
    "print X"
   ]
  },
  {
   "cell_type": "code",
   "execution_count": 5,
   "metadata": {
    "collapsed": false
   },
   "outputs": [
    {
     "data": {
      "text/plain": [
       "[u'are', u'hi', u'how', u'there', u'you']"
      ]
     },
     "execution_count": 5,
     "metadata": {},
     "output_type": "execute_result"
    }
   ],
   "source": [
    "vec.get_feature_names()"
   ]
  },
  {
   "cell_type": "code",
   "execution_count": 6,
   "metadata": {
    "collapsed": false
   },
   "outputs": [
    {
     "data": {
      "text/plain": [
       "[u'zebra']"
      ]
     },
     "execution_count": 6,
     "metadata": {},
     "output_type": "execute_result"
    }
   ],
   "source": [
    "vec.fit_transform(['zebra']).todense()\n",
    "vec.get_feature_names()"
   ]
  },
  {
   "cell_type": "markdown",
   "metadata": {},
   "source": [
    "## Recommendation Systems, continued."
   ]
  },
  {
   "cell_type": "markdown",
   "metadata": {},
   "source": [
    "Let's try out some of the ideas from last lecture on the [MovieLens](http://grouplens.org/datasets/movielens/) dataset."
   ]
  },
  {
   "cell_type": "code",
   "execution_count": 13,
   "metadata": {
    "collapsed": true
   },
   "outputs": [],
   "source": [
    "import matplotlib.pyplot as plt\n",
    "%matplotlib inline"
   ]
  },
  {
   "cell_type": "code",
   "execution_count": 14,
   "metadata": {
    "collapsed": false
   },
   "outputs": [
    {
     "data": {
      "text/plain": [
       "('u.data', <httplib.HTTPMessage instance at 0x10b03f050>)"
      ]
     },
     "execution_count": 14,
     "metadata": {},
     "output_type": "execute_result"
    }
   ],
   "source": [
    "# Download the data.\n",
    "import urllib\n",
    "\n",
    "urllib.urlretrieve(\"http://files.grouplens.org/datasets/movielens/ml-100k/u.data\", \"u.data\")"
   ]
  },
  {
   "cell_type": "code",
   "execution_count": 15,
   "metadata": {
    "collapsed": false
   },
   "outputs": [
    {
     "name": "stdout",
     "output_type": "stream",
     "text": [
      "196\t242\t3\t881250949\r\n",
      "186\t302\t3\t891717742\r\n",
      "22\t377\t1\t878887116\r\n",
      "244\t51\t2\t880606923\r\n",
      "166\t346\t1\t886397596\r\n",
      "298\t474\t4\t884182806\r\n",
      "115\t265\t2\t881171488\r\n",
      "253\t465\t5\t891628467\r\n",
      "305\t451\t3\t886324817\r\n",
      "6\t86\t3\t883603013\r\n"
     ]
    }
   ],
   "source": [
    "# Print first 10 lines:\n",
    "!head u.data\n",
    "# schema is: user id | item id | rating | timestamp"
   ]
  },
  {
   "cell_type": "code",
   "execution_count": 16,
   "metadata": {
    "collapsed": false
   },
   "outputs": [
    {
     "name": "stdout",
     "output_type": "stream",
     "text": [
      "  100000 u.data\r\n"
     ]
    }
   ],
   "source": [
    "!wc -l u.data"
   ]
  },
  {
   "cell_type": "code",
   "execution_count": 17,
   "metadata": {
    "collapsed": false
   },
   "outputs": [],
   "source": [
    "# Build the giant matrix of user x rating\n",
    "from scipy.sparse import lil_matrix, csr_matrix\n",
    "\n",
    "# Recall that lil_matrix is more efficient upon creation, but csr_matrix is more efficient to do dot products.\n",
    "\n",
    "# We need the number of users/movies in the data.\n",
    "n_users = 943\n",
    "n_movies = 1682\n",
    "\n",
    "X = lil_matrix((n_users, n_movies))\n",
    "\n",
    "for line in open('u.data', 'rt'):\n",
    "    cols = [int(c) for c in line.split()]\n",
    "    X[cols[0]-1, cols[1]-1] = cols[2]  # User IDs start at 1."
   ]
  },
  {
   "cell_type": "code",
   "execution_count": 18,
   "metadata": {
    "collapsed": false
   },
   "outputs": [
    {
     "name": "stdout",
     "output_type": "stream",
     "text": [
      "Matrix shape= (943, 1682)\n"
     ]
    }
   ],
   "source": [
    "X = X.tocsr()\n",
    "print 'Matrix shape=', X.shape"
   ]
  },
  {
   "cell_type": "code",
   "execution_count": 19,
   "metadata": {
    "collapsed": false
   },
   "outputs": [
    {
     "name": "stdout",
     "output_type": "stream",
     "text": [
      "User 0s ratings:\n",
      "  (0, 0)\t5.0\n",
      "  (0, 1)\t3.0\n",
      "  (0, 2)\t4.0\n",
      "  (0, 3)\t3.0\n",
      "  (0, 4)\t3.0\n",
      "  (0, 5)\t5.0\n",
      "  (0, 6)\t4.0\n",
      "  (0, 7)\t1.0\n",
      "  (0, 8)\t5.0\n",
      "  (0, 9)\t3.0\n",
      "  (0, 10)\t2.0\n",
      "  (0, 11)\t5.0\n",
      "  (0, 12)\t5.0\n",
      "  (0, 13)\t5.0\n",
      "  (0, 14)\t5.0\n",
      "  (0, 15)\t5.0\n",
      "  (0, 16)\t3.0\n",
      "  (0, 17)\t4.0\n",
      "  (0, 18)\t5.0\n",
      "  (0, 19)\t4.0\n",
      "  (0, 20)\t1.0\n",
      "  (0, 21)\t4.0\n",
      "  (0, 22)\t4.0\n",
      "  (0, 23)\t3.0\n",
      "  (0, 24)\t4.0\n",
      "  :\t:\n",
      "  (0, 247)\t4.0\n",
      "  (0, 248)\t4.0\n",
      "  (0, 249)\t4.0\n",
      "  (0, 250)\t4.0\n",
      "  (0, 251)\t2.0\n",
      "  (0, 252)\t5.0\n",
      "  (0, 253)\t1.0\n",
      "  (0, 254)\t2.0\n",
      "  (0, 255)\t4.0\n",
      "  (0, 256)\t4.0\n",
      "  (0, 257)\t5.0\n",
      "  (0, 258)\t1.0\n",
      "  (0, 259)\t1.0\n",
      "  (0, 260)\t1.0\n",
      "  (0, 261)\t3.0\n",
      "  (0, 262)\t1.0\n",
      "  (0, 263)\t2.0\n",
      "  (0, 264)\t4.0\n",
      "  (0, 265)\t1.0\n",
      "  (0, 266)\t4.0\n",
      "  (0, 267)\t5.0\n",
      "  (0, 268)\t5.0\n",
      "  (0, 269)\t5.0\n",
      "  (0, 270)\t2.0\n",
      "  (0, 271)\t3.0\n"
     ]
    }
   ],
   "source": [
    "print 'User 0s ratings:\\n', X[0]"
   ]
  },
  {
   "cell_type": "code",
   "execution_count": 20,
   "metadata": {
    "collapsed": false
   },
   "outputs": [
    {
     "data": {
      "text/plain": [
       "272"
      ]
     },
     "execution_count": 20,
     "metadata": {},
     "output_type": "execute_result"
    }
   ],
   "source": [
    "len(X[0].nonzero()[1])"
   ]
  },
  {
   "cell_type": "code",
   "execution_count": 21,
   "metadata": {
    "collapsed": false
   },
   "outputs": [
    {
     "name": "stdout",
     "output_type": "stream",
     "text": [
      "100000 total ratings\n"
     ]
    }
   ],
   "source": [
    "# How many ratings do we have in total?\n",
    "print '%d total ratings' % len(X.data)"
   ]
  },
  {
   "cell_type": "code",
   "execution_count": 22,
   "metadata": {
    "collapsed": false
   },
   "outputs": [
    {
     "name": "stdout",
     "output_type": "stream",
     "text": [
      "0.936953 of ratings are empty\n"
     ]
    }
   ],
   "source": [
    "# How sparse is this? E.g., how many zeros are there?\n",
    "print '%f of ratings are empty' % (1. - (1. * len(X.data) / (X.shape[0] * X.shape[1])))"
   ]
  },
  {
   "cell_type": "code",
   "execution_count": 23,
   "metadata": {
    "collapsed": false
   },
   "outputs": [
    {
     "name": "stdout",
     "output_type": "stream",
     "text": [
      "  (0, 0)\t1.0\n",
      "  (0, 9)\t1.0\n",
      "  (0, 12)\t1.0\n",
      "  (0, 13)\t1.0\n",
      "  (0, 18)\t1.0\n",
      "  (0, 24)\t1.0\n",
      "  (0, 49)\t1.0\n",
      "  (0, 99)\t1.0\n",
      "  (0, 110)\t1.0\n",
      "  (0, 126)\t1.0\n",
      "  (0, 236)\t1.0\n",
      "  (0, 241)\t1.0\n",
      "  (0, 250)\t1.0\n",
      "  (0, 254)\t1.0\n",
      "  (0, 256)\t1.0\n",
      "  (0, 257)\t1.0\n",
      "  (0, 268)\t1.0\n",
      "  (0, 271)\t1.0\n",
      "  (0, 272)\t1.0\n",
      "  (0, 273)\t1.0\n",
      "  (0, 274)\t1.0\n",
      "  (0, 275)\t1.0\n",
      "  (0, 276)\t1.0\n",
      "  (0, 277)\t1.0\n",
      "  (0, 278)\t1.0\n",
      "  :\t:\n",
      "  (0, 291)\t1.0\n",
      "  (0, 292)\t1.0\n",
      "  (0, 293)\t1.0\n",
      "  (0, 294)\t1.0\n",
      "  (0, 295)\t1.0\n",
      "  (0, 296)\t1.0\n",
      "  (0, 297)\t1.0\n",
      "  (0, 298)\t1.0\n",
      "  (0, 299)\t1.0\n",
      "  (0, 300)\t1.0\n",
      "  (0, 301)\t1.0\n",
      "  (0, 302)\t1.0\n",
      "  (0, 303)\t1.0\n",
      "  (0, 304)\t1.0\n",
      "  (0, 305)\t1.0\n",
      "  (0, 306)\t1.0\n",
      "  (0, 307)\t1.0\n",
      "  (0, 308)\t1.0\n",
      "  (0, 309)\t1.0\n",
      "  (0, 310)\t1.0\n",
      "  (0, 311)\t1.0\n",
      "  (0, 312)\t1.0\n",
      "  (0, 313)\t1.0\n",
      "  (0, 314)\t1.0\n",
      "  (0, 315)\t1.0\n"
     ]
    }
   ],
   "source": [
    "# How many ratings do we have per person?\n",
    "# Let's make a binary matrix \n",
    "X_binary = X.copy()\n",
    "X_binary.data = X_binary.data / X_binary.data\n",
    "print X_binary[1]"
   ]
  },
  {
   "cell_type": "code",
   "execution_count": 24,
   "metadata": {
    "collapsed": false
   },
   "outputs": [
    {
     "data": {
      "image/png": "[encoded data removed]",
      "text/plain": [
       "<matplotlib.figure.Figure at 0x10b0637d0>"
      ]
     },
     "metadata": {},
     "output_type": "display_data"
    },
    {
     "name": "stdout",
     "output_type": "stream",
     "text": [
      "most common reviews per user [(20.0, 32), (21.0, 24), (22.0, 23), (23.0, 21), (24.0, 21), (26.0, 19), (25.0, 16), (27.0, 16), (33.0, 16), (28.0, 15)]\n"
     ]
    }
   ],
   "source": [
    "# Now we can count the number of ratings per person by summing by row.\n",
    "ratings_per_user = X_binary.sum(axis=1).transpose().tolist()[0]\n",
    "\n",
    "# print ratings_per_user.shape\n",
    "# print ratings_per_user\n",
    "plt.figure()\n",
    "plt.hist(ratings_per_user, bins=100)\n",
    "plt.xlabel('#ratings')\n",
    "plt.ylabel('#users')\n",
    "plt.show()\n",
    "\n",
    "from collections import Counter\n",
    "print 'most common reviews per user', Counter(ratings_per_user).most_common(10)"
   ]
  },
  {
   "cell_type": "code",
   "execution_count": 25,
   "metadata": {
    "collapsed": false
   },
   "outputs": [
    {
     "data": {
      "image/png": "[encoded data removed]",
      "text/plain": [
       "<matplotlib.figure.Figure at 0x10b324090>"
      ]
     },
     "metadata": {},
     "output_type": "display_data"
    },
    {
     "name": "stdout",
     "output_type": "stream",
     "text": [
      "most common reviews per movie [(1.0, 141), (2.0, 68), (4.0, 64), (3.0, 60), (5.0, 51), (7.0, 44), (6.0, 39), (9.0, 33), (10.0, 33), (8.0, 30)]\n"
     ]
    }
   ],
   "source": [
    "# Next let's plot the number of ratings per movie\n",
    "ratings_per_movie = X_binary.sum(axis=0).tolist()[0]\n",
    "\n",
    "# print ratings_per_movie\n",
    "\n",
    "plt.figure()\n",
    "plt.hist(ratings_per_movie, bins=100)\n",
    "plt.xlabel('#ratings')\n",
    "plt.ylabel('#movies')\n",
    "plt.show()\n",
    "\n",
    "from collections import Counter\n",
    "print 'most common reviews per movie', Counter(ratings_per_movie).most_common(10)"
   ]
  },
  {
   "cell_type": "code",
   "execution_count": 26,
   "metadata": {
    "collapsed": false
   },
   "outputs": [
    {
     "data": {
      "text/plain": [
       "('u.item', <httplib.HTTPMessage instance at 0x10b056ea8>)"
      ]
     },
     "execution_count": 26,
     "metadata": {},
     "output_type": "execute_result"
    }
   ],
   "source": [
    "# For debugging, we'll need the mapping from movie id -> movie name.\n",
    "urllib.urlretrieve(\"http://files.grouplens.org/datasets/movielens/ml-100k/u.item\", \"u.item\")"
   ]
  },
  {
   "cell_type": "code",
   "execution_count": 27,
   "metadata": {
    "collapsed": false
   },
   "outputs": [
    {
     "name": "stdout",
     "output_type": "stream",
     "text": [
      "1|Toy Story (1995)|01-Jan-1995||http://us.imdb.com/M/title-exact?Toy%20Story%20(1995)|0|0|0|1|1|1|0|0|0|0|0|0|0|0|0|0|0|0|0\r\n",
      "2|GoldenEye (1995)|01-Jan-1995||http://us.imdb.com/M/title-exact?GoldenEye%20(1995)|0|1|1|0|0|0|0|0|0|0|0|0|0|0|0|0|1|0|0\r\n",
      "3|Four Rooms (1995)|01-Jan-1995||http://us.imdb.com/M/title-exact?Four%20Rooms%20(1995)|0|0|0|0|0|0|0|0|0|0|0|0|0|0|0|0|1|0|0\r\n",
      "4|Get Shorty (1995)|01-Jan-1995||http://us.imdb.com/M/title-exact?Get%20Shorty%20(1995)|0|1|0|0|0|1|0|0|1|0|0|0|0|0|0|0|0|0|0\r\n",
      "5|Copycat (1995)|01-Jan-1995||http://us.imdb.com/M/title-exact?Copycat%20(1995)|0|0|0|0|0|0|1|0|1|0|0|0|0|0|0|0|1|0|0\r\n",
      "6|Shanghai Triad (Yao a yao yao dao waipo qiao) (1995)|01-Jan-1995||http://us.imdb.com/Title?Yao+a+yao+yao+dao+waipo+qiao+(1995)|0|0|0|0|0|0|0|0|1|0|0|0|0|0|0|0|0|0|0\r\n",
      "7|Twelve Monkeys (1995)|01-Jan-1995||http://us.imdb.com/M/title-exact?Twelve%20Monkeys%20(1995)|0|0|0|0|0|0|0|0|1|0|0|0|0|0|0|1|0|0|0\r\n",
      "8|Babe (1995)|01-Jan-1995||http://us.imdb.com/M/title-exact?Babe%20(1995)|0|0|0|0|1|1|0|0|1|0|0|0|0|0|0|0|0|0|0\r\n",
      "9|Dead Man Walking (1995)|01-Jan-1995||http://us.imdb.com/M/title-exact?Dead%20Man%20Walking%20(1995)|0|0|0|0|0|0|0|0|1|0|0|0|0|0|0|0|0|0|0\r\n",
      "10|Richard III (1995)|22-Jan-1996||http://us.imdb.com/M/title-exact?Richard%20III%20(1995)|0|0|0|0|0|0|0|0|1|0|0|0|0|0|0|0|0|1|0\r\n"
     ]
    }
   ],
   "source": [
    "!head u.item\n",
    "# name, data, url, genre"
   ]
  },
  {
   "cell_type": "code",
   "execution_count": 28,
   "metadata": {
    "collapsed": false
   },
   "outputs": [
    {
     "name": "stdout",
     "output_type": "stream",
     "text": [
      "(0, 'Toy Story (1995)')\n"
     ]
    }
   ],
   "source": [
    "# Read u.item into a dict from movie id -> title.\n",
    "id2movie = dict()\n",
    "for line in open('u.item', 'rt'):\n",
    "    parts = line.split('|')\n",
    "    id2movie[int(parts[0]) - 1] = parts[1]\n",
    "print id2movie.items()[0]"
   ]
  },
  {
   "cell_type": "code",
   "execution_count": 29,
   "metadata": {
    "collapsed": false
   },
   "outputs": [
    {
     "data": {
      "text/plain": [
       "1682"
      ]
     },
     "execution_count": 29,
     "metadata": {},
     "output_type": "execute_result"
    }
   ],
   "source": [
    "len(id2movie)"
   ]
  },
  {
   "cell_type": "code",
   "execution_count": 48,
   "metadata": {
    "collapsed": false,
    "scrolled": true
   },
   "outputs": [
    {
     "name": "stdout",
     "output_type": "stream",
     "text": [
      "0 Toy Story (1995) 5.0\n",
      "5 Shanghai Triad (Yao a yao yao dao waipo qiao) (1995) 5.0\n",
      "8 Dead Man Walking (1995) 5.0\n",
      "11 Usual Suspects, The (1995) 5.0\n",
      "12 Mighty Aphrodite (1995) 5.0\n",
      "13 Postino, Il (1994) 5.0\n",
      "14 Mr. Holland's Opus (1995) 5.0\n",
      "15 French Twist (Gazon maudit) (1995) 5.0\n",
      "18 Antonia's Line (1995) 5.0\n",
      "31 Crumb (1994) 5.0\n",
      "41 Clerks (1994) 5.0\n",
      "43 Dolores Claiborne (1994) 5.0\n",
      "44 Eat Drink Man Woman (1994) 5.0\n",
      "47 Hoop Dreams (1994) 5.0\n",
      "49 Star Wars (1977) 5.0\n",
      "54 Professional, The (1994) 5.0\n",
      "56 Priest (1994) 5.0\n",
      "58 Three Colors: Red (1994) 5.0\n",
      "59 Three Colors: Blue (1993) 5.0\n",
      "63 Shawshank Redemption, The (1994) 5.0\n",
      "80 Hudsucker Proxy, The (1994) 5.0\n",
      "81 Jurassic Park (1993) 5.0\n",
      "85 Remains of the Day, The (1993) 5.0\n",
      "86 Searching for Bobby Fischer (1993) 5.0\n",
      "88 Blade Runner (1982) 5.0\n",
      "90 Nightmare Before Christmas, The (1993) 5.0\n",
      "92 Welcome to the Dollhouse (1995) 5.0\n",
      "95 Terminator 2: Judgment Day (1991) 5.0\n",
      "99 Fargo (1996) 5.0\n",
      "107 Kids in the Hall: Brain Candy (1996) 5.0\n",
      "108 Mystery Science Theater 3000: The Movie (1996) 5.0\n",
      "110 Truth About Cats & Dogs, The (1996) 5.0\n",
      "112 Horseman on the Roof, The (Hussard sur le toit, Le) (1995) 5.0\n",
      "113 Wallace & Gromit: The Best of Aardman Animation (1996) 5.0\n",
      "114 Haunted World of Edward D. Wood Jr., The (1995) 5.0\n",
      "118 Maya Lin: A Strong Clear Vision (1994) 5.0\n",
      "123 Lone Star (1996) 5.0\n",
      "126 Godfather, The (1972) 5.0\n",
      "128 Bound (1996) 5.0\n",
      "136 Big Night (1996) 5.0\n",
      "149 Swingers (1996) 5.0\n",
      "151 Sleeper (1973) 5.0\n",
      "153 Monty Python's Life of Brian (1979) 5.0\n",
      "164 Jean de Florette (1986) 5.0\n",
      "165 Manon of the Spring (Manon des sources) (1986) 5.0\n",
      "167 Monty Python and the Holy Grail (1974) 5.0\n",
      "168 Wrong Trousers, The (1993) 5.0\n",
      "169 Cinema Paradiso (1988) 5.0\n",
      "170 Delicatessen (1991) 5.0\n",
      "171 Empire Strikes Back, The (1980) 5.0\n",
      "172 Princess Bride, The (1987) 5.0\n",
      "173 Raiders of the Lost Ark (1981) 5.0\n",
      "174 Brazil (1985) 5.0\n",
      "175 Aliens (1986) 5.0\n",
      "176 Good, The Bad and The Ugly, The (1966) 5.0\n",
      "177 12 Angry Men (1957) 5.0\n",
      "180 Return of the Jedi (1983) 5.0\n",
      "182 Alien (1979) 5.0\n",
      "189 Henry V (1989) 5.0\n",
      "190 Amadeus (1984) 5.0\n",
      "194 Terminator, The (1984) 5.0\n",
      "195 Dead Poets Society (1989) 5.0\n",
      "196 Graduate, The (1967) 5.0\n",
      "197 Nikita (La Femme Nikita) (1990) 5.0\n",
      "201 Groundhog Day (1993) 5.0\n",
      "203 Back to the Future (1985) 5.0\n",
      "206 Cyrano de Bergerac (1990) 5.0\n",
      "207 Young Frankenstein (1974) 5.0\n",
      "215 When Harry Met Sally... (1989) 5.0\n",
      "220 Breaking the Waves (1996) 5.0\n",
      "222 Sling Blade (1996) 5.0\n",
      "223 Ridicule (1996) 5.0\n",
      "227 Star Trek: The Wrath of Khan (1982) 5.0\n",
      "234 Mars Attacks! (1996) 5.0\n",
      "241 Kolya (1996) 5.0\n",
      "245 Chasing Amy (1997) 5.0\n",
      "252 Pillow Book, The (1995) 5.0\n",
      "257 Contact (1997) 5.0\n",
      "267 Chasing Amy (1997) 5.0\n",
      "268 Full Monty, The (1997) 5.0\n",
      "269 Gattaca (1997) 5.0\n",
      "2 Four Rooms (1995) 4.0\n",
      "6 Twelve Monkeys (1995) 4.0\n",
      "17 White Balloon, The (1995) 4.0\n",
      "19 Angels and Insects (1995) 4.0\n",
      "21 Braveheart (1995) 4.0\n",
      "22 Taxi Driver (1976) 4.0\n",
      "24 Birdcage, The (1996) 4.0\n",
      "27 Apollo 13 (1995) 4.0\n",
      "32 Desperado (1995) 4.0\n",
      "38 Strange Days (1995) 4.0\n",
      "42 Disclosure (1994) 4.0\n",
      "45 Exotica (1994) 4.0\n",
      "46 Ed Wood (1994) 4.0\n",
      "50 Legends of the Fall (1994) 4.0\n",
      "51 Madness of King George, The (1994) 4.0\n",
      "55 Pulp Fiction (1994) 4.0\n",
      "57 Quiz Show (1994) 4.0\n",
      "60 Three Colors: White (1994) 4.0\n",
      "64 What's Eating Gilbert Grape (1993) 4.0\n",
      "65 While You Were Sleeping (1995) 4.0\n",
      "67 Crow, The (1994) 4.0\n",
      "71 Mask, The (1994) 4.0\n",
      "74 Brother Minister: The Assassination of Malcolm X (1994) 4.0\n",
      "75 Carlito's Way (1993) 4.0\n",
      "76 Firm, The (1993) 4.0\n",
      "78 Fugitive, The (1993) 4.0\n",
      "79 Hot Shots! Part Deux (1993) 4.0\n",
      "83 Robert A. Heinlein's The Puppet Masters (1994) 4.0\n",
      "87 Sleepless in Seattle (1993) 4.0\n",
      "89 So I Married an Axe Murderer (1993) 4.0\n",
      "94 Aladdin (1992) 4.0\n",
      "97 Silence of the Lambs, The (1991) 4.0\n",
      "105 Diabolique (1996) 4.0\n",
      "106 Moll Flanders (1996) 4.0\n",
      "120 Independence Day (ID4) (1996) 4.0\n",
      "122 Frighteners, The (1996) 4.0\n",
      "127 Supercop (1992) 4.0\n",
      "131 Wizard of Oz, The (1939) 4.0\n",
      "132 Gone with the Wind (1939) 4.0\n",
      "133 Citizen Kane (1941) 4.0\n",
      "134 2001: A Space Odyssey (1968) 4.0\n",
      "143 Die Hard (1988) 4.0\n",
      "145 Unhook the Stars (1996) 4.0\n",
      "150 Willy Wonka and the Chocolate Factory (1971) 4.0\n",
      "155 Reservoir Dogs (1992) 4.0\n",
      "156 Platoon (1986) 4.0\n",
      "159 Glengarry Glen Ross (1992) 4.0\n",
      "160 Top Gun (1986) 4.0\n",
      "161 On Golden Pond (1981) 4.0\n",
      "162 Return of the Pink Panther, The (1974) 4.0\n",
      "181 GoodFellas (1990) 4.0\n",
      "183 Army of Darkness (1993) 4.0\n",
      "184 Psycho (1960) 4.0\n",
      "185 Blues Brothers, The (1980) 4.0\n",
      "186 Godfather: Part II, The (1974) 4.0\n",
      "191 Raging Bull (1980) 4.0\n",
      "192 Right Stuff, The (1983) 4.0\n",
      "193 Sting, The (1973) 4.0\n",
      "198 Bridge on the River Kwai, The (1957) 4.0\n",
      "202 Unforgiven (1992) 4.0\n",
      "205 Akira (1988) 4.0\n",
      "208 This Is Spinal Tap (1984) 4.0\n",
      "209 Indiana Jones and the Last Crusade (1989) 4.0\n",
      "211 Unbearable Lightness of Being, The (1988) 4.0\n",
      "213 Pink Floyd - The Wall (1982) 4.0\n",
      "221 Star Trek: First Contact (1996) 4.0\n",
      "226 Star Trek VI: The Undiscovered Country (1991) 4.0\n",
      "228 Star Trek III: The Search for Spock (1984) 4.0\n",
      "229 Star Trek IV: The Voyage Home (1986) 4.0\n",
      "233 Jaws (1975) 4.0\n",
      "235 Citizen Ruth (1996) 4.0\n",
      "237 Raising Arizona (1987) 4.0\n",
      "238 Sneakers (1992) 4.0\n",
      "240 Last of the Mohicans, The (1992) 4.0\n",
      "247 Grosse Pointe Blank (1997) 4.0\n",
      "248 Austin Powers: International Man of Mystery (1997) 4.0\n",
      "249 Fifth Element, The (1997) 4.0\n",
      "250 Shall We Dance? (1996) 4.0\n",
      "255 When the Cats Away (Chacun cherche son chat) (1996) 4.0\n",
      "256 Men in Black (1997) 4.0\n",
      "264 Hunt for Red October, The (1990) 4.0\n",
      "266 unknown 4.0\n",
      "1 GoldenEye (1995) 3.0\n",
      "3 Get Shorty (1995) 3.0\n",
      "4 Copycat (1995) 3.0\n",
      "9 Richard III (1995) 3.0\n",
      "16 From Dusk Till Dawn (1996) 3.0\n",
      "23 Rumble in the Bronx (1995) 3.0\n",
      "25 Brothers McMullen, The (1995) 3.0\n",
      "29 Belle de jour (1967) 3.0\n",
      "30 Crimson Tide (1995) 3.0\n",
      "37 Net, The (1995) 3.0\n",
      "39 To Wong Foo, Thanks for Everything! Julie Newmar (1995) 3.0\n",
      "48 I.Q. (1994) 3.0\n",
      "52 Natural Born Killers (1994) 3.0\n",
      "53 Outbreak (1995) 3.0\n",
      "61 Stargate (1994) 3.0\n",
      "66 Ace Ventura: Pet Detective (1994) 3.0\n",
      "68 Forrest Gump (1994) 3.0\n",
      "69 Four Weddings and a Funeral (1994) 3.0\n",
      "70 Lion King, The (1994) 3.0\n",
      "72 Maverick (1994) 3.0\n",
      "82 Much Ado About Nothing (1993) 3.0\n",
      "84 Ref, The (1994) 3.0\n",
      "91 True Romance (1993) 3.0\n",
      "96 Dances with Wolves (1990) 3.0\n",
      "98 Snow White and the Seven Dwarfs (1937) 3.0\n",
      "115 Cold Comfort Farm (1995) 3.0\n",
      "116 Rock, The (1996) 3.0\n",
      "117 Twister (1996) 3.0\n",
      "121 Cable Guy, The (1996) 3.0\n",
      "124 Phenomenon (1996) 3.0\n",
      "129 Kansas City (1996) 3.0\n",
      "135 Mr. Smith Goes to Washington (1939) 3.0\n",
      "138 Love Bug, The (1969) 3.0\n",
      "140 20,000 Leagues Under the Sea (1954) 3.0\n",
      "146 Long Kiss Goodnight, The (1996) 3.0\n",
      "152 Fish Called Wanda, A (1988) 3.0\n",
      "157 Weekend at Bernie's (1989) 3.0\n",
      "158 Basic Instinct (1992) 3.0\n",
      "163 Abyss, The (1989) 3.0\n",
      "178 Clockwork Orange, A (1971) 3.0\n",
      "179 Apocalypse Now (1979) 3.0\n",
      "187 Full Metal Jacket (1987) 3.0\n",
      "188 Grand Day Out, A (1992) 3.0\n",
      "199 Shining, The (1980) 3.0\n",
      "200 Evil Dead II (1987) 3.0\n",
      "204 Patton (1970) 3.0\n",
      "210 M*A*S*H (1970) 3.0\n",
      "214 Field of Dreams (1989) 3.0\n",
      "216 Bram Stoker's Dracula (1992) 3.0\n",
      "217 Cape Fear (1991) 3.0\n",
      "219 Mirror Has Two Faces, The (1996) 3.0\n",
      "225 Die Hard 2 (1990) 3.0\n",
      "231 Young Guns (1988) 3.0\n",
      "239 Beavis and Butt-head Do America (1996) 3.0\n",
      "261 In the Company of Men (1997) 3.0\n",
      "271 Good Will Hunting (1997) 3.0\n",
      "10 Seven (Se7en) (1995) 2.0\n",
      "26 Bad Boys (1995) 2.0\n",
      "33 Doom Generation, The (1995) 2.0\n",
      "35 Mad Love (1995) 2.0\n",
      "36 Nadja (1994) 2.0\n",
      "40 Billy Madison (1995) 2.0\n",
      "62 Santa Clause, The (1994) 2.0\n",
      "93 Home Alone (1990) 2.0\n",
      "100 Heavy Metal (1981) 2.0\n",
      "101 Aristocats, The (1970) 2.0\n",
      "104 Sgt. Bilko (1996) 2.0\n",
      "125 Spitfire Grill, The (1996) 2.0\n",
      "141 Bedknobs and Broomsticks (1971) 2.0\n",
      "144 Lawnmower Man, The (1992) 2.0\n",
      "147 Ghost and the Darkness, The (1996) 2.0\n",
      "148 Jude (1996) 2.0\n",
      "154 Dirty Dancing (1987) 2.0\n",
      "166 Private Benjamin (1980) 2.0\n",
      "212 Room with a View, A (1986) 2.0\n",
      "224 101 Dalmatians (1996) 2.0\n",
      "232 Under Siege (1992) 2.0\n",
      "236 Jerry Maguire (1996) 2.0\n",
      "243 Smilla's Sense of Snow (1997) 2.0\n",
      "244 Devil's Own, The (1997) 2.0\n",
      "251 Lost World: Jurassic Park, The (1997) 2.0\n",
      "254 My Best Friend's Wedding (1997) 2.0\n",
      "263 Mimic (1997) 2.0\n",
      "270 Starship Troopers (1997) 2.0\n",
      "7 Babe (1995) 1.0\n",
      "20 Muppet Treasure Island (1996) 1.0\n",
      "28 Batman Forever (1995) 1.0\n",
      "34 Free Willy 2: The Adventure Home (1995) 1.0\n",
      "73 Faster Pussycat! Kill! Kill! (1965) 1.0\n",
      "77 Free Willy (1993) 1.0\n",
      "102 All Dogs Go to Heaven 2 (1996) 1.0\n",
      "103 Theodore Rex (1995) 1.0\n",
      "109 Operation Dumbo Drop (1995) 1.0\n",
      "111 Flipper (1996) 1.0\n",
      "119 Striptease (1996) 1.0\n",
      "130 Breakfast at Tiffany's (1961) 1.0\n",
      "137 D3: The Mighty Ducks (1996) 1.0\n",
      "139 Homeward Bound: The Incredible Journey (1993) 1.0\n",
      "142 Sound of Music, The (1965) 1.0\n",
      "218 Nightmare on Elm Street, A (1984) 1.0\n",
      "230 Batman Returns (1992) 1.0\n",
      "242 Jungle2Jungle (1997) 1.0\n",
      "246 Turbo: A Power Rangers Movie (1997) 1.0\n",
      "253 Batman & Robin (1997) 1.0\n",
      "258 George of the Jungle (1997) 1.0\n",
      "259 Event Horizon (1997) 1.0\n",
      "260 Air Bud (1997) 1.0\n",
      "262 Steel (1997) 1.0\n",
      "265 Kull the Conqueror (1997) 1.0\n"
     ]
    }
   ],
   "source": [
    "def print_user_ratings(row, id2movie, subset=set()):\n",
    "    indices = row.nonzero()[1]\n",
    "    if len(subset) > 0:\n",
    "        indices = set(indices) & set(subset)\n",
    "    # sort in descending order of rating\n",
    "    for coli in sorted(indices, key=lambda x: -row[0, x]):\n",
    "        print coli, id2movie[coli], row[0, coli]\n",
    "        \n",
    "print_user_ratings(X[0], id2movie)"
   ]
  },
  {
   "cell_type": "code",
   "execution_count": 31,
   "metadata": {
    "collapsed": false
   },
   "outputs": [
    {
     "name": "stdout",
     "output_type": "stream",
     "text": [
      "best movie is Great Day in Harlem, A (1994) with rating 5.000000\n",
      "ratings:   (12, 0)\t5.0\n",
      "[5.0, 5.0, 5.0, 5.0, 5.0, 5.0, 5.0, 5.0, 5.0, 5.0, 4.625]\n"
     ]
    }
   ],
   "source": [
    "# What is the highest ranked movie?\n",
    "import numpy as np\n",
    "avg_movie_rating = (X.sum(axis=0) / X_binary.sum(axis=0)).A1  # total rating / number of ratings per movie\n",
    "\n",
    "best_movie_idx = np.argmax(avg_movie_rating)\n",
    "print 'best movie is %s with rating %f' % (id2movie[best_movie_idx],\n",
    "                                           avg_movie_rating[best_movie_idx])\n",
    "print 'ratings:', X[:, best_movie_idx]\n",
    "print sorted(avg_movie_rating, reverse=True)[:11]"
   ]
  },
  {
   "cell_type": "code",
   "execution_count": 32,
   "metadata": {
    "collapsed": false
   },
   "outputs": [
    {
     "name": "stdout",
     "output_type": "stream",
     "text": [
      "1292 3.0 Star Kid (1997)\n",
      "1466 2.0 Saint of Fort Washington, The (1993)\n",
      "1652 1.0 Entertaining Angels: The Dorothy Day Story (1996)\n",
      "813 1.0 Great Day in Harlem, A (1994)\n",
      "1121 1.0 They Made Me a Criminal (1939)\n",
      "1598 1.0 Someone Else's America (1995)\n",
      "1200 1.0 Marlene Dietrich: Shadow and Light (1996) \n",
      "1188 3.0 Prefontaine (1997)\n",
      "1499 2.0 Santa with Muscles (1996)\n",
      "1535 1.0 Aiqing wansui (1994)\n",
      "1448 8.0 Pather Panchali (1955)\n",
      "1641 2.0 Some Mother's Son (1996)\n",
      "118 4.0 Maya Lin: A Strong Clear Vision (1994)\n",
      "1397 2.0 Anna (1996)\n",
      "1593 2.0 Everest (1998)\n",
      "407 112.0 Close Shave, A (1995)\n",
      "317 298.0 Schindler's List (1993)\n",
      "168 118.0 Wrong Trousers, The (1993)\n",
      "482 243.0 Casablanca (1942)\n",
      "113 67.0 Wallace & Gromit: The Best of Aardman Animation (1996)\n"
     ]
    }
   ],
   "source": [
    "n_ratings = X_binary.sum(axis=0).A1\n",
    "\n",
    "for idx in np.argsort(avg_movie_rating)[::-1][:20]:\n",
    "    print idx, n_ratings[idx], id2movie[idx]\n"
   ]
  },
  {
   "cell_type": "code",
   "execution_count": 33,
   "metadata": {
    "collapsed": false
   },
   "outputs": [
    {
     "name": "stdout",
     "output_type": "stream",
     "text": [
      "set([1, 4, 5, 6])\n",
      "set([10, 4, 5, 6])\n",
      "set([4, 5, 6])\n"
     ]
    }
   ],
   "source": [
    "mylist = [4,5,5,6,1]\n",
    "print set(mylist)\n",
    "\n",
    "mylist2 = [4,5,6,10]\n",
    "print set(mylist2)\n",
    "\n",
    "print set(mylist) & set(mylist2)"
   ]
  },
  {
   "cell_type": "code",
   "execution_count": 34,
   "metadata": {
    "collapsed": false,
    "scrolled": false
   },
   "outputs": [
    {
     "name": "stdout",
     "output_type": "stream",
     "text": [
      "1.0 0\n",
      "1.0 38\n",
      "1.0 530\n",
      "1.0 510\n",
      "1.0 350\n",
      "1.0 809\n",
      "1.0 810\n",
      "1.0 811\n",
      "1.0 272\n",
      "1.0 865\n",
      "1.0 165\n",
      "0.918558653544 519\n",
      "0.916534213783 106\n",
      "0.904534033733 686\n",
      "0.891042111214 33\n",
      "0.882298803383 104\n",
      "0.870388279778 739\n",
      "0.866025403784 484\n",
      "0.866025403784 399\n",
      "0.866025403784 872\n",
      "0.862581949178 509\n",
      "0.852802865422 363\n",
      "0.84965467929 802\n",
      "0.845488903031 790\n",
      "0.843661487732 571\n",
      "0.838741697276 690\n",
      "0.816496580928 110\n",
      "0.814091578411 60\n",
      "0.810643483378 753\n",
      "0.794948188396 701\n",
      "0.777777777778 655\n",
      "0.777777777778 239\n",
      "0.774596669241 627\n",
      "0.771743633141 133\n",
      "0.766032346285 735\n",
      "0.752346389217 549\n",
      "0.752325586977 265\n",
      "0.75 919\n",
      "0.75 281\n",
      "0.734770467867 754\n"
     ]
    },
    {
     "name": "stderr",
     "output_type": "stream",
     "text": [
      "/Users/awculott/.local/lib/python2.7/site-packages/scipy/stats/stats.py:2542: RuntimeWarning: invalid value encountered in double_scalars\n",
      "  r = r_num / r_den\n"
     ]
    }
   ],
   "source": [
    "# Let's find the most similar users to user 3.\n",
    "from scipy.stats import pearsonr\n",
    "\n",
    "def movies_in_common(Xi, Xj):\n",
    "    \"\"\"\n",
    "    E.g., if Xi has rated movies [10, 20, 30]\n",
    "    and Xj has rated movies [10, 20, 50]\n",
    "    return [10, 20]\n",
    "    \"\"\"\n",
    "    return list(set(Xi.nonzero()[1]) & set(Xj.nonzero()[1]))\n",
    "\n",
    "def find_similar_by_correlation(user, X, n=10):\n",
    "    correlations = []\n",
    "    for row in X:\n",
    "        in_common = movies_in_common(user, row)\n",
    "        if len(in_common) > 0:\n",
    "            correlations.append(pearsonr(user[0, in_common].todense().A1,\n",
    "                                         row[0, in_common].todense().A1)[0])\n",
    "        else:\n",
    "            correlations.append(-1)\n",
    "    correlations = np.nan_to_num(correlations)\n",
    "    topi = np.argsort(correlations)[::-1][:n]\n",
    "    return zip(topi, np.array(correlations)[topi])\n",
    "        \n",
    "most_similar_users = find_similar_by_correlation(X[0], X, 40)\n",
    "for idx, corr in most_similar_users:\n",
    "    print corr, idx"
   ]
  },
  {
   "cell_type": "code",
   "execution_count": 57,
   "metadata": {
    "collapsed": false,
    "scrolled": false
   },
   "outputs": [
    {
     "name": "stdout",
     "output_type": "stream",
     "text": [
      "257 Contact (1997) 4.0\n",
      "268 Full Monty, The (1997) 4.0\n",
      "269 Gattaca (1997) 4.0\n",
      "271 Good Will Hunting (1997) 2.0\n",
      "\n",
      "257 Contact (1997) 5.0\n",
      "268 Full Monty, The (1997) 5.0\n",
      "269 Gattaca (1997) 5.0\n",
      "271 Good Will Hunting (1997) 3.0\n"
     ]
    }
   ],
   "source": [
    "# What do user 38's ratings look like?\n",
    "in_common = movies_in_common(X[0], X[38])\n",
    "print_user_ratings(X[38], id2movie, in_common)\n",
    "print\n",
    "print_user_ratings(X[0], id2movie, in_common)"
   ]
  },
  {
   "cell_type": "code",
   "execution_count": 58,
   "metadata": {
    "collapsed": false,
    "scrolled": true
   },
   "outputs": [
    {
     "name": "stdout",
     "output_type": "stream",
     "text": [
      "1.0 0\n",
      "0.487949133033 915\n",
      "0.471104840007 737\n",
      "0.465282748572 863\n",
      "0.457111312198 456\n",
      "0.457104969265 267\n",
      "0.454805111853 822\n",
      "0.445429698702 91\n",
      "0.44535899324 513\n",
      "0.444814676191 434\n",
      "287 Scream (1996) 5.0\n",
      "301 L.A. Confidential (1997) 5.0\n",
      "351 Spice World (1997) 5.0\n",
      "747 Saint, The (1997) 5.0\n",
      "936 Thousand Acres, A (1997) 5.0\n",
      "257 Contact (1997) 4.0\n",
      "268 Full Monty, The (1997) 4.0\n",
      "269 Gattaca (1997) 4.0\n",
      "293 Liar Liar (1997) 4.0\n",
      "312 Titanic (1997) 4.0\n",
      "314 Apt Pupil (1998) 4.0\n",
      "318 Everyone Says I Love You (1996) 4.0\n",
      "332 Game, The (1997) 4.0\n",
      "346 Wag the Dog (1997) 4.0\n",
      "299 Air Force One (1997) 3.0\n",
      "300 In & Out (1997) 3.0\n",
      "305 Mrs. Brown (Her Majesty, Mrs. Brown) (1997) 3.0\n",
      "338 Mad City (1997) 3.0\n",
      "344 Deconstructing Harry (1997) 3.0\n",
      "899 Kundun (1997) 3.0\n",
      "271 Good Will Hunting (1997) 2.0\n",
      "306 Devil's Advocate, The (1997) 2.0\n",
      "4 of 272 in common\n"
     ]
    }
   ],
   "source": [
    "# What if we don't ignore 0's? \n",
    "def find_similar_by_correlation_zeros(user, X, n=10):\n",
    "    correlations = []\n",
    "    for row in X:\n",
    "        correlations.append(pearsonr(user.todense().A1,\n",
    "                                     row.todense().A1)[0])\n",
    "    correlations = np.nan_to_num(correlations)\n",
    "    topi = np.argsort(correlations)[::-1][:n]\n",
    "    return zip(topi, np.array(correlations)[topi])\n",
    "        \n",
    "most_similar_users = find_similar_by_correlation_zeros(X[0], X, 10)\n",
    "for idx, corr in most_similar_users:\n",
    "    print corr, idx\n",
    "    \n",
    "# What do user 915's ratings look like?\n",
    "in_common = movies_in_common(X[0], X[38])\n",
    "print_user_ratings(X[38], id2movie)\n",
    "print('%d of %d in common' % (len(in_common), len(X[0].data)))"
   ]
  },
  {
   "cell_type": "code",
   "execution_count": 37,
   "metadata": {
    "collapsed": false
   },
   "outputs": [
    {
     "name": "stdout",
     "output_type": "stream",
     "text": [
      "1.0 49 Star Wars (1977)\n",
      "0.748753224156 180 Return of the Jedi (1983)\n",
      "0.554549408915 171 Empire Strikes Back, The (1980)\n",
      "0.541920164969 173 Raiders of the Lost Ark (1981)\n",
      "0.468689970268 209 Indiana Jones and the Last Crusade (1989)\n",
      "0.457677185391 0 Toy Story (1995)\n",
      "0.438933019823 194 Terminator, The (1984)\n",
      "0.420657911412 203 Back to the Future (1985)\n",
      "0.413546578258 182 Alien (1979)\n",
      "0.412604182566 172 Princess Bride, The (1987)\n"
     ]
    }
   ],
   "source": [
    "# Find the most similar item to Star Wars (id 513)\n",
    "def find_similar_movie_by_correlation(movie, X, n=10):\n",
    "    movie = movie.transpose().toarray()[0]\n",
    "    correlations = []\n",
    "    for coli in range(X.shape[1]):\n",
    "        col = X[:,coli].transpose().toarray()[0]\n",
    "        correlations.append(pearsonr(movie, col)[0])\n",
    "    topi = np.argsort(correlations)[::-1][:n]\n",
    "    return zip(topi, np.array(correlations)[topi])\n",
    "\n",
    "most_similar_corr = find_similar_movie_by_correlation(X[:,49], X, 10)\n",
    "for idx, corr in most_similar_corr:\n",
    "    print corr, idx, id2movie[idx]"
   ]
  },
  {
   "cell_type": "code",
   "execution_count": 38,
   "metadata": {
    "collapsed": false
   },
   "outputs": [
    {
     "name": "stdout",
     "output_type": "stream",
     "text": [
      "1.0 49 Star Wars (1977)\n",
      "0.786885245902 180 Return of the Jedi (1983)\n",
      "0.609951845907 173 Raiders of the Lost Ark (1981)\n",
      "0.582568807339 0 Toy Story (1995)\n",
      "0.570247933884 171 Empire Strikes Back, The (1980)\n",
      "0.565279770445 99 Fargo (1996)\n",
      "0.558685446009 126 Godfather, The (1972)\n",
      "0.556923076923 120 Independence Day (ID4) (1996)\n",
      "0.525078369906 97 Silence of the Lambs, The (1991)\n",
      "0.510046367852 55 Pulp Fiction (1994)\n"
     ]
    }
   ],
   "source": [
    "# How does this compare with Jaccard?\n",
    "def find_similar_movie_by_jaccard(movie, X, n=10):\n",
    "    movie = set(movie.nonzero()[0])\n",
    "    jaccards = []\n",
    "    for coli in range(X.shape[1]):\n",
    "        col = set(X[:,coli].nonzero()[0])\n",
    "        jaccards.append(1. * len(col & movie) / (len(col | movie)))\n",
    "    topi = np.argsort(jaccards)[::-1][:n]\n",
    "    return zip(topi, np.array(jaccards)[topi])\n",
    "\n",
    "most_similar_jaccard = find_similar_movie_by_jaccard(X[:,49], X, 10)\n",
    "for idx, corr in most_similar_jaccard:\n",
    "    print corr, idx, id2movie[idx]\n"
   ]
  },
  {
   "cell_type": "markdown",
   "metadata": {},
   "source": [
    "Jaccard may tend to favor more popular movies.\n",
    "\n",
    "I leave it as an exercise for the reader to figure out why Toy Story is so similar to Star Wars."
   ]
  }
 ],
 "metadata": {
  "kernelspec": {
   "display_name": "Python 2",
   "language": "python",
   "name": "python2"
  },
  "language_info": {
   "codemirror_mode": {
    "name": "ipython",
    "version": 2
   },
   "file_extension": ".py",
   "mimetype": "text/x-python",
   "name": "python",
   "nbconvert_exporter": "python",
   "pygments_lexer": "ipython2",
   "version": "2.7.5"
  }
 },
 "nbformat": 4,
 "nbformat_minor": 0
}
