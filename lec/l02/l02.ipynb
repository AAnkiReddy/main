{
 "metadata": {
  "name": "",
  "signature": "sha256:948068c928b4264c68daca3fc89c9f3fa83b38d17999eda1fe853db764e2777f"
 },
 "nbformat": 3,
 "nbformat_minor": 0,
 "worksheets": [
  {
   "cells": [
    {
     "cell_type": "markdown",
     "metadata": {
      "slideshow": {
       "slide_type": "slide"
      }
     },
     "source": [
      "# CS579: Lecture 02  \n",
      "# Data Collection\n",
      "*[Dr. Aron Culotta](http://cs.iit.edu/~culotta)*  \n",
      "*[Illinois Institute of Technology](http://iit.edu)*"
     ]
    },
    {
     "cell_type": "markdown",
     "metadata": {
      "slideshow": {
       "slide_type": "slide"
      }
     },
     "source": [
      "# Twitter\n",
      "\n",
      "- Platform for broadcasting messages.\n",
      "- https://twitter.com/justinbieber"
     ]
    },
    {
     "cell_type": "markdown",
     "metadata": {
      "slideshow": {
       "slide_type": "slide"
      }
     },
     "source": [
      "# Twitter Jargon\n",
      "\n",
      "- **tweet**: A message, max 140 characters\n",
      "- **timeline**: A list of tweets from a user\n",
      "- **follower**: If user $A$ follows $B$, $A$ will receive tweets from $B$'s timeline\n",
      "- **friend**: If $A$ follows $B$, then $B$ is a *friend* of $A$.\n",
      "  - Notice the asymmetry: If $A$ follows $B$, but $B$ does not follow $A$, then $A$ is not a friend of $B$."
     ]
    },
    {
     "cell_type": "markdown",
     "metadata": {
      "slideshow": {
       "slide_type": "slide"
      }
     },
     "source": [
      "# Twitter API\n",
      "\n",
      "- https://dev.twitter.com/\n",
      "- Provides programmatic access to *public* Twitter data\n",
      "  - *direct messages* not included\n",
      "  - A user can set their timeline to be private, but this is rare."
     ]
    },
    {
     "cell_type": "markdown",
     "metadata": {
      "slideshow": {
       "slide_type": "slide"
      }
     },
     "source": [
      "# Twitter API\n",
      "\n",
      "Two sub-APIs:\n",
      "- *[REST API](https://dev.twitter.com/docs/api/1.1)*: Submit HTTP requests to access specific information (tweets, friends, ...)\n",
      "- *[Streaming API](https://dev.twitter.com/docs/api/streaming)*: Open a continuous connection to Twitter to receive real-time data.\n",
      "\n",
      "These APIs are simply HTTP GET requests:\n",
      "\n",
      "https://api.twitter.com/1.1/search/tweets.json?q=chicago"
     ]
    },
    {
     "cell_type": "markdown",
     "metadata": {
      "slideshow": {
       "slide_type": "slide"
      }
     },
     "source": [
      "# Authentication\n",
      "\n",
      "- Twitter uses [OAuth](https://dev.twitter.com/docs/auth/oauth) to enable secure requests to the API\n",
      "- After creating an account, you can generate tokens: https://dev.twitter.com/docs/auth/tokens-devtwittercom\n",
      "- These tokens will be sent with each API request\n",
      "- Many libraries exist to make this easier: https://dev.twitter.com/docs/twitter-libraries"
     ]
    },
    {
     "cell_type": "code",
     "collapsed": false,
     "input": [
      "# Create a Twitter connection using TwitterAPI: https://github.com/geduldig/TwitterAPI\n",
      "# Start with `pip install TwitterAPI`\n",
      "# You'll need to edit twitter.cfg with your own tokens.\n",
      "import ConfigParser\n",
      "from TwitterAPI import TwitterAPI\n",
      "\n",
      "def get_twitter(config_file):\n",
      "    \"\"\" Read the config_file and construct an instance of TwitterAPI.\n",
      "    Args:\n",
      "      config_file ... A config file in ConfigParser format with Twitter credentials\n",
      "    Returns:\n",
      "      An instance of TwitterAPI.\n",
      "    \"\"\"\n",
      "    config = ConfigParser.ConfigParser()\n",
      "    config.read(config_file)\n",
      "    twitter = TwitterAPI(\n",
      "                   config.get('twitter', 'consumer_key'),\n",
      "                   config.get('twitter', 'consumer_secret'),\n",
      "                   config.get('twitter', 'access_token'),\n",
      "                   config.get('twitter', 'access_token_secret'))\n",
      "    return twitter\n",
      "\n",
      "twitter = get_twitter('twitter.cfg')\n",
      "print 'Established Twitter connection.'"
     ],
     "language": "python",
     "metadata": {
      "slideshow": {
       "slide_type": "slide"
      }
     },
     "outputs": [
      {
       "output_type": "stream",
       "stream": "stdout",
       "text": [
        "Established Twitter connection.\n"
       ]
      }
     ],
     "prompt_number": 1
    },
    {
     "cell_type": "code",
     "collapsed": false,
     "input": [
      "# Let's start by querying the search API\n",
      "# request = twitter.request('statuses/sample')\n",
      "request = twitter.request('search/tweets', {'q': 'chicago'}) \n",
      "\n",
      "# Store first result\n",
      "tweet = None\n",
      "for r in request:\n",
      "    tweet = r\n",
      "    break"
     ],
     "language": "python",
     "metadata": {},
     "outputs": [],
     "prompt_number": 2
    },
    {
     "cell_type": "code",
     "collapsed": false,
     "input": [
      "# Print a tweet.\n",
      "# \n",
      "# What is a tweet?\n",
      "print type(tweet)\n",
      "dir(tweet)\n",
      "print tweet"
     ],
     "language": "python",
     "metadata": {},
     "outputs": [
      {
       "output_type": "stream",
       "stream": "stdout",
       "text": [
        "<type 'dict'>\n",
        "{u'contributors': None, u'truncated': False, u'text': u'Joell Ortiz Interview On Hot\\xa097 http://t.co/XzusJjIiWm', u'in_reply_to_status_id': None, u'id': 504075849952280578, u'favorite_count': 0, u'source': u'<a href=\"http://publicize.wp.com/\" rel=\"nofollow\">WordPress.com</a>', u'retweeted': False, u'coordinates': None, u'entities': {u'symbols': [], u'user_mentions': [], u'hashtags': [], u'urls': [{u'url': u'http://t.co/XzusJjIiWm', u'indices': [32, 54], u'expanded_url': u'http://wp.me/p4rB2R-2rk', u'display_url': u'wp.me/p4rB2R-2rk'}]}, u'in_reply_to_screen_name': None, u'id_str': u'504075849952280578', u'retweet_count': 0, u'in_reply_to_user_id': None, u'favorited': False, u'user': {u'follow_request_sent': False, u'profile_use_background_image': True, u'default_profile_image': False, u'id': 2409468570, u'profile_background_image_url_https': u'https://abs.twimg.com/images/themes/theme1/bg.png', u'verified': False, u'profile_text_color': u'333333', u'profile_image_url_https': u'https://pbs.twimg.com/profile_images/448186338525724672/aVI1-KJQ_normal.jpeg', u'profile_sidebar_fill_color': u'DDEEF6', u'entities': {u'url': {u'urls': [{u'url': u'http://t.co/3Jn0mhkSeR', u'indices': [0, 22], u'expanded_url': u'http://www.actlikeitent.com', u'display_url': u'actlikeitent.com'}]}, u'description': {u'urls': []}}, u'followers_count': 226, u'profile_sidebar_border_color': u'C0DEED', u'id_str': u'2409468570', u'profile_background_color': u'C0DEED', u'listed_count': 1, u'is_translation_enabled': False, u'utc_offset': None, u'statuses_count': 2622, u'description': u'Promo page for @MsBossLadii', u'friends_count': 257, u'location': u'', u'profile_link_color': u'0084B4', u'profile_image_url': u'http://pbs.twimg.com/profile_images/448186338525724672/aVI1-KJQ_normal.jpeg', u'following': False, u'geo_enabled': False, u'profile_background_image_url': u'http://abs.twimg.com/images/themes/theme1/bg.png', u'screen_name': u'GrustleQueen', u'lang': u'en', u'profile_background_tile': False, u'favourites_count': 0, u'name': u'Grustle Hard Promo', u'notifications': False, u'url': u'http://t.co/3Jn0mhkSeR', u'created_at': u'Mon Mar 24 19:45:37 +0000 2014', u'contributors_enabled': False, u'time_zone': None, u'protected': False, u'default_profile': True, u'is_translator': False}, u'geo': None, u'in_reply_to_user_id_str': None, u'possibly_sensitive': False, u'lang': u'en', u'created_at': u'Tue Aug 26 01:20:22 +0000 2014', u'in_reply_to_status_id_str': None, u'place': None}\n"
       ]
      }
     ],
     "prompt_number": 37
    },
    {
     "cell_type": "code",
     "collapsed": false,
     "input": [
      "# Python also offers documentation\n",
      "help(dict)"
     ],
     "language": "python",
     "metadata": {},
     "outputs": [
      {
       "output_type": "stream",
       "stream": "stdout",
       "text": [
        "Help on class dict in module __builtin__:\n",
        "\n",
        "class dict(object)\n",
        " |  dict() -> new empty dictionary\n",
        " |  dict(mapping) -> new dictionary initialized from a mapping object's\n",
        " |      (key, value) pairs\n",
        " |  dict(iterable) -> new dictionary initialized as if via:\n",
        " |      d = {}\n",
        " |      for k, v in iterable:\n",
        " |          d[k] = v\n",
        " |  dict(**kwargs) -> new dictionary initialized with the name=value pairs\n",
        " |      in the keyword argument list.  For example:  dict(one=1, two=2)\n",
        " |  \n",
        " |  Methods defined here:\n",
        " |  \n",
        " |  __cmp__(...)\n",
        " |      x.__cmp__(y) <==> cmp(x,y)\n",
        " |  \n",
        " |  __contains__(...)\n",
        " |      D.__contains__(k) -> True if D has a key k, else False\n",
        " |  \n",
        " |  __delitem__(...)\n",
        " |      x.__delitem__(y) <==> del x[y]\n",
        " |  \n",
        " |  __eq__(...)\n",
        " |      x.__eq__(y) <==> x==y\n",
        " |  \n",
        " |  __ge__(...)\n",
        " |      x.__ge__(y) <==> x>=y\n",
        " |  \n",
        " |  __getattribute__(...)\n",
        " |      x.__getattribute__('name') <==> x.name\n",
        " |  \n",
        " |  __getitem__(...)\n",
        " |      x.__getitem__(y) <==> x[y]\n",
        " |  \n",
        " |  __gt__(...)\n",
        " |      x.__gt__(y) <==> x>y\n",
        " |  \n",
        " |  __init__(...)\n",
        " |      x.__init__(...) initializes x; see help(type(x)) for signature\n",
        " |  \n",
        " |  __iter__(...)\n",
        " |      x.__iter__() <==> iter(x)\n",
        " |  \n",
        " |  __le__(...)\n",
        " |      x.__le__(y) <==> x<=y\n",
        " |  \n",
        " |  __len__(...)\n",
        " |      x.__len__() <==> len(x)\n",
        " |  \n",
        " |  __lt__(...)\n",
        " |      x.__lt__(y) <==> x<y\n",
        " |  \n",
        " |  __ne__(...)\n",
        " |      x.__ne__(y) <==> x!=y\n",
        " |  \n",
        " |  __repr__(...)\n",
        " |      x.__repr__() <==> repr(x)\n",
        " |  \n",
        " |  __setitem__(...)\n",
        " |      x.__setitem__(i, y) <==> x[i]=y\n",
        " |  \n",
        " |  __sizeof__(...)\n",
        " |      D.__sizeof__() -> size of D in memory, in bytes\n",
        " |  \n",
        " |  clear(...)\n",
        " |      D.clear() -> None.  Remove all items from D.\n",
        " |  \n",
        " |  copy(...)\n",
        " |      D.copy() -> a shallow copy of D\n",
        " |  \n",
        " |  fromkeys(...)\n",
        " |      dict.fromkeys(S[,v]) -> New dict with keys from S and values equal to v.\n",
        " |      v defaults to None.\n",
        " |  \n",
        " |  get(...)\n",
        " |      D.get(k[,d]) -> D[k] if k in D, else d.  d defaults to None.\n",
        " |  \n",
        " |  has_key(...)\n",
        " |      D.has_key(k) -> True if D has a key k, else False\n",
        " |  \n",
        " |  items(...)\n",
        " |      D.items() -> list of D's (key, value) pairs, as 2-tuples\n",
        " |  \n",
        " |  iteritems(...)\n",
        " |      D.iteritems() -> an iterator over the (key, value) items of D\n",
        " |  \n",
        " |  iterkeys(...)\n",
        " |      D.iterkeys() -> an iterator over the keys of D\n",
        " |  \n",
        " |  itervalues(...)\n",
        " |      D.itervalues() -> an iterator over the values of D\n",
        " |  \n",
        " |  keys(...)\n",
        " |      D.keys() -> list of D's keys\n",
        " |  \n",
        " |  pop(...)\n",
        " |      D.pop(k[,d]) -> v, remove specified key and return the corresponding value.\n",
        " |      If key is not found, d is returned if given, otherwise KeyError is raised\n",
        " |  \n",
        " |  popitem(...)\n",
        " |      D.popitem() -> (k, v), remove and return some (key, value) pair as a\n",
        " |      2-tuple; but raise KeyError if D is empty.\n",
        " |  \n",
        " |  setdefault(...)\n",
        " |      D.setdefault(k[,d]) -> D.get(k,d), also set D[k]=d if k not in D\n",
        " |  \n",
        " |  update(...)\n",
        " |      D.update([E, ]**F) -> None.  Update D from dict/iterable E and F.\n",
        " |      If E present and has a .keys() method, does:     for k in E: D[k] = E[k]\n",
        " |      If E present and lacks .keys() method, does:     for (k, v) in E: D[k] = v\n",
        " |      In either case, this is followed by: for k in F: D[k] = F[k]\n",
        " |  \n",
        " |  values(...)\n",
        " |      D.values() -> list of D's values\n",
        " |  \n",
        " |  viewitems(...)\n",
        " |      D.viewitems() -> a set-like object providing a view on D's items\n",
        " |  \n",
        " |  viewkeys(...)\n",
        " |      D.viewkeys() -> a set-like object providing a view on D's keys\n",
        " |  \n",
        " |  viewvalues(...)\n",
        " |      D.viewvalues() -> an object providing a view on D's values\n",
        " |  \n",
        " |  ----------------------------------------------------------------------\n",
        " |  Data and other attributes defined here:\n",
        " |  \n",
        " |  __hash__ = None\n",
        " |  \n",
        " |  __new__ = <built-in method __new__ of type object>\n",
        " |      T.__new__(S, ...) -> a new object with type S, a subtype of T\n",
        "\n"
       ]
      }
     ],
     "prompt_number": 35
    },
    {
     "cell_type": "code",
     "collapsed": false,
     "input": [
      "# Print the keys\n",
      "print '\\n'.join(sorted(tweet.keys()))"
     ],
     "language": "python",
     "metadata": {},
     "outputs": [
      {
       "output_type": "stream",
       "stream": "stdout",
       "text": [
        "contributors\n",
        "coordinates\n",
        "created_at\n",
        "entities\n",
        "favorite_count\n",
        "favorited\n",
        "geo\n",
        "id\n",
        "id_str\n",
        "in_reply_to_screen_name\n",
        "in_reply_to_status_id\n",
        "in_reply_to_status_id_str\n",
        "in_reply_to_user_id\n",
        "in_reply_to_user_id_str\n",
        "lang\n",
        "metadata\n",
        "place\n",
        "possibly_sensitive\n",
        "retweet_count\n",
        "retweeted\n",
        "source\n",
        "text\n",
        "truncated\n",
        "user\n"
       ]
      }
     ],
     "prompt_number": 4
    },
    {
     "cell_type": "code",
     "collapsed": false,
     "input": [
      "# Print some values\n",
      "print tweet['created_at']\n",
      "print tweet['text']"
     ],
     "language": "python",
     "metadata": {},
     "outputs": [
      {
       "output_type": "stream",
       "stream": "stdout",
       "text": [
        "Wed Aug 27 19:38:39 +0000 2014\n",
        "Killer Mike Interview With The Breakfast Club! Discusses What\u2019s Going On In Ferguson &amp; Why Chicago Is Important\u2026 http://t.co/UBWmWEQH6n\n"
       ]
      }
     ],
     "prompt_number": 5
    },
    {
     "cell_type": "code",
     "collapsed": false,
     "input": [
      "# What is a user?...another dict\n",
      "user = tweet['user']\n",
      "print '\\n'.join(sorted(user.keys()))"
     ],
     "language": "python",
     "metadata": {},
     "outputs": [
      {
       "output_type": "stream",
       "stream": "stdout",
       "text": [
        "contributors_enabled\n",
        "created_at\n",
        "default_profile\n",
        "default_profile_image\n",
        "description\n",
        "entities\n",
        "favourites_count\n",
        "follow_request_sent\n",
        "followers_count\n",
        "following\n",
        "friends_count\n",
        "geo_enabled\n",
        "id\n",
        "id_str\n",
        "is_translation_enabled\n",
        "is_translator\n",
        "lang\n",
        "listed_count\n",
        "location\n",
        "name\n",
        "notifications\n",
        "profile_background_color\n",
        "profile_background_image_url\n",
        "profile_background_image_url_https\n",
        "profile_background_tile\n",
        "profile_image_url\n",
        "profile_image_url_https\n",
        "profile_link_color\n",
        "profile_sidebar_border_color\n",
        "profile_sidebar_fill_color\n",
        "profile_text_color\n",
        "profile_use_background_image\n",
        "protected\n",
        "screen_name\n",
        "statuses_count\n",
        "time_zone\n",
        "url\n",
        "utc_offset\n",
        "verified\n"
       ]
      }
     ],
     "prompt_number": 6
    },
    {
     "cell_type": "code",
     "collapsed": false,
     "input": [
      "print user['screen_name'], user['name'], user['location']"
     ],
     "language": "python",
     "metadata": {},
     "outputs": [
      {
       "output_type": "stream",
       "stream": "stdout",
       "text": [
        "GrustleQueen Grustle Hard Promo \n"
       ]
      }
     ],
     "prompt_number": 7
    },
    {
     "cell_type": "code",
     "collapsed": false,
     "input": [
      "# Who follows this person?\n",
      "# https://dev.twitter.com/docs/api/1.1/get/followers/list\n",
      "screen_name = user['screen_name']\n",
      "request = twitter.request('followers/list', {'screen_name': screen_name, 'count':200})\n",
      "followers = []\n",
      "for r in request:\n",
      "    print '\\n'.join(sorted(r.keys()))\n",
      "    for user in r['users']:\n",
      "        followers.append(user)\n",
      "        \n",
      "print 'found %d followers for %s' % (len(followers), screen_name)\n",
      "# See more about paging here: https://dev.twitter.com/docs/working-with-timelines"
     ],
     "language": "python",
     "metadata": {},
     "outputs": [
      {
       "output_type": "stream",
       "stream": "stdout",
       "text": [
        "next_cursor\n",
        "next_cursor_str\n",
        "previous_cursor\n",
        "previous_cursor_str\n",
        "users\n",
        "found 200 followers for GrustleQueen\n"
       ]
      }
     ],
     "prompt_number": 8
    },
    {
     "cell_type": "markdown",
     "metadata": {},
     "source": [
      "# Limitations\n",
      "\n",
      "- Can only search 2 weeks in past\n",
      "  - But can get up to 3,200 most recent tweets of a user\n",
      "- Rate limits! https://dev.twitter.com/docs/rate-limiting/1.1/limits\n",
      "  - e.g., 180 requests in 15 minute window"
     ]
    },
    {
     "cell_type": "code",
     "collapsed": false,
     "input": [
      "# Working around rate limits.\n",
      "def robust_request(twitter, resource, params, max_tries=5):\n",
      "    \"\"\" If a Twitter request fails, sleep for 15 minutes.\n",
      "    Do this at most max_tries times before quitting.\n",
      "    Args:\n",
      "      twitter .... A TwitterAPI object.\n",
      "      resource ... A resource string to request.\n",
      "      params ..... A parameter dictionary for the request.\n",
      "      max_tries .. The maximum number of tries to attempt.\n",
      "    Returns:\n",
      "      A TwitterResponse object, or None if failed.\n",
      "    \"\"\"\n",
      "    for i in range(max_tries):\n",
      "        request = twitter.request(resource, params)\n",
      "        if request.status_code == 200:\n",
      "            return request\n",
      "        else:\n",
      "            print >> sys.stderr, 'Got error:', request.text, '\\nsleeping for 15 minutes.'\n",
      "            sys.stderr.flush()\n",
      "            time.sleep(60 * 15)"
     ],
     "language": "python",
     "metadata": {},
     "outputs": []
    },
    {
     "cell_type": "code",
     "collapsed": false,
     "input": [
      "# Drawing graphs: http://networkx.github.io/\n",
      "# `pip install networkx`\n",
      "import networkx as nx\n",
      "# Create a graph\n",
      "graph = nx.DiGraph()\n",
      "# Add a node\n",
      "graph.add_node(screen_name)\n",
      "# Draw the graph\n",
      "nx.draw(graph)"
     ],
     "language": "python",
     "metadata": {},
     "outputs": [
      {
       "metadata": {},
       "output_type": "display_data",
       "png": "[encoded data removed]",
       "text": [
        "<matplotlib.figure.Figure at 0x110be0f90>"
       ]
      }
     ],
     "prompt_number": 10
    },
    {
     "cell_type": "code",
     "collapsed": false,
     "input": [
      "# Add an edge to a follower\n",
      "graph.add_edge(followers[0]['screen_name'], screen_name)\n",
      "nx.draw(graph)"
     ],
     "language": "python",
     "metadata": {},
     "outputs": [
      {
       "metadata": {},
       "output_type": "display_data",
       "png": "[encoded data removed]",
       "text": [
        "<matplotlib.figure.Figure at 0x110c28910>"
       ]
      }
     ],
     "prompt_number": 11
    },
    {
     "cell_type": "code",
     "collapsed": false,
     "input": [
      "graph.add_edge(screen_name, followers[0]['screen_name'])\n",
      "nx.draw(graph)"
     ],
     "language": "python",
     "metadata": {},
     "outputs": [
      {
       "metadata": {},
       "output_type": "display_data",
       "png": "[encoded data removed]",
       "text": [
        "<matplotlib.figure.Figure at 0x110bcfb10>"
       ]
      }
     ],
     "prompt_number": 12
    },
    {
     "cell_type": "code",
     "collapsed": false,
     "input": [
      "# Get this person's timeline\n",
      "timeline = []\n",
      "for t in twitter.request('statuses/user_timeline',\n",
      "                         {'screen_name':screen_name}):\n",
      "    timeline.append(t)\n",
      "print 'got %d tweets for user %s' % (len(timeline), screen_name)"
     ],
     "language": "python",
     "metadata": {},
     "outputs": [
      {
       "output_type": "stream",
       "stream": "stdout",
       "text": [
        "got 20 tweets for user GrustleQueen\n"
       ]
      }
     ],
     "prompt_number": 14
    },
    {
     "cell_type": "code",
     "collapsed": false,
     "input": [
      "# Print the text.\n",
      "print '\\n'.join(t['text'] for t in timeline)  # A python \"list comprehension\": https://docs.python.org/2/tutorial/datastructures.html#list-comprehensions"
     ],
     "language": "python",
     "metadata": {},
     "outputs": [
      {
       "output_type": "stream",
       "stream": "stdout",
       "text": [
        "Killer Mike Interview With The Breakfast Club! Discusses What\u2019s Going On In Ferguson &amp; Why Chicago Is Important\u2026 http://t.co/UBWmWEQH6n\n",
        "#Queen protect your #King http://t.co/q9MjHHGbw2\n",
        "#WCW My woman crush everyday.... It's been a week since you've been gone.....I miss you more &amp; more\u2026 http://t.co/mkJ8ousSEz\n",
        "Diamonds don't break #WatchMeWalkThrough @msbossladii #GrustleQueen http://t.co/WU9idgbszx\n",
        "Be on the lookout for \"Diary of a Boss\" The Hidden Journal written by me @msbossladii http://t.co/DNyMTkHaak\n",
        "Hey Boss Babies.....Your girl was nominated for 4 awards.....I need EVERYONE that supports me to go\u2026 http://t.co/6PqRbWcCZR\n",
        "Rapper Zak Downtown Talks About New Project With Kareem Williams | @zakdowntown\u00a0@OnePercentPR http://t.co/YiOhGBtsYS\n",
        "Kevin Gates Talks About His Battles With Depression\u00a0|@Kevin_Gates http://t.co/8spYgLZeNc\n",
        "\u25cf\u25cf\u2606\u25cf\u25cfHOT SH*T\u25cf\u25cf\u2606\u25cf\u25cf \n",
        "@KymCartel \"Hot B*tch (Freestyle)\": http://t.co/M2NQopoVwn\n",
        "Check it out @ActLikeItEnt's @GlobalGangsters artist @QueenCheba freestyle \"Pound Cake\" http://t.co/EaHAlBKgIy\n",
        "***ALERT*** \" HANDLE THAT\" by @ActLikeItEnt's @GlobalGangsters ft @IamBenzino \n",
        "http://t.co/akNEFk0E7z Dir by Jojo Capone\n",
        "RT @tiaculver: #A3CVerseToGo Contest w/ Patchwerk &amp; Grammy Winning Producer S1 | A3C Hip Hop Festival http://t.co/W5kPIeFFDp\n",
        "CHECK THIS NEW VIDEO OUT!!!! \"So High\" by @ActLketEnt's @GlobalGangsters @ChaChiGlobal ft Jojo Capone\n",
        " http://t.co/LpNDFf1KIO\n",
        "Rome Alexander New Pop/R&amp;B Sensation Signs Major Distribution Deal |\u00a0@romealexander1 http://t.co/zCXuNdyxYT\n",
        "Checking out \"COUNTING MONEY\" by @ActLikeItEnt's @GlobalGangsters @CNoteGlobal @ChiefBiasS4L #YouTube http://t.co/mRCYd7YyPy\n",
        "@ActLikeItEnt's @GlobalGangsters @PistolPeteGlobal \"Money Dance\" \n",
        "http://t.co/p8KmdT1sOA\n",
        "\u25cf\u2662\u25cfALERT\u25cf\u2662\u25cf \" HANDLE THAT\" by @ActLikeItEnt's @GlobalGangsters ft @IamBenzino \n",
        "http://t.co/akNEFk0E7z Dir by Jojo Capone\n",
        "Eminem\u2019s Shady Films presents: Detroit Rubber Season 2, Episode 1: The Fab Five Lets \u2018Em\u00a0Hang http://t.co/nlzMIZ6ITq\n",
        "Ten Success Commandments by IL Duce |\u00a0@ITZILDUCE http://t.co/BoD41syXYT\n",
        "Joell Ortiz Interview On Hot\u00a097 http://t.co/XzusJjIiWm\n"
       ]
      }
     ],
     "prompt_number": 15
    },
    {
     "cell_type": "code",
     "collapsed": false,
     "input": [
      "# Count words\n",
      "from collections import Counter  # This is just a fancy dict.\n",
      "counts = Counter()\n",
      "for tweet in timeline:\n",
      "    counts.update(tweet['text'].lower().split())\n",
      "print '\\n'.join('%s=%d' % (item[0], item[1]) \n",
      "                for item in counts.items())"
     ],
     "language": "python",
     "metadata": {},
     "outputs": [
      {
       "output_type": "stream",
       "stream": "stdout",
       "text": [
        "eminem\u2019s=1\n",
        "gates=1\n",
        "producer=1\n",
        "don't=1\n",
        "major=1\n",
        "nominated=1\n",
        "http://t.co/m2nqopovwn=1\n",
        "signs=1\n",
        "talks=2\n",
        "sh*t\u25cf\u25cf\u2606\u25cf\u25cf=1\n",
        "grammy=1\n",
        "rubber=1\n",
        "important\u2026=1\n",
        "hot=1\n",
        "pop/r&amp;b=1\n",
        "winning=1\n",
        "to=1\n",
        "lets=1\n",
        "going=1\n",
        "4=1\n",
        "2,=1\n",
        "hidden=1\n",
        "alexander=1\n",
        "kareem=1\n",
        "lookout=1\n",
        "woman=1\n",
        "handle=2\n",
        "http://t.co/wu9idgbszx=1\n",
        "checking=1\n",
        "killer=1\n",
        "break=1\n",
        "more\u2026=1\n",
        "five=1\n",
        "ferguson=1\n",
        "fab=1\n",
        "\"diary=1\n",
        "@globalgangsters=6\n",
        "\"counting=1\n",
        "awards.....i=1\n",
        "success=1\n",
        "artist=1\n",
        "cake\"=1\n",
        "rapper=1\n",
        "detroit=1\n",
        "http://t.co/q9mjhhgbw2=1\n",
        "|@kevin_gates=1\n",
        "http://t.co/yiohgbtsys=1\n",
        "http://t.co/nlzmiz6itq=1\n",
        "|=4\n",
        "dir=2\n",
        "\"hot=1\n",
        "everyone=1\n",
        "deal=1\n",
        "http://t.co/zcxundyxyt=1\n",
        "w/=1\n",
        "sensation=1\n",
        "b*tch=1\n",
        "\"money=1\n",
        "girl=1\n",
        "presents:=1\n",
        "depression=1\n",
        "out=2\n",
        "@msbossladii=2\n",
        "http://t.co/mrcyd7yypy=1\n",
        "capone=3\n",
        "joell=1\n",
        "for=2\n",
        "chicago=1\n",
        "since=1\n",
        "http://t.co/aknefk0e7z=2\n",
        "that\"=2\n",
        "http://t.co/6pqrbwcczr=1\n",
        "crush=1\n",
        "written=1\n",
        "diamonds=1\n",
        "new=3\n",
        "supports=1\n",
        "http://t.co/dnymtkhaak=1\n",
        "club!=1\n",
        "be=1\n",
        "everyday....=1\n",
        "journal=1\n",
        "http://t.co/mkj8oussez=1\n",
        "boss=1\n",
        "&amp;=3\n",
        "rt=1\n",
        "by=8\n",
        "http://t.co/xzusjjiiwm=1\n",
        "babies.....your=1\n",
        "on=3\n",
        "about=2\n",
        "@pistolpeteglobal=1\n",
        "of=1\n",
        "go\u2026=1\n",
        "\u25cf\u2662\u25cfalert\u25cf\u2662\u25cf=1\n",
        "ortiz=1\n",
        "@tiaculver:=1\n",
        "discusses=1\n",
        "money\"=1\n",
        "@kymcartel=1\n",
        "@chachiglobal=1\n",
        "zak=1\n",
        "boss\"=1\n",
        "commandments=1\n",
        "a3c=1\n",
        "@onepercentpr=1\n",
        "duce=1\n",
        "miss=1\n",
        "your=1\n",
        "\"=2\n",
        "ten=1\n",
        "festival=1\n",
        "it's=1\n",
        "@zakdowntown=1\n",
        "hey=1\n",
        "been=2\n",
        "@romealexander1=1\n",
        "@actlketent's=1\n",
        "http://t.co/w5kpieffdp=1\n",
        "out!!!!=1\n",
        "films=1\n",
        "(freestyle)\":=1\n",
        "was=1\n",
        "\"pound=1\n",
        "williams=1\n",
        "more=1\n",
        "mike=1\n",
        "dance\"=1\n",
        "that=1\n",
        "freestyle=1\n",
        "distribution=1\n",
        "protect=1\n",
        "downtown=1\n",
        "#watchmewalkthrough=1\n",
        "episode=1\n",
        "with=3\n",
        "97=1\n",
        "me=2\n",
        "this=1\n",
        "1:=1\n",
        "project=1\n",
        "\"so=1\n",
        "what\u2019s=1\n",
        "video=1\n",
        "patchwerk=1\n",
        "my=1\n",
        "hip=1\n",
        "http://t.co/lpndff1kio=1\n",
        "is=1\n",
        "it=1\n",
        "http://t.co/8spyglzenc=1\n",
        "#queen=1\n",
        "his=1\n",
        "@actlikeitent's=5\n",
        "il=1\n",
        "in=1\n",
        "need=1\n",
        "breakfast=1\n",
        "high\"=1\n",
        "check=2\n",
        "kevin=1\n",
        "@cnoteglobal=1\n",
        "http://t.co/bod41syxyt=1\n",
        "http://t.co/ubwmweqh6n=1\n",
        "\u2018em=1\n",
        "s1=1\n",
        "battles=1\n",
        "@iambenzino=2\n",
        "gone.....i=1\n",
        "@chiefbiass4l=1\n",
        "rome=1\n",
        "#youtube=1\n",
        "hop=1\n",
        "season=1\n",
        "interview=2\n",
        "you=1\n",
        "week=1\n",
        "jojo=3\n",
        "ft=3\n",
        "#king=1\n",
        "hang=1\n",
        "***alert***=1\n",
        "#a3cversetogo=1\n",
        "#wcw=1\n",
        "why=1\n",
        "a=2\n",
        "http://t.co/eahalbkgiy=1\n",
        "http://t.co/p8kmdt1soa=1\n",
        "@queencheba=1\n",
        "shady=1\n",
        "contest=1\n",
        "@itzilduce=1\n",
        "\u25cf\u25cf\u2606\u25cf\u25cfhot=1\n",
        "#grustlequeen=1\n",
        "the=4\n",
        "you've=1\n"
       ]
      }
     ],
     "prompt_number": 30
    },
    {
     "cell_type": "code",
     "collapsed": false,
     "input": [
      "# Sort by value, descending.\n",
      "sorted_counts = sorted(counts.items(), key=lambda x: x[1], reverse=True)\n",
      "# See more about Python's lambda expressions:\n",
      "# https://docs.python.org/2/tutorial/controlflow.html#lambda-expressions\n",
      "\n",
      "print '\\n'.join('%s=%d' % (item[0], item[1]) \n",
      "                 for item in sorted_counts)"
     ],
     "language": "python",
     "metadata": {},
     "outputs": [
      {
       "output_type": "stream",
       "stream": "stdout",
       "text": [
        "by=8\n",
        "@globalgangsters=6\n",
        "@actlikeitent's=5\n",
        "|=4\n",
        "the=4\n",
        "capone=3\n",
        "new=3\n",
        "&amp;=3\n",
        "on=3\n",
        "with=3\n",
        "jojo=3\n",
        "ft=3\n",
        "talks=2\n",
        "handle=2\n",
        "dir=2\n",
        "out=2\n",
        "@msbossladii=2\n",
        "for=2\n",
        "http://t.co/aknefk0e7z=2\n",
        "that\"=2\n",
        "about=2\n",
        "\"=2\n",
        "been=2\n",
        "me=2\n",
        "check=2\n",
        "@iambenzino=2\n",
        "interview=2\n",
        "a=2\n",
        "eminem\u2019s=1\n",
        "gates=1\n",
        "producer=1\n",
        "don't=1\n",
        "major=1\n",
        "nominated=1\n",
        "http://t.co/m2nqopovwn=1\n",
        "signs=1\n",
        "sh*t\u25cf\u25cf\u2606\u25cf\u25cf=1\n",
        "grammy=1\n",
        "rubber=1\n",
        "important\u2026=1\n",
        "hot=1\n",
        "pop/r&amp;b=1\n",
        "winning=1\n",
        "to=1\n",
        "lets=1\n",
        "going=1\n",
        "4=1\n",
        "2,=1\n",
        "hidden=1\n",
        "alexander=1\n",
        "kareem=1\n",
        "lookout=1\n",
        "woman=1\n",
        "http://t.co/wu9idgbszx=1\n",
        "checking=1\n",
        "killer=1\n",
        "break=1\n",
        "more\u2026=1\n",
        "five=1\n",
        "ferguson=1\n",
        "fab=1\n",
        "\"diary=1\n",
        "\"counting=1\n",
        "awards.....i=1\n",
        "success=1\n",
        "artist=1\n",
        "cake\"=1\n",
        "rapper=1\n",
        "detroit=1\n",
        "http://t.co/q9mjhhgbw2=1\n",
        "|@kevin_gates=1\n",
        "http://t.co/yiohgbtsys=1\n",
        "http://t.co/nlzmiz6itq=1\n",
        "\"hot=1\n",
        "everyone=1\n",
        "deal=1\n",
        "http://t.co/zcxundyxyt=1\n",
        "w/=1\n",
        "sensation=1\n",
        "b*tch=1\n",
        "\"money=1\n",
        "girl=1\n",
        "presents:=1\n",
        "depression=1\n",
        "http://t.co/mrcyd7yypy=1\n",
        "joell=1\n",
        "chicago=1\n",
        "since=1\n",
        "http://t.co/6pqrbwcczr=1\n",
        "crush=1\n",
        "written=1\n",
        "diamonds=1\n",
        "supports=1\n",
        "http://t.co/dnymtkhaak=1\n",
        "club!=1\n",
        "be=1\n",
        "everyday....=1\n",
        "journal=1\n",
        "http://t.co/mkj8oussez=1\n",
        "boss=1\n",
        "rt=1\n",
        "http://t.co/xzusjjiiwm=1\n",
        "babies.....your=1\n",
        "@pistolpeteglobal=1\n",
        "of=1\n",
        "go\u2026=1\n",
        "\u25cf\u2662\u25cfalert\u25cf\u2662\u25cf=1\n",
        "ortiz=1\n",
        "@tiaculver:=1\n",
        "discusses=1\n",
        "money\"=1\n",
        "@kymcartel=1\n",
        "@chachiglobal=1\n",
        "zak=1\n",
        "boss\"=1\n",
        "commandments=1\n",
        "a3c=1\n",
        "@onepercentpr=1\n",
        "duce=1\n",
        "miss=1\n",
        "your=1\n",
        "ten=1\n",
        "festival=1\n",
        "it's=1\n",
        "@zakdowntown=1\n",
        "hey=1\n",
        "@romealexander1=1\n",
        "@actlketent's=1\n",
        "http://t.co/w5kpieffdp=1\n",
        "out!!!!=1\n",
        "films=1\n",
        "(freestyle)\":=1\n",
        "was=1\n",
        "\"pound=1\n",
        "williams=1\n",
        "more=1\n",
        "mike=1\n",
        "dance\"=1\n",
        "that=1\n",
        "freestyle=1\n",
        "distribution=1\n",
        "protect=1\n",
        "downtown=1\n",
        "#watchmewalkthrough=1\n",
        "episode=1\n",
        "97=1\n",
        "this=1\n",
        "1:=1\n",
        "project=1\n",
        "\"so=1\n",
        "what\u2019s=1\n",
        "video=1\n",
        "patchwerk=1\n",
        "my=1\n",
        "hip=1\n",
        "http://t.co/lpndff1kio=1\n",
        "is=1\n",
        "it=1\n",
        "http://t.co/8spyglzenc=1\n",
        "#queen=1\n",
        "his=1\n",
        "il=1\n",
        "in=1\n",
        "need=1\n",
        "breakfast=1\n",
        "high\"=1\n",
        "kevin=1\n",
        "@cnoteglobal=1\n",
        "http://t.co/bod41syxyt=1\n",
        "http://t.co/ubwmweqh6n=1\n",
        "\u2018em=1\n",
        "s1=1\n",
        "battles=1\n",
        "gone.....i=1\n",
        "@chiefbiass4l=1\n",
        "rome=1\n",
        "#youtube=1\n",
        "hop=1\n",
        "season=1\n",
        "you=1\n",
        "week=1\n",
        "#king=1\n",
        "hang=1\n",
        "***alert***=1\n",
        "#a3cversetogo=1\n",
        "#wcw=1\n",
        "why=1\n",
        "http://t.co/eahalbkgiy=1\n",
        "http://t.co/p8kmdt1soa=1\n",
        "@queencheba=1\n",
        "shady=1\n",
        "contest=1\n",
        "@itzilduce=1\n",
        "\u25cf\u25cf\u2606\u25cf\u25cfhot=1\n",
        "#grustlequeen=1\n",
        "you've=1\n"
       ]
      }
     ],
     "prompt_number": 36
    },
    {
     "cell_type": "code",
     "collapsed": false,
     "input": [
      "# Plot these counts.\n",
      "import matplotlib.pyplot as plt  # Be sure to launch ipython with --matplotlib inline to see these figures within the notebook.\n",
      "plt.hist(counts.values())\n",
      "plt.xlabel('count')\n",
      "plt.ylabel('frequency')\n",
      "plt.show()"
     ],
     "language": "python",
     "metadata": {},
     "outputs": [
      {
       "metadata": {},
       "output_type": "display_data",
       "png": "[encoded data removed]",
       "text": [
        "<matplotlib.figure.Figure at 0x110c21790>"
       ]
      }
     ],
     "prompt_number": 32
    }
   ],
   "metadata": {}
  }
 ]
}