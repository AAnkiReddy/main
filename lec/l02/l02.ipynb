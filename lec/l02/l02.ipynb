{
 "metadata": {
  "name": "",
  "signature": "sha256:b93ccbaa0cf8f7e43dda33853dc8c5ad902129de29cfb5b20958ef4caeedc379"
 },
 "nbformat": 3,
 "nbformat_minor": 0,
 "worksheets": [
  {
   "cells": [
    {
     "cell_type": "markdown",
     "metadata": {
      "slideshow": {
       "slide_type": "slide"
      }
     },
     "source": [
      "# CS579: Lecture 02  \n",
      "# Data Collection\n",
      "*[Dr. Aron Culotta](http://cs.iit.edu/~culotta)*  \n",
      "*[Illinois Institute of Technology](http://iit.edu)*"
     ]
    },
    {
     "cell_type": "markdown",
     "metadata": {
      "slideshow": {
       "slide_type": "slide"
      }
     },
     "source": [
      "# Twitter\n",
      "\n",
      "- Platform for broadcasting messages.\n",
      "- https://twitter.com/justinbieber"
     ]
    },
    {
     "cell_type": "markdown",
     "metadata": {
      "slideshow": {
       "slide_type": "slide"
      }
     },
     "source": [
      "# Twitter Jargon\n",
      "\n",
      "- **tweet**: A message, max 140 characters\n",
      "- **timeline**: A list of tweets from a user\n",
      "- **follower**: If user $A$ follows $B$, $A$ will receive tweets from $B$'s timeline\n",
      "- **friend**: If $A$ follows $B$, then $B$ is a *friend* of $A$.\n",
      "  - Notice the asymmetry: If $A$ follows $B$, but $B$ does not follow $A$, then $A$ is not a friend of $B$."
     ]
    },
    {
     "cell_type": "markdown",
     "metadata": {
      "slideshow": {
       "slide_type": "slide"
      }
     },
     "source": [
      "# Twitter API\n",
      "\n",
      "- https://dev.twitter.com/\n",
      "- Provides programmatic access to *public* Twitter data\n",
      "  - *direct messages* not included\n",
      "  - A user can set their timeline to be private, but this is rare."
     ]
    },
    {
     "cell_type": "markdown",
     "metadata": {
      "slideshow": {
       "slide_type": "slide"
      }
     },
     "source": [
      "# Twitter API\n",
      "\n",
      "Two sub-APIs:\n",
      "- *[REST API](https://dev.twitter.com/docs/api/1.1)*: Submit HTTP requests to access specific information (tweets, friends, ...)\n",
      "- *[Streaming API](https://dev.twitter.com/docs/api/streaming)*: Open a continuous connection to Twitter to receive real-time data.\n",
      "\n",
      "These APIs are simply HTTP GET requests:\n",
      "\n",
      "https://api.twitter.com/1.1/search/tweets.json?q=chicago"
     ]
    },
    {
     "cell_type": "markdown",
     "metadata": {
      "slideshow": {
       "slide_type": "slide"
      }
     },
     "source": [
      "# Authentication\n",
      "\n",
      "- Twitter uses [OAuth](https://dev.twitter.com/docs/auth/oauth) to enable secure requests to the API\n",
      "- After creating an account, you can generate tokens: https://dev.twitter.com/docs/auth/tokens-devtwittercom\n",
      "- These tokens will be sent with each API request\n",
      "- Many libraries exist to make this easier: https://dev.twitter.com/docs/twitter-libraries"
     ]
    },
    {
     "cell_type": "code",
     "collapsed": false,
     "input": [
      "# Create a Twitter connection using TwitterAPI: https://github.com/geduldig/TwitterAPI\n",
      "# Start with `pip install TwitterAPI`\n",
      "# You'll need to edit twitter.cfg with your own tokens.\n",
      "import ConfigParser\n",
      "from TwitterAPI import TwitterAPI\n",
      "\n",
      "def get_twitter(config_file):\n",
      "    \"\"\" Read the config_file and construct an instance of TwitterAPI.\n",
      "    Args:\n",
      "      config_file ... A config file in ConfigParser format with Twitter credentials\n",
      "    Returns:\n",
      "      An instance of TwitterAPI.\n",
      "    \"\"\"\n",
      "    config = ConfigParser.ConfigParser()\n",
      "    config.read(config_file)\n",
      "    twitter = TwitterAPI(\n",
      "                   config.get('twitter', 'consumer_key'),\n",
      "                   config.get('twitter', 'consumer_secret'),\n",
      "                   config.get('twitter', 'access_token'),\n",
      "                   config.get('twitter', 'access_token_secret'))\n",
      "    return twitter\n",
      "\n",
      "twitter = get_twitter('twitter.cfg')\n",
      "print 'Established Twitter connection.'"
     ],
     "language": "python",
     "metadata": {
      "slideshow": {
       "slide_type": "slide"
      }
     },
     "outputs": [
      {
       "output_type": "stream",
       "stream": "stdout",
       "text": [
        "Established Twitter connection.\n"
       ]
      }
     ],
     "prompt_number": 1
    },
    {
     "cell_type": "code",
     "collapsed": false,
     "input": [
      "# Let's start by querying the search API\n",
      "# request = twitter.request('statuses/sample')\n",
      "request = twitter.request('search/tweets', {'q': 'chicago'}) \n",
      "\n",
      "# Store first result\n",
      "tweet = None\n",
      "for r in request:\n",
      "    tweet = r\n",
      "    break"
     ],
     "language": "python",
     "metadata": {},
     "outputs": [],
     "prompt_number": 2
    },
    {
     "cell_type": "code",
     "collapsed": false,
     "input": [
      "# Print a tweet.\n",
      "# \n",
      "# What is a tweet?\n",
      "print type(tweet)\n",
      "dir(tweet)\n",
      "print tweet"
     ],
     "language": "python",
     "metadata": {},
     "outputs": [
      {
       "output_type": "stream",
       "stream": "stdout",
       "text": [
        "<type 'dict'>\n",
        "{u'contributors': None, u'truncated': False, u'text': u'DAFFAH Maa Sha Allah #isna #isnadetroit #isna2014 #detroit #dearborn #baltimore #philly #chicago\\u2026 http://t.co/r5BKED3A8m', u'in_reply_to_status_id': None, u'id': 507268418341720064, u'favorite_count': 0, u'source': u'<a href=\"http://instagram.com\" rel=\"nofollow\">Instagram</a>', u'retweeted': False, u'coordinates': None, u'entities': {u'symbols': [], u'user_mentions': [], u'hashtags': [{u'indices': [21, 26], u'text': u'isna'}, {u'indices': [27, 39], u'text': u'isnadetroit'}, {u'indices': [40, 49], u'text': u'isna2014'}, {u'indices': [50, 58], u'text': u'detroit'}, {u'indices': [59, 68], u'text': u'dearborn'}, {u'indices': [69, 79], u'text': u'baltimore'}, {u'indices': [80, 87], u'text': u'philly'}, {u'indices': [88, 96], u'text': u'chicago'}], u'urls': [{u'url': u'http://t.co/r5BKED3A8m', u'indices': [98, 120], u'expanded_url': u'http://instagram.com/p/sf01XMAsEF/', u'display_url': u'instagram.com/p/sf01XMAsEF/'}]}, u'in_reply_to_screen_name': None, u'in_reply_to_user_id': None, u'retweet_count': 0, u'id_str': u'507268418341720064', u'favorited': False, u'user': {u'follow_request_sent': False, u'profile_use_background_image': True, u'default_profile_image': False, u'id': 2339052691, u'profile_background_image_url_https': u'https://abs.twimg.com/images/themes/theme1/bg.png', u'verified': False, u'profile_text_color': u'333333', u'profile_image_url_https': u'https://pbs.twimg.com/profile_images/436114735281364994/tfTgjS1w_normal.jpeg', u'profile_sidebar_fill_color': u'DDEEF6', u'entities': {u'url': {u'urls': [{u'url': u'http://t.co/NZpO19fnme', u'indices': [0, 22], u'expanded_url': u'http://www.daffah.us', u'display_url': u'daffah.us'}]}, u'description': {u'urls': [{u'url': u'http://t.co/NZpO19fnme', u'indices': [86, 108], u'expanded_url': u'http://www.daffah.us', u'display_url': u'daffah.us'}]}}, u'followers_count': 930, u'profile_sidebar_border_color': u'C0DEED', u'id_str': u'2339052691', u'profile_background_color': u'C0DEED', u'listed_count': 0, u'is_translation_enabled': False, u'utc_offset': None, u'statuses_count': 622, u'description': u'The worlds Most Premium Quality Thoub has Arrived to North America! Main Headquarters http://t.co/NZpO19fnme', u'friends_count': 16, u'location': u'4620 Greenfield Rd Deaborn, MI', u'profile_link_color': u'B30000', u'profile_image_url': u'http://pbs.twimg.com/profile_images/436114735281364994/tfTgjS1w_normal.jpeg', u'following': False, u'geo_enabled': False, u'profile_banner_url': u'https://pbs.twimg.com/profile_banners/2339052691/1392812864', u'profile_background_image_url': u'http://abs.twimg.com/images/themes/theme1/bg.png', u'screen_name': u'daffahusa', u'lang': u'en', u'profile_background_tile': False, u'favourites_count': 12, u'name': u'DAFFAH USA', u'notifications': False, u'url': u'http://t.co/NZpO19fnme', u'created_at': u'Tue Feb 11 20:40:45 +0000 2014', u'contributors_enabled': False, u'time_zone': None, u'protected': False, u'default_profile': False, u'is_translator': False}, u'geo': None, u'in_reply_to_user_id_str': None, u'possibly_sensitive': False, u'lang': u'in', u'created_at': u'Wed Sep 03 20:46:30 +0000 2014', u'in_reply_to_status_id_str': None, u'place': None, u'metadata': {u'iso_language_code': u'in', u'result_type': u'recent'}}\n"
       ]
      }
     ],
     "prompt_number": 3
    },
    {
     "cell_type": "code",
     "collapsed": false,
     "input": [
      "# Python also offers documentation\n",
      "help(dict)"
     ],
     "language": "python",
     "metadata": {},
     "outputs": [
      {
       "output_type": "stream",
       "stream": "stdout",
       "text": [
        "Help on class dict in module __builtin__:\n",
        "\n",
        "class dict(object)\n",
        " |  dict() -> new empty dictionary\n",
        " |  dict(mapping) -> new dictionary initialized from a mapping object's\n",
        " |      (key, value) pairs\n",
        " |  dict(iterable) -> new dictionary initialized as if via:\n",
        " |      d = {}\n",
        " |      for k, v in iterable:\n",
        " |          d[k] = v\n",
        " |  dict(**kwargs) -> new dictionary initialized with the name=value pairs\n",
        " |      in the keyword argument list.  For example:  dict(one=1, two=2)\n",
        " |  \n",
        " |  Methods defined here:\n",
        " |  \n",
        " |  __cmp__(...)\n",
        " |      x.__cmp__(y) <==> cmp(x,y)\n",
        " |  \n",
        " |  __contains__(...)\n",
        " |      D.__contains__(k) -> True if D has a key k, else False\n",
        " |  \n",
        " |  __delitem__(...)\n",
        " |      x.__delitem__(y) <==> del x[y]\n",
        " |  \n",
        " |  __eq__(...)\n",
        " |      x.__eq__(y) <==> x==y\n",
        " |  \n",
        " |  __ge__(...)\n",
        " |      x.__ge__(y) <==> x>=y\n",
        " |  \n",
        " |  __getattribute__(...)\n",
        " |      x.__getattribute__('name') <==> x.name\n",
        " |  \n",
        " |  __getitem__(...)\n",
        " |      x.__getitem__(y) <==> x[y]\n",
        " |  \n",
        " |  __gt__(...)\n",
        " |      x.__gt__(y) <==> x>y\n",
        " |  \n",
        " |  __init__(...)\n",
        " |      x.__init__(...) initializes x; see help(type(x)) for signature\n",
        " |  \n",
        " |  __iter__(...)\n",
        " |      x.__iter__() <==> iter(x)\n",
        " |  \n",
        " |  __le__(...)\n",
        " |      x.__le__(y) <==> x<=y\n",
        " |  \n",
        " |  __len__(...)\n",
        " |      x.__len__() <==> len(x)\n",
        " |  \n",
        " |  __lt__(...)\n",
        " |      x.__lt__(y) <==> x<y\n",
        " |  \n",
        " |  __ne__(...)\n",
        " |      x.__ne__(y) <==> x!=y\n",
        " |  \n",
        " |  __repr__(...)\n",
        " |      x.__repr__() <==> repr(x)\n",
        " |  \n",
        " |  __setitem__(...)\n",
        " |      x.__setitem__(i, y) <==> x[i]=y\n",
        " |  \n",
        " |  __sizeof__(...)\n",
        " |      D.__sizeof__() -> size of D in memory, in bytes\n",
        " |  \n",
        " |  clear(...)\n",
        " |      D.clear() -> None.  Remove all items from D.\n",
        " |  \n",
        " |  copy(...)\n",
        " |      D.copy() -> a shallow copy of D\n",
        " |  \n",
        " |  fromkeys(...)\n",
        " |      dict.fromkeys(S[,v]) -> New dict with keys from S and values equal to v.\n",
        " |      v defaults to None.\n",
        " |  \n",
        " |  get(...)\n",
        " |      D.get(k[,d]) -> D[k] if k in D, else d.  d defaults to None.\n",
        " |  \n",
        " |  has_key(...)\n",
        " |      D.has_key(k) -> True if D has a key k, else False\n",
        " |  \n",
        " |  items(...)\n",
        " |      D.items() -> list of D's (key, value) pairs, as 2-tuples\n",
        " |  \n",
        " |  iteritems(...)\n",
        " |      D.iteritems() -> an iterator over the (key, value) items of D\n",
        " |  \n",
        " |  iterkeys(...)\n",
        " |      D.iterkeys() -> an iterator over the keys of D\n",
        " |  \n",
        " |  itervalues(...)\n",
        " |      D.itervalues() -> an iterator over the values of D\n",
        " |  \n",
        " |  keys(...)\n",
        " |      D.keys() -> list of D's keys\n",
        " |  \n",
        " |  pop(...)\n",
        " |      D.pop(k[,d]) -> v, remove specified key and return the corresponding value.\n",
        " |      If key is not found, d is returned if given, otherwise KeyError is raised\n",
        " |  \n",
        " |  popitem(...)\n",
        " |      D.popitem() -> (k, v), remove and return some (key, value) pair as a\n",
        " |      2-tuple; but raise KeyError if D is empty.\n",
        " |  \n",
        " |  setdefault(...)\n",
        " |      D.setdefault(k[,d]) -> D.get(k,d), also set D[k]=d if k not in D\n",
        " |  \n",
        " |  update(...)\n",
        " |      D.update([E, ]**F) -> None.  Update D from dict/iterable E and F.\n",
        " |      If E present and has a .keys() method, does:     for k in E: D[k] = E[k]\n",
        " |      If E present and lacks .keys() method, does:     for (k, v) in E: D[k] = v\n",
        " |      In either case, this is followed by: for k in F: D[k] = F[k]\n",
        " |  \n",
        " |  values(...)\n",
        " |      D.values() -> list of D's values\n",
        " |  \n",
        " |  viewitems(...)\n",
        " |      D.viewitems() -> a set-like object providing a view on D's items\n",
        " |  \n",
        " |  viewkeys(...)\n",
        " |      D.viewkeys() -> a set-like object providing a view on D's keys\n",
        " |  \n",
        " |  viewvalues(...)\n",
        " |      D.viewvalues() -> an object providing a view on D's values\n",
        " |  \n",
        " |  ----------------------------------------------------------------------\n",
        " |  Data and other attributes defined here:\n",
        " |  \n",
        " |  __hash__ = None\n",
        " |  \n",
        " |  __new__ = <built-in method __new__ of type object>\n",
        " |      T.__new__(S, ...) -> a new object with type S, a subtype of T\n",
        "\n"
       ]
      }
     ],
     "prompt_number": 4
    },
    {
     "cell_type": "code",
     "collapsed": false,
     "input": [
      "# Print the keys\n",
      "print '\\n'.join(sorted(tweet.keys()))"
     ],
     "language": "python",
     "metadata": {},
     "outputs": [
      {
       "output_type": "stream",
       "stream": "stdout",
       "text": [
        "contributors\n",
        "coordinates\n",
        "created_at\n",
        "entities\n",
        "favorite_count\n",
        "favorited\n",
        "geo\n",
        "id\n",
        "id_str\n",
        "in_reply_to_screen_name\n",
        "in_reply_to_status_id\n",
        "in_reply_to_status_id_str\n",
        "in_reply_to_user_id\n",
        "in_reply_to_user_id_str\n",
        "lang\n",
        "metadata\n",
        "place\n",
        "possibly_sensitive\n",
        "retweet_count\n",
        "retweeted\n",
        "source\n",
        "text\n",
        "truncated\n",
        "user\n"
       ]
      }
     ],
     "prompt_number": 5
    },
    {
     "cell_type": "code",
     "collapsed": false,
     "input": [
      "# Print some values\n",
      "print tweet['created_at']\n",
      "print tweet['text']"
     ],
     "language": "python",
     "metadata": {},
     "outputs": [
      {
       "output_type": "stream",
       "stream": "stdout",
       "text": [
        "Wed Sep 03 20:46:30 +0000 2014\n",
        "DAFFAH Maa Sha Allah #isna #isnadetroit #isna2014 #detroit #dearborn #baltimore #philly #chicago\u2026 http://t.co/r5BKED3A8m\n"
       ]
      }
     ],
     "prompt_number": 6
    },
    {
     "cell_type": "code",
     "collapsed": false,
     "input": [
      "# What is a user?...another dict\n",
      "user = tweet['user']\n",
      "print '\\n'.join(sorted(user.keys()))"
     ],
     "language": "python",
     "metadata": {},
     "outputs": [
      {
       "output_type": "stream",
       "stream": "stdout",
       "text": [
        "contributors_enabled\n",
        "created_at\n",
        "default_profile\n",
        "default_profile_image\n",
        "description\n",
        "entities\n",
        "favourites_count\n",
        "follow_request_sent\n",
        "followers_count\n",
        "following\n",
        "friends_count\n",
        "geo_enabled\n",
        "id\n",
        "id_str\n",
        "is_translation_enabled\n",
        "is_translator\n",
        "lang\n",
        "listed_count\n",
        "location\n",
        "name\n",
        "notifications\n",
        "profile_background_color\n",
        "profile_background_image_url\n",
        "profile_background_image_url_https\n",
        "profile_background_tile\n",
        "profile_banner_url\n",
        "profile_image_url\n",
        "profile_image_url_https\n",
        "profile_link_color\n",
        "profile_sidebar_border_color\n",
        "profile_sidebar_fill_color\n",
        "profile_text_color\n",
        "profile_use_background_image\n",
        "protected\n",
        "screen_name\n",
        "statuses_count\n",
        "time_zone\n",
        "url\n",
        "utc_offset\n",
        "verified\n"
       ]
      }
     ],
     "prompt_number": 7
    },
    {
     "cell_type": "code",
     "collapsed": false,
     "input": [
      "print user['screen_name'], user['name'], user['location']"
     ],
     "language": "python",
     "metadata": {},
     "outputs": [
      {
       "output_type": "stream",
       "stream": "stdout",
       "text": [
        "daffahusa DAFFAH USA 4620 Greenfield Rd Deaborn, MI\n"
       ]
      }
     ],
     "prompt_number": 8
    },
    {
     "cell_type": "code",
     "collapsed": false,
     "input": [
      "# Who follows this person?\n",
      "# https://dev.twitter.com/docs/api/1.1/get/followers/list\n",
      "screen_name = user['screen_name']\n",
      "request = twitter.request('followers/list', {'screen_name': screen_name, 'count':200})\n",
      "followers = []\n",
      "for r in request:\n",
      "    print '\\n'.join(sorted(r.keys()))\n",
      "    for user in r['users']:\n",
      "        followers.append(user)\n",
      "        \n",
      "print 'found %d followers for %s' % (len(followers), screen_name)\n",
      "# See more about paging here: https://dev.twitter.com/docs/working-with-timelines"
     ],
     "language": "python",
     "metadata": {},
     "outputs": [
      {
       "output_type": "stream",
       "stream": "stdout",
       "text": [
        "next_cursor\n",
        "next_cursor_str\n",
        "previous_cursor\n",
        "previous_cursor_str\n",
        "users\n",
        "found 200 followers for daffahusa\n"
       ]
      }
     ],
     "prompt_number": 9
    },
    {
     "cell_type": "markdown",
     "metadata": {},
     "source": [
      "# Limitations\n",
      "\n",
      "- Can only search 2 weeks in past\n",
      "  - But can get up to 3,200 most recent tweets of a user\n",
      "- Rate limits! https://dev.twitter.com/docs/rate-limiting/1.1/limits\n",
      "  - e.g., 180 requests in 15 minute window"
     ]
    },
    {
     "cell_type": "code",
     "collapsed": false,
     "input": [
      "# Working around rate limits.\n",
      "def robust_request(twitter, resource, params, max_tries=5):\n",
      "    \"\"\" If a Twitter request fails, sleep for 15 minutes.\n",
      "    Do this at most max_tries times before quitting.\n",
      "    Args:\n",
      "      twitter .... A TwitterAPI object.\n",
      "      resource ... A resource string to request.\n",
      "      params ..... A parameter dictionary for the request.\n",
      "      max_tries .. The maximum number of tries to attempt.\n",
      "    Returns:\n",
      "      A TwitterResponse object, or None if failed.\n",
      "    \"\"\"\n",
      "    for i in range(max_tries):\n",
      "        request = twitter.request(resource, params)\n",
      "        if request.status_code == 200:\n",
      "            return request\n",
      "        else:\n",
      "            print >> sys.stderr, 'Got error:', request.text, '\\nsleeping for 15 minutes.'\n",
      "            sys.stderr.flush()\n",
      "            time.sleep(60 * 15)"
     ],
     "language": "python",
     "metadata": {},
     "outputs": [],
     "prompt_number": 10
    },
    {
     "cell_type": "code",
     "collapsed": false,
     "input": [
      "# Drawing graphs: http://networkx.github.io/\n",
      "# `pip install networkx`\n",
      "import networkx as nx\n",
      "# Create a graph\n",
      "graph = nx.DiGraph()\n",
      "# Add a node\n",
      "graph.add_node(screen_name)\n",
      "# Draw the graph\n",
      "nx.draw(graph, with_labels=True)"
     ],
     "language": "python",
     "metadata": {},
     "outputs": [
      {
       "metadata": {},
       "output_type": "display_data",
       "png": "[encoded data removed]",
       "text": [
        "<matplotlib.figure.Figure at 0x11261ea50>"
       ]
      }
     ],
     "prompt_number": 14
    },
    {
     "cell_type": "code",
     "collapsed": false,
     "input": [
      "# Add an edge to a follower\n",
      "graph.add_edge(followers[0]['screen_name'], screen_name)\n",
      "nx.draw(graph, with_labels=True)"
     ],
     "language": "python",
     "metadata": {},
     "outputs": [
      {
       "metadata": {},
       "output_type": "display_data",
       "png": "[encoded data removed]",
       "text": [
        "<matplotlib.figure.Figure at 0x1125f4f90>"
       ]
      }
     ],
     "prompt_number": 15
    },
    {
     "cell_type": "code",
     "collapsed": false,
     "input": [
      "graph.add_edge(screen_name, followers[0]['screen_name'])\n",
      "nx.draw(graph, with_labels=True)"
     ],
     "language": "python",
     "metadata": {},
     "outputs": [
      {
       "metadata": {},
       "output_type": "display_data",
       "png": "[encoded data removed]",
       "text": [
        "<matplotlib.figure.Figure at 0x1126ffe10>"
       ]
      }
     ],
     "prompt_number": 16
    },
    {
     "cell_type": "code",
     "collapsed": false,
     "input": [
      "# Get this person's timeline\n",
      "timeline = []\n",
      "for t in twitter.request('statuses/user_timeline',\n",
      "                         {'screen_name':screen_name}):\n",
      "    timeline.append(t)\n",
      "print 'got %d tweets for user %s' % (len(timeline), screen_name)"
     ],
     "language": "python",
     "metadata": {},
     "outputs": [
      {
       "output_type": "stream",
       "stream": "stdout",
       "text": [
        "got 20 tweets for user daffahusa\n"
       ]
      }
     ],
     "prompt_number": 17
    },
    {
     "cell_type": "code",
     "collapsed": false,
     "input": [
      "# Print the text.\n",
      "print '\\n'.join(t['text'] for t in timeline)  # A python \"list comprehension\": https://docs.python.org/2/tutorial/datastructures.html#list-comprehensions"
     ],
     "language": "python",
     "metadata": {},
     "outputs": [
      {
       "output_type": "stream",
       "stream": "stdout",
       "text": [
        "DAFFAH Maa Sha Allah #isna #isnadetroit #isna2014 #detroit #dearborn #baltimore #philly #chicago\u2026 http://t.co/r5BKED3A8m\n",
        "DAFFAH Maa Sha Allah ahki Arif @asafoingenuity best Barber in town http://t.co/rV1GioE7xy\n",
        "DAFFAH Maa Sha Allah #isna #isnadetroit #isna2014 #detroit #dearborn #baltimore #philly #chicago\u2026 http://t.co/m0HGZ2t0rg\n",
        "DAFFAH Maa Sha Allah ahki nuralailalov fabulous #isna #isnadetroit #isna2014 http://t.co/xywPRdxgVi\n",
        "DAFFAH Maa Sha Allah #live #detroit #isna http://t.co/SISDF7blHV\n",
        "DAFFAH Maa Sha Allah ramboelgahmi design by the best in the business #usuldesign #isna #2014 #detroit http://t.co/fhyYiZtxMP\n",
        "DAFFAH Maa Sha Allah ahki #live #isna #detroit booth #708 http://t.co/QKCabWVP2U\n",
        "DAFFAH Maa Sha Allah #live #detroit #dearborn #baltimore #philly #chicago #dallas #houston #atl #ny\u2026 http://t.co/10UQpTUwDy\n",
        "DAFFAH Maa Sha Allah #live #detroit #dearborn #isna LIVE @asafoingenuity http://t.co/rKapfV6XpV\n",
        "DAFFAH Maa Sha Allah #live at #isna #2014 #detroit http://t.co/iDlHHTyrhP\n",
        "DAFFAH Maa Sha Allah #international #worldwide #yemeni #detroit #dearborn #baltimore #philly #chicago\u2026 http://t.co/9cLGY9P4A2\n",
        "DAFFAH no caption needed http://t.co/V0l3e9KlTV\n",
        "DAFFAH Maa Sha Allah ahki from #brazil #daffah #classic white #thoub http://t.co/4Z4UHZOmfd\n",
        "DAFFAH Maa Sha Allah ahki talhaa23 looking fresh in the #yemeni #izar http://t.co/AWHkLCZJcy\n",
        "DAFFAH Maa Sha Allah ahki @w0iv3rin3 looking fabulous in the DAFFAH magic brown http://t.co/aGbIjfxbZ8\n",
        "DAFFAH Maa Sha Allah #DAFFAH &amp; #yemeni jambiya do mix http://t.co/cTBcLIf8zU\n",
        "DAFFAH Maa Sha Allah \"my success is only by Allah\" #\u0645\u0627\u0634\u0627\u0621\u0627\u0644\u0644\u0647 #\u0627\u0644\u062d\u0645\u062f\u0644\u0644\u0647 http://t.co/oU3vV5TmQQ\n",
        "DAFFAH Maa Sha Allah ahki ramboelgahmi looking good in #yemeni http://t.co/EBC8PcUCGn\n",
        "DAFFAH Maa Sha Allah ahki mirmadness215 fabulous as always #\u0645\u0627\u0634\u0627\u0621\u0627\u0644\u0644\u0647 #\u0627\u0644\u062d\u0645\u062f\u0644\u0644\u0647 http://t.co/mbkSLgHgcc\n",
        "DAFFAH #yemeni #\u062c\u0646\u0628\u064a\u0647  now available http://t.co/DSPWAV3FUS\n"
       ]
      }
     ],
     "prompt_number": 18
    },
    {
     "cell_type": "code",
     "collapsed": false,
     "input": [
      "# Count words\n",
      "from collections import Counter  # This is just a fancy dict.\n",
      "counts = Counter()\n",
      "for tweet in timeline:\n",
      "    counts.update(tweet['text'].lower().split())\n",
      "print '\\n'.join('%s=%d' % (item[0], item[1]) \n",
      "                for item in counts.items())"
     ],
     "language": "python",
     "metadata": {},
     "outputs": [
      {
       "output_type": "stream",
       "stream": "stdout",
       "text": [
        "#\u0627\u0644\u062d\u0645\u062f\u0644\u0644\u0647=2\n",
        "#classic=1\n",
        "#chicago=1\n",
        "http://t.co/m0hgz2t0rg=1\n",
        "arif=1\n",
        "only=1\n",
        "http://t.co/9clgy9p4a2=1\n",
        "do=1\n",
        "good=1\n",
        "http://t.co/xywprdxgvi=1\n",
        "#international=1\n",
        "http://t.co/ebc8pcucgn=1\n",
        "allah\"=1\n",
        "now=1\n",
        "#detroit=9\n",
        "mirmadness215=1\n",
        "magic=1\n",
        "#ny\u2026=1\n",
        "success=1\n",
        "always=1\n",
        "jambiya=1\n",
        "sha=18\n",
        "#usuldesign=1\n",
        "#worldwide=1\n",
        "#708=1\n",
        "http://t.co/ctbclif8zu=1\n",
        "#2014=2\n",
        "allah=18\n",
        "@asafoingenuity=2\n",
        "fabulous=3\n",
        "design=1\n",
        "booth=1\n",
        "#dallas=1\n",
        "best=2\n",
        "#chicago\u2026=3\n",
        "#yemeni=5\n",
        "#live=5\n",
        "looking=3\n",
        "http://t.co/10uqptuwdy=1\n",
        "available=1\n",
        "daffah=21\n",
        "business=1\n",
        "nuralailalov=1\n",
        "&amp;=1\n",
        "by=2\n",
        "http://t.co/mbkslghgcc=1\n",
        "caption=1\n",
        "http://t.co/rkapfv6xpv=1\n",
        "#isna=8\n",
        "#daffah=2\n",
        "http://t.co/fhyyiztxmp=1\n",
        "http://t.co/agbijfxbz8=1\n",
        "@w0iv3rin3=1\n",
        "http://t.co/r5bked3a8m=1\n",
        "#brazil=1\n",
        "\"my=1\n",
        "ramboelgahmi=2\n",
        "http://t.co/awhklczjcy=1\n",
        "http://t.co/4z4uhzomfd=1\n",
        "from=1\n",
        "needed=1\n",
        "live=1\n",
        "white=1\n",
        "#isnadetroit=3\n",
        "http://t.co/ou3vv5tmqq=1\n",
        "http://t.co/qkcabwvp2u=1\n",
        "town=1\n",
        "#\u062c\u0646\u0628\u064a\u0647=1\n",
        "http://t.co/dspwav3fus=1\n",
        "brown=1\n",
        "is=1\n",
        "as=1\n",
        "at=1\n",
        "talhaa23=1\n",
        "in=5\n",
        "no=1\n",
        "#\u0645\u0627\u0634\u0627\u0621\u0627\u0644\u0644\u0647=2\n",
        "mix=1\n",
        "http://t.co/idlhhtyrhp=1\n",
        "http://t.co/sisdf7blhv=1\n",
        "#philly=4\n",
        "maa=18\n",
        "barber=1\n",
        "http://t.co/v0l3e9kltv=1\n",
        "#izar=1\n",
        "#houston=1\n",
        "#baltimore=4\n",
        "#dearborn=5\n",
        "#atl=1\n",
        "#thoub=1\n",
        "#isna2014=3\n",
        "ahki=8\n",
        "http://t.co/rv1gioe7xy=1\n",
        "fresh=1\n",
        "the=4\n"
       ]
      }
     ],
     "prompt_number": 19
    },
    {
     "cell_type": "code",
     "collapsed": false,
     "input": [
      "# Sort by value, descending.\n",
      "sorted_counts = sorted(counts.items(), key=lambda x: x[1], reverse=True)\n",
      "# See more about Python's lambda expressions:\n",
      "# https://docs.python.org/2/tutorial/controlflow.html#lambda-expressions\n",
      "\n",
      "print '\\n'.join('%s=%d' % (item[0], item[1]) \n",
      "                 for item in sorted_counts)"
     ],
     "language": "python",
     "metadata": {},
     "outputs": [
      {
       "output_type": "stream",
       "stream": "stdout",
       "text": [
        "daffah=21\n",
        "sha=18\n",
        "allah=18\n",
        "maa=18\n",
        "#detroit=9\n",
        "#isna=8\n",
        "ahki=8\n",
        "#yemeni=5\n",
        "#live=5\n",
        "in=5\n",
        "#dearborn=5\n",
        "#philly=4\n",
        "#baltimore=4\n",
        "the=4\n",
        "fabulous=3\n",
        "#chicago\u2026=3\n",
        "looking=3\n",
        "#isnadetroit=3\n",
        "#isna2014=3\n",
        "#\u0627\u0644\u062d\u0645\u062f\u0644\u0644\u0647=2\n",
        "#2014=2\n",
        "@asafoingenuity=2\n",
        "best=2\n",
        "by=2\n",
        "#daffah=2\n",
        "ramboelgahmi=2\n",
        "#\u0645\u0627\u0634\u0627\u0621\u0627\u0644\u0644\u0647=2\n",
        "#classic=1\n",
        "#chicago=1\n",
        "http://t.co/m0hgz2t0rg=1\n",
        "arif=1\n",
        "only=1\n",
        "http://t.co/9clgy9p4a2=1\n",
        "do=1\n",
        "good=1\n",
        "http://t.co/xywprdxgvi=1\n",
        "#international=1\n",
        "http://t.co/ebc8pcucgn=1\n",
        "allah\"=1\n",
        "now=1\n",
        "mirmadness215=1\n",
        "magic=1\n",
        "#ny\u2026=1\n",
        "success=1\n",
        "always=1\n",
        "jambiya=1\n",
        "#usuldesign=1\n",
        "#worldwide=1\n",
        "#708=1\n",
        "http://t.co/ctbclif8zu=1\n",
        "design=1\n",
        "booth=1\n",
        "#dallas=1\n",
        "http://t.co/10uqptuwdy=1\n",
        "available=1\n",
        "business=1\n",
        "nuralailalov=1\n",
        "&amp;=1\n",
        "http://t.co/mbkslghgcc=1\n",
        "caption=1\n",
        "http://t.co/rkapfv6xpv=1\n",
        "http://t.co/fhyyiztxmp=1\n",
        "http://t.co/agbijfxbz8=1\n",
        "@w0iv3rin3=1\n",
        "http://t.co/r5bked3a8m=1\n",
        "#brazil=1\n",
        "\"my=1\n",
        "http://t.co/awhklczjcy=1\n",
        "http://t.co/4z4uhzomfd=1\n",
        "from=1\n",
        "needed=1\n",
        "live=1\n",
        "white=1\n",
        "http://t.co/ou3vv5tmqq=1\n",
        "http://t.co/qkcabwvp2u=1\n",
        "town=1\n",
        "#\u062c\u0646\u0628\u064a\u0647=1\n",
        "http://t.co/dspwav3fus=1\n",
        "brown=1\n",
        "is=1\n",
        "as=1\n",
        "at=1\n",
        "talhaa23=1\n",
        "no=1\n",
        "mix=1\n",
        "http://t.co/idlhhtyrhp=1\n",
        "http://t.co/sisdf7blhv=1\n",
        "barber=1\n",
        "http://t.co/v0l3e9kltv=1\n",
        "#izar=1\n",
        "#houston=1\n",
        "#atl=1\n",
        "#thoub=1\n",
        "http://t.co/rv1gioe7xy=1\n",
        "fresh=1\n"
       ]
      }
     ],
     "prompt_number": 20
    },
    {
     "cell_type": "code",
     "collapsed": false,
     "input": [
      "# Plot these counts.\n",
      "import matplotlib.pyplot as plt  # Be sure to launch ipython with --matplotlib inline to see these figures within the notebook.\n",
      "plt.hist(counts.values())\n",
      "plt.xlabel('count')\n",
      "plt.ylabel('frequency')\n",
      "plt.show()"
     ],
     "language": "python",
     "metadata": {},
     "outputs": [
      {
       "metadata": {},
       "output_type": "display_data",
       "png": "[encoded data removed]",
       "text": [
        "<matplotlib.figure.Figure at 0x112651dd0>"
       ]
      }
     ],
     "prompt_number": 21
    }
   ],
   "metadata": {}
  }
 ]
}