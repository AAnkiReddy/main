{
 "cells": [
  {
   "cell_type": "markdown",
   "metadata": {
    "slideshow": {
     "slide_type": "slide"
    }
   },
   "source": [
    "# CS579: Lecture 02\n",
    "# Data Collection\n",
    "\n",
    "<br><br>\n",
    "\n",
    "*[Dr. Aron Culotta](http://cs.iit.edu/~culotta)*  \n",
    "*[Illinois Institute of Technology](http://iit.edu)*\n",
    "\n",
    "<br><br><br><br><br><br>\n",
    "<br><br><br><br><br><br>"
   ]
  },
  {
   "cell_type": "markdown",
   "metadata": {},
   "source": [
    "**Today's Goals**\n",
    "- Give examples of\n",
    "  - Collecting Twitter data\n",
    "  - Constructing social graphs with networkx\n",
    "  - Python tips and tricks\n",
    "- Discuss the first assignment"
   ]
  },
  {
   "cell_type": "markdown",
   "metadata": {
    "slideshow": {
     "slide_type": "slide"
    }
   },
   "source": [
    "# Twitter\n",
    "\n",
    "- Platform for broadcasting messages.\n",
    "- https://twitter.com/justinbieber\n",
    "<br><br><br><br><br><br>"
   ]
  },
  {
   "cell_type": "markdown",
   "metadata": {
    "slideshow": {
     "slide_type": "slide"
    }
   },
   "source": [
    "# Twitter Jargon\n",
    "\n",
    "- **tweet**: A message, max <strike>140</strike> 280 characters\n",
    "- **timeline**: A list of tweets from a user\n",
    "- **follower**: If user $A$ follows $B$, $A$ will receive tweets from $B$'s timeline\n",
    "- **friend**: If $A$ follows $B$, then $B$ is a *friend* of $A$.\n",
    "  - Notice the asymmetry: If $A$ follows $B$, but $B$ does not follow $A$, then $A$ is not a friend of $B$.\n",
    "\n",
    "<br><br><br><br><br><br>\n"
   ]
  },
  {
   "cell_type": "markdown",
   "metadata": {
    "slideshow": {
     "slide_type": "slide"
    }
   },
   "source": [
    "# Twitter API\n",
    "\n",
    "- https://dev.twitter.com/\n",
    "- Provides programmatic access to *public* Twitter data\n",
    "  - *direct messages* not included\n",
    "  - A user can set their timeline to be private, but this is rare.\n",
    "  \n",
    " <br><br><br><br><br><br>\n"
   ]
  },
  {
   "cell_type": "markdown",
   "metadata": {
    "slideshow": {
     "slide_type": "slide"
    }
   },
   "source": [
    "# Twitter API\n",
    "\n",
    "Two sub-APIs:\n",
    "- *[Search API](https://developer.twitter.com/en/docs/tweets/search/api-reference/get-search-tweets.html)*: Submit HTTP requests to access specific information (tweets, friends, ...)\n",
    "- *[Streaming API](https://developer.twitter.com/en/docs/tweets/filter-realtime/overview)*: Open a continuous connection to Twitter to receive real-time data.\n",
    "\n",
    "These APIs are simply HTTP GET requests:\n",
    "\n",
    "https://api.twitter.com/1.1/search/tweets.json?q=chicago\n",
    "\n",
    "<br><br><br>\n",
    "List of all endpoints:\n",
    "\n",
    "https://developer.twitter.com/en/docs/api-reference-index\n",
    "\n",
    "<br><br><br><br><br><br>\n"
   ]
  },
  {
   "cell_type": "markdown",
   "metadata": {
    "slideshow": {
     "slide_type": "slide"
    }
   },
   "source": [
    "# Authentication\n",
    "\n",
    "- Twitter uses [OAuth](https://developer.twitter.com/en/docs/basics/authentication/overview/oauth) to enable secure requests to the API\n",
    "- After creating an account, you can generate tokens: https://apps.twitter.com/\n",
    "- These tokens will be sent with each API request\n",
    "- Many libraries exist to make this easier: https://developer.twitter.com/en/docs/developer-utilities/twitter-libraries\n",
    "<br><br><br><br><br><br>\n"
   ]
  },
  {
   "cell_type": "code",
   "execution_count": 58,
   "metadata": {
    "slideshow": {
     "slide_type": "slide"
    }
   },
   "outputs": [
    {
     "name": "stdout",
     "output_type": "stream",
     "text": [
      "Established Twitter connection.\n"
     ]
    }
   ],
   "source": [
    "# Create a Twitter connection using TwitterAPI:\n",
    "#   https://github.com/geduldig/TwitterAPI\n",
    "# Start with `pip install TwitterAPI`\n",
    "# You'll need to edit twitter.cfg with your own tokens.\n",
    "import configparser\n",
    "from TwitterAPI import TwitterAPI\n",
    "\n",
    "def get_twitter(config_file):\n",
    "    \"\"\" Read the config_file and construct an instance of TwitterAPI.\n",
    "    Args:\n",
    "      config_file ... A config file in ConfigParser format with Twitter credentials\n",
    "    Returns:\n",
    "      An instance of TwitterAPI.\n",
    "    \"\"\"\n",
    "    config = configparser.ConfigParser()\n",
    "    config.read(config_file)\n",
    "    twitter = TwitterAPI(\n",
    "                   config.get('twitter', 'consumer_key'),\n",
    "                   config.get('twitter', 'consumer_secret'),\n",
    "                   config.get('twitter', 'access_token'),\n",
    "                   config.get('twitter', 'access_token_secret'))\n",
    "    return twitter\n",
    "\n",
    "twitter = get_twitter('twitter.cfg')\n",
    "print('Established Twitter connection.')"
   ]
  },
  {
   "cell_type": "code",
   "execution_count": 3,
   "metadata": {},
   "outputs": [
    {
     "data": {
      "text/plain": [
       "TwitterAPI.TwitterAPI.TwitterAPI"
      ]
     },
     "execution_count": 3,
     "metadata": {},
     "output_type": "execute_result"
    }
   ],
   "source": [
    "type(twitter)"
   ]
  },
  {
   "cell_type": "code",
   "execution_count": 61,
   "metadata": {},
   "outputs": [
    {
     "data": {
      "text/plain": [
       "float"
      ]
     },
     "execution_count": 61,
     "metadata": {},
     "output_type": "execute_result"
    }
   ],
   "source": [
    "type(12.6)"
   ]
  },
  {
   "cell_type": "code",
   "execution_count": 62,
   "metadata": {},
   "outputs": [
    {
     "data": {
      "text/plain": [
       "['__class__',\n",
       " '__delattr__',\n",
       " '__dict__',\n",
       " '__dir__',\n",
       " '__doc__',\n",
       " '__eq__',\n",
       " '__format__',\n",
       " '__ge__',\n",
       " '__getattribute__',\n",
       " '__gt__',\n",
       " '__hash__',\n",
       " '__init__',\n",
       " '__init_subclass__',\n",
       " '__le__',\n",
       " '__lt__',\n",
       " '__module__',\n",
       " '__ne__',\n",
       " '__new__',\n",
       " '__reduce__',\n",
       " '__reduce_ex__',\n",
       " '__repr__',\n",
       " '__setattr__',\n",
       " '__sizeof__',\n",
       " '__str__',\n",
       " '__subclasshook__',\n",
       " '__weakref__',\n",
       " '_get_endpoint',\n",
       " '_prepare_url',\n",
       " 'auth',\n",
       " 'proxies',\n",
       " 'request']"
      ]
     },
     "execution_count": 62,
     "metadata": {},
     "output_type": "execute_result"
    }
   ],
   "source": [
    "# What can we do with this twitter object?\n",
    "# builtin method `dir` tells us...\n",
    "dir(twitter)"
   ]
  },
  {
   "cell_type": "code",
   "execution_count": 63,
   "metadata": {},
   "outputs": [
    {
     "name": "stdout",
     "output_type": "stream",
     "text": [
      "Help on method request in module TwitterAPI.TwitterAPI:\n",
      "\n",
      "request(resource, params=None, files=None, method_override=None) method of TwitterAPI.TwitterAPI.TwitterAPI instance\n",
      "    Request a Twitter REST API or Streaming API resource.\n",
      "    \n",
      "    :param resource: A valid Twitter endpoint (ex. \"search/tweets\")\n",
      "    :param params: Dictionary with endpoint parameters or None (default)\n",
      "    :param files: Dictionary with multipart-encoded file or None (default)\n",
      "    :param method_override: Request method to override or None (default)\n",
      "    \n",
      "    :returns: TwitterResponse\n",
      "    :raises: TwitterConnectionError\n",
      "\n"
     ]
    }
   ],
   "source": [
    "# Get help on the `request` method using the builtin method called...`help`\n",
    "help(twitter.request)"
   ]
  },
  {
   "cell_type": "code",
   "execution_count": 64,
   "metadata": {},
   "outputs": [],
   "source": [
    "# Let's start by querying the search API\n",
    "request = twitter.request('search/tweets', {'q': 'chicago'}) "
   ]
  },
  {
   "cell_type": "code",
   "execution_count": 65,
   "metadata": {},
   "outputs": [
    {
     "name": "stdout",
     "output_type": "stream",
     "text": [
      "<class 'TwitterAPI.TwitterAPI.TwitterResponse'>\n"
     ]
    },
    {
     "data": {
      "text/plain": [
       "['__class__',\n",
       " '__delattr__',\n",
       " '__dict__',\n",
       " '__dir__',\n",
       " '__doc__',\n",
       " '__eq__',\n",
       " '__format__',\n",
       " '__ge__',\n",
       " '__getattribute__',\n",
       " '__gt__',\n",
       " '__hash__',\n",
       " '__init__',\n",
       " '__init_subclass__',\n",
       " '__iter__',\n",
       " '__le__',\n",
       " '__lt__',\n",
       " '__module__',\n",
       " '__ne__',\n",
       " '__new__',\n",
       " '__reduce__',\n",
       " '__reduce_ex__',\n",
       " '__repr__',\n",
       " '__setattr__',\n",
       " '__sizeof__',\n",
       " '__str__',\n",
       " '__subclasshook__',\n",
       " '__weakref__',\n",
       " 'close',\n",
       " 'get_iterator',\n",
       " 'get_quota',\n",
       " 'headers',\n",
       " 'json',\n",
       " 'response',\n",
       " 'status_code',\n",
       " 'stream',\n",
       " 'text']"
      ]
     },
     "execution_count": 65,
     "metadata": {},
     "output_type": "execute_result"
    }
   ],
   "source": [
    "# What object is returned?\n",
    "# builtin type method will tell us.\n",
    "print(type(request))\n",
    "dir(request)"
   ]
  },
  {
   "cell_type": "code",
   "execution_count": 66,
   "metadata": {},
   "outputs": [
    {
     "data": {
      "text/plain": [
       "200"
      ]
     },
     "execution_count": 66,
     "metadata": {},
     "output_type": "execute_result"
    }
   ],
   "source": [
    "request.status_code\n",
    "# See https://dev.twitter.com/overview/api/response-codes"
   ]
  },
  {
   "cell_type": "code",
   "execution_count": 67,
   "metadata": {},
   "outputs": [
    {
     "name": "stdout",
     "output_type": "stream",
     "text": [
      "1\n",
      "2\n",
      "3\n"
     ]
    }
   ],
   "source": [
    "# Python tip: List comprehensions\n",
    "for i in [1,2,3]:\n",
    "    print(i)"
   ]
  },
  {
   "cell_type": "code",
   "execution_count": 69,
   "metadata": {},
   "outputs": [
    {
     "name": "stdout",
     "output_type": "stream",
     "text": [
      "[5, 7, 9]\n"
     ]
    }
   ],
   "source": [
    "print([i*2 + 3 for i in [1,2,3]])"
   ]
  },
  {
   "cell_type": "code",
   "execution_count": 13,
   "metadata": {},
   "outputs": [],
   "source": [
    "# The __iter__ method means we can loop over this object.\n",
    "# See https://wiki.python.org/moin/Iterator\n",
    "tweets = [r for r in request]\n",
    "# List comprehensions used a lot in Python. See:\n",
    "# https://docs.python.org/2/tutorial/datastructures.html"
   ]
  },
  {
   "cell_type": "code",
   "execution_count": 70,
   "metadata": {},
   "outputs": [
    {
     "name": "stdout",
     "output_type": "stream",
     "text": [
      "found 15 tweets\n"
     ]
    }
   ],
   "source": [
    "print('found %d tweets' % len(tweets))"
   ]
  },
  {
   "cell_type": "code",
   "execution_count": 71,
   "metadata": {},
   "outputs": [
    {
     "data": {
      "text/plain": [
       "dict"
      ]
     },
     "execution_count": 71,
     "metadata": {},
     "output_type": "execute_result"
    }
   ],
   "source": [
    "# What is the first tweet?\n",
    "a_tweet = tweets[0]\n",
    "type(a_tweet)"
   ]
  },
  {
   "cell_type": "code",
   "execution_count": 72,
   "metadata": {},
   "outputs": [
    {
     "name": "stdout",
     "output_type": "stream",
     "text": [
      "Help on dict object:\n",
      "\n",
      "class dict(object)\n",
      " |  dict() -> new empty dictionary\n",
      " |  dict(mapping) -> new dictionary initialized from a mapping object's\n",
      " |      (key, value) pairs\n",
      " |  dict(iterable) -> new dictionary initialized as if via:\n",
      " |      d = {}\n",
      " |      for k, v in iterable:\n",
      " |          d[k] = v\n",
      " |  dict(**kwargs) -> new dictionary initialized with the name=value pairs\n",
      " |      in the keyword argument list.  For example:  dict(one=1, two=2)\n",
      " |  \n",
      " |  Methods defined here:\n",
      " |  \n",
      " |  __contains__(self, key, /)\n",
      " |      True if the dictionary has the specified key, else False.\n",
      " |  \n",
      " |  __delitem__(self, key, /)\n",
      " |      Delete self[key].\n",
      " |  \n",
      " |  __eq__(self, value, /)\n",
      " |      Return self==value.\n",
      " |  \n",
      " |  __ge__(self, value, /)\n",
      " |      Return self>=value.\n",
      " |  \n",
      " |  __getattribute__(self, name, /)\n",
      " |      Return getattr(self, name).\n",
      " |  \n",
      " |  __getitem__(...)\n",
      " |      x.__getitem__(y) <==> x[y]\n",
      " |  \n",
      " |  __gt__(self, value, /)\n",
      " |      Return self>value.\n",
      " |  \n",
      " |  __init__(self, /, *args, **kwargs)\n",
      " |      Initialize self.  See help(type(self)) for accurate signature.\n",
      " |  \n",
      " |  __iter__(self, /)\n",
      " |      Implement iter(self).\n",
      " |  \n",
      " |  __le__(self, value, /)\n",
      " |      Return self<=value.\n",
      " |  \n",
      " |  __len__(self, /)\n",
      " |      Return len(self).\n",
      " |  \n",
      " |  __lt__(self, value, /)\n",
      " |      Return self<value.\n",
      " |  \n",
      " |  __ne__(self, value, /)\n",
      " |      Return self!=value.\n",
      " |  \n",
      " |  __repr__(self, /)\n",
      " |      Return repr(self).\n",
      " |  \n",
      " |  __setitem__(self, key, value, /)\n",
      " |      Set self[key] to value.\n",
      " |  \n",
      " |  __sizeof__(...)\n",
      " |      D.__sizeof__() -> size of D in memory, in bytes\n",
      " |  \n",
      " |  clear(...)\n",
      " |      D.clear() -> None.  Remove all items from D.\n",
      " |  \n",
      " |  copy(...)\n",
      " |      D.copy() -> a shallow copy of D\n",
      " |  \n",
      " |  get(self, key, default=None, /)\n",
      " |      Return the value for key if key is in the dictionary, else default.\n",
      " |  \n",
      " |  items(...)\n",
      " |      D.items() -> a set-like object providing a view on D's items\n",
      " |  \n",
      " |  keys(...)\n",
      " |      D.keys() -> a set-like object providing a view on D's keys\n",
      " |  \n",
      " |  pop(...)\n",
      " |      D.pop(k[,d]) -> v, remove specified key and return the corresponding value.\n",
      " |      If key is not found, d is returned if given, otherwise KeyError is raised\n",
      " |  \n",
      " |  popitem(...)\n",
      " |      D.popitem() -> (k, v), remove and return some (key, value) pair as a\n",
      " |      2-tuple; but raise KeyError if D is empty.\n",
      " |  \n",
      " |  setdefault(self, key, default=None, /)\n",
      " |      Insert key with a value of default if key is not in the dictionary.\n",
      " |      \n",
      " |      Return the value for key if key is in the dictionary, else default.\n",
      " |  \n",
      " |  update(...)\n",
      " |      D.update([E, ]**F) -> None.  Update D from dict/iterable E and F.\n",
      " |      If E is present and has a .keys() method, then does:  for k in E: D[k] = E[k]\n",
      " |      If E is present and lacks a .keys() method, then does:  for k, v in E: D[k] = v\n",
      " |      In either case, this is followed by: for k in F:  D[k] = F[k]\n",
      " |  \n",
      " |  values(...)\n",
      " |      D.values() -> an object providing a view on D's values\n",
      " |  \n",
      " |  ----------------------------------------------------------------------\n",
      " |  Class methods defined here:\n",
      " |  \n",
      " |  fromkeys(iterable, value=None, /) from builtins.type\n",
      " |      Create a new dictionary with keys from iterable and values set to value.\n",
      " |  \n",
      " |  ----------------------------------------------------------------------\n",
      " |  Static methods defined here:\n",
      " |  \n",
      " |  __new__(*args, **kwargs) from builtins.type\n",
      " |      Create and return a new object.  See help(type) for accurate signature.\n",
      " |  \n",
      " |  ----------------------------------------------------------------------\n",
      " |  Data and other attributes defined here:\n",
      " |  \n",
      " |  __hash__ = None\n",
      "\n"
     ]
    }
   ],
   "source": [
    "# What can we do with dicts?\n",
    "help(a_tweet)"
   ]
  },
  {
   "cell_type": "code",
   "execution_count": 73,
   "metadata": {},
   "outputs": [
    {
     "data": {
      "text/plain": [
       "['contributors',\n",
       " 'coordinates',\n",
       " 'created_at',\n",
       " 'entities',\n",
       " 'favorite_count',\n",
       " 'favorited',\n",
       " 'geo',\n",
       " 'id',\n",
       " 'id_str',\n",
       " 'in_reply_to_screen_name',\n",
       " 'in_reply_to_status_id',\n",
       " 'in_reply_to_status_id_str',\n",
       " 'in_reply_to_user_id',\n",
       " 'in_reply_to_user_id_str',\n",
       " 'is_quote_status',\n",
       " 'lang',\n",
       " 'metadata',\n",
       " 'place',\n",
       " 'retweet_count',\n",
       " 'retweeted',\n",
       " 'retweeted_status',\n",
       " 'source',\n",
       " 'text',\n",
       " 'truncated',\n",
       " 'user']"
      ]
     },
     "execution_count": 73,
     "metadata": {},
     "output_type": "execute_result"
    }
   ],
   "source": [
    "# Print keys.\n",
    "sorted(a_tweet.keys())"
   ]
  },
  {
   "cell_type": "code",
   "execution_count": 74,
   "metadata": {},
   "outputs": [
    {
     "name": "stdout",
     "output_type": "stream",
     "text": [
      "RT @ChiSportUpdates: \"I love Chicago. Chicago will always be home. I love Bears fans. I love the city. I will always be a Bear. One day I w…\n",
      "Wed Jan 16 15:02:26 +0000 2019\n"
     ]
    }
   ],
   "source": [
    "# The text.\n",
    "print(a_tweet['text'])\n",
    "print(a_tweet['created_at'])"
   ]
  },
  {
   "cell_type": "code",
   "execution_count": 75,
   "metadata": {},
   "outputs": [
    {
     "data": {
      "text/plain": [
       "{'id': 500239621,\n",
       " 'id_str': '500239621',\n",
       " 'name': 'Parth',\n",
       " 'screen_name': 'parthivjs',\n",
       " 'location': 'Chicago',\n",
       " 'description': 'power moves only',\n",
       " 'url': None,\n",
       " 'entities': {'description': {'urls': []}},\n",
       " 'protected': False,\n",
       " 'followers_count': 562,\n",
       " 'friends_count': 451,\n",
       " 'listed_count': 1,\n",
       " 'created_at': 'Wed Feb 22 23:07:51 +0000 2012',\n",
       " 'favourites_count': 11567,\n",
       " 'utc_offset': None,\n",
       " 'time_zone': None,\n",
       " 'geo_enabled': True,\n",
       " 'verified': False,\n",
       " 'statuses_count': 14432,\n",
       " 'lang': 'en',\n",
       " 'contributors_enabled': False,\n",
       " 'is_translator': False,\n",
       " 'is_translation_enabled': False,\n",
       " 'profile_background_color': '022330',\n",
       " 'profile_background_image_url': 'http://abs.twimg.com/images/themes/theme15/bg.png',\n",
       " 'profile_background_image_url_https': 'https://abs.twimg.com/images/themes/theme15/bg.png',\n",
       " 'profile_background_tile': False,\n",
       " 'profile_image_url': 'http://pbs.twimg.com/profile_images/1076675054522560518/t3pv5FGe_normal.jpg',\n",
       " 'profile_image_url_https': 'https://pbs.twimg.com/profile_images/1076675054522560518/t3pv5FGe_normal.jpg',\n",
       " 'profile_banner_url': 'https://pbs.twimg.com/profile_banners/500239621/1542764149',\n",
       " 'profile_link_color': 'D97A15',\n",
       " 'profile_sidebar_border_color': 'C0DEED',\n",
       " 'profile_sidebar_fill_color': 'DDEEF6',\n",
       " 'profile_text_color': '333333',\n",
       " 'profile_use_background_image': True,\n",
       " 'has_extended_profile': False,\n",
       " 'default_profile': False,\n",
       " 'default_profile_image': False,\n",
       " 'following': False,\n",
       " 'follow_request_sent': False,\n",
       " 'notifications': False,\n",
       " 'translator_type': 'none'}"
      ]
     },
     "execution_count": 75,
     "metadata": {},
     "output_type": "execute_result"
    }
   ],
   "source": [
    "# What is a user?...another dict\n",
    "a_tweet['user']"
   ]
  },
  {
   "cell_type": "code",
   "execution_count": 77,
   "metadata": {},
   "outputs": [
    {
     "name": "stdout",
     "output_type": "stream",
     "text": [
      "screen_name=parthivjs, name=Parth, location=Chicago\n"
     ]
    }
   ],
   "source": [
    "user = a_tweet['user']\n",
    "print('screen_name=%s, name=%s, location=%s' %\n",
    "      (user['screen_name'], user['name'], user['location']))"
   ]
  },
  {
   "cell_type": "code",
   "execution_count": 78,
   "metadata": {},
   "outputs": [
    {
     "name": "stdout",
     "output_type": "stream",
     "text": [
      "found 200 followers for parthivjs\n"
     ]
    }
   ],
   "source": [
    "# Who follows this person?\n",
    "# https://developer.twitter.com/en/docs/accounts-and-users/follow-search-get-users/api-reference/get-followers-list\n",
    "screen_name = user['screen_name']\n",
    "request = twitter.request('followers/list', \n",
    "                          {'screen_name': screen_name, 'count':200})\n",
    "followers = [r for r in request]\n",
    "        \n",
    "print('found %d followers for %s' % (len(followers), screen_name))\n",
    "# See more about paging here: https://dev.twitter.com/docs/working-with-timelines"
   ]
  },
  {
   "cell_type": "code",
   "execution_count": 79,
   "metadata": {},
   "outputs": [
    {
     "data": {
      "text/plain": [
       "dict"
      ]
     },
     "execution_count": 79,
     "metadata": {},
     "output_type": "execute_result"
    }
   ],
   "source": [
    "type(followers[0])"
   ]
  },
  {
   "cell_type": "code",
   "execution_count": 81,
   "metadata": {},
   "outputs": [
    {
     "data": {
      "text/plain": [
       "['id',\n",
       " 'id_str',\n",
       " 'name',\n",
       " 'screen_name',\n",
       " 'location',\n",
       " 'description',\n",
       " 'url',\n",
       " 'entities',\n",
       " 'protected',\n",
       " 'followers_count',\n",
       " 'friends_count',\n",
       " 'listed_count',\n",
       " 'created_at',\n",
       " 'favourites_count',\n",
       " 'utc_offset',\n",
       " 'time_zone',\n",
       " 'geo_enabled',\n",
       " 'verified',\n",
       " 'statuses_count',\n",
       " 'lang',\n",
       " 'status',\n",
       " 'contributors_enabled',\n",
       " 'is_translator',\n",
       " 'is_translation_enabled',\n",
       " 'profile_background_color',\n",
       " 'profile_background_image_url',\n",
       " 'profile_background_image_url_https',\n",
       " 'profile_background_tile',\n",
       " 'profile_image_url',\n",
       " 'profile_image_url_https',\n",
       " 'profile_link_color',\n",
       " 'profile_sidebar_border_color',\n",
       " 'profile_sidebar_fill_color',\n",
       " 'profile_text_color',\n",
       " 'profile_use_background_image',\n",
       " 'has_extended_profile',\n",
       " 'default_profile',\n",
       " 'default_profile_image',\n",
       " 'following',\n",
       " 'live_following',\n",
       " 'follow_request_sent',\n",
       " 'notifications',\n",
       " 'muting',\n",
       " 'blocking',\n",
       " 'blocked_by',\n",
       " 'translator_type']"
      ]
     },
     "execution_count": 81,
     "metadata": {},
     "output_type": "execute_result"
    }
   ],
   "source": [
    "list(followers[0].keys())"
   ]
  },
  {
   "cell_type": "code",
   "execution_count": 82,
   "metadata": {},
   "outputs": [
    {
     "data": {
      "text/plain": [
       "'KehoeBeau'"
      ]
     },
     "execution_count": 82,
     "metadata": {},
     "output_type": "execute_result"
    }
   ],
   "source": [
    "# screen name of first follower of this user\n",
    "followers[0]['screen_name']"
   ]
  },
  {
   "cell_type": "code",
   "execution_count": 84,
   "metadata": {},
   "outputs": [],
   "source": [
    "# What happens if we get an error?\n",
    "request = twitter.request('followers/list',\n",
    "                          {'screen_name': 'this_is_not_a_valid_screen_name',\n",
    "                           'count':200})"
   ]
  },
  {
   "cell_type": "code",
   "execution_count": 85,
   "metadata": {},
   "outputs": [
    {
     "ename": "TwitterRequestError",
     "evalue": "Twitter request failed (404)",
     "output_type": "error",
     "traceback": [
      "\u001b[0;31m---------------------------------------------------------------------------\u001b[0m",
      "\u001b[0;31mTwitterRequestError\u001b[0m                       Traceback (most recent call last)",
      "\u001b[0;32m<ipython-input-85-9c160acea218>\u001b[0m in \u001b[0;36m<module>\u001b[0;34m()\u001b[0m\n\u001b[0;32m----> 1\u001b[0;31m \u001b[0mbad_followers\u001b[0m \u001b[0;34m=\u001b[0m \u001b[0;34m[\u001b[0m\u001b[0mr\u001b[0m \u001b[0;32mfor\u001b[0m \u001b[0mr\u001b[0m \u001b[0;32min\u001b[0m \u001b[0mrequest\u001b[0m\u001b[0;34m]\u001b[0m\u001b[0;34m\u001b[0m\u001b[0m\n\u001b[0m",
      "\u001b[0;32m/usr/local/lib/python3.7/site-packages/TwitterAPI/TwitterAPI.py\u001b[0m in \u001b[0;36m__iter__\u001b[0;34m(self)\u001b[0m\n\u001b[1;32m    204\u001b[0m         \u001b[0;34m:\u001b[0m\u001b[0mraises\u001b[0m\u001b[0;34m:\u001b[0m \u001b[0mTwitterConnectionError\u001b[0m\u001b[0;34m,\u001b[0m \u001b[0mTwitterRequestError\u001b[0m\u001b[0;34m\u001b[0m\u001b[0m\n\u001b[1;32m    205\u001b[0m         \"\"\"\n\u001b[0;32m--> 206\u001b[0;31m         \u001b[0;32mreturn\u001b[0m \u001b[0mself\u001b[0m\u001b[0;34m.\u001b[0m\u001b[0mget_iterator\u001b[0m\u001b[0;34m(\u001b[0m\u001b[0;34m)\u001b[0m\u001b[0;34m\u001b[0m\u001b[0m\n\u001b[0m\u001b[1;32m    207\u001b[0m \u001b[0;34m\u001b[0m\u001b[0m\n\u001b[1;32m    208\u001b[0m     \u001b[0;32mdef\u001b[0m \u001b[0mget_quota\u001b[0m\u001b[0;34m(\u001b[0m\u001b[0mself\u001b[0m\u001b[0;34m)\u001b[0m\u001b[0;34m:\u001b[0m\u001b[0;34m\u001b[0m\u001b[0m\n",
      "\u001b[0;32m/usr/local/lib/python3.7/site-packages/TwitterAPI/TwitterAPI.py\u001b[0m in \u001b[0;36mget_iterator\u001b[0;34m(self)\u001b[0m\n\u001b[1;32m    191\u001b[0m         \"\"\"\n\u001b[1;32m    192\u001b[0m         \u001b[0;32mif\u001b[0m \u001b[0mself\u001b[0m\u001b[0;34m.\u001b[0m\u001b[0mresponse\u001b[0m\u001b[0;34m.\u001b[0m\u001b[0mstatus_code\u001b[0m \u001b[0;34m!=\u001b[0m \u001b[0;36m200\u001b[0m\u001b[0;34m:\u001b[0m\u001b[0;34m\u001b[0m\u001b[0m\n\u001b[0;32m--> 193\u001b[0;31m             \u001b[0;32mraise\u001b[0m \u001b[0mTwitterRequestError\u001b[0m\u001b[0;34m(\u001b[0m\u001b[0mself\u001b[0m\u001b[0;34m.\u001b[0m\u001b[0mresponse\u001b[0m\u001b[0;34m.\u001b[0m\u001b[0mstatus_code\u001b[0m\u001b[0;34m)\u001b[0m\u001b[0;34m\u001b[0m\u001b[0m\n\u001b[0m\u001b[1;32m    194\u001b[0m \u001b[0;34m\u001b[0m\u001b[0m\n\u001b[1;32m    195\u001b[0m         \u001b[0;32mif\u001b[0m \u001b[0mself\u001b[0m\u001b[0;34m.\u001b[0m\u001b[0mstream\u001b[0m\u001b[0;34m:\u001b[0m\u001b[0;34m\u001b[0m\u001b[0m\n",
      "\u001b[0;31mTwitterRequestError\u001b[0m: Twitter request failed (404)"
     ]
    }
   ],
   "source": [
    "bad_followers = [r for r in request]"
   ]
  },
  {
   "cell_type": "code",
   "execution_count": 86,
   "metadata": {},
   "outputs": [
    {
     "data": {
      "text/plain": [
       "404"
      ]
     },
     "execution_count": 86,
     "metadata": {},
     "output_type": "execute_result"
    }
   ],
   "source": [
    "request.status_code"
   ]
  },
  {
   "cell_type": "markdown",
   "metadata": {},
   "source": [
    "# Limitations\n",
    "\n",
    "- Can only search 2 weeks in past\n",
    "  - But can get up to 3,200 most recent tweets of a user\n",
    "- Rate limits! https://developer.twitter.com/en/docs/basics/rate-limits\n",
    "  - e.g., 450 search requests in 15 minute window"
   ]
  },
  {
   "cell_type": "code",
   "execution_count": 29,
   "metadata": {},
   "outputs": [],
   "source": [
    "# Dealing with rate limits.\n",
    "def robust_request(twitter, resource, params, max_tries=5):\n",
    "    \"\"\" If a Twitter request fails, sleep for 15 minutes.\n",
    "    Do this at most max_tries times before quitting.\n",
    "    Args:\n",
    "      twitter .... A TwitterAPI object.\n",
    "      resource ... A resource string to request.\n",
    "      params ..... A parameter dictionary for the request.\n",
    "      max_tries .. The maximum number of tries to attempt.\n",
    "    Returns:\n",
    "      A TwitterResponse object, or None if failed.\n",
    "    \"\"\"\n",
    "    for i in range(max_tries):\n",
    "        request = twitter.request(resource, params)\n",
    "        if request.status_code == 200:\n",
    "            return request\n",
    "        else:\n",
    "            print('Got error: %s \\nsleeping for 15 minutes.' \n",
    "                  % request.text)\n",
    "            time.sleep(61 * 15)"
   ]
  },
  {
   "cell_type": "markdown",
   "metadata": {},
   "source": [
    "## Drawing graphs with NetworkX"
   ]
  },
  {
   "cell_type": "code",
   "execution_count": 87,
   "metadata": {},
   "outputs": [
    {
     "data": {
      "image/png": "[encoded data removed]",
      "text/plain": [
       "<Figure size 432x288 with 1 Axes>"
      ]
     },
     "metadata": {},
     "output_type": "display_data"
    }
   ],
   "source": [
    "# Drawing graphs: http://networkx.github.io/\n",
    "# `pip install networkx`\n",
    "import networkx as nx\n",
    "# Create a graph\n",
    "graph = nx.DiGraph()\n",
    "# Add a node\n",
    "graph.add_node(screen_name)\n",
    "# Draw the graph\n",
    "nx.draw(graph, with_labels=True)"
   ]
  },
  {
   "cell_type": "code",
   "execution_count": 31,
   "metadata": {},
   "outputs": [],
   "source": [
    "# Didn't draw anything? Need to place it inline.\n",
    "import matplotlib.pyplot as plt  \n",
    "%matplotlib inline\n",
    "# See many more magic spells:\n",
    "# http://ipython.org/ipython-doc/stable/interactive/reference.html#magic-command-system"
   ]
  },
  {
   "cell_type": "code",
   "execution_count": 88,
   "metadata": {},
   "outputs": [
    {
     "data": {
      "image/png": "[encoded data removed]",
      "text/plain": [
       "<Figure size 432x288 with 1 Axes>"
      ]
     },
     "metadata": {},
     "output_type": "display_data"
    }
   ],
   "source": [
    "nx.draw(graph, with_labels=True)"
   ]
  },
  {
   "cell_type": "code",
   "execution_count": 89,
   "metadata": {},
   "outputs": [
    {
     "data": {
      "image/png": "[encoded data removed]",
      "text/plain": [
       "<Figure size 432x288 with 1 Axes>"
      ]
     },
     "metadata": {},
     "output_type": "display_data"
    }
   ],
   "source": [
    "# Add an edge to a follower\n",
    "graph.add_edge(followers[0]['screen_name'], screen_name)\n",
    "nx.draw(graph, with_labels=True)"
   ]
  },
  {
   "cell_type": "code",
   "execution_count": 90,
   "metadata": {},
   "outputs": [
    {
     "data": {
      "image/png": "[encoded data removed]",
      "text/plain": [
       "<Figure size 432x288 with 1 Axes>"
      ]
     },
     "metadata": {},
     "output_type": "display_data"
    }
   ],
   "source": [
    "# Make link symmetric.\n",
    "graph.add_edge(screen_name, followers[0]['screen_name'])\n",
    "nx.draw(graph, with_labels=True)"
   ]
  },
  {
   "cell_type": "code",
   "execution_count": 91,
   "metadata": {},
   "outputs": [
    {
     "name": "stdout",
     "output_type": "stream",
     "text": [
      "got 200 tweets for user parthivjs\n"
     ]
    }
   ],
   "source": [
    "# Get this person's timeline\n",
    "timeline = [tweet for tweet in twitter.request('statuses/user_timeline',\n",
    "                                              {'screen_name': screen_name,\n",
    "                                               'count': 200})]\n",
    "print('got %d tweets for user %s' % (len(timeline), screen_name))"
   ]
  },
  {
   "cell_type": "code",
   "execution_count": 92,
   "metadata": {
    "collapsed": true
   },
   "outputs": [
    {
     "name": "stdout",
     "output_type": "stream",
     "text": [
      "RT @ChiSportUpdates: \"I love Chicago. Chicago will always be home. I love Bears fans. I love the city. I will always be a Bear. One day I w…\n",
      "RT @BleacherReport: Nick Foles loses his powers at the #GridironHeights Elimination Club (@PlayStation) https://t.co/f3QIFxJet4\n",
      "the types of dudes that are offended by this commercial: \n",
      "\n",
      "•dudes that comment ‘😍’ on girls Instagram pictures\n",
      "\n",
      "•du… https://t.co/tWmUSR7bWK\n",
      "@gingerlad19 Agreed- but at the same time during their playing careers they’re not being charged for receiving stat… https://t.co/Ee4xuR6xFD\n",
      "@gingerlad19 Sherman is one of the smartest dudes in the NFL and obviously need to fully respect his stance but I’d… https://t.co/RD0Fpfkhb5\n",
      "RT @TheKylerMurray: I have declared for the NFL Draft.\n",
      "@joshyjohnson Wait a minute, you tweeted this while at my apartment....which is full of peacoats....\n",
      "@notandy22 Do it, it’s the only thing @Jerald_Michael and I agree on nowadays\n",
      "RT @DavidRutz: Only one quarterback has defeated Drew Brees in an NFC Championship game. A legend. A genius. A master. https://t.co/Yy6w4Q6…\n",
      "RT @GameOfThrones: April 14. #ForTheThrone https://t.co/Mzy22yxM6Z\n",
      "RT @DrunkTrubisky: Oh? https://t.co/xI9zKGC1Cz\n",
      "RT @TomFornelli: Alshon Jeffery didn’t love that pass he was just there for work.\n",
      "hahahaha karmas a huge b Alshon Jeffery\n",
      "RT @The_Dream99: Me. Tryna be happy for others success while watching the playoffs on the couch https://t.co/7bCDEDAEGe\n",
      "with all due respect Bears fans, we gotta move on. we lost. it’s over. https://t.co/5e9yuGsA0p\n",
      "RT @TheIowaHawkeyes: Look who made it to the @Iowahoops game today! Welcome back former #Hawkeyes and current @49ers @gkittle46, @cjbeathar…\n",
      "OH MY GODDDD #JustTheTip https://t.co/B6hzf888AJ\n",
      "RT @ChicagoBears: We have hired Chuck Pagano as our defensive coordinator.\n",
      "\n",
      "Welcome to Chicago, Coach!\n",
      "\n",
      "#DaBears https://t.co/WnkuXLkf3I\n",
      "RT @BarstoolBigCat: I’m not ready for Parkey on the Today Show. Bears lost for a million reasons but he still missed a kick, something he d…\n",
      "@olin_kreutz The impact his coaching had on the Bears was extremely noticeable after he left (the period after he l… https://t.co/834ULUlIcR\n",
      "@Jerald_Michael @Snapchat @notandy22 😂 it’s been a rough week Jerry\n",
      "@Jerald_Michael @Snapchat oh, it let me know\n",
      "@rowen20 @gingerlad19 Maybe y’all will win 7 games now\n",
      "RT @BradBiggs: Todd Bowles has not signed a contract with #Buccaneers and is expected to choose between re-joining Bruce Arians in Tampa Ba…\n",
      "just when i began learning how to smile again...bye Vic 😭 https://t.co/UWCEyaJ2Nl\n",
      "RT @SportsTalkBarry: You know what? I'm going to say it.\n",
      "\n",
      "Harry Potter was a system Quidditch player.\n",
      "@ShiftyEyeTy @PatrickCrowley3 ayo\n",
      "RT @AaronLemingNFL: For those keeping tabs on Fangio &amp; Denver. #Bears https://t.co/wtIthmJ7HG\n",
      "*garners the courage to watch the National Championship*\n",
      "\n",
      "*watches Bama’s kicker doink the extra point off the upri… https://t.co/axmala4OfB\n",
      "RT @BN_Bears: How can you people watch football tonight? Football is the DEVIL.\n",
      "@rderickson9 SKOLd your way right into getting robbed by Kirk 😂😂😂\n",
      "RT @TomPelissero: The NFL has officially changed Cody Parkey's missed field goal yesterday to a blocked kick by Treyvon Hester.\n",
      "@Tomparker007 Why did this tweet change your mind?\n",
      "RT @DrunkTrubisky: ok look I get that it’s rainy but you all understand what the point of this tweet was lmao\n",
      "@liam_heneghan20 Was thinking about that as well. It’s hard to put these massive expectations on rookie head coaches.\n",
      "wanted to post this for fellow Bears fans to put things in perspective:\n",
      "\n",
      "the Saints lost in the postseason last yea… https://t.co/wujJrlK4zl\n",
      "@gingerlad19 Agreed, but if Fangio leaves? We better hope his replacement can get the job done. Maybe I’m just being a strong pessimist\n",
      "@gingerlad19 Is it wrong for me to think we’re due to regress? Needed a historically good defense to get here. Reminds me of the Jags\n",
      "i take back what i said about Parkey. i feel genuinely bad for him as a human right now. mentally, he’s probably in an awful place.\n",
      "@ChicagoAudible my favorite fan-run Bears account on Twitter - you guys did a helluva job covering the team this year\n",
      "thank you for an amazing season @ChicagoBears. the future is bright. watching this team made me happier than i ever could’ve imagined.\n",
      "RT @DrunkTrubisky: Everyone force yourself to get up and go hang out with your friends. Go do something. Don’t wallow in this misery. We we…\n",
      "this team is my life and that was the worst god damn way to end such an amazing season\n",
      "we all knew this would happen. we all knew Parkey would let us down when it mattered.\n",
      "my heart is absolutely broken\n",
      "i will not cry i will not cry i will not cry i will not cry i will not cry i will not cry\n",
      "IT’S OFFICIALLY TIME LETS GO BEARS\n",
      "RT @gmfb: Steve Smith Sr. had a major problem with Deshaun Watson yesterday, beyond his performance itself.\n",
      "\n",
      "#Colts | #Texans https://t.co/…\n",
      "RT @HBO: How do you say trademark misuse in Dothraki?\n",
      "@ me if you support this trash. Do it lmao https://t.co/qJNy3CPun2\n",
      "Bears ice sculptures are scattered around the city.\n",
      "\n",
      "The skyline is lit blue &amp; orange across the board.\n",
      "\n",
      "Bears Play… https://t.co/LzpDwSkicX\n",
      "the NFL is a better place with a healthy Andrew Luck\n",
      "RT @kfishbain: Good way for Soldier Field to be loud from the get-go on Sunday: Jim Cornelison @Anthem_Singer will be singing the national…\n",
      "@MikeyMaloney02 Yaaa I was getting some wack looks for waving at my phone in the club. Worth it\n",
      "@MikeyMaloney02 I didn’t get one 😭\n",
      "RT @ShiftyEyeTy: Thank you. What I lack in looks I make up for with a decent beard and a good sense of humor https://t.co/5Y11crQtqK\n",
      "RT @ChaseDaniel: Why can’t we do this @ChicagoBears  fans?! On the opening kickoff as ball is getting kicked… #BOOM https://t.co/BP012bUT9S\n",
      "@LazloSzombathy @ENMICAHPEDIA @gingerlad19 I’m okay with that, he’s a beast lmao\n",
      "@ENMICAHPEDIA @LazloSzombathy @gingerlad19 He didn’t play weeks 8/9. Still had 7.5 sacks to finish out the year and… https://t.co/Rc5PGmWqPu\n",
      "@LazloSzombathy @ENMICAHPEDIA @gingerlad19 Obviously I think our defense is compilation of very solid talent and Fa… https://t.co/MugeLVV8H9\n",
      "@ENMICAHPEDIA @LazloSzombathy @gingerlad19 I still gotta disagree. Stack their stats side to side.\n",
      "@ENMICAHPEDIA @LazloSzombathy @gingerlad19 You’re smarter than that. I can agree with Donald being #1 but no way in… https://t.co/oAdIa818fq\n",
      "@LazloSzombathy @ENMICAHPEDIA @gingerlad19 Mack damn near turned the entire defense into a roster of Pro Bowlers. W… https://t.co/LIR8214eIQ\n",
      "@LazloSzombathy @ENMICAHPEDIA @gingerlad19 Foles made the Eagles look good after week 14 and the Eagles fans collec… https://t.co/eJwQ0ZRTn0\n",
      "@ENMICAHPEDIA @LazloSzombathy @gingerlad19 Alright imma jump in - if we’re going strictly off efficiency, the Rams… https://t.co/sUpT3bfEHv\n",
      "@LazloSzombathy @ENMICAHPEDIA @gingerlad19 Literally no chance. It’s either Donald or Mack.\n",
      "@Tomparker007 This is just completely untrue\n",
      "RT @gkittle46: TEU @HawkeyeFootball https://t.co/vbxJlNGkee\n",
      "RT @NFLonFOX: The votes are in... \n",
      "\n",
      "Chicago Bears LB Khalil Mack is your Defensive Player of the Year, as voted on by the NFL on FOX fans.…\n",
      "my biggest concern with Bluetooth headphones is that one day they’ll disconnect randomly &amp; my phone will start blar… https://t.co/9isLojGMLF\n",
      "RT @BearsPR: Per @StatsBySTATS, QB Mitchell Trubisky’s passer rating improved from 77.5 last season to 95.4 this season, a 17.9 increase, w…\n",
      "RT @chicagobulls: Happy Birthday, Captain Kirk! \n",
      "\n",
      "Fun fact: Kirk Hinrich still holds the record for most 3-pt shots made by a Chicago Bull…\n",
      "in 2019 we’re not missing FaceTime calls from our homies\n",
      "RT @AaronLemingNFL: Sounds like Matt Nagy is more confident about his 3 WRs status (Robinson, Gabriel &amp; Miller) than he is about Eddie Jack…\n",
      "RT @espn: .@Jeff_Legwold's final NFL rookie rankings are here. https://t.co/KEnoegB73e\n",
      "RT @HBO: It’s now officially the year that Game of Thrones comes back.\n",
      "i’m going to learn how to believe in myself again\n",
      "having lots of good people in my life that genuinely care about my well being is something i will never take for granted\n",
      "RT @ESPNStatsInfo: In the Outback Bowl, Iowa upset 18 Mississippi St, 27-22. The Hawkeyes rushed for -15 yards on the day, which is the few…\n",
      "@AustinSitz AB in a McVay offense would be LETHAL\n",
      "@AustinSitz Yup totally agreed, so he should be careful requesting trades like this when the Steelers can easily se… https://t.co/A0MkqyrObx\n",
      "@AustinSitz Absolutely not. He’s a top WR in the NFL - but, I’ve seen the man completely get phased out of games wh… https://t.co/Cq403ZvY9P\n",
      "funny request from a guy who is only relevant because of his quarterback https://t.co/SfL0eHcyqw\n",
      "RT @BleacherReport: Top 6 highest paid QBs\n",
      "\n",
      "…None of them will be in the playoffs this year \n",
      "\n",
      "(h/t @MySportsUpdate) https://t.co/Bl7BzyHYsD\n",
      "for the first time in 8 years, i get to look forward to watching the Bears play in the postseason next Sunday and i… https://t.co/riHnfZZRGy\n",
      "RT @ChicagoBears: 🗣 PROTECT OUR HOUSE.\n",
      "\n",
      "#DaBears. Eagles. Sunday.\n",
      "📺: 3:40pm CT, NBC https://t.co/wQPF0e4xWn\n",
      "RT @AdamHoge: Kicker is easily the #Bears’ biggest problem going into the playoffs.\n",
      "RT @RapSheet: Big news for the #Bears: OL Kyle Long is being activated today, source said. A huge lift before the playoffs, on the field an…\n",
      "RT @BN_Bears: 🚂 🚂 🚂 \n",
      "\n",
      "All aboard #DaBears hype train with special guest conductor Louis Riddick!\n",
      "\n",
      "🎥: @GetUpESPN \n",
      "\n",
      "https://t.co/oYvTZXboG6\n",
      "RT @BleacherReport: D-Rose getting MVP chants in Chicago 🌹 https://t.co/EDDXGpSIt0\n",
      "the crowd started chanting “MVP” when DRose went up to the free throw line at the UC tonight and lemme tell you i h… https://t.co/xEEdWy7IIH\n",
      "cause of divorce: Uno\n",
      "@joshyjohnson Fine, if it passes the door taste test you’re in for $10\n",
      "RT @espn: Y'all need a center, @chicagobulls? https://t.co/3ILGU9yZ8g\n",
      "@bdunk975 @Jerald_Michael We’re looking at margins of victory now? Seems a bit extreme\n",
      "@Jerald_Michael Came up on my Timehop, had to 😂 Merry Christmas brotha\n",
      "@Jerald_Michael This did not age well\n",
      "@joshyjohnson Covers $20 for you\n",
      "for sure charging cover when the day comes for me to host Christmas dinner\n",
      "RT @BarstoolBigCat: Parkey will kill us all and we have no one to blame but ourselves\n",
      "@cladubz That’s my boy this week!\n",
      "I love you JuJu - take me home! https://t.co/U7WoQb97qZ\n",
      "RT @taniaganguli: LeBron James takes on the hullabaloo about his Anthony Davis quote. This was good. https://t.co/ErJadhnOJ7\n",
      "@MikeyMaloney02 that Zeke fumble is about to change a lot of matchups my guy\n",
      "@MikeyMaloney02 Tough, but fair\n",
      "THERE WAS A STAT CORRECTION! I’M IN THE SHIP!\n",
      "RT @ChicagoBears: When Trubisky was asked about his beard: \"QBs (including the QB coaches) aren’t allowed to shave their beards. Line-ups b…\n",
      "RT @HarrisonNFL: The NFL is better when the Bears are good.\n",
      "RT @ChicagoBears: #DaBears will be WELL represented at the #ProBowl in Orlando! 🐻⬇️ https://t.co/gH7TdCjF93\n",
      "@joshyjohnson Was it me?\n",
      "just lost my fantasy football playoff semifinal by under one point. good night, cruel world\n",
      "RT @ESPNNFL: George Kittle loves him some WWE 😂 https://t.co/fjz9DA2Ycl\n",
      "RT @AnthonyMiller_3: We want a Super Bowl period\n",
      "RT @Bears__Nation: BEARS BROKE THE RAMS.\n",
      "RT @ChicagoBears: ChrisMitch.\n",
      "\n",
      "#DaBears https://t.co/w7wrNiBwfe\n",
      "RT @StaceyDales: Bears Safety Eddie Jackson just walked into the locker room with a walking boot on his right ankle. Told me it’s a right a…\n",
      "RT @JHowardx24: 🤷🏿‍♂️ https://t.co/LQ7zbp3y19\n",
      "RT @AdamSchefter: Bears’ HC Matt Nagy said S Eddie Jackson sprained his right ankle and team expects to know more in next 24-48 hours.\n",
      "RT @ChicagoBears: #DaBears are NFC NORTH CHAMPS!\n",
      "\n",
      "🐻⬇️! https://t.co/Myunj5Ol92\n",
      "The 2018 Chicago Bears are your NFC North champions. My heart is so god damn full\n",
      "THE DIVISION IS OURS! KINGS OF THE NORTH! WORST TO FIRST BABY\n",
      "NOT EDDIE JACKSON PLEASE\n",
      "our defense bails out the offense game. after game. after game.\n",
      "RT @privateidahoes: hot take but kanye west isn’t standing up/opening up about mental illness. he is using mental illness to say and do wha…\n",
      "RT @ESPNNFL: Khalil Mack just wants to shop 😂 https://t.co/2u551dF4Au\n",
      "RT @ItsJoshPeck: Dear @kanyewest nobody talks to my brotha like that.\n",
      "when you’re up 28 on your homie in Madden &amp; he pauses the game to rage quit https://t.co/fUeJRbJLVw\n",
      "RT @Drake: Yeezy spazzzin!!!!\n",
      "RT @BearsLocal: You can’t win the holidays without #HolidayFocus.\n",
      "\n",
      "RT for a chance to win @Bose QC35 II headphones and official #DaBears sw…\n",
      "RT @Real_Meathead: Currently Akiem Hicks WOULD NOT make the Pro Bowl!\n",
      "\n",
      "Ridiculous! \n",
      "\n",
      "He has been the heart of our team for the last 3 seaso…\n",
      "RT @ChicagoBears: 🗣THIS IS IT... your last chance to #ProBowlVote #DaBears!\n",
      "\n",
      "1 RT = ✌️VOTES!\n",
      "@jamsdans\n",
      "@TarikCohen\n",
      "@WhItehair76\n",
      "@Mtrubisky1…\n",
      "@Jerald_Michael What a wild team - simultaneously the last time the Steelers beat the Bears 😉\n",
      "Comic Sans\n",
      "RT @PFF: Eddie Jackson has been the NFL's top safety so far this season. https://t.co/hDlrZ2fgPi\n",
      "RT @AdamHoge: Matt Nagy said Bryce Callahan needs surgery on his broken left foot and will be placed on IR. His season is over.\n",
      "@ShiftyEyeTy Thank you for your service!\n",
      "RT @ShiftyEyeTy: I find it hard to believe you actually had a good time at a concert if the whole thing is on your snap story\n",
      "@ShiftyEyeTy I would like to retweet this\n",
      "RT @AdamSchefter: A memorabilia shop in Chicago announced on social media today that Bears cornerback Bryce Callahan has a broken foot and…\n",
      "@LazloSzombathy @Tomparker007 Stop letting this fool bully you Tom\n",
      "RT @BleacherReport: Bears torment Jared Goff and the Rams to move to 9-4 🐻 https://t.co/QTDqbNfHx0\n",
      "why i am happy on this Victory Monday:\n",
      "\n",
      "•the Bears beat the best team in the NFL\n",
      "\n",
      "•the Bears held the best offense… https://t.co/ew2FlxcYgq\n",
      "RT @LeShunSr: When your son balls out @jamsdans and in case you don’t know what school he went to. https://t.co/khVUM1Fr6S\n",
      "RT @ESPNNFL: The Bears' defense DOMINATES the Rams and deals them their second loss of the season. https://t.co/xinTAViy5f\n",
      "@Tomparker007 The game is over you fool\n",
      "i’ve been saying it since the offseason man - this team is SPECIAL! BEAR DOWN BABY!\n",
      "RT @BradBiggs: #Bears are playing an Air Raid siren before most #Rams snaps. Feels like it's 10 am on the first Tuesday of the month over a…\n",
      "the pre-Bears butterflies are real tonight #BearDown🐻⬇️\n",
      "RT @SportsCenter: George Kittle is on the verge of history.\n",
      "\n",
      "With 210 yards in the 1st half, he is 4 yards shy of Shannon Sharpe's single-g…\n",
      "RT @espn: MIRACLE IN MIAMI!\n",
      "\n",
      "📺: CBS #NEvsMIA https://t.co/PT2sbpQos2\n",
      "RT @rodger: The football excuses for not signing Colin Kaepernick are \"he wouldn't know the offense\" and \"he hasn't played in a while.\" Was…\n",
      "RT @JaredGoff16: GO. BEARS.\n",
      "RT @JaredGoff16: Let’s GO BEARS #BigGame\n",
      "RT @gmfb: Through #DaBears QB @Mtrubisky10's first 22 career games, his numbers look awfully familiar...\n",
      "\n",
      "Rams. Bears. Goff. Trubisky. Sund…\n",
      "@cladubz Was that all it took? Too easy!\n",
      "@cladubz If you cannot appreciate Friends we cannot be friends\n",
      "RT @LarryMayer: #Bears coach Matt Nagy said safety Eddie Jackson was held out of practice today because Bears worked out on artificial turf…\n",
      "you Friends-bashing sociopaths need to get your garbage hate tweets off my timeline, it’s unhealthy\n",
      "RT @BarstoolBigCat: I just passed out seeing Jay Cutler’s current hair situation. 🔥🔥🔥#FlowMyGod https://t.co/lNtrZXCJdU\n",
      "@AustinSitz Holding my tongue bro, all I’m saying is that it’ll be a good game\n",
      "it’s not hard to list the starters on an elite defense when every single player is in the highlight reel every week lmao\n",
      "he’s an excellent head coach but praising this man for literally doing his job is bit excessive https://t.co/nyadxKyogU\n",
      "i found a 6ix9ine song i’ve never listened to in my Your Top Songs of 2018 Spotify playlist...excuse me while i switch to Apple Music\n",
      "@AustinSitz He’s a wizard. But Bears by 50\n",
      "@gingerlad19 @ColeKlever @AustinSitz and I were sitting next to eachother at Lucas Oil. Absolute eruption\n",
      "@AustinSitz @sammmiemarie @gingerlad19 @CalebCline12 @Tomparker007 I’ve repressed those from my memory and have no… https://t.co/4uGW2mbs4a\n",
      "@AustinSitz @sammmiemarie @gingerlad19 @CalebCline12 @Tomparker007 I’m not gonna sit here and pretend Game 1 of the… https://t.co/9BjK0u5WG3\n",
      "@ColetynJensen i checked my Timehop and 2 years ago at this time we were tweeting about NFL prospects &amp; the #2 pick… https://t.co/J8PcsbIVnk\n",
      "@ColetynJensen Your program has turned around I will give you that 👍🏽\n",
      "thoughts after the B1G Championship 3 years ago. still applicable https://t.co/53RDpSUuvu\n",
      "@ColeKlever Most up and down Iowa football moment I have ever experienced\n",
      "RT @BearsPR: #Bears Wednesday Injury Report: \n",
      "DNP: DB Deon Bush (hamstring)\n",
      "Limited: RB Benny Cunningham (ankle); DB Sherrick McManis (hams…\n",
      "@Tomparker007 @LazloSzombathy I was responding to Grant\n",
      "@LazloSzombathy @Tomparker007 this tweet is factually untrue\n",
      "RT @BarstoolBigCat: Poor Hoiberg, he was no doubt a bad NBA Coach not suited for this level of team management, but the FO just killed anot…\n",
      "RT @AdamSchefter: Not just the NFL and Packers; the Bulls have relieved Fred Hoiberg of his duties.\n",
      "HOIBERG IS GONE! FIRED! NOT A DRILL I REPEAT NOT A DRILL!\n",
      "RT @ShamsCharania: The Chicago Bulls fired head coach Fred Hoiberg.\n",
      "RT @AdamSchefter: Packers have fired Mike McCarthy and named Joe Philbin interim HC.\n",
      "RT @NFLonFOX: Bears fans rn https://t.co/11RRN2Clpe\n",
      "Let me cry in peace\n",
      "I LOVE THESE BEARS\n",
      "HAHAHA AKIEM HICKS LETS GO\n",
      "RT @NicholasMoreano: I have a feeling this is going to be a long day. #Bears\n",
      "@gingerlad19 Dumb step over. Greek Freak chased him down from behind. Dunk invalidated\n",
      "RT @chicagobulls: UPDATE: @MarkkanenLauri has been upgraded to probable for tonight’s game against Houston. https://t.co/VIDYY4Guu3\n",
      "RT @AdamSchefter: Chiefs announce they are releasing Kareem Hunt.\n",
      "RT @SportsCenter: Breaking: The Chiefs announce they are releasing Kareem Hunt, citing that Hunt was not truthful with management in intern…\n",
      "RT @PardonMyTake: You asked and @HawkeyeFootball delivered. Coming on tomorrow’s Pardon My Take... https://t.co/CAun6pRscM\n",
      "RT @ChicagoBears: 1 RT = 1 #ProBowlVote! \n",
      "How many RTs can this tweet get?? 🤔\n",
      "\n",
      "@52Mack_ \n",
      "@EJackson_4 \n",
      "@The_Dream99 \n",
      "@TarikCohen \n",
      "@TreyBurto…\n",
      "how can anyone hate this man? https://t.co/7LL2i5NDi7\n",
      "@gingerlad19 Can we just give the championship to @CurtisGlennon for stealing him from us?\n",
      "“tHe BeArS hAveN’T bEAteN aNyOnE gOoD” say the dudes who predicted this team to win 4 games this year\n",
      "RT @AaronLemingNFL: NFL owners once again reminded us today that taking a knee is the only real way you can get \"banned\" from the league. B…\n",
      "@MeghaPatel15 no ur just a psycho\n",
      "*sees “Caution: Falling Ice” sign*\n",
      "*walks closer to the building*\n",
      "RT @MySportsUpdate: The #Packers and #Browns have the same record (4-6-1) after 11 games. \n",
      "\n",
      "Let that sink in for a second...\n",
      "RT @nfldraftscout: So as of now...2016 1st round not looking good for John Lynch. Solomon Thomas can't make an impact and Reuben Foster is…\n",
      "RT @NFLonFOX: Bears fans watching the Packers and Vikings fight for second place tonight. https://t.co/isbtShNI3U\n",
      "@LazloSzombathy On paper not a bad season, I guess seeing how soft the schedule was I expected much better. Would l… https://t.co/SYyB4zRXa7\n"
     ]
    }
   ],
   "source": [
    "# Print the text.\n",
    "print('\\n'.join(t['text'] for t in timeline))"
   ]
  },
  {
   "cell_type": "code",
   "execution_count": 93,
   "metadata": {},
   "outputs": [
    {
     "name": "stdout",
     "output_type": "stream",
     "text": [
      "Counter({1: 2, 2: 1})\n",
      "Counter({1: 4, 2: 2})\n"
     ]
    }
   ],
   "source": [
    "# Python tip: Counter objects.\n",
    "from collections import Counter\n",
    "# This is just a fancy dict mapping from object->int, starting at 0.\n",
    "c = Counter()\n",
    "c.update([1,2,1])\n",
    "print(c)\n",
    "c.update([1,2,1])\n",
    "print(c)"
   ]
  },
  {
   "cell_type": "code",
   "execution_count": 94,
   "metadata": {},
   "outputs": [
    {
     "name": "stdout",
     "output_type": "stream",
     "text": [
      "found 1382 unique terms in 200 tweets\n"
     ]
    },
    {
     "data": {
      "text/plain": [
       "[('the', 123),\n",
       " ('rt', 93),\n",
       " ('a', 55),\n",
       " ('to', 53),\n",
       " ('i', 45),\n",
       " ('is', 41),\n",
       " ('in', 37),\n",
       " ('for', 34),\n",
       " ('this', 33),\n",
       " ('and', 31)]"
      ]
     },
     "execution_count": 94,
     "metadata": {},
     "output_type": "execute_result"
    }
   ],
   "source": [
    "# Count words\n",
    "counts = Counter()\n",
    "for tweet in timeline:\n",
    "    counts.update(tweet['text'].lower().split())  # to lower case; split on whitespace.\n",
    "print('found %d unique terms in %d tweets' % (len(counts), len(timeline)))\n",
    "counts.most_common(10)"
   ]
  },
  {
   "cell_type": "code",
   "execution_count": 96,
   "metadata": {},
   "outputs": [
    {
     "data": {
      "text/plain": [
       "[5, 4, -1, -10]"
      ]
     },
     "execution_count": 96,
     "metadata": {},
     "output_type": "execute_result"
    }
   ],
   "source": [
    "# Python tip: sorting using lambda functions\n",
    "sorted([5, 4, -10, -1], key=lambda x: -x)"
   ]
  },
  {
   "cell_type": "code",
   "execution_count": 100,
   "metadata": {},
   "outputs": [
    {
     "data": {
      "text/plain": [
       "[('mary', 20), ('jim', 15), ('joe', 10), ('joe', 5)]"
      ]
     },
     "execution_count": 100,
     "metadata": {},
     "output_type": "execute_result"
    }
   ],
   "source": [
    "sorted([('joe', 10), ('mary', 20), ('jim', 15), ('joe', 5)],\n",
    "         key=lambda x: -x[1])"
   ]
  },
  {
   "cell_type": "code",
   "execution_count": 108,
   "metadata": {},
   "outputs": [
    {
     "name": "stdout",
     "output_type": "stream",
     "text": [
      "the=123\n",
      "rt=93\n",
      "a=55\n",
      "to=53\n",
      "i=45\n",
      "is=41\n",
      "in=37\n",
      "for=34\n",
      "this=33\n",
      "and=31\n",
      "of=29\n",
      "on=29\n",
      "bears=27\n",
      "not=23\n",
      "you=22\n",
      "my=22\n",
      "@gingerlad19=19\n",
      "will=17\n",
      "that=17\n",
      "was=17\n",
      "his=16\n",
      "he=14\n",
      "be=13\n",
      "with=13\n",
      "we=13\n",
      "your=13\n",
      "@lazloszombathy=13\n",
      "are=12\n",
      "but=12\n",
      "nfl=12\n",
      "just=12\n",
      "it’s=11\n",
      "it=11\n",
      "at=10\n",
      "me=10\n",
      "when=10\n",
      "about=10\n",
      "team=10\n",
      "have=9\n",
      "get=9\n",
      "good=9\n",
      "@enmicahpedia=9\n",
      "has=8\n",
      "an=8\n",
      "all=8\n",
      "@chicagobears:=8\n",
      "can=8\n",
      "@tomparker007=8\n",
      "out=8\n",
      "from=8\n"
     ]
    }
   ],
   "source": [
    "# Sort by value, descending.\n",
    "sorted_counts = sorted(counts.items(), key=lambda x: x[1], reverse=True)\n",
    "# See more about Python's lambda expressions:\n",
    "# https://docs.python.org/2/tutorial/controlflow.html#lambda-expressions\n",
    "\n",
    "# print top 50\n",
    "print('\\n'.join('%s=%d' % (item[0], item[1]) \n",
    "                 for item in sorted_counts[:50]))"
   ]
  },
  {
   "cell_type": "code",
   "execution_count": 102,
   "metadata": {},
   "outputs": [
    {
     "data": {
      "image/png": "[encoded data removed]",
      "text/plain": [
       "<Figure size 576x432 with 1 Axes>"
      ]
     },
     "metadata": {},
     "output_type": "display_data"
    }
   ],
   "source": [
    "# Plot these counts using matplotlib\n",
    "plt.figure(figsize=(8,6))\n",
    "plt.hist(list(counts.values()), bins=10)\n",
    "plt.xlabel('count', size=20)\n",
    "plt.ylabel('frequency', size=20)\n",
    "plt.ylim((0,100))\n",
    "plt.show()"
   ]
  },
  {
   "cell_type": "code",
   "execution_count": 103,
   "metadata": {},
   "outputs": [
    {
     "data": {
      "image/png": "[encoded data removed]",
      "text/plain": [
       "<Figure size 576x432 with 1 Axes>"
      ]
     },
     "metadata": {},
     "output_type": "display_data"
    }
   ],
   "source": [
    "# resizing things in matplotlib\n",
    "# Plot these counts using matplotlib\n",
    "plt.rc('font', size=20)                  # controls default text sizes\n",
    "plt.rc('axes', titlesize=20)             # fontsize of the axes title\n",
    "plt.rc('axes', labelsize=20)             # fontsize of the x and y labels\n",
    "plt.rc('xtick', labelsize=16)            # fontsize of the tick labels\n",
    "plt.rc('ytick', labelsize=16)            # fontsize of the tick labels\n",
    "plt.figure(figsize=(8,6))\n",
    "plt.hist(list(counts.values()), bins=100)\n",
    "plt.xlabel('count')\n",
    "plt.ylabel('frequency')\n",
    "plt.ylim((0,100))\n",
    "plt.show()"
   ]
  },
  {
   "cell_type": "markdown",
   "metadata": {},
   "source": [
    "**Zipf's Law**: (roughly) there are many rare words; there are a small number of extremely frequent words.\n",
    "\n",
    "Alternatively:   \n",
    "The frequency of a term is inversely proportional to its rank.\n",
    "\n",
    "Let $f_i$ be the frequency of the $i$th most common term.\n",
    "\n",
    "$$ f_i \\propto \\frac{1}{i} $$\n",
    "\n",
    "equivalently\n",
    "\n",
    "$ f_i = k$ $i^b $ for constant $k$ and $b=-1$"
   ]
  },
  {
   "cell_type": "code",
   "execution_count": 48,
   "metadata": {},
   "outputs": [
    {
     "data": {
      "text/plain": [
       "[123, 93, 55, 53, 45, 41, 37, 34, 33, 31]"
      ]
     },
     "execution_count": 48,
     "metadata": {},
     "output_type": "execute_result"
    }
   ],
   "source": [
    "freqs = sorted(counts.values(), reverse=True)\n",
    "freqs[:10]"
   ]
  },
  {
   "cell_type": "code",
   "execution_count": 51,
   "metadata": {},
   "outputs": [
    {
     "data": {
      "text/plain": [
       "[1, 2, 3, 4, 5, 6, 7, 8, 9, 10]"
      ]
     },
     "execution_count": 51,
     "metadata": {},
     "output_type": "execute_result"
    }
   ],
   "source": [
    "ranks = list(range(1, len(freqs)+1))\n",
    "ranks[:10]"
   ]
  },
  {
   "cell_type": "code",
   "execution_count": 52,
   "metadata": {},
   "outputs": [
    {
     "name": "stdout",
     "output_type": "stream",
     "text": [
      "Help on function curve_fit in module scipy.optimize.minpack:\n",
      "\n",
      "curve_fit(f, xdata, ydata, p0=None, sigma=None, absolute_sigma=False, check_finite=True, bounds=(-inf, inf), method=None, jac=None, **kwargs)\n",
      "    Use non-linear least squares to fit a function, f, to data.\n",
      "    \n",
      "    Assumes ``ydata = f(xdata, *params) + eps``\n",
      "    \n",
      "    Parameters\n",
      "    ----------\n",
      "    f : callable\n",
      "        The model function, f(x, ...).  It must take the independent\n",
      "        variable as the first argument and the parameters to fit as\n",
      "        separate remaining arguments.\n",
      "    xdata : An M-length sequence or an (k,M)-shaped array for functions with k predictors\n",
      "        The independent variable where the data is measured.\n",
      "    ydata : M-length sequence\n",
      "        The dependent data --- nominally f(xdata, ...)\n",
      "    p0 : None, scalar, or N-length sequence, optional\n",
      "        Initial guess for the parameters.  If None, then the initial\n",
      "        values will all be 1 (if the number of parameters for the function\n",
      "        can be determined using introspection, otherwise a ValueError\n",
      "        is raised).\n",
      "    sigma : None or M-length sequence or MxM array, optional\n",
      "        Determines the uncertainty in `ydata`. If we define residuals as\n",
      "        ``r = ydata - f(xdata, *popt)``, then the interpretation of `sigma`\n",
      "        depends on its number of dimensions:\n",
      "    \n",
      "            - A 1-d `sigma` should contain values of standard deviations of\n",
      "              errors in `ydata`. In this case, the optimized function is\n",
      "              ``chisq = sum((r / sigma) ** 2)``.\n",
      "    \n",
      "            - A 2-d `sigma` should contain the covariance matrix of\n",
      "              errors in `ydata`. In this case, the optimized function is\n",
      "              ``chisq = r.T @ inv(sigma) @ r``.\n",
      "    \n",
      "              .. versionadded:: 0.19\n",
      "    \n",
      "        None (default) is equivalent of 1-d `sigma` filled with ones.\n",
      "    absolute_sigma : bool, optional\n",
      "        If True, `sigma` is used in an absolute sense and the estimated parameter\n",
      "        covariance `pcov` reflects these absolute values.\n",
      "    \n",
      "        If False, only the relative magnitudes of the `sigma` values matter.\n",
      "        The returned parameter covariance matrix `pcov` is based on scaling\n",
      "        `sigma` by a constant factor. This constant is set by demanding that the\n",
      "        reduced `chisq` for the optimal parameters `popt` when using the\n",
      "        *scaled* `sigma` equals unity. In other words, `sigma` is scaled to\n",
      "        match the sample variance of the residuals after the fit.\n",
      "        Mathematically,\n",
      "        ``pcov(absolute_sigma=False) = pcov(absolute_sigma=True) * chisq(popt)/(M-N)``\n",
      "    check_finite : bool, optional\n",
      "        If True, check that the input arrays do not contain nans of infs,\n",
      "        and raise a ValueError if they do. Setting this parameter to\n",
      "        False may silently produce nonsensical results if the input arrays\n",
      "        do contain nans. Default is True.\n",
      "    bounds : 2-tuple of array_like, optional\n",
      "        Lower and upper bounds on parameters. Defaults to no bounds.\n",
      "        Each element of the tuple must be either an array with the length equal\n",
      "        to the number of parameters, or a scalar (in which case the bound is\n",
      "        taken to be the same for all parameters.) Use ``np.inf`` with an\n",
      "        appropriate sign to disable bounds on all or some parameters.\n",
      "    \n",
      "        .. versionadded:: 0.17\n",
      "    method : {'lm', 'trf', 'dogbox'}, optional\n",
      "        Method to use for optimization.  See `least_squares` for more details.\n",
      "        Default is 'lm' for unconstrained problems and 'trf' if `bounds` are\n",
      "        provided. The method 'lm' won't work when the number of observations\n",
      "        is less than the number of variables, use 'trf' or 'dogbox' in this\n",
      "        case.\n",
      "    \n",
      "        .. versionadded:: 0.17\n",
      "    jac : callable, string or None, optional\n",
      "        Function with signature ``jac(x, ...)`` which computes the Jacobian\n",
      "        matrix of the model function with respect to parameters as a dense\n",
      "        array_like structure. It will be scaled according to provided `sigma`.\n",
      "        If None (default), the Jacobian will be estimated numerically.\n",
      "        String keywords for 'trf' and 'dogbox' methods can be used to select\n",
      "        a finite difference scheme, see `least_squares`.\n",
      "    \n",
      "        .. versionadded:: 0.18\n",
      "    kwargs\n",
      "        Keyword arguments passed to `leastsq` for ``method='lm'`` or\n",
      "        `least_squares` otherwise.\n",
      "    \n",
      "    Returns\n",
      "    -------\n",
      "    popt : array\n",
      "        Optimal values for the parameters so that the sum of the squared\n",
      "        residuals of ``f(xdata, *popt) - ydata`` is minimized\n",
      "    pcov : 2d array\n",
      "        The estimated covariance of popt. The diagonals provide the variance\n",
      "        of the parameter estimate. To compute one standard deviation errors\n",
      "        on the parameters use ``perr = np.sqrt(np.diag(pcov))``.\n",
      "    \n",
      "        How the `sigma` parameter affects the estimated covariance\n",
      "        depends on `absolute_sigma` argument, as described above.\n",
      "    \n",
      "        If the Jacobian matrix at the solution doesn't have a full rank, then\n",
      "        'lm' method returns a matrix filled with ``np.inf``, on the other hand\n",
      "        'trf'  and 'dogbox' methods use Moore-Penrose pseudoinverse to compute\n",
      "        the covariance matrix.\n",
      "    \n",
      "    Raises\n",
      "    ------\n",
      "    ValueError\n",
      "        if either `ydata` or `xdata` contain NaNs, or if incompatible options\n",
      "        are used.\n",
      "    \n",
      "    RuntimeError\n",
      "        if the least-squares minimization fails.\n",
      "    \n",
      "    OptimizeWarning\n",
      "        if covariance of the parameters can not be estimated.\n",
      "    \n",
      "    See Also\n",
      "    --------\n",
      "    least_squares : Minimize the sum of squares of nonlinear functions.\n",
      "    scipy.stats.linregress : Calculate a linear least squares regression for\n",
      "                             two sets of measurements.\n",
      "    \n",
      "    Notes\n",
      "    -----\n",
      "    With ``method='lm'``, the algorithm uses the Levenberg-Marquardt algorithm\n",
      "    through `leastsq`. Note that this algorithm can only deal with\n",
      "    unconstrained problems.\n",
      "    \n",
      "    Box constraints can be handled by methods 'trf' and 'dogbox'. Refer to\n",
      "    the docstring of `least_squares` for more information.\n",
      "    \n",
      "    Examples\n",
      "    --------\n",
      "    >>> import numpy as np\n",
      "    >>> import matplotlib.pyplot as plt\n",
      "    >>> from scipy.optimize import curve_fit\n",
      "    \n",
      "    >>> def func(x, a, b, c):\n",
      "    ...     return a * np.exp(-b * x) + c\n",
      "    \n",
      "    Define the data to be fit with some noise:\n",
      "    \n",
      "    >>> xdata = np.linspace(0, 4, 50)\n",
      "    >>> y = func(xdata, 2.5, 1.3, 0.5)\n",
      "    >>> np.random.seed(1729)\n",
      "    >>> y_noise = 0.2 * np.random.normal(size=xdata.size)\n",
      "    >>> ydata = y + y_noise\n",
      "    >>> plt.plot(xdata, ydata, 'b-', label='data')\n",
      "    \n",
      "    Fit for the parameters a, b, c of the function `func`:\n",
      "    \n",
      "    >>> popt, pcov = curve_fit(func, xdata, ydata)\n",
      "    >>> popt\n",
      "    array([ 2.55423706,  1.35190947,  0.47450618])\n",
      "    >>> plt.plot(xdata, func(xdata, *popt), 'r-',\n",
      "    ...          label='fit: a=%5.3f, b=%5.3f, c=%5.3f' % tuple(popt))\n",
      "    \n",
      "    Constrain the optimization to the region of ``0 <= a <= 3``,\n",
      "    ``0 <= b <= 1`` and ``0 <= c <= 0.5``:\n",
      "    \n",
      "    >>> popt, pcov = curve_fit(func, xdata, ydata, bounds=(0, [3., 1., 0.5]))\n",
      "    >>> popt\n",
      "    array([ 2.43708906,  1.        ,  0.35015434])\n",
      "    >>> plt.plot(xdata, func(xdata, *popt), 'g--',\n",
      "    ...          label='fit: a=%5.3f, b=%5.3f, c=%5.3f' % tuple(popt))\n",
      "    \n",
      "    >>> plt.xlabel('x')\n",
      "    >>> plt.ylabel('y')\n",
      "    >>> plt.legend()\n",
      "    >>> plt.show()\n",
      "\n"
     ]
    }
   ],
   "source": [
    "# Minimize mean squared error to find best value of k\n",
    "from scipy.optimize import curve_fit\n",
    "help(curve_fit)"
   ]
  },
  {
   "cell_type": "code",
   "execution_count": 105,
   "metadata": {},
   "outputs": [
    {
     "name": "stdout",
     "output_type": "stream",
     "text": [
      "Zipf fit is f_i = 162.55*i^-1\n"
     ]
    }
   ],
   "source": [
    "# Define the Zipf function and fit the k parameter.\n",
    "def zipfs(i, k):\n",
    "    return k / i\n",
    "zipf_parms, covar = curve_fit(zipfs, ranks, freqs)\n",
    "print('Zipf fit is f_i = %.2f*i^-1' % zipf_parms[0])"
   ]
  },
  {
   "cell_type": "code",
   "execution_count": 106,
   "metadata": {},
   "outputs": [
    {
     "data": {
      "text/plain": [
       "Text(0, 0.5, 'log(frequency)')"
      ]
     },
     "execution_count": 106,
     "metadata": {},
     "output_type": "execute_result"
    },
    {
     "data": {
      "image/png": "[encoded data removed]",
      "text/plain": [
       "<Figure size 432x288 with 1 Axes>"
      ]
     },
     "metadata": {},
     "output_type": "display_data"
    }
   ],
   "source": [
    "# Try a log-log plot.\n",
    "# NumPy library will be used a lot for math.\n",
    "import numpy as np\n",
    "l_ranks = np.log10(ranks)\n",
    "l_freqs = np.log10(freqs)\n",
    "plt.figure()\n",
    "plt.plot(l_ranks, l_freqs, 'bo', label='data')\n",
    "plt.legend(loc='best')\n",
    "plt.xlabel('log(rank)')\n",
    "plt.ylabel('log(frequency)')"
   ]
  },
  {
   "cell_type": "code",
   "execution_count": 107,
   "metadata": {},
   "outputs": [
    {
     "data": {
      "text/plain": [
       "<matplotlib.legend.Legend at 0x114900cf8>"
      ]
     },
     "execution_count": 107,
     "metadata": {},
     "output_type": "execute_result"
    },
    {
     "data": {
      "image/png": "[encoded data removed]",
      "text/plain": [
       "<Figure size 432x288 with 1 Axes>"
      ]
     },
     "metadata": {},
     "output_type": "display_data"
    }
   ],
   "source": [
    "plt.figure()\n",
    "plt.plot(l_ranks, l_freqs, 'bo', label='data')\n",
    "plt.xlabel('log(rank)')\n",
    "plt.ylabel('log(frequency)')\n",
    "plt.plot(l_ranks, np.log10(zipfs(ranks, *zipf_parms)), 'k--', label='zipf')  # k-- = black dashed line\n",
    "plt.legend(loc='best')"
   ]
  },
  {
   "cell_type": "markdown",
   "metadata": {},
   "source": [
    "Zipf's law holds with varying degrees of accuracy depending on the dataset.\n",
    "\n",
    "Here, due in part to the small dataset, there are many more words that occur only once than expected by Zipf."
   ]
  }
 ],
 "metadata": {
  "kernelspec": {
   "display_name": "Python 3",
   "language": "python",
   "name": "python3"
  },
  "language_info": {
   "codemirror_mode": {
    "name": "ipython",
    "version": 3
   },
   "file_extension": ".py",
   "mimetype": "text/x-python",
   "name": "python",
   "nbconvert_exporter": "python",
   "pygments_lexer": "ipython3",
   "version": "3.7.0"
  }
 },
 "nbformat": 4,
 "nbformat_minor": 1
}
